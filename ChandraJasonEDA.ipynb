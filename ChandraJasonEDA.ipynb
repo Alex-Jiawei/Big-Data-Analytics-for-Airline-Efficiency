{
 "cells": [
  {
   "cell_type": "code",
   "execution_count": 2,
   "id": "6a1c3ca8-a3aa-48d0-b57f-b64094e133ba",
   "metadata": {},
   "outputs": [],
   "source": [
    "# Initial Load - let's just do 2022 data. 2020 might be skewed, covid."
   ]
  },
  {
   "cell_type": "code",
   "execution_count": 8,
   "id": "1b1caf72-4890-46d7-8c2d-2b6ba812d966",
   "metadata": {},
   "outputs": [
    {
     "name": "stderr",
     "output_type": "stream",
     "text": [
      "                                                                                \r"
     ]
    }
   ],
   "source": [
    "from pyspark.sql import SparkSession\n",
    "from pyspark.sql import functions as F\n",
    "import matplotlib.pyplot as plt\n",
    "import seaborn as sns\n",
    "\n",
    "spark = SparkSession.builder.appName(\"FlightDataAnalysis\").config(\"spark.driver.memory\", \"4g\").getOrCreate()\n",
    "\n",
    "# Load your flight data into a Spark DataFrame\n",
    "data_path = \"gs://msca-bdp-student-gcs/Group4_Final_Project/archive/Combined_Flights_2022.csv\"\n",
    "data = spark.read.csv(data_path, header=True, inferSchema=True)\n",
    "\n",
    "# Data preprocessing (replace this with your specific cleaning logic)\n",
    "# Example: Remove rows with missing values\n",
    "data_cleaned = data.dropna()\n",
    "\n",
    "# Summary statistics for numeric variables\n",
    "numeric_vars = ['DepDelayMinutes', 'ArrDelayMinutes']\n",
    "summary_numeric = data_cleaned.select(numeric_vars).describe()\n",
    "\n",
    "# Summary statistics for categorical variables\n",
    "categorical_vars = ['Airline', 'Origin', 'Dest', 'DepartureDelayGroups', 'ArrivalDelayGroups', 'Month', 'DayofMonth', 'DayOfWeek', 'Marketing_Airline_Network']\n",
    "summary_categorical = data_cleaned.select(categorical_vars).describe()\n",
    "\n",
    "\n"
   ]
  },
  {
   "cell_type": "code",
   "execution_count": 13,
   "id": "524aa602-e435-49ad-ab25-02db54185775",
   "metadata": {},
   "outputs": [
    {
     "name": "stdout",
     "output_type": "stream",
     "text": [
      "Summary statistics for numeric variables:\n",
      "+-------+------------------+------------------+\n",
      "|summary|   DepDelayMinutes|   ArrDelayMinutes|\n",
      "+-------+------------------+------------------+\n",
      "|  count|           3944916|           3944916|\n",
      "|   mean|15.940134086505264|15.783071426615928|\n",
      "| stddev| 52.16239928825909| 51.98423581313936|\n",
      "|    min|               0.0|               0.0|\n",
      "|    max|            7223.0|            7232.0|\n",
      "+-------+------------------+------------------+\n",
      "\n",
      "Summary statistics for categorical variables:\n",
      "+-------+--------------------+-------+-------+--------------------+-------------------+------------------+-----------------+------------------+-------------------------+\n",
      "|summary|             Airline| Origin|   Dest|DepartureDelayGroups| ArrivalDelayGroups|             Month|       DayofMonth|         DayOfWeek|Marketing_Airline_Network|\n",
      "+-------+--------------------+-------+-------+--------------------+-------------------+------------------+-----------------+------------------+-------------------------+\n",
      "|  count|             3944916|3944916|3944916|             3944916|            3944916|           3944916|          3944916|           3944916|                  3944916|\n",
      "|   mean|                null|   null|   null|  0.2097988905213698|-0.0625610279154233| 4.106016452568318|15.77289377010816|3.9945253587148626|                     null|\n",
      "| stddev|                null|   null|   null|  2.3393774931863303| 2.4874416127443086|1.9903866488753836|8.732582389927208|2.0079717856609407|                     null|\n",
      "|    min|Air Wisconsin Air...|    ABE|    ABE|                -2.0|               -2.0|                 1|                1|                 1|                       AA|\n",
      "|    max|United Air Lines ...|    YUM|    YUM|                12.0|               12.0|                 7|               31|                 7|                       WN|\n",
      "+-------+--------------------+-------+-------+--------------------+-------------------+------------------+-----------------+------------------+-------------------------+\n",
      "\n"
     ]
    }
   ],
   "source": [
    "# Output and print the summary statistics\n",
    "print(\"Summary statistics for numeric variables:\")\n",
    "summary_numeric.show()\n",
    "\n",
    "print(\"Summary statistics for categorical variables:\")\n",
    "summary_categorical.show()"
   ]
  },
  {
   "cell_type": "code",
   "execution_count": 12,
   "id": "295563e5-3629-4521-92eb-8e2c66a41d72",
   "metadata": {},
   "outputs": [
    {
     "ename": "Py4JJavaError",
     "evalue": "An error occurred while calling o227.collectToPython.\n: org.apache.spark.sql.catalyst.errors.package$TreeNodeException: execute, tree:\nExchange hashpartitioning(Year#4272, 200), ENSURE_REQUIREMENTS, [id=#352]\n+- *(1) HashAggregate(keys=[Year#4272], functions=[partial_avg(DepDelayMinutes#2478)], output=[Year#4272, sum#4466, count#4467L])\n   +- *(1) Project [DepDelayMinutes#2478, year(cast(gettimestamp(cast(gettimestamp(FlightDate#2470, yyyy-MM-dd, Some(Etc/UTC), false) as date), yyyy-MM-dd, Some(Etc/UTC), false) as date)) AS Year#4272]\n      +- *(1) Filter AtLeastNNulls(n, FlightDate#2470,Airline#2471,Origin#2472,Dest#2473,Cancelled#2474,Diverted#2475,CRSDepTime#2476,DepTime#2477,DepDelayMinutes#2478,DepDelay#2479,ArrTime#2480,ArrDelayMinutes#2481,AirTime#2482,CRSElapsedTime#2483,ActualElapsedTime#2484,Distance#2485,Year#2486,Quarter#2487,Month#2488,DayofMonth#2489,DayOfWeek#2490,Marketing_Airline_Network#2491,Operated_or_Branded_Code_Share_Partners#2492,DOT_ID_Marketing_Airline#2493,IATA_Code_Marketing_Airline#2494,Flight_Number_Marketing_Airline#2495,Operating_Airline#2496,DOT_ID_Operating_Airline#2497,IATA_Code_Operating_Airline#2498,Tail_Number#2499,Flight_Number_Operating_Airline#2500,OriginAirportID#2501,OriginAirportSeqID#2502,OriginCityMarketID#2503,OriginCityName#2504,OriginState#2505,OriginStateFips#2506,OriginStateName#2507,OriginWac#2508,DestAirportID#2509,DestAirportSeqID#2510,DestCityMarketID#2511,DestCityName#2512,DestState#2513,DestStateFips#2514,DestStateName#2515,DestWac#2516,DepDel15#2517,DepartureDelayGroups#2518,DepTimeBlk#2519,TaxiOut#2520,WheelsOff#2521,WheelsOn#2522,TaxiIn#2523,CRSArrTime#2524,ArrDelay#2525,ArrDel15#2526,ArrivalDelayGroups#2527,ArrTimeBlk#2528,DistanceGroup#2529,DivAirportLandings#2530)\n         +- FileScan csv [FlightDate#2470,Airline#2471,Origin#2472,Dest#2473,Cancelled#2474,Diverted#2475,CRSDepTime#2476,DepTime#2477,DepDelayMinutes#2478,DepDelay#2479,ArrTime#2480,ArrDelayMinutes#2481,AirTime#2482,CRSElapsedTime#2483,ActualElapsedTime#2484,Distance#2485,Year#2486,Quarter#2487,Month#2488,DayofMonth#2489,DayOfWeek#2490,Marketing_Airline_Network#2491,Operated_or_Branded_Code_Share_Partners#2492,DOT_ID_Marketing_Airline#2493,... 37 more fields] Batched: false, DataFilters: [AtLeastNNulls(n, FlightDate#2470,Airline#2471,Origin#2472,Dest#2473,Cancelled#2474,Diverted#2475..., Format: CSV, Location: InMemoryFileIndex[gs://msca-bdp-student-gcs/Group4_Final_Project/archive/Combined_Flights_2022.csv], PartitionFilters: [], PushedFilters: [], ReadSchema: struct<FlightDate:string,Airline:string,Origin:string,Dest:string,Cancelled:boolean,Diverted:bool...\n\n\tat org.apache.spark.sql.catalyst.errors.package$.attachTree(package.scala:56)\n\tat org.apache.spark.sql.execution.exchange.ShuffleExchangeExec.doExecute(ShuffleExchangeExec.scala:163)\n\tat org.apache.spark.sql.execution.SparkPlan.$anonfun$execute$1(SparkPlan.scala:180)\n\tat org.apache.spark.sql.execution.SparkPlan.$anonfun$executeQuery$1(SparkPlan.scala:218)\n\tat org.apache.spark.rdd.RDDOperationScope$.withScope(RDDOperationScope.scala:151)\n\tat org.apache.spark.sql.execution.SparkPlan.executeQuery(SparkPlan.scala:215)\n\tat org.apache.spark.sql.execution.SparkPlan.execute(SparkPlan.scala:176)\n\tat org.apache.spark.sql.execution.InputAdapter.inputRDD(WholeStageCodegenExec.scala:525)\n\tat org.apache.spark.sql.execution.InputRDDCodegen.inputRDDs(WholeStageCodegenExec.scala:453)\n\tat org.apache.spark.sql.execution.InputRDDCodegen.inputRDDs$(WholeStageCodegenExec.scala:452)\n\tat org.apache.spark.sql.execution.InputAdapter.inputRDDs(WholeStageCodegenExec.scala:496)\n\tat org.apache.spark.sql.execution.aggregate.HashAggregateExec.inputRDDs(HashAggregateExec.scala:141)\n\tat org.apache.spark.sql.execution.WholeStageCodegenExec.doExecute(WholeStageCodegenExec.scala:746)\n\tat org.apache.spark.sql.execution.SparkPlan.$anonfun$execute$1(SparkPlan.scala:180)\n\tat org.apache.spark.sql.execution.SparkPlan.$anonfun$executeQuery$1(SparkPlan.scala:218)\n\tat org.apache.spark.rdd.RDDOperationScope$.withScope(RDDOperationScope.scala:151)\n\tat org.apache.spark.sql.execution.SparkPlan.executeQuery(SparkPlan.scala:215)\n\tat org.apache.spark.sql.execution.SparkPlan.execute(SparkPlan.scala:176)\n\tat org.apache.spark.sql.execution.SparkPlan.getByteArrayRdd(SparkPlan.scala:321)\n\tat org.apache.spark.sql.execution.SparkPlan.executeCollect(SparkPlan.scala:387)\n\tat org.apache.spark.sql.Dataset.$anonfun$collectToPython$1(Dataset.scala:3532)\n\tat org.apache.spark.sql.Dataset.$anonfun$withAction$1(Dataset.scala:3700)\n\tat org.apache.spark.sql.execution.SQLExecution$.$anonfun$withNewExecutionId$5(SQLExecution.scala:103)\n\tat org.apache.spark.sql.execution.SQLExecution$.withSQLConfPropagated(SQLExecution.scala:163)\n\tat org.apache.spark.sql.execution.SQLExecution$.$anonfun$withNewExecutionId$1(SQLExecution.scala:90)\n\tat org.apache.spark.sql.SparkSession.withActive(SparkSession.scala:775)\n\tat org.apache.spark.sql.execution.SQLExecution$.withNewExecutionId(SQLExecution.scala:64)\n\tat org.apache.spark.sql.Dataset.withAction(Dataset.scala:3698)\n\tat org.apache.spark.sql.Dataset.collectToPython(Dataset.scala:3529)\n\tat sun.reflect.NativeMethodAccessorImpl.invoke0(Native Method)\n\tat sun.reflect.NativeMethodAccessorImpl.invoke(NativeMethodAccessorImpl.java:62)\n\tat sun.reflect.DelegatingMethodAccessorImpl.invoke(DelegatingMethodAccessorImpl.java:43)\n\tat java.lang.reflect.Method.invoke(Method.java:498)\n\tat py4j.reflection.MethodInvoker.invoke(MethodInvoker.java:244)\n\tat py4j.reflection.ReflectionEngine.invoke(ReflectionEngine.java:357)\n\tat py4j.Gateway.invoke(Gateway.java:282)\n\tat py4j.commands.AbstractCommand.invokeMethod(AbstractCommand.java:132)\n\tat py4j.commands.CallCommand.execute(CallCommand.java:79)\n\tat py4j.GatewayConnection.run(GatewayConnection.java:238)\n\tat java.lang.Thread.run(Thread.java:750)\nCaused by: java.lang.IllegalStateException: Cannot call methods on a stopped SparkContext.\nThis stopped SparkContext was created at:\n\norg.apache.spark.api.java.JavaSparkContext.<init>(JavaSparkContext.scala:58)\nsun.reflect.NativeConstructorAccessorImpl.newInstance0(Native Method)\nsun.reflect.NativeConstructorAccessorImpl.newInstance(NativeConstructorAccessorImpl.java:62)\nsun.reflect.DelegatingConstructorAccessorImpl.newInstance(DelegatingConstructorAccessorImpl.java:45)\njava.lang.reflect.Constructor.newInstance(Constructor.java:423)\npy4j.reflection.MethodInvoker.invoke(MethodInvoker.java:247)\npy4j.reflection.ReflectionEngine.invoke(ReflectionEngine.java:357)\npy4j.Gateway.invoke(Gateway.java:238)\npy4j.commands.ConstructorCommand.invokeConstructor(ConstructorCommand.java:80)\npy4j.commands.ConstructorCommand.execute(ConstructorCommand.java:69)\npy4j.GatewayConnection.run(GatewayConnection.java:238)\njava.lang.Thread.run(Thread.java:750)\n\nThe currently active SparkContext was created at:\n\n(No active SparkContext.)\n         \n\tat org.apache.spark.SparkContext.assertNotStopped(SparkContext.scala:118)\n\tat org.apache.spark.SparkContext.broadcast(SparkContext.scala:1514)\n\tat org.apache.spark.sql.execution.datasources.csv.CSVFileFormat.buildReader(CSVFileFormat.scala:102)\n\tat org.apache.spark.sql.execution.datasources.FileFormat.buildReaderWithPartitionValues(FileFormat.scala:130)\n\tat org.apache.spark.sql.execution.datasources.FileFormat.buildReaderWithPartitionValues$(FileFormat.scala:121)\n\tat org.apache.spark.sql.execution.datasources.TextBasedFileFormat.buildReaderWithPartitionValues(FileFormat.scala:170)\n\tat org.apache.spark.sql.execution.FileSourceScanExec.inputRDD$lzycompute(DataSourceScanExec.scala:408)\n\tat org.apache.spark.sql.execution.FileSourceScanExec.inputRDD(DataSourceScanExec.scala:399)\n\tat org.apache.spark.sql.execution.FileSourceScanExec.doExecute(DataSourceScanExec.scala:497)\n\tat org.apache.spark.sql.execution.SparkPlan.$anonfun$execute$1(SparkPlan.scala:180)\n\tat org.apache.spark.sql.execution.SparkPlan.$anonfun$executeQuery$1(SparkPlan.scala:218)\n\tat org.apache.spark.rdd.RDDOperationScope$.withScope(RDDOperationScope.scala:151)\n\tat org.apache.spark.sql.execution.SparkPlan.executeQuery(SparkPlan.scala:215)\n\tat org.apache.spark.sql.execution.SparkPlan.execute(SparkPlan.scala:176)\n\tat org.apache.spark.sql.execution.InputAdapter.inputRDD(WholeStageCodegenExec.scala:525)\n\tat org.apache.spark.sql.execution.InputRDDCodegen.inputRDDs(WholeStageCodegenExec.scala:453)\n\tat org.apache.spark.sql.execution.InputRDDCodegen.inputRDDs$(WholeStageCodegenExec.scala:452)\n\tat org.apache.spark.sql.execution.InputAdapter.inputRDDs(WholeStageCodegenExec.scala:496)\n\tat org.apache.spark.sql.execution.FilterExec.inputRDDs(basicPhysicalOperators.scala:149)\n\tat org.apache.spark.sql.execution.ProjectExec.inputRDDs(basicPhysicalOperators.scala:50)\n\tat org.apache.spark.sql.execution.aggregate.HashAggregateExec.inputRDDs(HashAggregateExec.scala:141)\n\tat org.apache.spark.sql.execution.WholeStageCodegenExec.doExecute(WholeStageCodegenExec.scala:746)\n\tat org.apache.spark.sql.execution.SparkPlan.$anonfun$execute$1(SparkPlan.scala:180)\n\tat org.apache.spark.sql.execution.SparkPlan.$anonfun$executeQuery$1(SparkPlan.scala:218)\n\tat org.apache.spark.rdd.RDDOperationScope$.withScope(RDDOperationScope.scala:151)\n\tat org.apache.spark.sql.execution.SparkPlan.executeQuery(SparkPlan.scala:215)\n\tat org.apache.spark.sql.execution.SparkPlan.execute(SparkPlan.scala:176)\n\tat org.apache.spark.sql.execution.exchange.ShuffleExchangeExec.inputRDD$lzycompute(ShuffleExchangeExec.scala:118)\n\tat org.apache.spark.sql.execution.exchange.ShuffleExchangeExec.inputRDD(ShuffleExchangeExec.scala:118)\n\tat org.apache.spark.sql.execution.exchange.ShuffleExchangeExec.shuffleDependency$lzycompute(ShuffleExchangeExec.scala:151)\n\tat org.apache.spark.sql.execution.exchange.ShuffleExchangeExec.shuffleDependency(ShuffleExchangeExec.scala:149)\n\tat org.apache.spark.sql.execution.exchange.ShuffleExchangeExec.$anonfun$doExecute$1(ShuffleExchangeExec.scala:166)\n\tat org.apache.spark.sql.catalyst.errors.package$.attachTree(package.scala:52)\n\t... 39 more\n",
     "output_type": "error",
     "traceback": [
      "\u001b[0;31m---------------------------------------------------------------------------\u001b[0m",
      "\u001b[0;31mPy4JJavaError\u001b[0m                             Traceback (most recent call last)",
      "Cell \u001b[0;32mIn[12], line 10\u001b[0m\n\u001b[1;32m      7\u001b[0m time_series_arr_delay \u001b[38;5;241m=\u001b[39m data_cleaned\u001b[38;5;241m.\u001b[39mgroupBy(\u001b[38;5;124m\"\u001b[39m\u001b[38;5;124mYear\u001b[39m\u001b[38;5;124m\"\u001b[39m)\u001b[38;5;241m.\u001b[39magg(F\u001b[38;5;241m.\u001b[39mavg(\u001b[38;5;124m\"\u001b[39m\u001b[38;5;124mArrDelayMinutes\u001b[39m\u001b[38;5;124m\"\u001b[39m)\u001b[38;5;241m.\u001b[39malias(\u001b[38;5;124m\"\u001b[39m\u001b[38;5;124mAvgArrDelayMinutes\u001b[39m\u001b[38;5;124m\"\u001b[39m))\n\u001b[1;32m      9\u001b[0m \u001b[38;5;66;03m# Convert the result to Pandas DataFrame for plotting\u001b[39;00m\n\u001b[0;32m---> 10\u001b[0m time_series_dep_delay_df \u001b[38;5;241m=\u001b[39m \u001b[43mtime_series_dep_delay\u001b[49m\u001b[38;5;241;43m.\u001b[39;49m\u001b[43mtoPandas\u001b[49m\u001b[43m(\u001b[49m\u001b[43m)\u001b[49m\n\u001b[1;32m     11\u001b[0m time_series_arr_delay_df \u001b[38;5;241m=\u001b[39m time_series_arr_delay\u001b[38;5;241m.\u001b[39mtoPandas()\n\u001b[1;32m     13\u001b[0m \u001b[38;5;66;03m# Plot the time series of departure and arrival delays\u001b[39;00m\n",
      "File \u001b[0;32m/usr/lib/spark/python/pyspark/sql/pandas/conversion.py:141\u001b[0m, in \u001b[0;36mPandasConversionMixin.toPandas\u001b[0;34m(self)\u001b[0m\n\u001b[1;32m    138\u001b[0m             \u001b[38;5;28;01mraise\u001b[39;00m\n\u001b[1;32m    140\u001b[0m \u001b[38;5;66;03m# Below is toPandas without Arrow optimization.\u001b[39;00m\n\u001b[0;32m--> 141\u001b[0m pdf \u001b[38;5;241m=\u001b[39m pd\u001b[38;5;241m.\u001b[39mDataFrame\u001b[38;5;241m.\u001b[39mfrom_records(\u001b[38;5;28;43mself\u001b[39;49m\u001b[38;5;241;43m.\u001b[39;49m\u001b[43mcollect\u001b[49m\u001b[43m(\u001b[49m\u001b[43m)\u001b[49m, columns\u001b[38;5;241m=\u001b[39m\u001b[38;5;28mself\u001b[39m\u001b[38;5;241m.\u001b[39mcolumns)\n\u001b[1;32m    142\u001b[0m column_counter \u001b[38;5;241m=\u001b[39m Counter(\u001b[38;5;28mself\u001b[39m\u001b[38;5;241m.\u001b[39mcolumns)\n\u001b[1;32m    144\u001b[0m dtype \u001b[38;5;241m=\u001b[39m [\u001b[38;5;28;01mNone\u001b[39;00m] \u001b[38;5;241m*\u001b[39m \u001b[38;5;28mlen\u001b[39m(\u001b[38;5;28mself\u001b[39m\u001b[38;5;241m.\u001b[39mschema)\n",
      "File \u001b[0;32m/usr/lib/spark/python/pyspark/sql/dataframe.py:677\u001b[0m, in \u001b[0;36mDataFrame.collect\u001b[0;34m(self)\u001b[0m\n\u001b[1;32m    667\u001b[0m \u001b[38;5;250m\u001b[39m\u001b[38;5;124;03m\"\"\"Returns all the records as a list of :class:`Row`.\u001b[39;00m\n\u001b[1;32m    668\u001b[0m \n\u001b[1;32m    669\u001b[0m \u001b[38;5;124;03m.. versionadded:: 1.3.0\u001b[39;00m\n\u001b[0;32m   (...)\u001b[0m\n\u001b[1;32m    674\u001b[0m \u001b[38;5;124;03m[Row(age=2, name='Alice'), Row(age=5, name='Bob')]\u001b[39;00m\n\u001b[1;32m    675\u001b[0m \u001b[38;5;124;03m\"\"\"\u001b[39;00m\n\u001b[1;32m    676\u001b[0m \u001b[38;5;28;01mwith\u001b[39;00m SCCallSiteSync(\u001b[38;5;28mself\u001b[39m\u001b[38;5;241m.\u001b[39m_sc) \u001b[38;5;28;01mas\u001b[39;00m css:\n\u001b[0;32m--> 677\u001b[0m     sock_info \u001b[38;5;241m=\u001b[39m \u001b[38;5;28;43mself\u001b[39;49m\u001b[38;5;241;43m.\u001b[39;49m\u001b[43m_jdf\u001b[49m\u001b[38;5;241;43m.\u001b[39;49m\u001b[43mcollectToPython\u001b[49m\u001b[43m(\u001b[49m\u001b[43m)\u001b[49m\n\u001b[1;32m    678\u001b[0m \u001b[38;5;28;01mreturn\u001b[39;00m \u001b[38;5;28mlist\u001b[39m(_load_from_socket(sock_info, BatchedSerializer(PickleSerializer())))\n",
      "File \u001b[0;32m/opt/conda/miniconda3/lib/python3.8/site-packages/py4j/java_gateway.py:1304\u001b[0m, in \u001b[0;36mJavaMember.__call__\u001b[0;34m(self, *args)\u001b[0m\n\u001b[1;32m   1298\u001b[0m command \u001b[38;5;241m=\u001b[39m proto\u001b[38;5;241m.\u001b[39mCALL_COMMAND_NAME \u001b[38;5;241m+\u001b[39m\\\n\u001b[1;32m   1299\u001b[0m     \u001b[38;5;28mself\u001b[39m\u001b[38;5;241m.\u001b[39mcommand_header \u001b[38;5;241m+\u001b[39m\\\n\u001b[1;32m   1300\u001b[0m     args_command \u001b[38;5;241m+\u001b[39m\\\n\u001b[1;32m   1301\u001b[0m     proto\u001b[38;5;241m.\u001b[39mEND_COMMAND_PART\n\u001b[1;32m   1303\u001b[0m answer \u001b[38;5;241m=\u001b[39m \u001b[38;5;28mself\u001b[39m\u001b[38;5;241m.\u001b[39mgateway_client\u001b[38;5;241m.\u001b[39msend_command(command)\n\u001b[0;32m-> 1304\u001b[0m return_value \u001b[38;5;241m=\u001b[39m \u001b[43mget_return_value\u001b[49m\u001b[43m(\u001b[49m\n\u001b[1;32m   1305\u001b[0m \u001b[43m    \u001b[49m\u001b[43manswer\u001b[49m\u001b[43m,\u001b[49m\u001b[43m \u001b[49m\u001b[38;5;28;43mself\u001b[39;49m\u001b[38;5;241;43m.\u001b[39;49m\u001b[43mgateway_client\u001b[49m\u001b[43m,\u001b[49m\u001b[43m \u001b[49m\u001b[38;5;28;43mself\u001b[39;49m\u001b[38;5;241;43m.\u001b[39;49m\u001b[43mtarget_id\u001b[49m\u001b[43m,\u001b[49m\u001b[43m \u001b[49m\u001b[38;5;28;43mself\u001b[39;49m\u001b[38;5;241;43m.\u001b[39;49m\u001b[43mname\u001b[49m\u001b[43m)\u001b[49m\n\u001b[1;32m   1307\u001b[0m \u001b[38;5;28;01mfor\u001b[39;00m temp_arg \u001b[38;5;129;01min\u001b[39;00m temp_args:\n\u001b[1;32m   1308\u001b[0m     temp_arg\u001b[38;5;241m.\u001b[39m_detach()\n",
      "File \u001b[0;32m/usr/lib/spark/python/pyspark/sql/utils.py:111\u001b[0m, in \u001b[0;36mcapture_sql_exception.<locals>.deco\u001b[0;34m(*a, **kw)\u001b[0m\n\u001b[1;32m    109\u001b[0m \u001b[38;5;28;01mdef\u001b[39;00m \u001b[38;5;21mdeco\u001b[39m(\u001b[38;5;241m*\u001b[39ma, \u001b[38;5;241m*\u001b[39m\u001b[38;5;241m*\u001b[39mkw):\n\u001b[1;32m    110\u001b[0m     \u001b[38;5;28;01mtry\u001b[39;00m:\n\u001b[0;32m--> 111\u001b[0m         \u001b[38;5;28;01mreturn\u001b[39;00m \u001b[43mf\u001b[49m\u001b[43m(\u001b[49m\u001b[38;5;241;43m*\u001b[39;49m\u001b[43ma\u001b[49m\u001b[43m,\u001b[49m\u001b[43m \u001b[49m\u001b[38;5;241;43m*\u001b[39;49m\u001b[38;5;241;43m*\u001b[39;49m\u001b[43mkw\u001b[49m\u001b[43m)\u001b[49m\n\u001b[1;32m    112\u001b[0m     \u001b[38;5;28;01mexcept\u001b[39;00m py4j\u001b[38;5;241m.\u001b[39mprotocol\u001b[38;5;241m.\u001b[39mPy4JJavaError \u001b[38;5;28;01mas\u001b[39;00m e:\n\u001b[1;32m    113\u001b[0m         converted \u001b[38;5;241m=\u001b[39m convert_exception(e\u001b[38;5;241m.\u001b[39mjava_exception)\n",
      "File \u001b[0;32m/opt/conda/miniconda3/lib/python3.8/site-packages/py4j/protocol.py:326\u001b[0m, in \u001b[0;36mget_return_value\u001b[0;34m(answer, gateway_client, target_id, name)\u001b[0m\n\u001b[1;32m    324\u001b[0m value \u001b[38;5;241m=\u001b[39m OUTPUT_CONVERTER[\u001b[38;5;28mtype\u001b[39m](answer[\u001b[38;5;241m2\u001b[39m:], gateway_client)\n\u001b[1;32m    325\u001b[0m \u001b[38;5;28;01mif\u001b[39;00m answer[\u001b[38;5;241m1\u001b[39m] \u001b[38;5;241m==\u001b[39m REFERENCE_TYPE:\n\u001b[0;32m--> 326\u001b[0m     \u001b[38;5;28;01mraise\u001b[39;00m Py4JJavaError(\n\u001b[1;32m    327\u001b[0m         \u001b[38;5;124m\"\u001b[39m\u001b[38;5;124mAn error occurred while calling \u001b[39m\u001b[38;5;132;01m{0}\u001b[39;00m\u001b[38;5;132;01m{1}\u001b[39;00m\u001b[38;5;132;01m{2}\u001b[39;00m\u001b[38;5;124m.\u001b[39m\u001b[38;5;130;01m\\n\u001b[39;00m\u001b[38;5;124m\"\u001b[39m\u001b[38;5;241m.\u001b[39m\n\u001b[1;32m    328\u001b[0m         \u001b[38;5;28mformat\u001b[39m(target_id, \u001b[38;5;124m\"\u001b[39m\u001b[38;5;124m.\u001b[39m\u001b[38;5;124m\"\u001b[39m, name), value)\n\u001b[1;32m    329\u001b[0m \u001b[38;5;28;01melse\u001b[39;00m:\n\u001b[1;32m    330\u001b[0m     \u001b[38;5;28;01mraise\u001b[39;00m Py4JError(\n\u001b[1;32m    331\u001b[0m         \u001b[38;5;124m\"\u001b[39m\u001b[38;5;124mAn error occurred while calling \u001b[39m\u001b[38;5;132;01m{0}\u001b[39;00m\u001b[38;5;132;01m{1}\u001b[39;00m\u001b[38;5;132;01m{2}\u001b[39;00m\u001b[38;5;124m. Trace:\u001b[39m\u001b[38;5;130;01m\\n\u001b[39;00m\u001b[38;5;132;01m{3}\u001b[39;00m\u001b[38;5;130;01m\\n\u001b[39;00m\u001b[38;5;124m\"\u001b[39m\u001b[38;5;241m.\u001b[39m\n\u001b[1;32m    332\u001b[0m         \u001b[38;5;28mformat\u001b[39m(target_id, \u001b[38;5;124m\"\u001b[39m\u001b[38;5;124m.\u001b[39m\u001b[38;5;124m\"\u001b[39m, name, value))\n",
      "\u001b[0;31mPy4JJavaError\u001b[0m: An error occurred while calling o227.collectToPython.\n: org.apache.spark.sql.catalyst.errors.package$TreeNodeException: execute, tree:\nExchange hashpartitioning(Year#4272, 200), ENSURE_REQUIREMENTS, [id=#352]\n+- *(1) HashAggregate(keys=[Year#4272], functions=[partial_avg(DepDelayMinutes#2478)], output=[Year#4272, sum#4466, count#4467L])\n   +- *(1) Project [DepDelayMinutes#2478, year(cast(gettimestamp(cast(gettimestamp(FlightDate#2470, yyyy-MM-dd, Some(Etc/UTC), false) as date), yyyy-MM-dd, Some(Etc/UTC), false) as date)) AS Year#4272]\n      +- *(1) Filter AtLeastNNulls(n, FlightDate#2470,Airline#2471,Origin#2472,Dest#2473,Cancelled#2474,Diverted#2475,CRSDepTime#2476,DepTime#2477,DepDelayMinutes#2478,DepDelay#2479,ArrTime#2480,ArrDelayMinutes#2481,AirTime#2482,CRSElapsedTime#2483,ActualElapsedTime#2484,Distance#2485,Year#2486,Quarter#2487,Month#2488,DayofMonth#2489,DayOfWeek#2490,Marketing_Airline_Network#2491,Operated_or_Branded_Code_Share_Partners#2492,DOT_ID_Marketing_Airline#2493,IATA_Code_Marketing_Airline#2494,Flight_Number_Marketing_Airline#2495,Operating_Airline#2496,DOT_ID_Operating_Airline#2497,IATA_Code_Operating_Airline#2498,Tail_Number#2499,Flight_Number_Operating_Airline#2500,OriginAirportID#2501,OriginAirportSeqID#2502,OriginCityMarketID#2503,OriginCityName#2504,OriginState#2505,OriginStateFips#2506,OriginStateName#2507,OriginWac#2508,DestAirportID#2509,DestAirportSeqID#2510,DestCityMarketID#2511,DestCityName#2512,DestState#2513,DestStateFips#2514,DestStateName#2515,DestWac#2516,DepDel15#2517,DepartureDelayGroups#2518,DepTimeBlk#2519,TaxiOut#2520,WheelsOff#2521,WheelsOn#2522,TaxiIn#2523,CRSArrTime#2524,ArrDelay#2525,ArrDel15#2526,ArrivalDelayGroups#2527,ArrTimeBlk#2528,DistanceGroup#2529,DivAirportLandings#2530)\n         +- FileScan csv [FlightDate#2470,Airline#2471,Origin#2472,Dest#2473,Cancelled#2474,Diverted#2475,CRSDepTime#2476,DepTime#2477,DepDelayMinutes#2478,DepDelay#2479,ArrTime#2480,ArrDelayMinutes#2481,AirTime#2482,CRSElapsedTime#2483,ActualElapsedTime#2484,Distance#2485,Year#2486,Quarter#2487,Month#2488,DayofMonth#2489,DayOfWeek#2490,Marketing_Airline_Network#2491,Operated_or_Branded_Code_Share_Partners#2492,DOT_ID_Marketing_Airline#2493,... 37 more fields] Batched: false, DataFilters: [AtLeastNNulls(n, FlightDate#2470,Airline#2471,Origin#2472,Dest#2473,Cancelled#2474,Diverted#2475..., Format: CSV, Location: InMemoryFileIndex[gs://msca-bdp-student-gcs/Group4_Final_Project/archive/Combined_Flights_2022.csv], PartitionFilters: [], PushedFilters: [], ReadSchema: struct<FlightDate:string,Airline:string,Origin:string,Dest:string,Cancelled:boolean,Diverted:bool...\n\n\tat org.apache.spark.sql.catalyst.errors.package$.attachTree(package.scala:56)\n\tat org.apache.spark.sql.execution.exchange.ShuffleExchangeExec.doExecute(ShuffleExchangeExec.scala:163)\n\tat org.apache.spark.sql.execution.SparkPlan.$anonfun$execute$1(SparkPlan.scala:180)\n\tat org.apache.spark.sql.execution.SparkPlan.$anonfun$executeQuery$1(SparkPlan.scala:218)\n\tat org.apache.spark.rdd.RDDOperationScope$.withScope(RDDOperationScope.scala:151)\n\tat org.apache.spark.sql.execution.SparkPlan.executeQuery(SparkPlan.scala:215)\n\tat org.apache.spark.sql.execution.SparkPlan.execute(SparkPlan.scala:176)\n\tat org.apache.spark.sql.execution.InputAdapter.inputRDD(WholeStageCodegenExec.scala:525)\n\tat org.apache.spark.sql.execution.InputRDDCodegen.inputRDDs(WholeStageCodegenExec.scala:453)\n\tat org.apache.spark.sql.execution.InputRDDCodegen.inputRDDs$(WholeStageCodegenExec.scala:452)\n\tat org.apache.spark.sql.execution.InputAdapter.inputRDDs(WholeStageCodegenExec.scala:496)\n\tat org.apache.spark.sql.execution.aggregate.HashAggregateExec.inputRDDs(HashAggregateExec.scala:141)\n\tat org.apache.spark.sql.execution.WholeStageCodegenExec.doExecute(WholeStageCodegenExec.scala:746)\n\tat org.apache.spark.sql.execution.SparkPlan.$anonfun$execute$1(SparkPlan.scala:180)\n\tat org.apache.spark.sql.execution.SparkPlan.$anonfun$executeQuery$1(SparkPlan.scala:218)\n\tat org.apache.spark.rdd.RDDOperationScope$.withScope(RDDOperationScope.scala:151)\n\tat org.apache.spark.sql.execution.SparkPlan.executeQuery(SparkPlan.scala:215)\n\tat org.apache.spark.sql.execution.SparkPlan.execute(SparkPlan.scala:176)\n\tat org.apache.spark.sql.execution.SparkPlan.getByteArrayRdd(SparkPlan.scala:321)\n\tat org.apache.spark.sql.execution.SparkPlan.executeCollect(SparkPlan.scala:387)\n\tat org.apache.spark.sql.Dataset.$anonfun$collectToPython$1(Dataset.scala:3532)\n\tat org.apache.spark.sql.Dataset.$anonfun$withAction$1(Dataset.scala:3700)\n\tat org.apache.spark.sql.execution.SQLExecution$.$anonfun$withNewExecutionId$5(SQLExecution.scala:103)\n\tat org.apache.spark.sql.execution.SQLExecution$.withSQLConfPropagated(SQLExecution.scala:163)\n\tat org.apache.spark.sql.execution.SQLExecution$.$anonfun$withNewExecutionId$1(SQLExecution.scala:90)\n\tat org.apache.spark.sql.SparkSession.withActive(SparkSession.scala:775)\n\tat org.apache.spark.sql.execution.SQLExecution$.withNewExecutionId(SQLExecution.scala:64)\n\tat org.apache.spark.sql.Dataset.withAction(Dataset.scala:3698)\n\tat org.apache.spark.sql.Dataset.collectToPython(Dataset.scala:3529)\n\tat sun.reflect.NativeMethodAccessorImpl.invoke0(Native Method)\n\tat sun.reflect.NativeMethodAccessorImpl.invoke(NativeMethodAccessorImpl.java:62)\n\tat sun.reflect.DelegatingMethodAccessorImpl.invoke(DelegatingMethodAccessorImpl.java:43)\n\tat java.lang.reflect.Method.invoke(Method.java:498)\n\tat py4j.reflection.MethodInvoker.invoke(MethodInvoker.java:244)\n\tat py4j.reflection.ReflectionEngine.invoke(ReflectionEngine.java:357)\n\tat py4j.Gateway.invoke(Gateway.java:282)\n\tat py4j.commands.AbstractCommand.invokeMethod(AbstractCommand.java:132)\n\tat py4j.commands.CallCommand.execute(CallCommand.java:79)\n\tat py4j.GatewayConnection.run(GatewayConnection.java:238)\n\tat java.lang.Thread.run(Thread.java:750)\nCaused by: java.lang.IllegalStateException: Cannot call methods on a stopped SparkContext.\nThis stopped SparkContext was created at:\n\norg.apache.spark.api.java.JavaSparkContext.<init>(JavaSparkContext.scala:58)\nsun.reflect.NativeConstructorAccessorImpl.newInstance0(Native Method)\nsun.reflect.NativeConstructorAccessorImpl.newInstance(NativeConstructorAccessorImpl.java:62)\nsun.reflect.DelegatingConstructorAccessorImpl.newInstance(DelegatingConstructorAccessorImpl.java:45)\njava.lang.reflect.Constructor.newInstance(Constructor.java:423)\npy4j.reflection.MethodInvoker.invoke(MethodInvoker.java:247)\npy4j.reflection.ReflectionEngine.invoke(ReflectionEngine.java:357)\npy4j.Gateway.invoke(Gateway.java:238)\npy4j.commands.ConstructorCommand.invokeConstructor(ConstructorCommand.java:80)\npy4j.commands.ConstructorCommand.execute(ConstructorCommand.java:69)\npy4j.GatewayConnection.run(GatewayConnection.java:238)\njava.lang.Thread.run(Thread.java:750)\n\nThe currently active SparkContext was created at:\n\n(No active SparkContext.)\n         \n\tat org.apache.spark.SparkContext.assertNotStopped(SparkContext.scala:118)\n\tat org.apache.spark.SparkContext.broadcast(SparkContext.scala:1514)\n\tat org.apache.spark.sql.execution.datasources.csv.CSVFileFormat.buildReader(CSVFileFormat.scala:102)\n\tat org.apache.spark.sql.execution.datasources.FileFormat.buildReaderWithPartitionValues(FileFormat.scala:130)\n\tat org.apache.spark.sql.execution.datasources.FileFormat.buildReaderWithPartitionValues$(FileFormat.scala:121)\n\tat org.apache.spark.sql.execution.datasources.TextBasedFileFormat.buildReaderWithPartitionValues(FileFormat.scala:170)\n\tat org.apache.spark.sql.execution.FileSourceScanExec.inputRDD$lzycompute(DataSourceScanExec.scala:408)\n\tat org.apache.spark.sql.execution.FileSourceScanExec.inputRDD(DataSourceScanExec.scala:399)\n\tat org.apache.spark.sql.execution.FileSourceScanExec.doExecute(DataSourceScanExec.scala:497)\n\tat org.apache.spark.sql.execution.SparkPlan.$anonfun$execute$1(SparkPlan.scala:180)\n\tat org.apache.spark.sql.execution.SparkPlan.$anonfun$executeQuery$1(SparkPlan.scala:218)\n\tat org.apache.spark.rdd.RDDOperationScope$.withScope(RDDOperationScope.scala:151)\n\tat org.apache.spark.sql.execution.SparkPlan.executeQuery(SparkPlan.scala:215)\n\tat org.apache.spark.sql.execution.SparkPlan.execute(SparkPlan.scala:176)\n\tat org.apache.spark.sql.execution.InputAdapter.inputRDD(WholeStageCodegenExec.scala:525)\n\tat org.apache.spark.sql.execution.InputRDDCodegen.inputRDDs(WholeStageCodegenExec.scala:453)\n\tat org.apache.spark.sql.execution.InputRDDCodegen.inputRDDs$(WholeStageCodegenExec.scala:452)\n\tat org.apache.spark.sql.execution.InputAdapter.inputRDDs(WholeStageCodegenExec.scala:496)\n\tat org.apache.spark.sql.execution.FilterExec.inputRDDs(basicPhysicalOperators.scala:149)\n\tat org.apache.spark.sql.execution.ProjectExec.inputRDDs(basicPhysicalOperators.scala:50)\n\tat org.apache.spark.sql.execution.aggregate.HashAggregateExec.inputRDDs(HashAggregateExec.scala:141)\n\tat org.apache.spark.sql.execution.WholeStageCodegenExec.doExecute(WholeStageCodegenExec.scala:746)\n\tat org.apache.spark.sql.execution.SparkPlan.$anonfun$execute$1(SparkPlan.scala:180)\n\tat org.apache.spark.sql.execution.SparkPlan.$anonfun$executeQuery$1(SparkPlan.scala:218)\n\tat org.apache.spark.rdd.RDDOperationScope$.withScope(RDDOperationScope.scala:151)\n\tat org.apache.spark.sql.execution.SparkPlan.executeQuery(SparkPlan.scala:215)\n\tat org.apache.spark.sql.execution.SparkPlan.execute(SparkPlan.scala:176)\n\tat org.apache.spark.sql.execution.exchange.ShuffleExchangeExec.inputRDD$lzycompute(ShuffleExchangeExec.scala:118)\n\tat org.apache.spark.sql.execution.exchange.ShuffleExchangeExec.inputRDD(ShuffleExchangeExec.scala:118)\n\tat org.apache.spark.sql.execution.exchange.ShuffleExchangeExec.shuffleDependency$lzycompute(ShuffleExchangeExec.scala:151)\n\tat org.apache.spark.sql.execution.exchange.ShuffleExchangeExec.shuffleDependency(ShuffleExchangeExec.scala:149)\n\tat org.apache.spark.sql.execution.exchange.ShuffleExchangeExec.$anonfun$doExecute$1(ShuffleExchangeExec.scala:166)\n\tat org.apache.spark.sql.catalyst.errors.package$.attachTree(package.scala:52)\n\t... 39 more\n"
     ]
    }
   ],
   "source": [
    "# Perform time series analysis on departure delays\n",
    "data_cleaned = data_cleaned.withColumn(\"FlightDate\", F.to_date(\"FlightDate\", \"yyyy-MM-dd\"))\n",
    "data_cleaned = data_cleaned.withColumn(\"Year\", F.year(\"FlightDate\"))\n",
    "\n",
    "# Group the data by year and calculate the average departure and arrival delays\n",
    "time_series_dep_delay = data_cleaned.groupBy(\"Year\").agg(F.avg(\"DepDelayMinutes\").alias(\"AvgDepDelayMinutes\"))\n",
    "time_series_arr_delay = data_cleaned.groupBy(\"Year\").agg(F.avg(\"ArrDelayMinutes\").alias(\"AvgArrDelayMinutes\"))\n",
    "\n",
    "# Convert the result to Pandas DataFrame for plotting\n",
    "time_series_dep_delay_df = time_series_dep_delay.toPandas()\n",
    "time_series_arr_delay_df = time_series_arr_delay.toPandas()\n",
    "\n",
    "# Plot the time series of departure and arrival delays\n",
    "plt.figure(figsize=(12, 6))\n",
    "plt.plot(time_series_dep_delay_df[\"Year\"], time_series_dep_delay_df[\"AvgDepDelayMinutes\"], label=\"Average Departure Delay\")\n",
    "plt.plot(time_series_arr_delay_df[\"Year\"], time_series_arr_delay_df[\"AvgArrDelayMinutes\"], label=\"Average Arrival Delay\")\n",
    "plt.xlabel(\"Year\")\n",
    "plt.ylabel(\"Average Delay (Minutes)\")\n",
    "plt.title(\"Time Series of Departure and Arrival Delays Over Years\")\n",
    "plt.legend()\n",
    "plt.show()\n",
    "\n",
    "# Stop the SparkSession when you're done\n",
    "spark.stop()\n",
    "\n"
   ]
  },
  {
   "cell_type": "markdown",
   "id": "7790b1d1-08b1-44b3-a729-3df1afddaf41",
   "metadata": {},
   "source": [
    "FlightDate: The date of the flight, which can be used to analyze trends and patterns over time.\n",
    "\n",
    "Airline: The airline operating the flight, as different airlines may have varying on-time performance records.\n",
    "\n",
    "Origin and Dest: The departure and arrival airports, which can be used to examine how on-time performance varies by location.\n",
    "\n",
    "CRSDepTime and CRSArrTime: The scheduled departure and arrival times, which are important for calculating on-time performance.\n",
    "\n",
    "DepTime and ArrTime: The actual departure and arrival times, which are needed to calculate the actual on-time performance.\n",
    "\n",
    "DepDelayMinutes and ArrDelayMinutes: The delay in minutes for departure and arrival, which directly relate to on-time performance.\n",
    "\n",
    "DepDel15 and ArrDel15: Binary indicators of whether a flight was delayed by 15 minutes or more. These can be used to categorize flights as on-time or delayed.\n",
    "\n",
    "DepartureDelayGroups and ArrivalDelayGroups: Categorical groups that classify flights based on their departure and arrival delays.\n",
    "\n",
    "Month, DayofMonth, and DayOfWeek: Date-related variables that allow you to analyze how on-time performance varies by month, day of the month, and day of the week.\n",
    "\n",
    "Marketing_Airline_Network: Information about the airline's marketing network can provide insights into the airline's marketing strategies and how they affect on-time performance.\n",
    "\n"
   ]
  },
  {
   "cell_type": "code",
   "execution_count": null,
   "id": "eaf7e545-1624-4497-aaeb-fdd09958387d",
   "metadata": {},
   "outputs": [],
   "source": []
  },
  {
   "cell_type": "markdown",
   "id": "c59af13d-c5ba-44c2-b9ca-4d6c72b1df9b",
   "metadata": {},
   "source": [
    "**Most rich: Marketing_airline_network -- can do k-means clustering?\n",
    "DepDelayMinutes, ArrDelayMinutes, Origin, Destination, Month, Day of month, Day of week.**"
   ]
  },
  {
   "cell_type": "markdown",
   "id": "5bc68e2d-3aa5-48be-b76f-4e947b4b224d",
   "metadata": {},
   "source": [
    "Some very rough plots:"
   ]
  },
  {
   "cell_type": "code",
   "execution_count": null,
   "id": "963daaab-b3da-4f7e-8043-4303bc7f5ea3",
   "metadata": {},
   "outputs": [],
   "source": []
  },
  {
   "cell_type": "code",
   "execution_count": null,
   "id": "e3713d0f-f858-4aad-bebb-4971da2dcb2e",
   "metadata": {},
   "outputs": [],
   "source": [
    "A lot of different approaches. We Can do\n",
    "1/ seasonality? ACF/PACF, according to time? lets try that -- "
   ]
  }
 ],
 "metadata": {
  "kernelspec": {
   "display_name": "Python 3",
   "language": "python",
   "name": "python3"
  },
  "language_info": {
   "codemirror_mode": {
    "name": "ipython",
    "version": 3
   },
   "file_extension": ".py",
   "mimetype": "text/x-python",
   "name": "python",
   "nbconvert_exporter": "python",
   "pygments_lexer": "ipython3",
   "version": "3.8.15"
  }
 },
 "nbformat": 4,
 "nbformat_minor": 5
}
