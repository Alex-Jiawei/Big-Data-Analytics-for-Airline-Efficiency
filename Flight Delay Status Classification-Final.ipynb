{
 "cells": [
  {
   "cell_type": "markdown",
   "id": "e97e9cc8-a289-45e4-8324-f5b5e8f62655",
   "metadata": {},
   "source": [
    "# Flight Delay Status Classification"
   ]
  },
  {
   "cell_type": "code",
   "execution_count": 1,
   "id": "1881758e-0be4-447a-9cb4-788f93e1f22f",
   "metadata": {},
   "outputs": [],
   "source": [
    "from pyspark.sql import SparkSession\n",
    "from pyspark.sql.types import StructType, StructField, StringType, DoubleType, IntegerType, NullType\n",
    "from pyspark.ml.feature import OneHotEncoder, StringIndexer, VectorAssembler\n",
    "from pyspark.ml.evaluation import BinaryClassificationEvaluator\n",
    "from pyspark.ml.feature import StandardScaler, Imputer\n",
    "from pyspark.sql import functions as F\n",
    "from pyspark.sql.window import Window\n",
    "from pyspark.sql import SQLContext\n",
    "import pyspark.ml.feature as ftr\n",
    "import pyspark.ml as ml\n",
    " \n",
    "from pyspark.ml.classification import DecisionTreeClassifier\n",
    "from pyspark.ml.classification import RandomForestClassifier\n",
    "from pyspark.ml.classification import GBTClassifier\n",
    "from pyspark.mllib.linalg.distributed import RowMatrix\n",
    "from pyspark.ml.tuning import ParamGridBuilder\n",
    "from pyspark.ml.tuning import CrossValidator\n",
    "from pyspark.ml.tuning import TrainValidationSplit\n",
    "from pyspark.ml import PipelineModel\n",
    "from pyspark.mllib.linalg import Vectors\n",
    "from pyspark.ml.feature import PCA\n",
    " \n",
    "import pandas as pd\n",
    "import numpy as np\n",
    "import seaborn as sns\n",
    "import matplotlib.pyplot as plt\n",
    "from pyspark.ml import Pipeline"
   ]
  },
  {
   "cell_type": "markdown",
   "id": "5713e5fc-a85a-407a-915e-c3cbce23dced",
   "metadata": {},
   "source": [
    "### Data Loading and Initial Exploration"
   ]
  },
  {
   "cell_type": "code",
   "execution_count": 2,
   "id": "2a1b4b4f-66a9-4bb6-91c2-d18d9d51465b",
   "metadata": {},
   "outputs": [],
   "source": [
    "spark = SparkSession.builder.appName(\"FlightDelayPrediction\").getOrCreate()"
   ]
  },
  {
   "cell_type": "code",
   "execution_count": 3,
   "id": "b62fcbff-4b9f-4976-8a40-844499552bd9",
   "metadata": {},
   "outputs": [
    {
     "name": "stderr",
     "output_type": "stream",
     "text": [
      "                                                                                \r"
     ]
    }
   ],
   "source": [
    "flight_path = 'gs://msca-bdp-student-gcs/Group4_Final_Project/archive/Combined_Flights_2018-2022.parquet'\n",
    "airport_path = 'gs://msca-bdp-student-gcs/Group4_Final_Project/archive/Airports'\n",
    "\n",
    "flight = spark.read.parquet(flight_path)\n",
    "airport = spark.read.parquet(airport_path)"
   ]
  },
  {
   "cell_type": "code",
   "execution_count": 4,
   "id": "4a36cbf4-fb7e-4f09-8e89-f736dd05624b",
   "metadata": {},
   "outputs": [
    {
     "name": "stdout",
     "output_type": "stream",
     "text": [
      "root\n",
      " |-- FlightDate: timestamp (nullable = true)\n",
      " |-- Airline: string (nullable = true)\n",
      " |-- Origin: string (nullable = true)\n",
      " |-- Dest: string (nullable = true)\n",
      " |-- Cancelled: boolean (nullable = true)\n",
      " |-- Diverted: boolean (nullable = true)\n",
      " |-- CRSDepTime: long (nullable = true)\n",
      " |-- DepTime: double (nullable = true)\n",
      " |-- DepDelayMinutes: double (nullable = true)\n",
      " |-- DepDelay: double (nullable = true)\n",
      " |-- ArrTime: double (nullable = true)\n",
      " |-- ArrDelayMinutes: double (nullable = true)\n",
      " |-- AirTime: double (nullable = true)\n",
      " |-- CRSElapsedTime: double (nullable = true)\n",
      " |-- ActualElapsedTime: double (nullable = true)\n",
      " |-- Distance: double (nullable = true)\n",
      " |-- Year: long (nullable = true)\n",
      " |-- Quarter: long (nullable = true)\n",
      " |-- Month: long (nullable = true)\n",
      " |-- DayofMonth: long (nullable = true)\n",
      " |-- DayOfWeek: long (nullable = true)\n",
      " |-- Marketing_Airline_Network: string (nullable = true)\n",
      " |-- Operated_or_Branded_Code_Share_Partners: string (nullable = true)\n",
      " |-- DOT_ID_Marketing_Airline: long (nullable = true)\n",
      " |-- IATA_Code_Marketing_Airline: string (nullable = true)\n",
      " |-- Flight_Number_Marketing_Airline: long (nullable = true)\n",
      " |-- Operating_Airline: string (nullable = true)\n",
      " |-- DOT_ID_Operating_Airline: long (nullable = true)\n",
      " |-- IATA_Code_Operating_Airline: string (nullable = true)\n",
      " |-- Tail_Number: string (nullable = true)\n",
      " |-- Flight_Number_Operating_Airline: long (nullable = true)\n",
      " |-- OriginAirportID: long (nullable = true)\n",
      " |-- OriginAirportSeqID: long (nullable = true)\n",
      " |-- OriginCityMarketID: long (nullable = true)\n",
      " |-- OriginCityName: string (nullable = true)\n",
      " |-- OriginState: string (nullable = true)\n",
      " |-- OriginStateFips: long (nullable = true)\n",
      " |-- OriginStateName: string (nullable = true)\n",
      " |-- OriginWac: long (nullable = true)\n",
      " |-- DestAirportID: long (nullable = true)\n",
      " |-- DestAirportSeqID: long (nullable = true)\n",
      " |-- DestCityMarketID: long (nullable = true)\n",
      " |-- DestCityName: string (nullable = true)\n",
      " |-- DestState: string (nullable = true)\n",
      " |-- DestStateFips: long (nullable = true)\n",
      " |-- DestStateName: string (nullable = true)\n",
      " |-- DestWac: long (nullable = true)\n",
      " |-- DepDel15: double (nullable = true)\n",
      " |-- DepartureDelayGroups: double (nullable = true)\n",
      " |-- DepTimeBlk: string (nullable = true)\n",
      " |-- TaxiOut: double (nullable = true)\n",
      " |-- WheelsOff: double (nullable = true)\n",
      " |-- WheelsOn: double (nullable = true)\n",
      " |-- TaxiIn: double (nullable = true)\n",
      " |-- CRSArrTime: long (nullable = true)\n",
      " |-- ArrDelay: double (nullable = true)\n",
      " |-- ArrDel15: double (nullable = true)\n",
      " |-- ArrivalDelayGroups: double (nullable = true)\n",
      " |-- ArrTimeBlk: string (nullable = true)\n",
      " |-- DistanceGroup: long (nullable = true)\n",
      " |-- DivAirportLandings: double (nullable = true)\n",
      " |-- __index_level_0__: long (nullable = true)\n",
      "\n",
      "root\n",
      " |-- AIRPORT_SEQ_ID: integer (nullable = true)\n",
      " |-- AIRPORT_ID: integer (nullable = true)\n",
      " |-- AIRPORT: string (nullable = true)\n",
      " |-- DISPLAY_AIRPORT_NAME: string (nullable = true)\n",
      " |-- DISPLAY_AIRPORT_CITY_NAME_FULL: string (nullable = true)\n",
      " |-- AIRPORT_WAC_SEQ_ID2: integer (nullable = true)\n",
      " |-- AIRPORT_WAC: integer (nullable = true)\n",
      " |-- AIRPORT_COUNTRY_NAME: string (nullable = true)\n",
      " |-- AIRPORT_COUNTRY_CODE_ISO: string (nullable = true)\n",
      " |-- AIRPORT_STATE_NAME: string (nullable = true)\n",
      " |-- AIRPORT_STATE_CODE: string (nullable = true)\n",
      " |-- AIRPORT_STATE_FIPS: integer (nullable = true)\n",
      " |-- CITY_MARKET_SEQ_ID: integer (nullable = true)\n",
      " |-- CITY_MARKET_ID: integer (nullable = true)\n",
      " |-- DISPLAY_CITY_MARKET_NAME_FULL: string (nullable = true)\n",
      " |-- CITY_MARKET_WAC_SEQ_ID2: integer (nullable = true)\n",
      " |-- CITY_MARKET_WAC: integer (nullable = true)\n",
      " |-- LAT_DEGREES: integer (nullable = true)\n",
      " |-- LAT_HEMISPHERE: string (nullable = true)\n",
      " |-- LAT_MINUTES: integer (nullable = true)\n",
      " |-- LAT_SECONDS: integer (nullable = true)\n",
      " |-- LATITUDE: double (nullable = true)\n",
      " |-- LON_DEGREES: integer (nullable = true)\n",
      " |-- LON_HEMISPHERE: string (nullable = true)\n",
      " |-- LON_MINUTES: integer (nullable = true)\n",
      " |-- LON_SECONDS: integer (nullable = true)\n",
      " |-- LONGITUDE: double (nullable = true)\n",
      " |-- UTC_LOCAL_TIME_VARIATION: integer (nullable = true)\n",
      " |-- AIRPORT_START_DATE: string (nullable = true)\n",
      " |-- AIRPORT_THRU_DATE: string (nullable = true)\n",
      " |-- AIRPORT_IS_CLOSED: integer (nullable = true)\n",
      " |-- AIRPORT_IS_LATEST: integer (nullable = true)\n",
      " |-- _c32: string (nullable = true)\n",
      "\n"
     ]
    }
   ],
   "source": [
    "flight.printSchema()\n",
    "airport.printSchema()"
   ]
  },
  {
   "cell_type": "code",
   "execution_count": 5,
   "id": "51d2838c-ca18-4d6b-a6f2-c3677cc76d49",
   "metadata": {},
   "outputs": [
    {
     "name": "stderr",
     "output_type": "stream",
     "text": [
      "23/11/27 15:25:51 WARN org.apache.spark.sql.catalyst.util.package: Truncated the string representation of a plan since it was too large. This behavior can be adjusted by setting 'spark.sql.debug.maxToStringFields'.\n",
      "[Stage 2:>                                                          (0 + 1) / 1]\r"
     ]
    },
    {
     "name": "stdout",
     "output_type": "stream",
     "text": [
      "+-------------------+-----------------+------+----+---------+--------+----------+-------+---------------+--------+-------+---------------+-------+--------------+-----------------+--------+----+-------+-----+----------+---------+-------------------------+---------------------------------------+------------------------+---------------------------+-------------------------------+-----------------+------------------------+---------------------------+-----------+-------------------------------+---------------+------------------+------------------+--------------+-----------+---------------+---------------+---------+-------------+----------------+----------------+------------+---------+-------------+-------------+-------+--------+--------------------+----------+-------+---------+--------+------+----------+--------+--------+------------------+----------+-------------+------------------+-----------------+\n",
      "|         FlightDate|          Airline|Origin|Dest|Cancelled|Diverted|CRSDepTime|DepTime|DepDelayMinutes|DepDelay|ArrTime|ArrDelayMinutes|AirTime|CRSElapsedTime|ActualElapsedTime|Distance|Year|Quarter|Month|DayofMonth|DayOfWeek|Marketing_Airline_Network|Operated_or_Branded_Code_Share_Partners|DOT_ID_Marketing_Airline|IATA_Code_Marketing_Airline|Flight_Number_Marketing_Airline|Operating_Airline|DOT_ID_Operating_Airline|IATA_Code_Operating_Airline|Tail_Number|Flight_Number_Operating_Airline|OriginAirportID|OriginAirportSeqID|OriginCityMarketID|OriginCityName|OriginState|OriginStateFips|OriginStateName|OriginWac|DestAirportID|DestAirportSeqID|DestCityMarketID|DestCityName|DestState|DestStateFips|DestStateName|DestWac|DepDel15|DepartureDelayGroups|DepTimeBlk|TaxiOut|WheelsOff|WheelsOn|TaxiIn|CRSArrTime|ArrDelay|ArrDel15|ArrivalDelayGroups|ArrTimeBlk|DistanceGroup|DivAirportLandings|__index_level_0__|\n",
      "+-------------------+-----------------+------+----+---------+--------+----------+-------+---------------+--------+-------+---------------+-------+--------------+-----------------+--------+----+-------+-----+----------+---------+-------------------------+---------------------------------------+------------------------+---------------------------+-------------------------------+-----------------+------------------------+---------------------------+-----------+-------------------------------+---------------+------------------+------------------+--------------+-----------+---------------+---------------+---------+-------------+----------------+----------------+------------+---------+-------------+-------------+-------+--------+--------------------+----------+-------+---------+--------+------+----------+--------+--------+------------------+----------+-------------+------------------+-----------------+\n",
      "|2018-01-23 00:00:00|Endeavor Air Inc.|   ABY| ATL|    false|   false|      1202| 1157.0|            0.0|    -5.0| 1256.0|            0.0|   38.0|          62.0|             59.0|   145.0|2018|      1|    1|        23|        2|                       DL|                           DL_CODESHARE|                   19790|                         DL|                           3298|               9E|                   20363|                         9E|     N8928A|                           3298|          10146|           1014602|             30146|    Albany, GA|         GA|             13|        Georgia|       34|        10397|         1039707|           30397| Atlanta, GA|       GA|           13|      Georgia|     34|     0.0|                -1.0| 1200-1259|   14.0|   1211.0|  1249.0|   7.0|      1304|    -8.0|     0.0|              -1.0| 1300-1359|            1|               0.0|                0|\n",
      "|2018-01-24 00:00:00|Endeavor Air Inc.|   ABY| ATL|    false|   false|      1202| 1157.0|            0.0|    -5.0| 1258.0|            0.0|   36.0|          62.0|             61.0|   145.0|2018|      1|    1|        24|        3|                       DL|                           DL_CODESHARE|                   19790|                         DL|                           3298|               9E|                   20363|                         9E|     N800AY|                           3298|          10146|           1014602|             30146|    Albany, GA|         GA|             13|        Georgia|       34|        10397|         1039707|           30397| Atlanta, GA|       GA|           13|      Georgia|     34|     0.0|                -1.0| 1200-1259|   13.0|   1210.0|  1246.0|  12.0|      1304|    -6.0|     0.0|              -1.0| 1300-1359|            1|               0.0|                1|\n",
      "|2018-01-25 00:00:00|Endeavor Air Inc.|   ABY| ATL|    false|   false|      1202| 1153.0|            0.0|    -9.0| 1302.0|            0.0|   40.0|          62.0|             69.0|   145.0|2018|      1|    1|        25|        4|                       DL|                           DL_CODESHARE|                   19790|                         DL|                           3298|               9E|                   20363|                         9E|     N8836A|                           3298|          10146|           1014602|             30146|    Albany, GA|         GA|             13|        Georgia|       34|        10397|         1039707|           30397| Atlanta, GA|       GA|           13|      Georgia|     34|     0.0|                -1.0| 1200-1259|   18.0|   1211.0|  1251.0|  11.0|      1304|    -2.0|     0.0|              -1.0| 1300-1359|            1|               0.0|                2|\n",
      "|2018-01-26 00:00:00|Endeavor Air Inc.|   ABY| ATL|    false|   false|      1202| 1150.0|            0.0|   -12.0| 1253.0|            0.0|   35.0|          62.0|             63.0|   145.0|2018|      1|    1|        26|        5|                       DL|                           DL_CODESHARE|                   19790|                         DL|                           3298|               9E|                   20363|                         9E|     N800AY|                           3298|          10146|           1014602|             30146|    Albany, GA|         GA|             13|        Georgia|       34|        10397|         1039707|           30397| Atlanta, GA|       GA|           13|      Georgia|     34|     0.0|                -1.0| 1200-1259|   17.0|   1207.0|  1242.0|  11.0|      1304|   -11.0|     0.0|              -1.0| 1300-1359|            1|               0.0|                3|\n",
      "|2018-01-27 00:00:00|Endeavor Air Inc.|   ABY| ATL|    false|   false|      1400| 1355.0|            0.0|    -5.0| 1459.0|            0.0|   36.0|          60.0|             64.0|   145.0|2018|      1|    1|        27|        6|                       DL|                           DL_CODESHARE|                   19790|                         DL|                           3298|               9E|                   20363|                         9E|     N8839E|                           3298|          10146|           1014602|             30146|    Albany, GA|         GA|             13|        Georgia|       34|        10397|         1039707|           30397| Atlanta, GA|       GA|           13|      Georgia|     34|     0.0|                -1.0| 1400-1459|   17.0|   1412.0|  1448.0|  11.0|      1500|    -1.0|     0.0|              -1.0| 1500-1559|            1|               0.0|                4|\n",
      "+-------------------+-----------------+------+----+---------+--------+----------+-------+---------------+--------+-------+---------------+-------+--------------+-----------------+--------+----+-------+-----+----------+---------+-------------------------+---------------------------------------+------------------------+---------------------------+-------------------------------+-----------------+------------------------+---------------------------+-----------+-------------------------------+---------------+------------------+------------------+--------------+-----------+---------------+---------------+---------+-------------+----------------+----------------+------------+---------+-------------+-------------+-------+--------+--------------------+----------+-------+---------+--------+------+----------+--------+--------+------------------+----------+-------------+------------------+-----------------+\n",
      "only showing top 5 rows\n",
      "\n"
     ]
    },
    {
     "name": "stderr",
     "output_type": "stream",
     "text": [
      "                                                                                \r"
     ]
    }
   ],
   "source": [
    "flight.show(5)"
   ]
  },
  {
   "cell_type": "code",
   "execution_count": 6,
   "id": "5fb58862-a2f9-4861-8371-ed28b5900b12",
   "metadata": {},
   "outputs": [
    {
     "name": "stderr",
     "output_type": "stream",
     "text": [
      "                                                                                \r"
     ]
    },
    {
     "name": "stdout",
     "output_type": "stream",
     "text": [
      "Number of flight records loaded: 29,193,782\n",
      "Number of airport records loaded: 13,386\n"
     ]
    }
   ],
   "source": [
    "print('Number of flight records loaded: ' + f'{flight.count():,}')\n",
    "print('Number of airport records loaded: ' + f'{airport.count():,}')"
   ]
  },
  {
   "cell_type": "code",
   "execution_count": 7,
   "id": "b450853f-c63e-465a-88cd-6a9253cd2028",
   "metadata": {},
   "outputs": [
    {
     "name": "stderr",
     "output_type": "stream",
     "text": [
      "[Stage 9:========================================>                (12 + 5) / 17]\r"
     ]
    },
    {
     "name": "stdout",
     "output_type": "stream",
     "text": [
      "+----+----------------+\n",
      "|Year|Count of Records|\n",
      "+----+----------------+\n",
      "|2018|         5689512|\n",
      "|2019|         8091684|\n",
      "|2020|         5022397|\n",
      "|2021|         6311871|\n",
      "|2022|         4078318|\n",
      "+----+----------------+\n",
      "\n"
     ]
    },
    {
     "name": "stderr",
     "output_type": "stream",
     "text": [
      "                                                                                \r"
     ]
    }
   ],
   "source": [
    "yearly_counts = flight.groupBy(\"Year\").agg(F.count(\"*\").alias(\"Count of Records\")).orderBy(\"Year\")\n",
    "\n",
    "yearly_counts.show()"
   ]
  },
  {
   "cell_type": "code",
   "execution_count": 8,
   "id": "c2fad28b-2531-4f18-841b-6337c41329ca",
   "metadata": {},
   "outputs": [],
   "source": [
    "# Filter US airport only \n",
    "def airport_transform(dataframe):\n",
    "  return (\n",
    "    dataframe\n",
    "    .filter(\"AIRPORT_COUNTRY_CODE_ISO = 'US'\")\n",
    "    .dropDuplicates(['AIRPORT'])\n",
    "    )"
   ]
  },
  {
   "cell_type": "code",
   "execution_count": 9,
   "id": "eefe1b29-499d-4e11-8b9c-c057be8e5462",
   "metadata": {},
   "outputs": [
    {
     "name": "stderr",
     "output_type": "stream",
     "text": [
      "[Stage 12:>                                                         (0 + 1) / 1]\r"
     ]
    },
    {
     "name": "stdout",
     "output_type": "stream",
     "text": [
      "+--------------+----------+-------+--------------------+------------------------------+-------------------+-----------+--------------------+------------------------+------------------+------------------+------------------+------------------+--------------+-----------------------------+-----------------------+---------------+-----------+--------------+-----------+-----------+-----------+-----------+--------------+-----------+-----------+-------------+------------------------+------------------+-----------------+-----------------+-----------------+----+\n",
      "|AIRPORT_SEQ_ID|AIRPORT_ID|AIRPORT|DISPLAY_AIRPORT_NAME|DISPLAY_AIRPORT_CITY_NAME_FULL|AIRPORT_WAC_SEQ_ID2|AIRPORT_WAC|AIRPORT_COUNTRY_NAME|AIRPORT_COUNTRY_CODE_ISO|AIRPORT_STATE_NAME|AIRPORT_STATE_CODE|AIRPORT_STATE_FIPS|CITY_MARKET_SEQ_ID|CITY_MARKET_ID|DISPLAY_CITY_MARKET_NAME_FULL|CITY_MARKET_WAC_SEQ_ID2|CITY_MARKET_WAC|LAT_DEGREES|LAT_HEMISPHERE|LAT_MINUTES|LAT_SECONDS|   LATITUDE|LON_DEGREES|LON_HEMISPHERE|LON_MINUTES|LON_SECONDS|    LONGITUDE|UTC_LOCAL_TIME_VARIATION|AIRPORT_START_DATE|AIRPORT_THRU_DATE|AIRPORT_IS_CLOSED|AIRPORT_IS_LATEST|_c32|\n",
      "+--------------+----------+-------+--------------------+------------------------------+-------------------+-----------+--------------------+------------------------+------------------+------------------+------------------+------------------+--------------+-----------------------------+-----------------------+---------------+-----------+--------------+-----------+-----------+-----------+-----------+--------------+-----------+-----------+-------------+------------------------+------------------+-----------------+-----------------+-----------------+----+\n",
      "|       1003601|     10036|    A23|Bradley Lake Airport|              Bradley Lake, AK|                101|          1|       United States|                      US|            Alaska|                AK|                 2|           3003601|         30036|             Bradley Lake, AK|                    101|              1|         59|             N|         46|         34|59.77611111|        151|             W|         57|         49|-151.96361111|                    null|        2003-01-01|             null|                0|                1|null|\n",
      "|       1077003|     10770|    A2K|   Bartletts Airport|                 Bartletts, AK|                101|          1|       United States|                      US|            Alaska|                AK|                 2|           3077001|         30770|                Bartletts, AK|                    101|              1|         58|             N|         13|         59|58.23305556|        157|             W|         21|         59|-157.36638889|                    -900|        2015-04-01|             null|                0|                1|null|\n",
      "|       1005901|     10059|    A46|Lake Hasselborg A...|           Lake Hasselborg, AK|                101|          1|       United States|                      US|            Alaska|                AK|                 2|           3005901|         30059|          Lake Hasselborg, AK|                    101|              1|         57|             N|         42|          0|       57.7|        134|             W|         16|          0|-134.26666667|                    null|        2004-07-01|             null|                0|                1|null|\n",
      "|       1006001|     10060|    A47| Distin Lake Airport|               Distin Lake, AK|                101|          1|       United States|                      US|            Alaska|                AK|                 2|           3006001|         30060|              Distin Lake, AK|                    101|              1|         57|             N|         37|          0|57.61666667|        134|             W|         22|          0|-134.36666667|                    null|        2004-07-01|             null|                0|                1|null|\n",
      "|       1007501|     10075|    A62|     Taylor Mountain|          Taylor Mountain M...|                101|          1|       United States|                      US|            Alaska|                AK|                 2|           3007501|         30075|         Taylor Mountain M...|                    101|              1|         60|             N|         52|          4|60.86777778|        157|             W|         23|         31|-157.39194444|                    null|        2005-04-01|             null|                0|                1|null|\n",
      "+--------------+----------+-------+--------------------+------------------------------+-------------------+-----------+--------------------+------------------------+------------------+------------------+------------------+------------------+--------------+-----------------------------+-----------------------+---------------+-----------+--------------+-----------+-----------+-----------+-----------+--------------+-----------+-----------+-------------+------------------------+------------------+-----------------+-----------------+-----------------+----+\n",
      "only showing top 5 rows\n",
      "\n"
     ]
    },
    {
     "name": "stderr",
     "output_type": "stream",
     "text": [
      "                                                                                \r"
     ]
    }
   ],
   "source": [
    "airport = airport_transform(airport)\n",
    "airport.show(5)"
   ]
  },
  {
   "cell_type": "code",
   "execution_count": 10,
   "id": "de61807f-ddde-44bb-9f95-d27c45d3f006",
   "metadata": {},
   "outputs": [
    {
     "name": "stdout",
     "output_type": "stream",
     "text": [
      "Number of airports that co-exist in the airline dataset: 387\n"
     ]
    }
   ],
   "source": [
    "# Keep airports that co-exist in the airline dataset\n",
    "flight.createOrReplaceTempView('flight')\n",
    "airport.createOrReplaceTempView('airport')\n",
    "\n",
    "filtered_airport = spark.sql(\n",
    "  \"\"\"\n",
    "  SELECT * \n",
    "  FROM airport \n",
    "  WHERE \n",
    "    AIRPORT IN (\n",
    "      SELECT DISTINCT ORIGIN FROM flight AS airline_subquery\n",
    "      UNION\n",
    "      SELECT DISTINCT DEST FROM flight AS airline_subquery\n",
    "    )\n",
    "  \"\"\"\n",
    ")\n",
    "airport = spark.read.option(\"header\", \"true\").parquet(\"gs://msca-bdp-student-gcs/Group4_Final_Project/archive/Flight Delay Status Classification/filtered_airport\")\n",
    "\n",
    "airport.createOrReplaceTempView('airport')\n",
    "\n",
    "print('Number of airports that co-exist in the airline dataset: ' + f'{airport.count():,}')"
   ]
  },
  {
   "cell_type": "code",
   "execution_count": 11,
   "id": "949b237f-6051-4f28-b072-4d2f4df83143",
   "metadata": {},
   "outputs": [
    {
     "name": "stderr",
     "output_type": "stream",
     "text": [
      "[Stage 21:>                                                         (0 + 1) / 1]\r"
     ]
    },
    {
     "name": "stdout",
     "output_type": "stream",
     "text": [
      "+----+-------+-----+----------+---------+----------+-----------------+-----------+-------------------------------+------+----------------+-----------+----+--------------------+---------+----------+-------+---------------+----------+----------+-------+---------------+----------+--------+-------------+--------+--------+---------------+-------------+------------+\n",
      "|Year|Quarter|Month|DayofMonth|DayOfWeek|FlightDate|Operating_Airline|Tail_Number|Flight_Number_Operating_Airline|Origin|  OriginCityName|OriginState|Dest|        DestCityName|DestState|CRSDepTime|DepTime|DepDelayMinutes|DepTimeBlk|CRSArrTime|ArrTime|ArrDelayMinutes|ArrTimeBlk|Distance|DistanceGroup|DepDel15|ArrDel15|OriginAirportID|DestAirportID|PR_ARR_DEL15|\n",
      "+----+-------+-----+----------+---------+----------+-----------------+-----------+-------------------------------+------+----------------+-----------+----+--------------------+---------+----------+-------+---------------+----------+----------+-------+---------------+----------+--------+-------------+--------+--------+---------------+-------------+------------+\n",
      "|2019|      3|    8|         5|        1|2019-08-05|               G4|      282NV|                            541|   AZA|     Phoenix, AZ|         AZ| ICT|         Wichita, KS|       KS|       600|      6|           12.0| 0600-0659|      1006|     10|           13.0| 1000-1059|   855.0|            4|     0.0|     0.0|          10466|        12278|        null|\n",
      "|2019|      4|   12|        26|        4|2019-12-26|               G4|      282NV|                           1809|   IND|Indianapolis, IN|         IN| PGD|     Punta Gorda, FL|       FL|       600|      6|            0.0| 0600-0659|       820|      8|            0.0| 0800-0859|   916.0|            4|     0.0|     0.0|          12339|        14082|         0.0|\n",
      "|2020|      3|    9|        17|        4|2020-09-17|               G4|      282NV|                           1003|   BNA|   Nashville, TN|         TN| FAR|           Fargo, ND|       ND|       600|      6|            0.0| 0600-0659|       827|      8|            0.0| 0800-0859|   910.0|            4|     0.0|     0.0|          10693|        11637|         0.0|\n",
      "|2020|      3|    9|         3|        4|2020-09-03|               G4|      282NV|                           1626|   PGD| Punta Gorda, FL|         FL| FWA|      Fort Wayne, IN|       IN|       600|      6|            0.0| 0600-0659|       825|      8|            0.0| 0800-0859|   986.0|            4|     0.0|     0.0|          14082|        11823|         0.0|\n",
      "|2020|      3|    9|        20|        7|2020-09-20|               G4|      282NV|                           1003|   BNA|   Nashville, TN|         TN| FAR|           Fargo, ND|       ND|       600|      6|           13.0| 0600-0659|       827|      8|            3.0| 0800-0859|   910.0|            4|     0.0|     0.0|          10693|        11637|         0.0|\n",
      "|2020|      2|    6|         6|        6|2020-06-06|               G4|      282NV|                           1856|   IND|Indianapolis, IN|         IN| PIE|  St. Petersburg, FL|       FL|       600|      6|            0.0| 0600-0659|       809|      8|            0.0| 0800-0859|   840.0|            4|     0.0|     0.0|          12339|        14112|         0.0|\n",
      "|2020|      1|    3|         7|        6|2020-03-07|               G4|      282NV|                           1872|   IND|Indianapolis, IN|         IN| PIE|  St. Petersburg, FL|       FL|       600|      6|            0.0| 0600-0659|       808|      8|            7.0| 0800-0859|   840.0|            4|     0.0|     0.0|          12339|        14112|         0.0|\n",
      "|2020|      1|    3|        21|        6|2020-03-21|               G4|      282NV|                           1870|   IND|Indianapolis, IN|         IN| SFB|         Sanford, FL|       FL|       600|      6|            0.0| 0600-0659|       804|      8|            0.0| 0800-0859|   807.0|            4|     0.0|     0.0|          12339|        14761|         0.0|\n",
      "|2020|      4|   12|        19|        6|2020-12-19|               G4|      282NV|                           2102|   SFB|     Sanford, FL|         FL| LIT|     Little Rock, AR|       AR|       600|      6|            0.0| 0600-0659|       723|      7|            0.0| 0700-0759|   765.0|            4|     0.0|     0.0|          14761|        12992|         0.0|\n",
      "|2020|      4|   12|        10|        4|2020-12-10|               G4|      282NV|                           1857|   IND|Indianapolis, IN|         IN| SRQ|Sarasota/Bradento...|       FL|       600|      6|            0.0| 0600-0659|       819|      8|            0.0| 0800-0859|   876.0|            4|     0.0|     0.0|          12339|        14986|         0.0|\n",
      "+----+-------+-----+----------+---------+----------+-----------------+-----------+-------------------------------+------+----------------+-----------+----+--------------------+---------+----------+-------+---------------+----------+----------+-------+---------------+----------+--------+-------------+--------+--------+---------------+-------------+------------+\n",
      "only showing top 10 rows\n",
      "\n"
     ]
    },
    {
     "name": "stderr",
     "output_type": "stream",
     "text": [
      "                                                                                \r"
     ]
    }
   ],
   "source": [
    "def flight_transform(dataframe):\n",
    "    selected_col = [\"Year\", \"Quarter\", \"Month\", \"DayofMonth\", \"DayOfWeek\", \"FlightDate\",\n",
    "                    \"Operating_Airline\", \"Tail_Number\", \"Flight_Number_Operating_Airline\", \n",
    "                    \"Origin\", \"OriginCityName\", \"OriginState\", \"Dest\", \"DestCityName\", \n",
    "                    \"DestState\", \"CRSDepTime\", \"DepTime\", \"DepDelayMinutes\", \"DepTimeBlk\", \n",
    "                    \"CRSArrTime\", \"ArrTime\", \"ArrDelayMinutes\", \"ArrTimeBlk\", \"Distance\", \n",
    "                    \"DistanceGroup\", \"DepDel15\", \"ArrDel15\", \"OriginAirportID\", \n",
    "                    \"DestAirportID\", \"PR_ARR_DEL15\"]\n",
    "\n",
    "    # Creating a window partition to extract prior arrival delay\n",
    "    windowSpec = Window.partitionBy(\"Tail_Number\").orderBy(\"CRSDepTime\")\n",
    "\n",
    "    return (\n",
    "        dataframe\n",
    "        .filter(\"Cancelled != 1 AND Diverted != 1\")\n",
    "        .withColumn(\"FlightDate\", F.col(\"FlightDate\").cast(\"date\"))\n",
    "        .withColumn(\"Flight_Number_Operating_Airline\", F.col(\"Flight_Number_Operating_Airline\").cast(\"string\"))\n",
    "        .withColumn(\"DepTime\", F.col(\"DepTimeBlk\").substr(1, 2).cast(\"int\")) \n",
    "        .withColumn(\"ArrTime\", F.col(\"ArrTimeBlk\").substr(1, 2).cast(\"int\"))\n",
    "        .withColumn(\"DistanceGroup\", F.col(\"DistanceGroup\").cast(\"string\"))\n",
    "        .withColumn(\"DepDel15\", F.col(\"DepDel15\").cast(\"string\"))\n",
    "        .withColumn(\"ArrDel15\", F.col(\"ArrDel15\").cast(\"string\"))\n",
    "        .withColumn(\"Year\", F.col(\"Year\").cast(\"string\"))\n",
    "        .withColumn(\"Quarter\", F.col(\"Quarter\").cast(\"string\"))\n",
    "        .withColumn(\"Month\", F.col(\"Month\").cast(\"string\"))\n",
    "        .withColumn(\"DayofMonth\", F.col(\"DayofMonth\").cast(\"string\"))\n",
    "        .withColumn(\"DayofWeek\", F.col(\"DayofWeek\").cast(\"string\"))\n",
    "        .withColumn(\"PR_ARR_DEL15\", F.lag(F.col(\"ArrDel15\"), 1).over(windowSpec).cast(\"string\"))\n",
    "        .select(selected_col)\n",
    "    )\n",
    "cleaned_flight = flight_transform(flight)\n",
    "cleaned_flight.show(10)"
   ]
  },
  {
   "cell_type": "code",
   "execution_count": 12,
   "id": "9eb7d1d9-710d-498e-8673-c165d474a2a3",
   "metadata": {},
   "outputs": [
    {
     "name": "stdout",
     "output_type": "stream",
     "text": [
      "Total flight data number: 28,348,168\n"
     ]
    },
    {
     "name": "stderr",
     "output_type": "stream",
     "text": [
      "                                                                                \r"
     ]
    }
   ],
   "source": [
    "print('Total flight data number: ' + f'{cleaned_flight.count():,}')"
   ]
  },
  {
   "cell_type": "code",
   "execution_count": 13,
   "id": "1a51059a-c010-4a1f-a1f2-0b1ac273eae4",
   "metadata": {},
   "outputs": [
    {
     "name": "stdout",
     "output_type": "stream",
     "text": [
      "28348168\n"
     ]
    }
   ],
   "source": [
    "print(cleaned_flight.count())"
   ]
  },
  {
   "cell_type": "markdown",
   "id": "08a40d73-c5d8-46f7-9d20-c14a6d61aaf3",
   "metadata": {},
   "source": [
    "### Exploratory Data Analysis (EDA)"
   ]
  },
  {
   "cell_type": "markdown",
   "id": "1b79b7ac-d95d-441a-88c7-c8577c9e5ca4",
   "metadata": {},
   "source": [
    "##### 1. Basic Data Exploration"
   ]
  },
  {
   "cell_type": "code",
   "execution_count": 14,
   "id": "2405f8f3-bf75-4637-9e87-d040f74445c9",
   "metadata": {},
   "outputs": [
    {
     "name": "stdout",
     "output_type": "stream",
     "text": [
      "root\n",
      " |-- Year: string (nullable = true)\n",
      " |-- Quarter: string (nullable = true)\n",
      " |-- Month: string (nullable = true)\n",
      " |-- DayofMonth: string (nullable = true)\n",
      " |-- DayOfWeek: string (nullable = true)\n",
      " |-- FlightDate: date (nullable = true)\n",
      " |-- Operating_Airline: string (nullable = true)\n",
      " |-- Tail_Number: string (nullable = true)\n",
      " |-- Flight_Number_Operating_Airline: string (nullable = true)\n",
      " |-- Origin: string (nullable = true)\n",
      " |-- OriginCityName: string (nullable = true)\n",
      " |-- OriginState: string (nullable = true)\n",
      " |-- Dest: string (nullable = true)\n",
      " |-- DestCityName: string (nullable = true)\n",
      " |-- DestState: string (nullable = true)\n",
      " |-- CRSDepTime: long (nullable = true)\n",
      " |-- DepTime: integer (nullable = true)\n",
      " |-- DepDelayMinutes: double (nullable = true)\n",
      " |-- DepTimeBlk: string (nullable = true)\n",
      " |-- CRSArrTime: long (nullable = true)\n",
      " |-- ArrTime: integer (nullable = true)\n",
      " |-- ArrDelayMinutes: double (nullable = true)\n",
      " |-- ArrTimeBlk: string (nullable = true)\n",
      " |-- Distance: double (nullable = true)\n",
      " |-- DistanceGroup: string (nullable = true)\n",
      " |-- DepDel15: string (nullable = true)\n",
      " |-- ArrDel15: string (nullable = true)\n",
      " |-- OriginAirportID: long (nullable = true)\n",
      " |-- DestAirportID: long (nullable = true)\n",
      " |-- PR_ARR_DEL15: string (nullable = true)\n",
      "\n"
     ]
    },
    {
     "name": "stderr",
     "output_type": "stream",
     "text": [
      "                                                                                \r"
     ]
    },
    {
     "name": "stdout",
     "output_type": "stream",
     "text": [
      "+-------+------------------+------------------+-----------------+------------------+------------------+-----------------+-----------+-------------------------------+--------+--------------+-----------+--------+------------+---------+-----------------+------------------+------------------+----------+------------------+------------------+------------------+----------+-----------------+------------------+------------------+-------------------+------------------+------------------+-------------------+\n",
      "|summary|              Year|           Quarter|            Month|        DayofMonth|         DayOfWeek|Operating_Airline|Tail_Number|Flight_Number_Operating_Airline|  Origin|OriginCityName|OriginState|    Dest|DestCityName|DestState|       CRSDepTime|           DepTime|   DepDelayMinutes|DepTimeBlk|        CRSArrTime|           ArrTime|   ArrDelayMinutes|ArrTimeBlk|         Distance|     DistanceGroup|          DepDel15|           ArrDel15|   OriginAirportID|     DestAirportID|       PR_ARR_DEL15|\n",
      "+-------+------------------+------------------+-----------------+------------------+------------------+-----------------+-----------+-------------------------------+--------+--------------+-----------+--------+------------+---------+-----------------+------------------+------------------+----------+------------------+------------------+------------------+----------+-----------------+------------------+------------------+-------------------+------------------+------------------+-------------------+\n",
      "|  count|          28348168|          28348168|         28348168|          28348168|          28348168|         28348168|   28348149|                       28348168|28348168|      28348168|   28348168|28348168|    28348168| 28348168|         28348168|          28348168|          28347063|  28348168|          28348168|          28348168|          28347599|  28348168|         28348168|          28348168|          28347063|           28347599|          28348168|          28348168|           28340548|\n",
      "|   mean|2019.8230597123595|2.4619180329395536| 6.36945258684794|15.739512408703096|3.9748880068722605|             null|       null|              2686.802405502888|    null|          null|       null|    null|        null|     null|1325.313560509448|12.880048156903825|12.717679570543163|      null|1488.2135618428676|14.551381768303335|12.809917023307689|      null|781.4400993390473| 3.599978383082815|0.1722435583538231|0.17662070780668232|12677.523598420892|12677.983009484069|0.17661119326274144|\n",
      "| stddev|1.3458059784308185|1.1220665029170245|3.455939248893219| 8.764459304780772|2.0022487251947005|             null|       null|             1838.6668435798715|    null|          null|       null|    null|        null|     null|482.1187394815875| 5.021931045187212| 45.99345782368192|      null|506.92780695461306| 5.156088530047353|45.799592150703916|      null|582.7599408693411|2.2927434822513924|0.3775920020194854| 0.3813473987201731|1526.1931718406138|1526.4285717321914| 0.3813393302666324|\n",
      "|    min|              2018|                 1|                1|                 1|                 1|               9E|      202NV|                              1|     ABE|  Aberdeen, SD|         AK|     ABE|Aberdeen, SD|       AK|                1|                 0|               0.0| 0001-0559|                 1|                 0|               0.0| 0001-0559|             16.0|                 1|               0.0|                0.0|             10135|             10135|                0.0|\n",
      "|    max|              2022|                 4|                9|                 9|                 7|               ZW|       SS25|                            999|     YUM|      Yuma, AZ|         WY|     YUM|    Yuma, AZ|       WY|             2359|                23|            7223.0| 2300-2359|              2400|                23|            7232.0| 2300-2359|           5812.0|                 9|               1.0|                1.0|             16869|             16869|                1.0|\n",
      "+-------+------------------+------------------+-----------------+------------------+------------------+-----------------+-----------+-------------------------------+--------+--------------+-----------+--------+------------+---------+-----------------+------------------+------------------+----------+------------------+------------------+------------------+----------+-----------------+------------------+------------------+-------------------+------------------+------------------+-------------------+\n",
      "\n"
     ]
    }
   ],
   "source": [
    "cleaned_flight.printSchema()\n",
    "\n",
    "cleaned_flight.describe().show()"
   ]
  },
  {
   "cell_type": "markdown",
   "id": "e84cf371-6fd4-4111-88f1-aa69b6d46ea7",
   "metadata": {},
   "source": [
    "##### 2. Exploring Specific Columns"
   ]
  },
  {
   "cell_type": "code",
   "execution_count": 15,
   "id": "5b0b488c-3430-4694-a2cf-5621d3d4f935",
   "metadata": {},
   "outputs": [
    {
     "name": "stderr",
     "output_type": "stream",
     "text": [
      "                                                                                \r"
     ]
    },
    {
     "name": "stdout",
     "output_type": "stream",
     "text": [
      "+-------+------------------+------------------+-------------------+-------------------+\n",
      "|summary|   DepDelayMinutes|   ArrDelayMinutes|           DepDel15|           ArrDel15|\n",
      "+-------+------------------+------------------+-------------------+-------------------+\n",
      "|  count|          28347063|          28347599|           28347063|           28347599|\n",
      "|   mean|12.717679570543163|12.809917023307689| 0.1722435583538231|0.17662070780668232|\n",
      "| stddev|45.993457823681524| 45.79959215070429|0.37759200201948595|0.38134739872017354|\n",
      "|    min|               0.0|               0.0|                0.0|                0.0|\n",
      "|    25%|               0.0|               0.0|                0.0|                0.0|\n",
      "|    50%|               0.0|               0.0|                0.0|                0.0|\n",
      "|    75%|               5.0|               6.0|                0.0|                0.0|\n",
      "|    max|            7223.0|            7232.0|                1.0|                1.0|\n",
      "+-------+------------------+------------------+-------------------+-------------------+\n",
      "\n"
     ]
    },
    {
     "name": "stderr",
     "output_type": "stream",
     "text": [
      "                                                                                \r"
     ]
    },
    {
     "name": "stdout",
     "output_type": "stream",
     "text": [
      "Missing values in DepDelayMinutes: 1105\n",
      "Missing values in ArrDelayMinutes: 569\n"
     ]
    },
    {
     "name": "stderr",
     "output_type": "stream",
     "text": [
      "                                                                                \r"
     ]
    },
    {
     "name": "stdout",
     "output_type": "stream",
     "text": [
      "Missing values in DepDel15: 1105\n"
     ]
    },
    {
     "name": "stderr",
     "output_type": "stream",
     "text": [
      "[Stage 46:=============================================>          (27 + 6) / 33]\r"
     ]
    },
    {
     "name": "stdout",
     "output_type": "stream",
     "text": [
      "Missing values in ArrDel15: 569\n"
     ]
    },
    {
     "name": "stderr",
     "output_type": "stream",
     "text": [
      "                                                                                \r"
     ]
    }
   ],
   "source": [
    "from pyspark.sql.functions import col\n",
    "\n",
    "# Selecting specific columns for analysis\n",
    "delay_columns = ['DepDelayMinutes', 'ArrDelayMinutes', 'DepDel15', 'ArrDel15']\n",
    "cleaned_flight.select(delay_columns).summary().show()\n",
    "\n",
    "# Count of null or missing values\n",
    "for column in delay_columns:\n",
    "    missing_count = cleaned_flight.filter(col(column).isNull()).count()\n",
    "    print(f\"Missing values in {column}: {missing_count}\")"
   ]
  },
  {
   "cell_type": "markdown",
   "id": "4231e0db-75d1-4e72-adef-0e92e51c334d",
   "metadata": {},
   "source": [
    "###### Count: Indicates the number of records. There are over 28 million records for each variable, which is a substantial dataset.\n",
    "\n",
    "###### Mean: The average DepDelayMinutes and ArrDelayMinutes are approximately 12.7 and 12.8 minutes, respectively. This suggests that on average, flights have a slight delay. The mean values for DepDel15 and ArrDel15 are close to 0.17 and 0.18, respectively, indicating that around 17-18% of flights are delayed by more than 15 minutes either on departure or arrival.\n",
    "\n",
    "###### Standard Deviation (stddev): The standard deviations for both DepDelayMinutes and ArrDelayMinutes are around 46 minutes, which is quite high. This large deviation indicates a wide spread in the delay times, with some flights experiencing significantly higher delays than the average.\n",
    "\n",
    "###### Minimum (min): The minimum values for all columns are 0. This is expected as the minimum delay time and delay indicator can't be less than 0.\n",
    "\n",
    "###### Percentiles (25%, 50%, 75%): These values give a sense of the distribution. For both delay minutes, the 25th and 50th percentiles are 0, which means that at least half of the flights are on time or early. The 75th percentile is 5 minutes for departure delays and 6 minutes for arrival delays, indicating that 75% of flights have delays within these bounds.\n",
    "\n",
    "###### Maximum (max): The maximum values for DepDelayMinutes and ArrDelayMinutes are over 7200 minutes, which is extremely high. These could be outliers or special cases where flights were delayed for extraordinary reasons.\n",
    "\n",
    "###### Insights: A significant portion of flights (about 17-18%) experience delays of more than 15 minutes. While the average delay is around 12-13 minutes, the wide standard deviation suggests that the flight delay times vary greatly. The majority of flights are on time or have minimal delays, as indicated by the 25th and 50th percentile values. There are extreme cases of delays, as seen in the maximum values, but these are not the norm."
   ]
  },
  {
   "cell_type": "markdown",
   "id": "61164ad4-3ec0-4ee9-9203-71c8cc0c2105",
   "metadata": {},
   "source": [
    "##### 3. Visualizations"
   ]
  },
  {
   "cell_type": "code",
   "execution_count": null,
   "id": "86bc2e3d-8497-404b-a14f-bfe8132fd0e2",
   "metadata": {},
   "outputs": [
    {
     "name": "stderr",
     "output_type": "stream",
     "text": [
      "                                                                                \r"
     ]
    },
    {
     "ename": "KeyboardInterrupt",
     "evalue": "",
     "output_type": "error",
     "traceback": [
      "\u001b[0;31m---------------------------------------------------------------------------\u001b[0m",
      "\u001b[0;31mKeyboardInterrupt\u001b[0m                         Traceback (most recent call last)",
      "Cell \u001b[0;32mIn[22], line 11\u001b[0m\n\u001b[1;32m      8\u001b[0m \u001b[38;5;66;03m# Set the aesthetics for the plot\u001b[39;00m\n\u001b[1;32m      9\u001b[0m sns\u001b[38;5;241m.\u001b[39mset(style\u001b[38;5;241m=\u001b[39m\u001b[38;5;124m\"\u001b[39m\u001b[38;5;124mwhitegrid\u001b[39m\u001b[38;5;124m\"\u001b[39m, palette\u001b[38;5;241m=\u001b[39m\u001b[38;5;124m\"\u001b[39m\u001b[38;5;124mmuted\u001b[39m\u001b[38;5;124m\"\u001b[39m)\n\u001b[0;32m---> 11\u001b[0m pair_plot \u001b[38;5;241m=\u001b[39m \u001b[43msns\u001b[49m\u001b[38;5;241;43m.\u001b[39;49m\u001b[43mpairplot\u001b[49m\u001b[43m(\u001b[49m\u001b[43mpdf\u001b[49m\u001b[43m)\u001b[49m\n\u001b[1;32m     13\u001b[0m \u001b[38;5;66;03m# Enhancing the plot\u001b[39;00m\n\u001b[1;32m     14\u001b[0m pair_plot\u001b[38;5;241m.\u001b[39mfig\u001b[38;5;241m.\u001b[39msuptitle(\u001b[38;5;124m\"\u001b[39m\u001b[38;5;124mPairplot of Delay Columns\u001b[39m\u001b[38;5;124m\"\u001b[39m, y\u001b[38;5;241m=\u001b[39m\u001b[38;5;241m1.02\u001b[39m)\n",
      "File \u001b[0;32m/opt/conda/miniconda3/lib/python3.8/site-packages/seaborn/_decorators.py:46\u001b[0m, in \u001b[0;36m_deprecate_positional_args.<locals>.inner_f\u001b[0;34m(*args, **kwargs)\u001b[0m\n\u001b[1;32m     36\u001b[0m     warnings\u001b[38;5;241m.\u001b[39mwarn(\n\u001b[1;32m     37\u001b[0m         \u001b[38;5;124m\"\u001b[39m\u001b[38;5;124mPass the following variable\u001b[39m\u001b[38;5;132;01m{}\u001b[39;00m\u001b[38;5;124m as \u001b[39m\u001b[38;5;132;01m{}\u001b[39;00m\u001b[38;5;124mkeyword arg\u001b[39m\u001b[38;5;132;01m{}\u001b[39;00m\u001b[38;5;124m: \u001b[39m\u001b[38;5;132;01m{}\u001b[39;00m\u001b[38;5;124m. \u001b[39m\u001b[38;5;124m\"\u001b[39m\n\u001b[1;32m     38\u001b[0m         \u001b[38;5;124m\"\u001b[39m\u001b[38;5;124mFrom version 0.12, the only valid positional argument \u001b[39m\u001b[38;5;124m\"\u001b[39m\n\u001b[0;32m   (...)\u001b[0m\n\u001b[1;32m     43\u001b[0m         \u001b[38;5;167;01mFutureWarning\u001b[39;00m\n\u001b[1;32m     44\u001b[0m     )\n\u001b[1;32m     45\u001b[0m kwargs\u001b[38;5;241m.\u001b[39mupdate({k: arg \u001b[38;5;28;01mfor\u001b[39;00m k, arg \u001b[38;5;129;01min\u001b[39;00m \u001b[38;5;28mzip\u001b[39m(sig\u001b[38;5;241m.\u001b[39mparameters, args)})\n\u001b[0;32m---> 46\u001b[0m \u001b[38;5;28;01mreturn\u001b[39;00m \u001b[43mf\u001b[49m\u001b[43m(\u001b[49m\u001b[38;5;241;43m*\u001b[39;49m\u001b[38;5;241;43m*\u001b[39;49m\u001b[43mkwargs\u001b[49m\u001b[43m)\u001b[49m\n",
      "File \u001b[0;32m/opt/conda/miniconda3/lib/python3.8/site-packages/seaborn/axisgrid.py:2126\u001b[0m, in \u001b[0;36mpairplot\u001b[0;34m(data, hue, hue_order, palette, vars, x_vars, y_vars, kind, diag_kind, markers, height, aspect, corner, dropna, plot_kws, diag_kws, grid_kws, size)\u001b[0m\n\u001b[1;32m   2124\u001b[0m diag_kws\u001b[38;5;241m.\u001b[39msetdefault(\u001b[38;5;124m\"\u001b[39m\u001b[38;5;124mlegend\u001b[39m\u001b[38;5;124m\"\u001b[39m, \u001b[38;5;28;01mFalse\u001b[39;00m)\n\u001b[1;32m   2125\u001b[0m \u001b[38;5;28;01mif\u001b[39;00m diag_kind \u001b[38;5;241m==\u001b[39m \u001b[38;5;124m\"\u001b[39m\u001b[38;5;124mhist\u001b[39m\u001b[38;5;124m\"\u001b[39m:\n\u001b[0;32m-> 2126\u001b[0m     \u001b[43mgrid\u001b[49m\u001b[38;5;241;43m.\u001b[39;49m\u001b[43mmap_diag\u001b[49m\u001b[43m(\u001b[49m\u001b[43mhistplot\u001b[49m\u001b[43m,\u001b[49m\u001b[43m \u001b[49m\u001b[38;5;241;43m*\u001b[39;49m\u001b[38;5;241;43m*\u001b[39;49m\u001b[43mdiag_kws\u001b[49m\u001b[43m)\u001b[49m\n\u001b[1;32m   2127\u001b[0m \u001b[38;5;28;01melif\u001b[39;00m diag_kind \u001b[38;5;241m==\u001b[39m \u001b[38;5;124m\"\u001b[39m\u001b[38;5;124mkde\u001b[39m\u001b[38;5;124m\"\u001b[39m:\n\u001b[1;32m   2128\u001b[0m     diag_kws\u001b[38;5;241m.\u001b[39msetdefault(\u001b[38;5;124m\"\u001b[39m\u001b[38;5;124mfill\u001b[39m\u001b[38;5;124m\"\u001b[39m, \u001b[38;5;28;01mTrue\u001b[39;00m)\n",
      "File \u001b[0;32m/opt/conda/miniconda3/lib/python3.8/site-packages/seaborn/axisgrid.py:1478\u001b[0m, in \u001b[0;36mPairGrid.map_diag\u001b[0;34m(self, func, **kwargs)\u001b[0m\n\u001b[1;32m   1476\u001b[0m     plot_kwargs\u001b[38;5;241m.\u001b[39msetdefault(\u001b[38;5;124m\"\u001b[39m\u001b[38;5;124mhue_order\u001b[39m\u001b[38;5;124m\"\u001b[39m, \u001b[38;5;28mself\u001b[39m\u001b[38;5;241m.\u001b[39m_hue_order)\n\u001b[1;32m   1477\u001b[0m     plot_kwargs\u001b[38;5;241m.\u001b[39msetdefault(\u001b[38;5;124m\"\u001b[39m\u001b[38;5;124mpalette\u001b[39m\u001b[38;5;124m\"\u001b[39m, \u001b[38;5;28mself\u001b[39m\u001b[38;5;241m.\u001b[39m_orig_palette)\n\u001b[0;32m-> 1478\u001b[0m     \u001b[43mfunc\u001b[49m\u001b[43m(\u001b[49m\u001b[43mx\u001b[49m\u001b[38;5;241;43m=\u001b[39;49m\u001b[43mvector\u001b[49m\u001b[43m,\u001b[49m\u001b[43m \u001b[49m\u001b[38;5;241;43m*\u001b[39;49m\u001b[38;5;241;43m*\u001b[39;49m\u001b[43mplot_kwargs\u001b[49m\u001b[43m)\u001b[49m\n\u001b[1;32m   1479\u001b[0m     ax\u001b[38;5;241m.\u001b[39mlegend_ \u001b[38;5;241m=\u001b[39m \u001b[38;5;28;01mNone\u001b[39;00m\n\u001b[1;32m   1481\u001b[0m \u001b[38;5;28mself\u001b[39m\u001b[38;5;241m.\u001b[39m_add_axis_labels()\n",
      "File \u001b[0;32m/opt/conda/miniconda3/lib/python3.8/site-packages/seaborn/distributions.py:1462\u001b[0m, in \u001b[0;36mhistplot\u001b[0;34m(data, x, y, hue, weights, stat, bins, binwidth, binrange, discrete, cumulative, common_bins, common_norm, multiple, element, fill, shrink, kde, kde_kws, line_kws, thresh, pthresh, pmax, cbar, cbar_ax, cbar_kws, palette, hue_order, hue_norm, color, log_scale, legend, ax, **kwargs)\u001b[0m\n\u001b[1;32m   1451\u001b[0m estimate_kws \u001b[38;5;241m=\u001b[39m \u001b[38;5;28mdict\u001b[39m(\n\u001b[1;32m   1452\u001b[0m     stat\u001b[38;5;241m=\u001b[39mstat,\n\u001b[1;32m   1453\u001b[0m     bins\u001b[38;5;241m=\u001b[39mbins,\n\u001b[0;32m   (...)\u001b[0m\n\u001b[1;32m   1457\u001b[0m     cumulative\u001b[38;5;241m=\u001b[39mcumulative,\n\u001b[1;32m   1458\u001b[0m )\n\u001b[1;32m   1460\u001b[0m \u001b[38;5;28;01mif\u001b[39;00m p\u001b[38;5;241m.\u001b[39munivariate:\n\u001b[0;32m-> 1462\u001b[0m     \u001b[43mp\u001b[49m\u001b[38;5;241;43m.\u001b[39;49m\u001b[43mplot_univariate_histogram\u001b[49m\u001b[43m(\u001b[49m\n\u001b[1;32m   1463\u001b[0m \u001b[43m        \u001b[49m\u001b[43mmultiple\u001b[49m\u001b[38;5;241;43m=\u001b[39;49m\u001b[43mmultiple\u001b[49m\u001b[43m,\u001b[49m\n\u001b[1;32m   1464\u001b[0m \u001b[43m        \u001b[49m\u001b[43melement\u001b[49m\u001b[38;5;241;43m=\u001b[39;49m\u001b[43melement\u001b[49m\u001b[43m,\u001b[49m\n\u001b[1;32m   1465\u001b[0m \u001b[43m        \u001b[49m\u001b[43mfill\u001b[49m\u001b[38;5;241;43m=\u001b[39;49m\u001b[43mfill\u001b[49m\u001b[43m,\u001b[49m\n\u001b[1;32m   1466\u001b[0m \u001b[43m        \u001b[49m\u001b[43mshrink\u001b[49m\u001b[38;5;241;43m=\u001b[39;49m\u001b[43mshrink\u001b[49m\u001b[43m,\u001b[49m\n\u001b[1;32m   1467\u001b[0m \u001b[43m        \u001b[49m\u001b[43mcommon_norm\u001b[49m\u001b[38;5;241;43m=\u001b[39;49m\u001b[43mcommon_norm\u001b[49m\u001b[43m,\u001b[49m\n\u001b[1;32m   1468\u001b[0m \u001b[43m        \u001b[49m\u001b[43mcommon_bins\u001b[49m\u001b[38;5;241;43m=\u001b[39;49m\u001b[43mcommon_bins\u001b[49m\u001b[43m,\u001b[49m\n\u001b[1;32m   1469\u001b[0m \u001b[43m        \u001b[49m\u001b[43mkde\u001b[49m\u001b[38;5;241;43m=\u001b[39;49m\u001b[43mkde\u001b[49m\u001b[43m,\u001b[49m\n\u001b[1;32m   1470\u001b[0m \u001b[43m        \u001b[49m\u001b[43mkde_kws\u001b[49m\u001b[38;5;241;43m=\u001b[39;49m\u001b[43mkde_kws\u001b[49m\u001b[43m,\u001b[49m\n\u001b[1;32m   1471\u001b[0m \u001b[43m        \u001b[49m\u001b[43mcolor\u001b[49m\u001b[38;5;241;43m=\u001b[39;49m\u001b[43mcolor\u001b[49m\u001b[43m,\u001b[49m\n\u001b[1;32m   1472\u001b[0m \u001b[43m        \u001b[49m\u001b[43mlegend\u001b[49m\u001b[38;5;241;43m=\u001b[39;49m\u001b[43mlegend\u001b[49m\u001b[43m,\u001b[49m\n\u001b[1;32m   1473\u001b[0m \u001b[43m        \u001b[49m\u001b[43mestimate_kws\u001b[49m\u001b[38;5;241;43m=\u001b[39;49m\u001b[43mestimate_kws\u001b[49m\u001b[43m,\u001b[49m\n\u001b[1;32m   1474\u001b[0m \u001b[43m        \u001b[49m\u001b[43mline_kws\u001b[49m\u001b[38;5;241;43m=\u001b[39;49m\u001b[43mline_kws\u001b[49m\u001b[43m,\u001b[49m\n\u001b[1;32m   1475\u001b[0m \u001b[43m        \u001b[49m\u001b[38;5;241;43m*\u001b[39;49m\u001b[38;5;241;43m*\u001b[39;49m\u001b[43mkwargs\u001b[49m\u001b[43m,\u001b[49m\n\u001b[1;32m   1476\u001b[0m \u001b[43m    \u001b[49m\u001b[43m)\u001b[49m\n\u001b[1;32m   1478\u001b[0m \u001b[38;5;28;01melse\u001b[39;00m:\n\u001b[1;32m   1480\u001b[0m     p\u001b[38;5;241m.\u001b[39mplot_bivariate_histogram(\n\u001b[1;32m   1481\u001b[0m         common_bins\u001b[38;5;241m=\u001b[39mcommon_bins,\n\u001b[1;32m   1482\u001b[0m         common_norm\u001b[38;5;241m=\u001b[39mcommon_norm,\n\u001b[0;32m   (...)\u001b[0m\n\u001b[1;32m   1492\u001b[0m         \u001b[38;5;241m*\u001b[39m\u001b[38;5;241m*\u001b[39mkwargs,\n\u001b[1;32m   1493\u001b[0m     )\n",
      "File \u001b[0;32m/opt/conda/miniconda3/lib/python3.8/site-packages/seaborn/distributions.py:565\u001b[0m, in \u001b[0;36m_DistributionPlotter.plot_univariate_histogram\u001b[0;34m(self, multiple, element, fill, common_norm, common_bins, shrink, kde, kde_kws, color, legend, line_kws, estimate_kws, **plot_kws)\u001b[0m\n\u001b[1;32m    560\u001b[0m \u001b[38;5;28;01mif\u001b[39;00m element \u001b[38;5;241m==\u001b[39m \u001b[38;5;124m\"\u001b[39m\u001b[38;5;124mbars\u001b[39m\u001b[38;5;124m\"\u001b[39m:\n\u001b[1;32m    561\u001b[0m \n\u001b[1;32m    562\u001b[0m     \u001b[38;5;66;03m# Use matplotlib bar plotting\u001b[39;00m\n\u001b[1;32m    564\u001b[0m     plot_func \u001b[38;5;241m=\u001b[39m ax\u001b[38;5;241m.\u001b[39mbar \u001b[38;5;28;01mif\u001b[39;00m \u001b[38;5;28mself\u001b[39m\u001b[38;5;241m.\u001b[39mdata_variable \u001b[38;5;241m==\u001b[39m \u001b[38;5;124m\"\u001b[39m\u001b[38;5;124mx\u001b[39m\u001b[38;5;124m\"\u001b[39m \u001b[38;5;28;01melse\u001b[39;00m ax\u001b[38;5;241m.\u001b[39mbarh\n\u001b[0;32m--> 565\u001b[0m     artists \u001b[38;5;241m=\u001b[39m \u001b[43mplot_func\u001b[49m\u001b[43m(\u001b[49m\n\u001b[1;32m    566\u001b[0m \u001b[43m        \u001b[49m\u001b[43mhist\u001b[49m\u001b[43m[\u001b[49m\u001b[38;5;124;43m\"\u001b[39;49m\u001b[38;5;124;43medges\u001b[39;49m\u001b[38;5;124;43m\"\u001b[39;49m\u001b[43m]\u001b[49m\u001b[43m,\u001b[49m\n\u001b[1;32m    567\u001b[0m \u001b[43m        \u001b[49m\u001b[43mhist\u001b[49m\u001b[43m[\u001b[49m\u001b[38;5;124;43m\"\u001b[39;49m\u001b[38;5;124;43mheights\u001b[39;49m\u001b[38;5;124;43m\"\u001b[39;49m\u001b[43m]\u001b[49m\u001b[43m \u001b[49m\u001b[38;5;241;43m-\u001b[39;49m\u001b[43m \u001b[49m\u001b[43mbottom\u001b[49m\u001b[43m,\u001b[49m\n\u001b[1;32m    568\u001b[0m \u001b[43m        \u001b[49m\u001b[43mhist\u001b[49m\u001b[43m[\u001b[49m\u001b[38;5;124;43m\"\u001b[39;49m\u001b[38;5;124;43mwidths\u001b[39;49m\u001b[38;5;124;43m\"\u001b[39;49m\u001b[43m]\u001b[49m\u001b[43m,\u001b[49m\n\u001b[1;32m    569\u001b[0m \u001b[43m        \u001b[49m\u001b[43mbottom\u001b[49m\u001b[43m,\u001b[49m\n\u001b[1;32m    570\u001b[0m \u001b[43m        \u001b[49m\u001b[43malign\u001b[49m\u001b[38;5;241;43m=\u001b[39;49m\u001b[38;5;124;43m\"\u001b[39;49m\u001b[38;5;124;43medge\u001b[39;49m\u001b[38;5;124;43m\"\u001b[39;49m\u001b[43m,\u001b[49m\n\u001b[1;32m    571\u001b[0m \u001b[43m        \u001b[49m\u001b[38;5;241;43m*\u001b[39;49m\u001b[38;5;241;43m*\u001b[39;49m\u001b[43martist_kws\u001b[49m\u001b[43m,\u001b[49m\n\u001b[1;32m    572\u001b[0m \u001b[43m    \u001b[49m\u001b[43m)\u001b[49m\n\u001b[1;32m    573\u001b[0m     \u001b[38;5;28;01mfor\u001b[39;00m bar \u001b[38;5;129;01min\u001b[39;00m artists:\n\u001b[1;32m    574\u001b[0m         \u001b[38;5;28;01mif\u001b[39;00m \u001b[38;5;28mself\u001b[39m\u001b[38;5;241m.\u001b[39mdata_variable \u001b[38;5;241m==\u001b[39m \u001b[38;5;124m\"\u001b[39m\u001b[38;5;124mx\u001b[39m\u001b[38;5;124m\"\u001b[39m:\n",
      "File \u001b[0;32m/opt/conda/miniconda3/lib/python3.8/site-packages/matplotlib/__init__.py:1361\u001b[0m, in \u001b[0;36m_preprocess_data.<locals>.inner\u001b[0;34m(ax, data, *args, **kwargs)\u001b[0m\n\u001b[1;32m   1358\u001b[0m \u001b[38;5;129m@functools\u001b[39m\u001b[38;5;241m.\u001b[39mwraps(func)\n\u001b[1;32m   1359\u001b[0m \u001b[38;5;28;01mdef\u001b[39;00m \u001b[38;5;21minner\u001b[39m(ax, \u001b[38;5;241m*\u001b[39margs, data\u001b[38;5;241m=\u001b[39m\u001b[38;5;28;01mNone\u001b[39;00m, \u001b[38;5;241m*\u001b[39m\u001b[38;5;241m*\u001b[39mkwargs):\n\u001b[1;32m   1360\u001b[0m     \u001b[38;5;28;01mif\u001b[39;00m data \u001b[38;5;129;01mis\u001b[39;00m \u001b[38;5;28;01mNone\u001b[39;00m:\n\u001b[0;32m-> 1361\u001b[0m         \u001b[38;5;28;01mreturn\u001b[39;00m \u001b[43mfunc\u001b[49m\u001b[43m(\u001b[49m\u001b[43max\u001b[49m\u001b[43m,\u001b[49m\u001b[43m \u001b[49m\u001b[38;5;241;43m*\u001b[39;49m\u001b[38;5;28;43mmap\u001b[39;49m\u001b[43m(\u001b[49m\u001b[43msanitize_sequence\u001b[49m\u001b[43m,\u001b[49m\u001b[43m \u001b[49m\u001b[43margs\u001b[49m\u001b[43m)\u001b[49m\u001b[43m,\u001b[49m\u001b[43m \u001b[49m\u001b[38;5;241;43m*\u001b[39;49m\u001b[38;5;241;43m*\u001b[39;49m\u001b[43mkwargs\u001b[49m\u001b[43m)\u001b[49m\n\u001b[1;32m   1363\u001b[0m     bound \u001b[38;5;241m=\u001b[39m new_sig\u001b[38;5;241m.\u001b[39mbind(ax, \u001b[38;5;241m*\u001b[39margs, \u001b[38;5;241m*\u001b[39m\u001b[38;5;241m*\u001b[39mkwargs)\n\u001b[1;32m   1364\u001b[0m     auto_label \u001b[38;5;241m=\u001b[39m (bound\u001b[38;5;241m.\u001b[39marguments\u001b[38;5;241m.\u001b[39mget(label_namer)\n\u001b[1;32m   1365\u001b[0m                   \u001b[38;5;129;01mor\u001b[39;00m bound\u001b[38;5;241m.\u001b[39mkwargs\u001b[38;5;241m.\u001b[39mget(label_namer))\n",
      "File \u001b[0;32m/opt/conda/miniconda3/lib/python3.8/site-packages/matplotlib/axes/_axes.py:2357\u001b[0m, in \u001b[0;36mAxes.bar\u001b[0;34m(self, x, height, width, bottom, align, **kwargs)\u001b[0m\n\u001b[1;32m   2354\u001b[0m args \u001b[38;5;241m=\u001b[39m \u001b[38;5;28mzip\u001b[39m(left, bottom, width, height, color, edgecolor, linewidth,\n\u001b[1;32m   2355\u001b[0m            hatch)\n\u001b[1;32m   2356\u001b[0m \u001b[38;5;28;01mfor\u001b[39;00m l, b, w, h, c, e, lw, htch \u001b[38;5;129;01min\u001b[39;00m args:\n\u001b[0;32m-> 2357\u001b[0m     r \u001b[38;5;241m=\u001b[39m \u001b[43mmpatches\u001b[49m\u001b[38;5;241;43m.\u001b[39;49m\u001b[43mRectangle\u001b[49m\u001b[43m(\u001b[49m\n\u001b[1;32m   2358\u001b[0m \u001b[43m        \u001b[49m\u001b[43mxy\u001b[49m\u001b[38;5;241;43m=\u001b[39;49m\u001b[43m(\u001b[49m\u001b[43ml\u001b[49m\u001b[43m,\u001b[49m\u001b[43m \u001b[49m\u001b[43mb\u001b[49m\u001b[43m)\u001b[49m\u001b[43m,\u001b[49m\u001b[43m \u001b[49m\u001b[43mwidth\u001b[49m\u001b[38;5;241;43m=\u001b[39;49m\u001b[43mw\u001b[49m\u001b[43m,\u001b[49m\u001b[43m \u001b[49m\u001b[43mheight\u001b[49m\u001b[38;5;241;43m=\u001b[39;49m\u001b[43mh\u001b[49m\u001b[43m,\u001b[49m\n\u001b[1;32m   2359\u001b[0m \u001b[43m        \u001b[49m\u001b[43mfacecolor\u001b[49m\u001b[38;5;241;43m=\u001b[39;49m\u001b[43mc\u001b[49m\u001b[43m,\u001b[49m\n\u001b[1;32m   2360\u001b[0m \u001b[43m        \u001b[49m\u001b[43medgecolor\u001b[49m\u001b[38;5;241;43m=\u001b[39;49m\u001b[43me\u001b[49m\u001b[43m,\u001b[49m\n\u001b[1;32m   2361\u001b[0m \u001b[43m        \u001b[49m\u001b[43mlinewidth\u001b[49m\u001b[38;5;241;43m=\u001b[39;49m\u001b[43mlw\u001b[49m\u001b[43m,\u001b[49m\n\u001b[1;32m   2362\u001b[0m \u001b[43m        \u001b[49m\u001b[43mlabel\u001b[49m\u001b[38;5;241;43m=\u001b[39;49m\u001b[38;5;124;43m'\u001b[39;49m\u001b[38;5;124;43m_nolegend_\u001b[39;49m\u001b[38;5;124;43m'\u001b[39;49m\u001b[43m,\u001b[49m\n\u001b[1;32m   2363\u001b[0m \u001b[43m        \u001b[49m\u001b[43mhatch\u001b[49m\u001b[38;5;241;43m=\u001b[39;49m\u001b[43mhtch\u001b[49m\u001b[43m,\u001b[49m\n\u001b[1;32m   2364\u001b[0m \u001b[43m        \u001b[49m\u001b[43m)\u001b[49m\n\u001b[1;32m   2365\u001b[0m     r\u001b[38;5;241m.\u001b[39mupdate(kwargs)\n\u001b[1;32m   2366\u001b[0m     r\u001b[38;5;241m.\u001b[39mget_path()\u001b[38;5;241m.\u001b[39m_interpolation_steps \u001b[38;5;241m=\u001b[39m \u001b[38;5;241m100\u001b[39m\n",
      "File \u001b[0;32m/opt/conda/miniconda3/lib/python3.8/site-packages/matplotlib/patches.py:752\u001b[0m, in \u001b[0;36mRectangle.__init__\u001b[0;34m(self, xy, width, height, angle, **kwargs)\u001b[0m\n\u001b[1;32m    733\u001b[0m \u001b[38;5;129m@docstring\u001b[39m\u001b[38;5;241m.\u001b[39mdedent_interpd\n\u001b[1;32m    734\u001b[0m \u001b[38;5;28;01mdef\u001b[39;00m \u001b[38;5;21m__init__\u001b[39m(\u001b[38;5;28mself\u001b[39m, xy, width, height, angle\u001b[38;5;241m=\u001b[39m\u001b[38;5;241m0.0\u001b[39m, \u001b[38;5;241m*\u001b[39m\u001b[38;5;241m*\u001b[39mkwargs):\n\u001b[1;32m    735\u001b[0m \u001b[38;5;250m    \u001b[39m\u001b[38;5;124;03m\"\"\"\u001b[39;00m\n\u001b[1;32m    736\u001b[0m \u001b[38;5;124;03m    Parameters\u001b[39;00m\n\u001b[1;32m    737\u001b[0m \u001b[38;5;124;03m    ----------\u001b[39;00m\n\u001b[0;32m   (...)\u001b[0m\n\u001b[1;32m    750\u001b[0m \u001b[38;5;124;03m        %(Patch_kwdoc)s\u001b[39;00m\n\u001b[1;32m    751\u001b[0m \u001b[38;5;124;03m    \"\"\"\u001b[39;00m\n\u001b[0;32m--> 752\u001b[0m     \u001b[38;5;28;43msuper\u001b[39;49m\u001b[43m(\u001b[49m\u001b[43m)\u001b[49m\u001b[38;5;241;43m.\u001b[39;49m\u001b[38;5;21;43m__init__\u001b[39;49m\u001b[43m(\u001b[49m\u001b[38;5;241;43m*\u001b[39;49m\u001b[38;5;241;43m*\u001b[39;49m\u001b[43mkwargs\u001b[49m\u001b[43m)\u001b[49m\n\u001b[1;32m    753\u001b[0m     \u001b[38;5;28mself\u001b[39m\u001b[38;5;241m.\u001b[39m_x0 \u001b[38;5;241m=\u001b[39m xy[\u001b[38;5;241m0\u001b[39m]\n\u001b[1;32m    754\u001b[0m     \u001b[38;5;28mself\u001b[39m\u001b[38;5;241m.\u001b[39m_y0 \u001b[38;5;241m=\u001b[39m xy[\u001b[38;5;241m1\u001b[39m]\n",
      "File \u001b[0;32m/opt/conda/miniconda3/lib/python3.8/site-packages/matplotlib/patches.py:93\u001b[0m, in \u001b[0;36mPatch.__init__\u001b[0;34m(self, edgecolor, facecolor, color, linewidth, linestyle, antialiased, hatch, fill, capstyle, joinstyle, **kwargs)\u001b[0m\n\u001b[1;32m     91\u001b[0m     \u001b[38;5;28mself\u001b[39m\u001b[38;5;241m.\u001b[39mset_color(color)\n\u001b[1;32m     92\u001b[0m \u001b[38;5;28;01melse\u001b[39;00m:\n\u001b[0;32m---> 93\u001b[0m     \u001b[38;5;28;43mself\u001b[39;49m\u001b[38;5;241;43m.\u001b[39;49m\u001b[43mset_edgecolor\u001b[49m\u001b[43m(\u001b[49m\u001b[43medgecolor\u001b[49m\u001b[43m)\u001b[49m\n\u001b[1;32m     94\u001b[0m     \u001b[38;5;28mself\u001b[39m\u001b[38;5;241m.\u001b[39mset_facecolor(facecolor)\n\u001b[1;32m     95\u001b[0m \u001b[38;5;66;03m# unscaled dashes.  Needed to scale dash patterns by lw\u001b[39;00m\n",
      "File \u001b[0;32m/opt/conda/miniconda3/lib/python3.8/site-packages/matplotlib/patches.py:350\u001b[0m, in \u001b[0;36mPatch.set_edgecolor\u001b[0;34m(self, color)\u001b[0m\n\u001b[1;32m    342\u001b[0m \u001b[38;5;250m\u001b[39m\u001b[38;5;124;03m\"\"\"\u001b[39;00m\n\u001b[1;32m    343\u001b[0m \u001b[38;5;124;03mSet the patch edge color.\u001b[39;00m\n\u001b[1;32m    344\u001b[0m \n\u001b[0;32m   (...)\u001b[0m\n\u001b[1;32m    347\u001b[0m \u001b[38;5;124;03mcolor : color or None or 'auto'\u001b[39;00m\n\u001b[1;32m    348\u001b[0m \u001b[38;5;124;03m\"\"\"\u001b[39;00m\n\u001b[1;32m    349\u001b[0m \u001b[38;5;28mself\u001b[39m\u001b[38;5;241m.\u001b[39m_original_edgecolor \u001b[38;5;241m=\u001b[39m color\n\u001b[0;32m--> 350\u001b[0m \u001b[38;5;28;43mself\u001b[39;49m\u001b[38;5;241;43m.\u001b[39;49m\u001b[43m_set_edgecolor\u001b[49m\u001b[43m(\u001b[49m\u001b[43mcolor\u001b[49m\u001b[43m)\u001b[49m\n",
      "File \u001b[0;32m/opt/conda/miniconda3/lib/python3.8/site-packages/matplotlib/patches.py:336\u001b[0m, in \u001b[0;36mPatch._set_edgecolor\u001b[0;34m(self, color)\u001b[0m\n\u001b[1;32m    333\u001b[0m         color \u001b[38;5;241m=\u001b[39m \u001b[38;5;124m'\u001b[39m\u001b[38;5;124mnone\u001b[39m\u001b[38;5;124m'\u001b[39m\n\u001b[1;32m    334\u001b[0m         set_hatch_color \u001b[38;5;241m=\u001b[39m \u001b[38;5;28;01mFalse\u001b[39;00m\n\u001b[0;32m--> 336\u001b[0m \u001b[38;5;28mself\u001b[39m\u001b[38;5;241m.\u001b[39m_edgecolor \u001b[38;5;241m=\u001b[39m \u001b[43mcolors\u001b[49m\u001b[38;5;241;43m.\u001b[39;49m\u001b[43mto_rgba\u001b[49m\u001b[43m(\u001b[49m\u001b[43mcolor\u001b[49m\u001b[43m,\u001b[49m\u001b[43m \u001b[49m\u001b[38;5;28;43mself\u001b[39;49m\u001b[38;5;241;43m.\u001b[39;49m\u001b[43m_alpha\u001b[49m\u001b[43m)\u001b[49m\n\u001b[1;32m    337\u001b[0m \u001b[38;5;28;01mif\u001b[39;00m set_hatch_color:\n\u001b[1;32m    338\u001b[0m     \u001b[38;5;28mself\u001b[39m\u001b[38;5;241m.\u001b[39m_hatch_color \u001b[38;5;241m=\u001b[39m \u001b[38;5;28mself\u001b[39m\u001b[38;5;241m.\u001b[39m_edgecolor\n",
      "File \u001b[0;32m/opt/conda/miniconda3/lib/python3.8/site-packages/matplotlib/colors.py:206\u001b[0m, in \u001b[0;36mto_rgba\u001b[0;34m(c, alpha)\u001b[0m\n\u001b[1;32m    204\u001b[0m     rgba \u001b[38;5;241m=\u001b[39m \u001b[38;5;28;01mNone\u001b[39;00m\n\u001b[1;32m    205\u001b[0m \u001b[38;5;28;01mif\u001b[39;00m rgba \u001b[38;5;129;01mis\u001b[39;00m \u001b[38;5;28;01mNone\u001b[39;00m:  \u001b[38;5;66;03m# Suppress exception chaining of cache lookup failure.\u001b[39;00m\n\u001b[0;32m--> 206\u001b[0m     rgba \u001b[38;5;241m=\u001b[39m \u001b[43m_to_rgba_no_colorcycle\u001b[49m\u001b[43m(\u001b[49m\u001b[43mc\u001b[49m\u001b[43m,\u001b[49m\u001b[43m \u001b[49m\u001b[43malpha\u001b[49m\u001b[43m)\u001b[49m\n\u001b[1;32m    207\u001b[0m     \u001b[38;5;28;01mtry\u001b[39;00m:\n\u001b[1;32m    208\u001b[0m         _colors_full_map\u001b[38;5;241m.\u001b[39mcache[c, alpha] \u001b[38;5;241m=\u001b[39m rgba\n",
      "File \u001b[0;32m/opt/conda/miniconda3/lib/python3.8/site-packages/matplotlib/colors.py:287\u001b[0m, in \u001b[0;36m_to_rgba_no_colorcycle\u001b[0;34m(c, alpha)\u001b[0m\n\u001b[1;32m    285\u001b[0m \u001b[38;5;28;01mif\u001b[39;00m \u001b[38;5;28mlen\u001b[39m(c) \u001b[38;5;129;01mnot\u001b[39;00m \u001b[38;5;129;01min\u001b[39;00m [\u001b[38;5;241m3\u001b[39m, \u001b[38;5;241m4\u001b[39m]:\n\u001b[1;32m    286\u001b[0m     \u001b[38;5;28;01mraise\u001b[39;00m \u001b[38;5;167;01mValueError\u001b[39;00m(\u001b[38;5;124m\"\u001b[39m\u001b[38;5;124mRGBA sequence should have length 3 or 4\u001b[39m\u001b[38;5;124m\"\u001b[39m)\n\u001b[0;32m--> 287\u001b[0m \u001b[38;5;28;01mif\u001b[39;00m \u001b[38;5;129;01mnot\u001b[39;00m \u001b[38;5;28;43mall\u001b[39;49m\u001b[43m(\u001b[49m\u001b[38;5;28;43misinstance\u001b[39;49m\u001b[43m(\u001b[49m\u001b[43mx\u001b[49m\u001b[43m,\u001b[49m\u001b[43m \u001b[49m\u001b[43mNumber\u001b[49m\u001b[43m)\u001b[49m\u001b[43m \u001b[49m\u001b[38;5;28;43;01mfor\u001b[39;49;00m\u001b[43m \u001b[49m\u001b[43mx\u001b[49m\u001b[43m \u001b[49m\u001b[38;5;129;43;01min\u001b[39;49;00m\u001b[43m \u001b[49m\u001b[43mc\u001b[49m\u001b[43m)\u001b[49m:\n\u001b[1;32m    288\u001b[0m     \u001b[38;5;66;03m# Checks that don't work: `map(float, ...)`, `np.array(..., float)` and\u001b[39;00m\n\u001b[1;32m    289\u001b[0m     \u001b[38;5;66;03m# `np.array(...).astype(float)` would all convert \"0.5\" to 0.5.\u001b[39;00m\n\u001b[1;32m    290\u001b[0m     \u001b[38;5;28;01mraise\u001b[39;00m \u001b[38;5;167;01mValueError\u001b[39;00m(\u001b[38;5;124mf\u001b[39m\u001b[38;5;124m\"\u001b[39m\u001b[38;5;124mInvalid RGBA argument: \u001b[39m\u001b[38;5;132;01m{\u001b[39;00morig_c\u001b[38;5;132;01m!r}\u001b[39;00m\u001b[38;5;124m\"\u001b[39m)\n\u001b[1;32m    291\u001b[0m \u001b[38;5;66;03m# Return a tuple to prevent the cached value from being modified.\u001b[39;00m\n",
      "File \u001b[0;32m/opt/conda/miniconda3/lib/python3.8/site-packages/matplotlib/colors.py:287\u001b[0m, in \u001b[0;36m<genexpr>\u001b[0;34m(.0)\u001b[0m\n\u001b[1;32m    285\u001b[0m \u001b[38;5;28;01mif\u001b[39;00m \u001b[38;5;28mlen\u001b[39m(c) \u001b[38;5;129;01mnot\u001b[39;00m \u001b[38;5;129;01min\u001b[39;00m [\u001b[38;5;241m3\u001b[39m, \u001b[38;5;241m4\u001b[39m]:\n\u001b[1;32m    286\u001b[0m     \u001b[38;5;28;01mraise\u001b[39;00m \u001b[38;5;167;01mValueError\u001b[39;00m(\u001b[38;5;124m\"\u001b[39m\u001b[38;5;124mRGBA sequence should have length 3 or 4\u001b[39m\u001b[38;5;124m\"\u001b[39m)\n\u001b[0;32m--> 287\u001b[0m \u001b[38;5;28;01mif\u001b[39;00m \u001b[38;5;129;01mnot\u001b[39;00m \u001b[38;5;28mall\u001b[39m(\u001b[38;5;28misinstance\u001b[39m(x, Number) \u001b[38;5;28;01mfor\u001b[39;00m x \u001b[38;5;129;01min\u001b[39;00m c):\n\u001b[1;32m    288\u001b[0m     \u001b[38;5;66;03m# Checks that don't work: `map(float, ...)`, `np.array(..., float)` and\u001b[39;00m\n\u001b[1;32m    289\u001b[0m     \u001b[38;5;66;03m# `np.array(...).astype(float)` would all convert \"0.5\" to 0.5.\u001b[39;00m\n\u001b[1;32m    290\u001b[0m     \u001b[38;5;28;01mraise\u001b[39;00m \u001b[38;5;167;01mValueError\u001b[39;00m(\u001b[38;5;124mf\u001b[39m\u001b[38;5;124m\"\u001b[39m\u001b[38;5;124mInvalid RGBA argument: \u001b[39m\u001b[38;5;132;01m{\u001b[39;00morig_c\u001b[38;5;132;01m!r}\u001b[39;00m\u001b[38;5;124m\"\u001b[39m)\n\u001b[1;32m    291\u001b[0m \u001b[38;5;66;03m# Return a tuple to prevent the cached value from being modified.\u001b[39;00m\n",
      "\u001b[0;31mKeyboardInterrupt\u001b[0m: "
     ]
    }
   ],
   "source": [
    "import pandas as pd\n",
    "import matplotlib.pyplot as plt\n",
    "import seaborn as sns\n",
    "\n",
    "# Convert to Pandas DataFrame for visualization\n",
    "pdf = cleaned_flight.select(delay_columns).toPandas()\n",
    "\n",
    "# Set the aesthetics for the plot\n",
    "sns.set(style=\"whitegrid\", palette=\"muted\")\n",
    "\n",
    "pair_plot = sns.pairplot(pdf)\n",
    "\n",
    "# Enhancing the plot\n",
    "pair_plot.fig.suptitle(\"Pairplot of Delay Columns\", y=1.02)\n",
    "plt.show()"
   ]
  },
  {
   "cell_type": "code",
   "execution_count": null,
   "id": "6fb30e35-f428-4b53-9e25-1975f4753a88",
   "metadata": {},
   "outputs": [],
   "source": [
    "# Histograms for Delay Minutes\n",
    "\n",
    "import pandas as pd\n",
    "import matplotlib.pyplot as plt\n",
    "import seaborn as sns\n",
    "\n",
    "# Convert Spark DataFrame to Pandas DataFrame for visualization\n",
    "pdf = cleaned_flight.select('DepDelayMinutes', 'ArrDelayMinutes').toPandas()\n",
    "\n",
    "# Setting the aesthetics for the plots\n",
    "sns.set(style=\"whitegrid\")\n",
    "\n",
    "# Plotting histograms\n",
    "plt.figure(figsize=(12, 6))\n",
    "plt.subplot(1, 2, 1)\n",
    "sns.histplot(pdf['DepDelayMinutes'], kde=True, color=\"skyblue\")\n",
    "plt.title('Histogram of Departure Delay Minutes')\n",
    "plt.xlabel('Departure Delay Minutes')\n",
    "\n",
    "plt.subplot(1, 2, 2)\n",
    "sns.histplot(pdf['ArrDelayMinutes'], kde=True, color=\"olive\")\n",
    "plt.title('Histogram of Arrival Delay Minutes')\n",
    "plt.xlabel('Arrival Delay Minutes')\n",
    "\n",
    "plt.tight_layout()\n",
    "plt.show()"
   ]
  },
  {
   "cell_type": "code",
   "execution_count": null,
   "id": "5e3ad247-81b2-4f05-a01f-7e80a2971055",
   "metadata": {},
   "outputs": [],
   "source": [
    "# Boxplot for Delays by Day of Week\n",
    "\n",
    "# Convert to Pandas DataFrame\n",
    "pdf = cleaned_flight.select('DayOfWeek', 'DepDelayMinutes').toPandas()\n",
    "\n",
    "# Plotting\n",
    "plt.figure(figsize=(10, 6))\n",
    "sns.boxplot(x='DayOfWeek', y='DepDelayMinutes', data=pdf)\n",
    "plt.title('Boxplot of Departure Delays by Day of the Week')\n",
    "plt.xlabel('Day of the Week')\n",
    "plt.ylabel('Departure Delay Minutes')\n",
    "plt.show()\n"
   ]
  },
  {
   "cell_type": "code",
   "execution_count": null,
   "id": "e7c19937-ec60-4266-bbf7-70cebfc5e76f",
   "metadata": {},
   "outputs": [],
   "source": [
    "# Correlation Heatmap\n",
    "\n",
    "# Selecting numerical columns for correlation\n",
    "numerical_columns = ['DepDelayMinutes', 'ArrDelayMinutes', 'Distance']\n",
    "pdf = cleaned_flight.select(numerical_columns).toPandas()\n",
    "\n",
    "# Calculating correlation matrix\n",
    "corr = pdf.corr()\n",
    "\n",
    "# Plotting heatmap\n",
    "plt.figure(figsize=(8, 6))\n",
    "sns.heatmap(corr, annot=True, cmap='coolwarm')\n",
    "plt.title('Correlation Heatmap')\n",
    "plt.show()\n"
   ]
  },
  {
   "cell_type": "markdown",
   "id": "0318cbcd-8dfd-425a-9483-80a6f37b108f",
   "metadata": {},
   "source": [
    "##### 4. Handling Missing Values"
   ]
  },
  {
   "cell_type": "code",
   "execution_count": 17,
   "id": "b8a6d921-2fd8-4825-9b5a-c66fac937a0d",
   "metadata": {},
   "outputs": [],
   "source": [
    "# Dropping rows with missing values\n",
    "df_cleaned = cleaned_flight.na.drop()"
   ]
  },
  {
   "cell_type": "markdown",
   "id": "cff380dc-81c3-41ad-8946-1a0a53816203",
   "metadata": {},
   "source": [
    "##### 5. Other EDAS by Spark SQL"
   ]
  },
  {
   "cell_type": "code",
   "execution_count": 30,
   "id": "3048f02c-9849-4008-8f20-97479f7c7710",
   "metadata": {},
   "outputs": [
    {
     "name": "stderr",
     "output_type": "stream",
     "text": [
      "                                                                                \r"
     ]
    },
    {
     "name": "stdout",
     "output_type": "stream",
     "text": [
      "+-----+---------------------+-------------------+\n",
      "|Month|PercentDepartureDelay|PercentArrivalDelay|\n",
      "+-----+---------------------+-------------------+\n",
      "|    1|  0.15893798393703948|0.16317337376608004|\n",
      "|    2|  0.17761415956618684| 0.1883767959614755|\n",
      "|    3|  0.15272498584041627|0.15473127523139218|\n",
      "|    4|  0.16319015394403596|0.16484781761438647|\n",
      "|    5|   0.1780089724048895|0.17789705446561174|\n",
      "|    6|  0.22335016420395754|0.22400646140836084|\n",
      "|    7|   0.2096704173595077|0.21111079499653854|\n",
      "|    8|  0.19236699142069094|0.19864003645926173|\n",
      "|    9|  0.13191260557821521|0.13660891596358332|\n",
      "|   10|  0.15173813532956237|0.15834330052628515|\n",
      "|   11|  0.14434732735229214|0.14947426659206411|\n",
      "|   12|   0.1855811598674166|0.18972650431440988|\n",
      "+-----+---------------------+-------------------+\n",
      "\n"
     ]
    },
    {
     "name": "stderr",
     "output_type": "stream",
     "text": [
      "                                                                                \r"
     ]
    },
    {
     "name": "stdout",
     "output_type": "stream",
     "text": [
      "Index(['Month', 'PercentDepartureDelay', 'PercentArrivalDelay'], dtype='object')\n"
     ]
    },
    {
     "data": {
      "image/png": "[encoded data removed]",
      "text/plain": [
       "<Figure size 1200x600 with 1 Axes>"
      ]
     },
     "metadata": {},
     "output_type": "display_data"
    }
   ],
   "source": [
    "import matplotlib.pyplot as plt\n",
    "import pandas as pd\n",
    "\n",
    "# Execute the SQL query and store the result in a DataFrame\n",
    "query = \"\"\"\n",
    "SELECT\n",
    "  MONTH AS Month,\n",
    "  AVG(DepDel15) AS PercentDepartureDelay,\n",
    "  AVG(ArrDel15) AS PercentArrivalDelay\n",
    "FROM\n",
    "  flight\n",
    "GROUP BY\n",
    "  MONTH\n",
    "ORDER BY\n",
    "  MONTH\n",
    "\"\"\"\n",
    "\n",
    "result = spark.sql(query)\n",
    "\n",
    "# Show the result (for troubleshooting)\n",
    "result.show()\n",
    "\n",
    "# Convert the Spark DataFrame to a Pandas DataFrame\n",
    "result_df = result.toPandas()\n",
    "\n",
    "# Check the column names\n",
    "print(result_df.columns)\n",
    "\n",
    "# Plotting the double bar chart\n",
    "plt.figure(figsize=(12, 6))\n",
    "plt.bar(result_df['Month'], result_df['PercentDepartureDelay'], width=0.4, label='Departure Delay', align='center')\n",
    "plt.bar(result_df['Month'], result_df['PercentArrivalDelay'], width=0.4, label='Arrival Delay', align='edge')\n",
    "plt.xlabel('Month')\n",
    "plt.ylabel('Percentage Delay')\n",
    "plt.title('Percentage Departure and Arrival Delay by Month')\n",
    "plt.xticks(result_df['Month'])\n",
    "plt.legend()\n",
    "plt.show()\n"
   ]
  },
  {
   "cell_type": "code",
   "execution_count": 27,
   "id": "c491d4e9-e2b1-4f45-883f-9948e13b4d94",
   "metadata": {},
   "outputs": [
    {
     "name": "stderr",
     "output_type": "stream",
     "text": [
      "                                                                                \r"
     ]
    },
    {
     "name": "stdout",
     "output_type": "stream",
     "text": [
      "+---------+---------------------+-------------------+\n",
      "|DayOfWeek|PercentDepartureDelay|PercentArrivalDelay|\n",
      "+---------+---------------------+-------------------+\n",
      "|        1|  0.17765938473994264|0.18128379471929265|\n",
      "|        2|  0.15698755928444308|0.16070785454591602|\n",
      "|        3|  0.15665103844492764|0.16338703021882078|\n",
      "|        4|  0.18214422333291147|0.19019678790721362|\n",
      "|        5|  0.18854832203641966|0.19372796283629543|\n",
      "|        6|  0.16512435459239327| 0.1632071619703485|\n",
      "|        7|    0.179449111503669|0.18030493487327728|\n",
      "+---------+---------------------+-------------------+\n",
      "\n"
     ]
    },
    {
     "name": "stderr",
     "output_type": "stream",
     "text": [
      "                                                                                \r"
     ]
    },
    {
     "data": {
      "image/png": "[encoded data removed]",
      "text/plain": [
       "<Figure size 1000x600 with 1 Axes>"
      ]
     },
     "metadata": {},
     "output_type": "display_data"
    }
   ],
   "source": [
    "flight.createOrReplaceTempView(\"flight\")\n",
    "\n",
    "# Write and execute your SQL query with the correct column name\n",
    "query = \"\"\"\n",
    "SELECT\n",
    "  DayOfWeek,\n",
    "  AVG(DepDel15) AS PercentDepartureDelay,\n",
    "  AVG(ArrDel15) AS PercentArrivalDelay\n",
    "FROM\n",
    "  flight\n",
    "GROUP BY\n",
    "  DayOfWeek\n",
    "ORDER BY\n",
    "  DayOfWeek\n",
    "\"\"\"\n",
    "\n",
    "result = spark.sql(query)\n",
    "\n",
    "# Show the result\n",
    "result.show()\n",
    "\n",
    "# Convert the PySpark DataFrame to a Pandas DataFrame for easier plotting\n",
    "result_df = result.toPandas()\n",
    "\n",
    "# Set the figure size\n",
    "plt.figure(figsize=(10, 6))\n",
    "\n",
    "# Get the day of the week and two delay columns\n",
    "day_of_week = result_df['DayOfWeek']\n",
    "departure_delay = result_df['PercentDepartureDelay']\n",
    "arrival_delay = result_df['PercentArrivalDelay']\n",
    "\n",
    "# Set the width of the bars\n",
    "bar_width = 0.35\n",
    "\n",
    "# Create positions for the bars\n",
    "index = range(len(day_of_week))\n",
    "\n",
    "# Plot the departure delay bars\n",
    "plt.bar(index, departure_delay, bar_width, label='Departure Delay', color='b', alpha=0.7)\n",
    "\n",
    "# Plot the arrival delay bars next to departure delay\n",
    "plt.bar([i + bar_width for i in index], arrival_delay, bar_width, label='Arrival Delay', color='g', alpha=0.7)\n",
    "\n",
    "# Set the labels for the x-axis and rotate them for better readability\n",
    "plt.xlabel('Day of the Week')\n",
    "plt.xticks([i + bar_width / 2 for i in index], day_of_week, rotation=45)\n",
    "\n",
    "# Set the label for the y-axis\n",
    "plt.ylabel('Average Delay Percentage')\n",
    "\n",
    "# Set the title of the chart\n",
    "plt.title('Average Departure and Arrival Delay Percentage by Day of the Week')\n",
    "\n",
    "# Add a legend\n",
    "plt.legend()\n",
    "\n",
    "# Show the plot\n",
    "plt.tight_layout()\n",
    "plt.show()\n"
   ]
  },
  {
   "cell_type": "code",
   "execution_count": 40,
   "id": "b2baa4c6-9cdb-47ab-8817-2d93636b9611",
   "metadata": {},
   "outputs": [
    {
     "name": "stderr",
     "output_type": "stream",
     "text": [
      "                                                                                \r"
     ]
    },
    {
     "name": "stdout",
     "output_type": "stream",
     "text": [
      "+--------------------+---------------------+-------------------+\n",
      "|             Airline|PercentDepartureDelay|PercentArrivalDelay|\n",
      "+--------------------+---------------------+-------------------+\n",
      "|Peninsula Airways...|   0.3313584426576386| 0.3724378543392935|\n",
      "|     JetBlue Airways|   0.2559712614771274| 0.2560654332718499|\n",
      "|Frontier Airlines...|  0.24150100706199984|0.24292174526197638|\n",
      "|Commutair Aka Cha...|  0.23402215679825442| 0.2628661437624129|\n",
      "|Trans States Airl...|   0.2280441758270081|0.25638202087071427|\n",
      "|       Allegiant Air|  0.22535190160670512|0.24518292119772414|\n",
      "|Southwest Airline...|  0.21405413049011568|  0.181112993616926|\n",
      "|    Spirit Air Lines|  0.18374581172034501| 0.1909177816757022|\n",
      "|ExpressJet Airlin...|  0.18270179520787005| 0.2155240719497629|\n",
      "|GoJet Airlines, L...|  0.18150505624700813|0.19908022176708454|\n",
      "|American Airlines...|     0.17902136211956|0.18661751243288716|\n",
      "|      Virgin America|  0.17538568611529984|  0.200548009094619|\n",
      "|United Air Lines ...|  0.17405888736540448|0.18529587619189977|\n",
      "|  Mesa Airlines Inc.|   0.1735202513725355|0.19169641669253626|\n",
      "|    Compass Airlines|  0.16728204256876417|0.18166881590919504|\n",
      "|         Comair Inc.|  0.16281939181968327|0.17565905734565473|\n",
      "|Air Wisconsin Air...|   0.1605346516824503|0.18147947395508252|\n",
      "|SkyWest Airlines ...|   0.1492004384848832|0.16295041949138497|\n",
      "|           Envoy Air|   0.1473287914052746| 0.1739135901212694|\n",
      "|Empire Airlines Inc.|  0.14569627192982457|0.15779774245565537|\n",
      "+--------------------+---------------------+-------------------+\n",
      "only showing top 20 rows\n",
      "\n"
     ]
    },
    {
     "data": {
      "image/png": "[encoded data removed]",
      "text/plain": [
       "<Figure size 1200x600 with 1 Axes>"
      ]
     },
     "metadata": {},
     "output_type": "display_data"
    }
   ],
   "source": [
    "# Register the DataFrame as a temporary view\n",
    "flight.createOrReplaceTempView(\"flight\")\n",
    "\n",
    "# Write and execute your SQL query\n",
    "query = \"\"\"\n",
    "SELECT\n",
    "  Airline,\n",
    "  AVG(DepDel15) AS PercentDepartureDelay,\n",
    "  AVG(ArrDel15) AS PercentArrivalDelay\n",
    "FROM\n",
    "  flight\n",
    "GROUP BY\n",
    "  Airline\n",
    "ORDER BY\n",
    "  AVG(DepDel15) DESC\n",
    "\"\"\"\n",
    "\n",
    "result = spark.sql(query)\n",
    "\n",
    "# Optionally, convert the result to a Pandas DataFrame (if needed for visualization)\n",
    "result_df = result.toPandas()\n",
    "\n",
    "# Show the result (or further analyze/visualize it)\n",
    "result.show()\n",
    "\n",
    "# Plotting the double bar chart\n",
    "plt.figure(figsize=(12, 6))\n",
    "plt.bar(result_df['Airline'], result_df['PercentDepartureDelay'], width=0.4, label='Departure Delay', align='center')\n",
    "plt.bar(result_df['Airline'], result_df['PercentArrivalDelay'], width=0.4, label='Arrival Delay', align='edge')\n",
    "plt.xlabel('Airline')\n",
    "plt.ylabel('Percentage Delay')\n",
    "plt.title('Percentage Departure and Arrival Delay by Airline')\n",
    "plt.xticks(result_df['Airline'], rotation=90)  # Rotate x-axis labels for better readability\n",
    "plt.legend()\n",
    "plt.tight_layout()  # Adjust layout for better display\n",
    "plt.show()"
   ]
  },
  {
   "cell_type": "code",
   "execution_count": 57,
   "id": "ca0ec8d5-a387-4318-90df-a41ed5571fee",
   "metadata": {},
   "outputs": [
    {
     "name": "stderr",
     "output_type": "stream",
     "text": [
      "                                                                                \r"
     ]
    },
    {
     "name": "stdout",
     "output_type": "stream",
     "text": [
      "+------+---------------------+\n",
      "|Origin|PercentDepartureDelay|\n",
      "+------+---------------------+\n",
      "|   YNG|                  1.0|\n",
      "|   CDB|  0.43621399176954734|\n",
      "|   DUT|  0.39325842696629215|\n",
      "|   ADK|   0.3864168618266979|\n",
      "|   ILG|   0.3670886075949367|\n",
      "|   OGD|   0.3197278911564626|\n",
      "|   HYA|  0.31693989071038253|\n",
      "|   BIH|   0.3111888111888112|\n",
      "|   PPG|  0.30743243243243246|\n",
      "|   HGR|  0.30238393977415307|\n",
      "|   BQN|     0.29768177028451|\n",
      "|   SCK|  0.29009223445403154|\n",
      "|   LCK|  0.28985809682804675|\n",
      "|   BLV|   0.2810197171878112|\n",
      "|   MMH|   0.2695570216776626|\n",
      "|   MDW|  0.26735965443838466|\n",
      "|   OWB|   0.2662192393736018|\n",
      "|   PSM|   0.2610619469026549|\n",
      "|   DAL|    0.259072552075953|\n",
      "|   TTN|   0.2586903799514956|\n",
      "+------+---------------------+\n",
      "only showing top 20 rows\n",
      "\n"
     ]
    },
    {
     "data": {
      "image/png": "[encoded data removed]",
      "text/plain": [
       "<Figure size 1200x600 with 1 Axes>"
      ]
     },
     "metadata": {},
     "output_type": "display_data"
    }
   ],
   "source": [
    "# Register the DataFrame as a temporary view\n",
    "flight.createOrReplaceTempView(\"flight\")\n",
    "\n",
    "# Write and execute your SQL query\n",
    "query = \"\"\"\n",
    "SELECT\n",
    "  Origin,\n",
    "  AVG(DepDel15) AS PercentDepartureDelay\n",
    "FROM\n",
    "  flight\n",
    "GROUP BY\n",
    "  Origin\n",
    "ORDER BY\n",
    "  AVG(DepDel15) DESC\n",
    "\"\"\"\n",
    "\n",
    "result = spark.sql(query)\n",
    "\n",
    "# Optionally, convert the result to a Pandas DataFrame (if needed for visualization)\n",
    "result_df = result.toPandas()\n",
    "\n",
    "# Show the result (or further analyze/visualize it)\n",
    "result.show()\n",
    "\n",
    "# Select every 10th origin for plotting\n",
    "selected_origins = result_df['Origin'][::10].tolist()\n",
    "\n",
    "# Filter the DataFrame to include only the selected origins\n",
    "filtered_result_df = result_df[result_df['Origin'].isin(selected_origins)]\n",
    "\n",
    "# Plotting the bar chart\n",
    "plt.figure(figsize=(12, 6))\n",
    "plt.bar(filtered_result_df['Origin'], filtered_result_df['PercentDepartureDelay'])\n",
    "plt.xlabel('Origin')\n",
    "plt.ylabel('Percentage Departure Delay')\n",
    "plt.title('Percentage Departure Delay by Origin (Every 10th Origin)')\n",
    "plt.xticks(rotation=90)  # Rotate x-axis labels for better readability\n",
    "plt.tight_layout()  # Adjust layout for better display\n",
    "plt.show()"
   ]
  },
  {
   "cell_type": "code",
   "execution_count": 61,
   "id": "2feb9b77-fedb-4c47-af0c-135efdecd4dc",
   "metadata": {},
   "outputs": [
    {
     "name": "stderr",
     "output_type": "stream",
     "text": [
      "                                                                                \r"
     ]
    },
    {
     "name": "stdout",
     "output_type": "stream",
     "text": [
      "+----+---------------------+\n",
      "|Dest|PercentDepartureDelay|\n",
      "+----+---------------------+\n",
      "| YNG|                  0.5|\n",
      "| BIH|   0.3508771929824561|\n",
      "| BQN|  0.33328956007879185|\n",
      "| PSE|  0.31704312114989736|\n",
      "| PQI|   0.2985849056603774|\n",
      "| CDB|   0.2727272727272727|\n",
      "| DUT|  0.27197346600331673|\n",
      "| TTN|  0.27158001009591115|\n",
      "| AZA|   0.2673389668367347|\n",
      "| SFB|  0.26326760035598856|\n",
      "| DIK|  0.26119402985074625|\n",
      "| PGD|  0.25658049815353184|\n",
      "| OTH|   0.2524146812620734|\n",
      "| EWR|  0.24895873014726724|\n",
      "| HYA|  0.24795640326975477|\n",
      "| SJU|   0.2417387761609112|\n",
      "| ISP|  0.23560855263157895|\n",
      "| ORH|  0.23535653650254668|\n",
      "| MMH|  0.23513513513513515|\n",
      "| GUC|   0.2341110217216412|\n",
      "+----+---------------------+\n",
      "only showing top 20 rows\n",
      "\n"
     ]
    },
    {
     "data": {
      "image/png": "[encoded data removed]",
      "text/plain": [
       "<Figure size 1200x600 with 1 Axes>"
      ]
     },
     "metadata": {},
     "output_type": "display_data"
    }
   ],
   "source": [
    "# Register the DataFrame as a temporary view\n",
    "flight.createOrReplaceTempView(\"flight\")\n",
    "\n",
    "# Write and execute your SQL query\n",
    "query = \"\"\"\n",
    "SELECT\n",
    "  Dest,\n",
    "  AVG(DepDel15) AS PercentDepartureDelay\n",
    "FROM\n",
    "  flight\n",
    "GROUP BY\n",
    "  Dest\n",
    "ORDER BY\n",
    "  AVG(DepDel15) DESC\n",
    "\"\"\"\n",
    "\n",
    "result = spark.sql(query)\n",
    "\n",
    "# Optionally, convert the result to a Pandas DataFrame (if needed for visualization)\n",
    "result_df = result.toPandas()\n",
    "\n",
    "# Show the result (or further analyze/visualize it)\n",
    "result.show()\n",
    "\n",
    "# Select every 10th destination for plotting\n",
    "selected_destinations = result_df['Dest'][::10].tolist()\n",
    "\n",
    "# Filter the DataFrame to include only the selected destinations\n",
    "filtered_result_df = result_df[result_df['Dest'].isin(selected_destinations)]\n",
    "\n",
    "# Plotting the bar chart\n",
    "plt.figure(figsize=(12, 6))\n",
    "plt.bar(filtered_result_df['Dest'], filtered_result_df['PercentDepartureDelay'])\n",
    "plt.xlabel('Destination (Dest)')\n",
    "plt.ylabel('Percentage Departure Delay')\n",
    "plt.title('Percentage Departure Delay by Destination (Every 10th Destination)')\n",
    "plt.xticks(rotation=90)  # Rotate x-axis labels for better readability\n",
    "plt.tight_layout()  # Adjust layout for better display\n",
    "plt.show()"
   ]
  },
  {
   "cell_type": "markdown",
   "id": "925128f5-de91-4a82-9d3e-675b8076e657",
   "metadata": {},
   "source": [
    "### Feature Engineering and Data Preprocessing"
   ]
  },
  {
   "cell_type": "code",
   "execution_count": 18,
   "id": "ddfcb059-22fd-47a0-9f1b-c6d762973a12",
   "metadata": {},
   "outputs": [
    {
     "name": "stderr",
     "output_type": "stream",
     "text": [
      "                                                                                \r"
     ]
    }
   ],
   "source": [
    "from pyspark.ml.feature import StringIndexer, OneHotEncoder, VectorAssembler\n",
    "\n",
    "# StringIndexer for categorical column\n",
    "indexer = StringIndexer(inputCol='Operating_Airline', outputCol='Operating_Airline_Index')\n",
    "df_indexed = indexer.fit(df_cleaned).transform(df_cleaned)\n",
    "\n",
    "# OneHotEncoder for indexed column\n",
    "encoder = OneHotEncoder(inputCol='Operating_Airline_Index', outputCol='Operating_Airline_Encoded')\n",
    "\n",
    "# Fit and transform using the OneHotEncoder\n",
    "encoder_model = encoder.fit(df_indexed)\n",
    "df_encoded = encoder_model.transform(df_indexed)"
   ]
  },
  {
   "cell_type": "raw",
   "id": "0c8d13a2-c3e9-4cc4-9667-8ffb57a98bcf",
   "metadata": {},
   "source": [
    "# Drop the column if it exists\n",
    "if 'Operating_Airline_Index' in df_cleaned.columns:\n",
    "    df_cleaned = df_cleaned.drop('Operating_Airline_Index')\n",
    "    \n",
    "if 'Operating_Airline_Encoded' in df_cleaned.columns:\n",
    "    df_cleaned = df_cleaned.drop('Operating_Airline_Encoded')"
   ]
  },
  {
   "cell_type": "code",
   "execution_count": 19,
   "id": "e459d8f3-4447-4601-a067-94acebe02101",
   "metadata": {},
   "outputs": [
    {
     "name": "stderr",
     "output_type": "stream",
     "text": [
      "                                                                                \r"
     ]
    }
   ],
   "source": [
    "# Feature Scaling\n",
    "\n",
    "from pyspark.ml.feature import StandardScaler\n",
    "\n",
    "# Assemble numeric columns into a single vector column\n",
    "assembler = VectorAssembler(inputCols=['DepDelayMinutes', 'Distance'], outputCol='features')\n",
    "df_cleaned = assembler.transform(df_cleaned)\n",
    "\n",
    "# Scale the features\n",
    "scaler = StandardScaler(inputCol='features', outputCol='scaledFeatures')\n",
    "df_cleaned = scaler.fit(df_cleaned).transform(df_cleaned)\n"
   ]
  },
  {
   "cell_type": "raw",
   "id": "d41b0080-0e0b-4a9f-ad27-7d6c2d00744c",
   "metadata": {},
   "source": [
    "# Drop the 'features' column if it already exists\n",
    "if 'features' in df_cleaned.columns:\n",
    "    df_cleaned = df_cleaned.drop('features')\n",
    "\n",
    "# Drop the 'features' column if it already exists\n",
    "if 'scaledFeatures' in df_cleaned.columns:\n",
    "    df_cleaned = df_cleaned.drop('scaledFeatures')"
   ]
  },
  {
   "cell_type": "code",
   "execution_count": 20,
   "id": "564a9624-6650-408a-bb71-f7828e039d63",
   "metadata": {},
   "outputs": [],
   "source": [
    "#Feature Creation\n",
    "\n",
    "from pyspark.sql.functions import col\n",
    "\n",
    "# Example: Creating a new feature 'IsWeekend'\n",
    "df_cleaned = df_cleaned.withColumn('IsWeekend', (col('DayOfWeek') > 5).cast('integer'))"
   ]
  },
  {
   "cell_type": "code",
   "execution_count": 21,
   "id": "0d455ba3-30f9-4b2a-a549-aa64fde0cfa1",
   "metadata": {},
   "outputs": [],
   "source": [
    "# Feature Selection\n",
    "\n",
    "# Selecting features to include in the model\n",
    "selected_columns = ['DepDelayMinutes', 'Distance', 'IsWeekend', 'ArrDel15']\n",
    "df_model = df_cleaned.select(selected_columns)"
   ]
  },
  {
   "cell_type": "code",
   "execution_count": 22,
   "id": "872567ae-224c-4544-8bdb-cfeae3ded7b8",
   "metadata": {},
   "outputs": [
    {
     "name": "stdout",
     "output_type": "stream",
     "text": [
      "root\n",
      " |-- Year: string (nullable = true)\n",
      " |-- Quarter: string (nullable = true)\n",
      " |-- Month: string (nullable = true)\n",
      " |-- DayofMonth: string (nullable = true)\n",
      " |-- DayOfWeek: string (nullable = true)\n",
      " |-- FlightDate: date (nullable = true)\n",
      " |-- Operating_Airline: string (nullable = true)\n",
      " |-- Tail_Number: string (nullable = true)\n",
      " |-- Flight_Number_Operating_Airline: string (nullable = true)\n",
      " |-- Origin: string (nullable = true)\n",
      " |-- OriginCityName: string (nullable = true)\n",
      " |-- OriginState: string (nullable = true)\n",
      " |-- Dest: string (nullable = true)\n",
      " |-- DestCityName: string (nullable = true)\n",
      " |-- DestState: string (nullable = true)\n",
      " |-- CRSDepTime: long (nullable = true)\n",
      " |-- DepTime: integer (nullable = true)\n",
      " |-- DepDelayMinutes: double (nullable = true)\n",
      " |-- DepTimeBlk: string (nullable = true)\n",
      " |-- CRSArrTime: long (nullable = true)\n",
      " |-- ArrTime: integer (nullable = true)\n",
      " |-- ArrDelayMinutes: double (nullable = true)\n",
      " |-- ArrTimeBlk: string (nullable = true)\n",
      " |-- Distance: double (nullable = true)\n",
      " |-- DistanceGroup: string (nullable = true)\n",
      " |-- DepDel15: string (nullable = true)\n",
      " |-- ArrDel15: string (nullable = true)\n",
      " |-- OriginAirportID: long (nullable = true)\n",
      " |-- DestAirportID: long (nullable = true)\n",
      " |-- PR_ARR_DEL15: string (nullable = true)\n",
      " |-- features: vector (nullable = true)\n",
      " |-- scaledFeatures: vector (nullable = true)\n",
      " |-- IsWeekend: integer (nullable = true)\n",
      "\n"
     ]
    }
   ],
   "source": [
    "# Inspect DataFrame schema\n",
    "df_cleaned.printSchema()\n",
    "\n",
    "# Assuming 'Operating_Airline_Encoded' exists, select the columns\n",
    "selected_columns = ['DepDelayMinutes', 'Distance', 'IsWeekend', 'ArrDel15']\n",
    "df_model = df_cleaned.select(selected_columns)"
   ]
  },
  {
   "cell_type": "code",
   "execution_count": 23,
   "id": "b319332d-20af-499a-8ddd-bd6fc6880a76",
   "metadata": {},
   "outputs": [
    {
     "name": "stderr",
     "output_type": "stream",
     "text": [
      "                                                                                \r"
     ]
    }
   ],
   "source": [
    "from pyspark.ml import Pipeline\n",
    "from pyspark.ml.feature import StringIndexer, OneHotEncoder, VectorAssembler, StandardScaler\n",
    "\n",
    "# Assuming df_original is your original DataFrame before any transformation\n",
    "df_original = cleaned_flight\n",
    "\n",
    "from pyspark.sql.functions import col\n",
    "from pyspark.sql.types import IntegerType\n",
    "\n",
    "# Assuming 'Year', 'Quarter', and 'Month' are supposed to be integers\n",
    "df_original = df_original.withColumn(\"Year\", df_original[\"Year\"].cast(IntegerType()))\n",
    "df_original = df_original.withColumn(\"Quarter\", df_original[\"Quarter\"].cast(IntegerType()))\n",
    "df_original = df_original.withColumn(\"Month\", df_original[\"Month\"].cast(IntegerType()))\n",
    "\n",
    "# Define the stages of the pipeline\n",
    "indexer = StringIndexer(inputCol='Operating_Airline', outputCol='Operating_Airline_Index')\n",
    "encoder = OneHotEncoder(inputCols=['Operating_Airline_Index'], outputCols=['Operating_Airline_Encoded'])\n",
    "assembler = VectorAssembler(inputCols=['Year', 'Quarter', 'Month'], outputCol='features')\n",
    "scaler = StandardScaler(inputCol='features', outputCol='scaledFeatures')\n",
    "\n",
    "# Combine stages into the pipeline\n",
    "pipeline = Pipeline(stages=[indexer, encoder, assembler, scaler])\n",
    "\n",
    "# Apply the pipeline to the original DataFrame\n",
    "df_transformed = pipeline.fit(df_original).transform(df_original)"
   ]
  },
  {
   "cell_type": "markdown",
   "id": "034f0bbe-484c-4174-943d-0a56f1beac81",
   "metadata": {},
   "source": [
    "### Jason Chandra Model -- PIPELINE"
   ]
  },
  {
   "cell_type": "code",
   "execution_count": 15,
   "id": "ce95c565-f346-43b7-91ae-e27213ebafc3",
   "metadata": {},
   "outputs": [
    {
     "name": "stderr",
     "output_type": "stream",
     "text": [
      "                                                                                \r"
     ]
    }
   ],
   "source": [
    "# Save DataFrame as Parquet file to Google Cloud Storage\n",
    "# df_transformed.write.mode('overwrite').parquet('gs://msca-bdp-student-gcs/Group4_Final_Project/archive/df_transformed.parquet')"
   ]
  },
  {
   "cell_type": "markdown",
   "id": "8659ffcf-a06c-4413-a180-943940cacb24",
   "metadata": {},
   "source": [
    "### ONE"
   ]
  },
  {
   "cell_type": "code",
   "execution_count": 13,
   "id": "e5c56928-f7c6-45a1-892f-40ab37cbb0b7",
   "metadata": {},
   "outputs": [
    {
     "name": "stdout",
     "output_type": "stream",
     "text": [
      "root\n",
      " |-- Year: integer (nullable = true)\n",
      " |-- Quarter: integer (nullable = true)\n",
      " |-- Month: integer (nullable = true)\n",
      " |-- DayofMonth: string (nullable = true)\n",
      " |-- DayOfWeek: string (nullable = true)\n",
      " |-- FlightDate: date (nullable = true)\n",
      " |-- Operating_Airline: string (nullable = true)\n",
      " |-- Tail_Number: string (nullable = true)\n",
      " |-- Flight_Number_Operating_Airline: string (nullable = true)\n",
      " |-- Origin: string (nullable = true)\n",
      " |-- OriginCityName: string (nullable = true)\n",
      " |-- OriginState: string (nullable = true)\n",
      " |-- Dest: string (nullable = true)\n",
      " |-- DestCityName: string (nullable = true)\n",
      " |-- DestState: string (nullable = true)\n",
      " |-- CRSDepTime: long (nullable = true)\n",
      " |-- DepTime: integer (nullable = true)\n",
      " |-- DepDelayMinutes: double (nullable = true)\n",
      " |-- DepTimeBlk: string (nullable = true)\n",
      " |-- CRSArrTime: long (nullable = true)\n",
      " |-- ArrTime: integer (nullable = true)\n",
      " |-- ArrDelayMinutes: double (nullable = true)\n",
      " |-- ArrTimeBlk: string (nullable = true)\n",
      " |-- Distance: double (nullable = true)\n",
      " |-- DistanceGroup: string (nullable = true)\n",
      " |-- DepDel15: string (nullable = true)\n",
      " |-- ArrDel15: string (nullable = true)\n",
      " |-- OriginAirportID: long (nullable = true)\n",
      " |-- DestAirportID: long (nullable = true)\n",
      " |-- PR_ARR_DEL15: string (nullable = true)\n",
      " |-- Operating_Airline_Index: double (nullable = true)\n",
      " |-- Operating_Airline_Encoded: vector (nullable = true)\n",
      " |-- features: vector (nullable = true)\n",
      " |-- scaledFeatures: vector (nullable = true)\n",
      "\n"
     ]
    }
   ],
   "source": [
    "# Inspect DataFrame schema\n",
    "from pyspark.sql import SparkSession\n",
    "\n",
    "# Create a SparkSession\n",
    "spark = SparkSession.builder.appName(\"ParquetLoad\").getOrCreate()\n",
    "\n",
    "# Load Parquet file into DataFrame\n",
    "df_transformed = spark.read.parquet('gs://msca-bdp-student-gcs/Group4_Final_Project/archive/df_transformed.parquet')\n",
    "\n",
    "df_transformed.printSchema()"
   ]
  },
  {
   "cell_type": "markdown",
   "id": "bc2b59b8-36e2-440f-a443-1f27b8de9094",
   "metadata": {},
   "source": [
    "### TWO"
   ]
  },
  {
   "cell_type": "code",
   "execution_count": 14,
   "id": "68378f1e-d8b1-4d6e-bda8-f572d19a332c",
   "metadata": {
    "tags": []
   },
   "outputs": [],
   "source": [
    "from pyspark.sql.functions import col\n",
    "from pyspark.sql.types import DoubleType\n",
    "\n",
    "# Assuming df_cleaned is your DataFrame\n",
    "df_transformedInput = df_transformed.withColumn(\"ArrDel15\", col(\"ArrDel15\").cast(DoubleType()))\n",
    "\n",
    "# Assuming df_cleaned is your preprocessed DataFrame\n",
    "# Split the data into training and test sets\n",
    "train_full, test_full = df_transformedInput.randomSplit([0.7, 0.3], seed=12345)\n",
    "\n",
    "# Take a sample of the train and test sets for smaller subsets\n",
    "train_subset = train_full.sample(fraction=0.01, seed=12345)\n",
    "test_subset = test_full.sample(fraction=0.01, seed=12345)\n",
    "\n",
    "# Dropping rows with null values in the train and test sets\n",
    "train_subset = train_subset.na.drop()\n",
    "test_subset = test_subset.na.drop()\n",
    "\n"
   ]
  },
  {
   "cell_type": "markdown",
   "id": "e8c74551-4674-43de-ac51-006d05197674",
   "metadata": {},
   "source": [
    "### THREE"
   ]
  },
  {
   "cell_type": "code",
   "execution_count": 15,
   "id": "aab9d2da-3db3-4868-9331-ec0cdfe0abe0",
   "metadata": {},
   "outputs": [],
   "source": [
    "from pyspark.ml.classification import RandomForestClassifier, GBTClassifier, LinearSVC\n",
    "from pyspark.ml import Pipeline\n",
    "from pyspark.ml.tuning import ParamGridBuilder, CrossValidator\n",
    "from pyspark.ml.evaluation import BinaryClassificationEvaluator"
   ]
  },
  {
   "cell_type": "markdown",
   "id": "9c9dc8fc-ef2e-44c4-a6f1-34560e0efa48",
   "metadata": {},
   "source": [
    "### FOUR"
   ]
  },
  {
   "cell_type": "code",
   "execution_count": 16,
   "id": "8708e2ee-662a-486e-acb4-f333db02b1d1",
   "metadata": {},
   "outputs": [],
   "source": [
    "# Initialize the classifiers\n",
    "rf = RandomForestClassifier(labelCol=\"ArrDel15\", featuresCol=\"scaledFeatures\")\n",
    "gbt = GBTClassifier(labelCol=\"ArrDel15\", featuresCol=\"scaledFeatures\")\n",
    "svm = LinearSVC(labelCol=\"ArrDel15\", featuresCol=\"scaledFeatures\", maxIter=100)\n"
   ]
  },
  {
   "cell_type": "code",
   "execution_count": 17,
   "id": "8e8bdb78-ccf2-4898-a9a6-580de219a4a5",
   "metadata": {},
   "outputs": [
    {
     "name": "stderr",
     "output_type": "stream",
     "text": [
      "23/11/27 18:48:02 ERROR breeze.optimize.OWLQN: Failure! Resetting history: breeze.optimize.NaNHistory: \n",
      "23/11/27 18:48:08 ERROR breeze.optimize.OWLQN: Failure! Resetting history: breeze.optimize.NaNHistory: \n",
      "23/11/27 18:48:11 ERROR breeze.optimize.OWLQN: Failure! Resetting history: breeze.optimize.NaNHistory: \n",
      "23/11/27 18:48:46 ERROR breeze.optimize.OWLQN: Failure! Resetting history: breeze.optimize.NaNHistory: \n",
      "23/11/27 18:48:52 ERROR breeze.optimize.OWLQN: Failure! Resetting history: breeze.optimize.NaNHistory: \n",
      "23/11/27 18:48:54 ERROR breeze.optimize.OWLQN: Failure! Resetting history: breeze.optimize.NaNHistory: \n",
      "23/11/27 18:49:21 ERROR breeze.optimize.OWLQN: Failure! Resetting history: breeze.optimize.NaNHistory: \n",
      "23/11/27 18:49:28 ERROR breeze.optimize.OWLQN: Failure! Resetting history: breeze.optimize.NaNHistory: \n",
      "23/11/27 18:49:31 ERROR breeze.optimize.OWLQN: Failure! Resetting history: breeze.optimize.NaNHistory: \n",
      "23/11/27 18:50:06 ERROR breeze.optimize.OWLQN: Failure! Resetting history: breeze.optimize.NaNHistory: \n",
      "23/11/27 18:50:12 ERROR breeze.optimize.OWLQN: Failure! Resetting history: breeze.optimize.NaNHistory: \n",
      "23/11/27 18:50:15 ERROR breeze.optimize.OWLQN: Failure! Resetting history: breeze.optimize.NaNHistory: \n",
      "23/11/27 18:50:23 ERROR breeze.optimize.OWLQN: Failure! Resetting history: breeze.optimize.NaNHistory: \n",
      "23/11/27 18:50:25 ERROR breeze.optimize.OWLQN: Failure! Resetting history: breeze.optimize.NaNHistory: \n",
      "23/11/27 18:51:05 ERROR breeze.optimize.OWLQN: Failure! Resetting history: breeze.optimize.NaNHistory: \n",
      "23/11/27 18:51:13 ERROR breeze.optimize.OWLQN: Failure! Resetting history: breeze.optimize.NaNHistory: \n",
      "23/11/27 18:51:25 ERROR breeze.optimize.OWLQN: Failure! Resetting history: breeze.optimize.NaNHistory: \n",
      "23/11/27 18:51:28 ERROR breeze.optimize.OWLQN: Failure! Resetting history: breeze.optimize.NaNHistory: \n",
      "23/11/27 18:51:59 ERROR breeze.optimize.OWLQN: Failure! Resetting history: breeze.optimize.NaNHistory: \n",
      "23/11/27 18:52:07 ERROR breeze.optimize.OWLQN: Failure! Resetting history: breeze.optimize.NaNHistory: \n",
      "23/11/27 18:52:10 ERROR breeze.optimize.OWLQN: Failure! Resetting history: breeze.optimize.NaNHistory: \n",
      "23/11/27 18:53:10 ERROR breeze.optimize.OWLQN: Failure! Resetting history: breeze.optimize.NaNHistory: \n",
      "23/11/27 18:53:13 ERROR breeze.optimize.OWLQN: Failure! Resetting history: breeze.optimize.NaNHistory: \n",
      "23/11/27 18:53:24 ERROR breeze.optimize.OWLQN: Failure! Resetting history: breeze.optimize.NaNHistory: \n",
      "23/11/27 18:53:26 ERROR breeze.optimize.OWLQN: Failure! Resetting history: breeze.optimize.NaNHistory: \n"
     ]
    }
   ],
   "source": [
    "\n",
    "# Define parameter grids\n",
    "paramGridRF = ParamGridBuilder() \\\n",
    "    .addGrid(rf.maxDepth, [5, 10]) \\\n",
    "    .addGrid(rf.numTrees, [20, 50]) \\\n",
    "    .build()\n",
    "\n",
    "paramGridGBT = ParamGridBuilder() \\\n",
    "    .addGrid(gbt.maxDepth, [5, 10]) \\\n",
    "    .addGrid(gbt.maxIter, [20, 50]) \\\n",
    "    .build()\n",
    "\n",
    "# Initialize CrossValidator for each classifier\n",
    "evaluator = BinaryClassificationEvaluator(labelCol=\"ArrDel15\", metricName=\"areaUnderROC\")\n",
    "\n",
    "crossvalRF = CrossValidator(estimator=rf,\n",
    "                            estimatorParamMaps=paramGridRF,\n",
    "                            evaluator=evaluator,\n",
    "                            numFolds=3)\n",
    "\n",
    "crossvalGBT = CrossValidator(estimator=gbt,\n",
    "                             estimatorParamMaps=paramGridGBT,\n",
    "                             evaluator=evaluator,\n",
    "                             numFolds=3)\n",
    "\n",
    "crossvalSVM = CrossValidator(estimator=svm,\n",
    "                             estimatorParamMaps=paramGridSVM,\n",
    "                             evaluator=evaluator,\n",
    "                             numFolds=3)\n",
    "# Create Pipelines\n",
    "pipelineRF = Pipeline(stages=[crossvalRF])\n",
    "# Fit the models\n",
    "modelRF = pipelineRF.fit(train_subset)\n",
    "pipelineGBT = Pipeline(stages=[crossvalGBT])\n",
    "modelGBT = pipelineGBT.fit(train_subset)\n"
   ]
  },
  {
   "cell_type": "markdown",
   "id": "7eda25b0-bb0d-4634-96f4-10261fe2176a",
   "metadata": {},
   "source": [
    "### FIVE"
   ]
  },
  {
   "cell_type": "code",
   "execution_count": 14,
   "id": "6e2c1a80-7ba9-4a88-be51-7dad03ca104f",
   "metadata": {},
   "outputs": [
    {
     "name": "stderr",
     "output_type": "stream",
     "text": [
      "                                                                                \r"
     ]
    }
   ],
   "source": [
    "## modelRF.save(\"gs://msca-bdp-student-gcs/Group4_Final_Project/archive/random_forest_model\")"
   ]
  },
  {
   "cell_type": "code",
   "execution_count": null,
   "id": "da8e9f18-c0fd-400d-bbd1-605c9a2aacd2",
   "metadata": {},
   "outputs": [
    {
     "name": "stderr",
     "output_type": "stream",
     "text": [
      "                                                                                \r"
     ]
    },
    {
     "name": "stdout",
     "output_type": "stream",
     "text": [
      "RandomForest AUC: 0.5\n",
      "RandomForest F1 Score: 0.7406270224839089\n",
      "RandomForest Accuracy: 0.8236451356035411\n"
     ]
    },
    {
     "name": "stderr",
     "output_type": "stream",
     "text": [
      "                                                                                \r"
     ]
    },
    {
     "name": "stdout",
     "output_type": "stream",
     "text": [
      "Gradient Boosted Tree AUC: 0.6015144589219705\n",
      "Gradient Boosted Tree F1 Score: 0.7439948662806702\n",
      "Gradient Boosted Tree Accuracy: 0.8236451356035411\n"
     ]
    },
    {
     "name": "stderr",
     "output_type": "stream",
     "text": [
      "[Stage 25990:==================================================>  (23 + 1) / 24]\r"
     ]
    },
    {
     "name": "stdout",
     "output_type": "stream",
     "text": [
      "SVM AUC: 0.5037444030746894\n",
      "SVM F1 Score: 0.7439948662806702\n",
      "SVM Accuracy: 0.8236451356035411\n"
     ]
    },
    {
     "name": "stderr",
     "output_type": "stream",
     "text": [
      "                                                                                \r"
     ]
    }
   ],
   "source": [
    "# Evaluation Metrics\n",
    "evaluator_auc = BinaryClassificationEvaluator(labelCol=\"ArrDel15\", metricName=\"areaUnderROC\")\n",
    "evaluator_f1 = MulticlassClassificationEvaluator(labelCol=\"ArrDel15\", metricName=\"f1\")\n",
    "\n",
    "# Evaluate RandomForest model\n",
    "predictionsRF = modelRF.transform(test_subset)\n",
    "aucRF = evaluator_auc.evaluate(predictionsRF)\n",
    "f1_score_RF = evaluator_f1.evaluate(predictionsRF)\n",
    "print(f\"RandomForest AUC: {aucRF}\")\n",
    "print(f\"RandomForest F1 Score: {f1_score_RF}\")\n",
    "\n",
    "# Evaluate Gradient Boosted Tree model\n",
    "predictionsGBT = modelGBT.transform(test_subset)\n",
    "aucGBT = evaluator_auc.evaluate(predictionsGBT)\n",
    "f1_score_GBT = evaluator_f1.evaluate(predictionsGBT)\n",
    "print(f\"Gradient Boosted Tree AUC: {aucGBT}\")\n",
    "print(f\"Gradient Boosted Tree F1 Score: {f1_score_GBT}\")\n",
    "\n",
    "# Evaluate Logistic Regression model\n",
    "# predictionsLR = modelLR.transform(test_subset)\n",
    "# aucLR = evaluator_auc.evaluate(predictionsLR)\n",
    "# f1_score_LR = evaluator_f1.evaluate(predictionsLR)\n",
    "# print(f\"Logistic Regression AUC: {aucLR}\")\n",
    "# print(f\"Logistic Regression F1 Score: {f1_score_LR}\")"
   ]
  },
  {
   "cell_type": "code",
   "execution_count": null,
   "id": "cdc2fe88-521b-4d6c-915a-0f4a004f7691",
   "metadata": {},
   "outputs": [],
   "source": []
  },
  {
   "cell_type": "code",
   "execution_count": null,
   "id": "1aed341d-5265-46f7-8e0a-a564354b359c",
   "metadata": {},
   "outputs": [],
   "source": []
  },
  {
   "cell_type": "code",
   "execution_count": null,
   "id": "cb5aa23a-da58-4123-a279-74faee5656c1",
   "metadata": {},
   "outputs": [],
   "source": []
  },
  {
   "cell_type": "code",
   "execution_count": null,
   "id": "87adb67e-d430-4612-9592-d4484fe892d7",
   "metadata": {},
   "outputs": [],
   "source": []
  },
  {
   "cell_type": "code",
   "execution_count": null,
   "id": "22567c13-b325-4111-9d46-b3b2ff58a651",
   "metadata": {},
   "outputs": [],
   "source": []
  },
  {
   "cell_type": "code",
   "execution_count": null,
   "id": "bd468c29-4df2-4c4b-9ea8-c1bae00103bf",
   "metadata": {},
   "outputs": [],
   "source": []
  },
  {
   "cell_type": "code",
   "execution_count": null,
   "id": "32bd6f84-44bd-482e-8cce-b57f712c1f65",
   "metadata": {},
   "outputs": [],
   "source": []
  },
  {
   "cell_type": "code",
   "execution_count": null,
   "id": "57bf595b-7d41-4ed7-9b26-505cfec65d68",
   "metadata": {},
   "outputs": [],
   "source": []
  },
  {
   "cell_type": "code",
   "execution_count": null,
   "id": "22d72966-33ac-477f-9a38-39b492397a50",
   "metadata": {},
   "outputs": [],
   "source": []
  },
  {
   "cell_type": "code",
   "execution_count": null,
   "id": "d77eb821-72a5-4085-9382-23cf08041fd7",
   "metadata": {},
   "outputs": [],
   "source": []
  },
  {
   "cell_type": "code",
   "execution_count": null,
   "id": "c4fa82bc-0ee7-4a17-b3ba-1b0732a795d1",
   "metadata": {},
   "outputs": [],
   "source": []
  },
  {
   "cell_type": "code",
   "execution_count": null,
   "id": "39b9d247-c3c8-4073-a721-0bed0dadfc2f",
   "metadata": {},
   "outputs": [],
   "source": []
  },
  {
   "cell_type": "code",
   "execution_count": null,
   "id": "fceb1853-7b88-485f-9db5-f58d8b6c7e50",
   "metadata": {},
   "outputs": [],
   "source": []
  },
  {
   "cell_type": "code",
   "execution_count": null,
   "id": "a3aef3cf-ec3c-45a8-8830-0681dc283238",
   "metadata": {},
   "outputs": [],
   "source": []
  },
  {
   "cell_type": "code",
   "execution_count": null,
   "id": "f3939e6c-8dcb-4849-a034-973ea6a3e68a",
   "metadata": {},
   "outputs": [],
   "source": []
  },
  {
   "cell_type": "markdown",
   "id": "f3dde5fd-5772-4b4f-b912-bab994bd347a",
   "metadata": {},
   "source": [
    "### Model Evaluation"
   ]
  },
  {
   "cell_type": "markdown",
   "id": "49dc4300-8650-488e-bb50-6e2a609326bb",
   "metadata": {},
   "source": [
    "##### Evaluate with Basic Metrics"
   ]
  },
  {
   "cell_type": "code",
   "execution_count": null,
   "id": "8b92c45f-2589-4768-9c97-a39e9a25bf1c",
   "metadata": {},
   "outputs": [],
   "source": [
    "from pyspark.ml.evaluation import MulticlassClassificationEvaluator\n",
    "\n",
    "# Initialize evaluators\n",
    "evaluator_accuracy = MulticlassClassificationEvaluator(labelCol=\"ArrDel15\", predictionCol=\"prediction\", metricName=\"accuracy\")\n",
    "evaluator_precision = MulticlassClassificationEvaluator(labelCol=\"ArrDel15\", predictionCol=\"prediction\", metricName=\"weightedPrecision\")\n",
    "evaluator_recall = MulticlassClassificationEvaluator(labelCol=\"ArrDel15\", predictionCol=\"prediction\", metricName=\"weightedRecall\")\n",
    "evaluator_f1 = MulticlassClassificationEvaluator(labelCol=\"ArrDel15\", predictionCol=\"prediction\", metricName=\"f1\")\n",
    "\n",
    "# Evaluate Decision Tree model\n",
    "dt_accuracy = evaluator_accuracy.evaluate(dt_predictions)\n",
    "dt_precision = evaluator_precision.evaluate(dt_predictions)\n",
    "dt_recall = evaluator_recall.evaluate(dt_predictions)\n",
    "dt_f1 = evaluator_f1.evaluate(dt_predictions)\n",
    "\n",
    "# Evaluate Random Forest model\n",
    "rf_accuracy = evaluator_accuracy.evaluate(rf_predictions)\n",
    "rf_precision = evaluator_precision.evaluate(rf_predictions)\n",
    "rf_recall = evaluator_recall.evaluate(rf_predictions)\n",
    "rf_f1 = evaluator_f1.evaluate(rf_predictions)\n",
    "\n",
    "print(f\"Decision Tree - Accuracy: {dt_accuracy}, Precision: {dt_precision}, Recall: {dt_recall}, F1 Score: {dt_f1}\")\n",
    "print(f\"Random Forest - Accuracy: {rf_accuracy}, Precision: {rf_precision}, Recall: {rf_recall}, F1 Score: {rf_f1}\")\n"
   ]
  },
  {
   "cell_type": "markdown",
   "id": "cf38eeef-1ae0-460e-8b47-0b54764dc48e",
   "metadata": {},
   "source": [
    "##### ROC Curve and AUC"
   ]
  },
  {
   "cell_type": "code",
   "execution_count": null,
   "id": "61d8038b-6dcf-4330-929f-e2e38471dfb6",
   "metadata": {},
   "outputs": [],
   "source": [
    "from pyspark.ml.evaluation import BinaryClassificationEvaluator\n",
    "\n",
    "# ROC and AUC for Decision Tree\n",
    "dt_evaluator = BinaryClassificationEvaluator(labelCol=\"ArrDel15\")\n",
    "dt_auc = dt_evaluator.evaluate(dt_predictions, {dt_evaluator.metricName: \"areaUnderROC\"})\n",
    "\n",
    "# ROC and AUC for Random Forest\n",
    "rf_auc = dt_evaluator.evaluate(rf_predictions, {rf_evaluator.metricName: \"areaUnderROC\"})\n",
    "\n",
    "print(f\"Decision Tree - AUC: {dt_auc}\")\n",
    "print(f\"Random Forest - AUC: {rf_auc}\")\n"
   ]
  },
  {
   "cell_type": "markdown",
   "id": "ef1ffa4f-a830-4dd3-b372-a5bb52212333",
   "metadata": {},
   "source": [
    "##### Confusion Matrix"
   ]
  },
  {
   "cell_type": "code",
   "execution_count": null,
   "id": "c3628ff6-bc78-456c-8221-b04602caa51a",
   "metadata": {},
   "outputs": [],
   "source": [
    "from pyspark.mllib.evaluation import MulticlassMetrics\n",
    "\n",
    "# Convert prediction results to RDD\n",
    "rdd_dt = dt_predictions.select(['prediction', 'ArrDel15']).rdd\n",
    "rdd_rf = rf_predictions.select(['prediction', 'ArrDel15']).rdd\n",
    "\n",
    "# Instantiate metrics object\n",
    "metrics_dt = MulticlassMetrics(rdd_dt)\n",
    "metrics_rf = MulticlassMetrics(rdd_rf)\n",
    "\n",
    "# Confusion matrix\n",
    "print(\"Decision Tree - Confusion Matrix\")\n",
    "print(metrics_dt.confusionMatrix().toArray())\n",
    "\n",
    "print(\"\\nRandom Forest - Confusion Matrix\")\n",
    "print(metrics_rf.confusionMatrix().toArray())\n"
   ]
  }
 ],
 "metadata": {
  "kernelspec": {
   "display_name": "PySpark",
   "language": "python",
   "name": "pyspark"
  },
  "language_info": {
   "codemirror_mode": {
    "name": "ipython",
    "version": 3
   },
   "file_extension": ".py",
   "mimetype": "text/x-python",
   "name": "python",
   "nbconvert_exporter": "python",
   "pygments_lexer": "ipython3",
   "version": "3.8.15"
  }
 },
 "nbformat": 4,
 "nbformat_minor": 5
}
