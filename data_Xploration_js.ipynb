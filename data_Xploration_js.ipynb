{
 "cells": [
  {
   "cell_type": "markdown",
   "id": "e872e501-12ca-4903-8a24-8bd4ac3acf5a",
   "metadata": {},
   "source": [
    "# Flight Data Xploration\n",
    "Jean-Sebastien Gaultier"
   ]
  },
  {
   "cell_type": "code",
   "execution_count": 24,
   "id": "8867251a-df90-4b81-a4d6-d3bad254d373",
   "metadata": {},
   "outputs": [],
   "source": [
    "from pyspark.sql import SparkSession\n",
    "from pyspark.sql import functions as F\n",
    "from pyspark.ml.stat import Correlation\n",
    "from pyspark.ml.feature import StringIndexer, OneHotEncoder,  MinMaxScaler, VectorAssembler"
   ]
  },
  {
   "cell_type": "markdown",
   "id": "8258cc69-6134-4abc-b9c7-6127e776532b",
   "metadata": {},
   "source": [
    "## Download the datasets"
   ]
  },
  {
   "cell_type": "code",
   "execution_count": 2,
   "id": "6871e877-9b58-4fa2-8e19-f1b1df3f44e0",
   "metadata": {},
   "outputs": [],
   "source": [
    "spark = SparkSession.builder.getOrCreate()"
   ]
  },
  {
   "cell_type": "code",
   "execution_count": 4,
   "id": "206c5fa1-120a-4b8b-9c3b-06fd751a6f93",
   "metadata": {},
   "outputs": [
    {
     "name": "stderr",
     "output_type": "stream",
     "text": [
      "23/11/28 16:09:11 WARN org.apache.spark.scheduler.cluster.YarnScheduler: Initial job has not accepted any resources; check your cluster UI to ensure that workers are registered and have sufficient resources\n",
      "23/11/28 16:09:26 WARN org.apache.spark.scheduler.cluster.YarnScheduler: Initial job has not accepted any resources; check your cluster UI to ensure that workers are registered and have sufficient resources\n",
      "                                                                                \r"
     ]
    }
   ],
   "source": [
    "datapath_18 = \"gs://msca-bdp-student-gcs/Group4_Final_Project/archive/Combined_Flights_2018.csv\"\n",
    "df_18 = spark.read.csv(datapath_18, header=True, inferSchema=True)"
   ]
  },
  {
   "cell_type": "code",
   "execution_count": 5,
   "id": "7aabea60-3f47-446c-ba08-dd781b634353",
   "metadata": {},
   "outputs": [
    {
     "name": "stderr",
     "output_type": "stream",
     "text": [
      "                                                                                \r"
     ]
    }
   ],
   "source": [
    "datapath_19 = \"gs://msca-bdp-student-gcs/Group4_Final_Project/archive/Combined_Flights_2019.csv\"\n",
    "df_19 = spark.read.csv(datapath_19, header=True, inferSchema=True)"
   ]
  },
  {
   "cell_type": "code",
   "execution_count": 6,
   "id": "390beaee-bed6-4e80-a603-a3e3ca4aae98",
   "metadata": {},
   "outputs": [
    {
     "name": "stderr",
     "output_type": "stream",
     "text": [
      "                                                                                \r"
     ]
    }
   ],
   "source": [
    "datapath_20 = \"gs://msca-bdp-student-gcs/Group4_Final_Project/archive/Combined_Flights_2020.csv\"\n",
    "df_20 = spark.read.csv(datapath_20, header=True, inferSchema=True)"
   ]
  },
  {
   "cell_type": "code",
   "execution_count": 7,
   "id": "a1785a6a-e3d6-4737-ae70-0ea86c876109",
   "metadata": {},
   "outputs": [
    {
     "name": "stderr",
     "output_type": "stream",
     "text": [
      "                                                                                \r"
     ]
    }
   ],
   "source": [
    "datapath_21 = \"gs://msca-bdp-student-gcs/Group4_Final_Project/archive/Combined_Flights_2021.csv\"\n",
    "df_21 = spark.read.csv(datapath_21, header=True, inferSchema=True)"
   ]
  },
  {
   "cell_type": "code",
   "execution_count": 8,
   "id": "ca656d9f-44bf-44bb-98ca-b328b27b6638",
   "metadata": {},
   "outputs": [
    {
     "name": "stderr",
     "output_type": "stream",
     "text": [
      "                                                                                \r"
     ]
    }
   ],
   "source": [
    "datapath_22 = \"gs://msca-bdp-student-gcs/Group4_Final_Project/archive/Combined_Flights_2022.csv\"\n",
    "df_22 = spark.read.csv(datapath_22, header=True, inferSchema=True)"
   ]
  },
  {
   "cell_type": "code",
   "execution_count": 10,
   "id": "89b921c2-1c16-402f-8b75-efccf7cf96a8",
   "metadata": {},
   "outputs": [],
   "source": [
    "datapath_air = \"gs://msca-bdp-student-gcs/Group4_Final_Project/archive/Airlines.csv\"\n",
    "df_airlines = spark.read.csv(datapath_air, header=True, inferSchema=True)"
   ]
  },
  {
   "cell_type": "code",
   "execution_count": 11,
   "id": "fcf65804-126c-40db-81db-bced78478a41",
   "metadata": {},
   "outputs": [],
   "source": [
    "df_all = df_18.union(df_19).union(df_20).union(df_21).union(df_22)"
   ]
  },
  {
   "cell_type": "code",
   "execution_count": 12,
   "id": "a0bd4efe-3662-427b-9e12-e39f37cec94b",
   "metadata": {},
   "outputs": [
    {
     "data": {
      "text/plain": [
       "['FlightDate',\n",
       " 'Airline',\n",
       " 'Origin',\n",
       " 'Dest',\n",
       " 'Cancelled',\n",
       " 'Diverted',\n",
       " 'CRSDepTime',\n",
       " 'DepTime',\n",
       " 'DepDelayMinutes',\n",
       " 'DepDelay',\n",
       " 'ArrTime',\n",
       " 'ArrDelayMinutes',\n",
       " 'AirTime',\n",
       " 'CRSElapsedTime',\n",
       " 'ActualElapsedTime',\n",
       " 'Distance',\n",
       " 'Year',\n",
       " 'Quarter',\n",
       " 'Month',\n",
       " 'DayofMonth',\n",
       " 'DayOfWeek',\n",
       " 'Marketing_Airline_Network',\n",
       " 'Operated_or_Branded_Code_Share_Partners',\n",
       " 'DOT_ID_Marketing_Airline',\n",
       " 'IATA_Code_Marketing_Airline',\n",
       " 'Flight_Number_Marketing_Airline',\n",
       " 'Operating_Airline',\n",
       " 'DOT_ID_Operating_Airline',\n",
       " 'IATA_Code_Operating_Airline',\n",
       " 'Tail_Number',\n",
       " 'Flight_Number_Operating_Airline',\n",
       " 'OriginAirportID',\n",
       " 'OriginAirportSeqID',\n",
       " 'OriginCityMarketID',\n",
       " 'OriginCityName',\n",
       " 'OriginState',\n",
       " 'OriginStateFips',\n",
       " 'OriginStateName',\n",
       " 'OriginWac',\n",
       " 'DestAirportID',\n",
       " 'DestAirportSeqID',\n",
       " 'DestCityMarketID',\n",
       " 'DestCityName',\n",
       " 'DestState',\n",
       " 'DestStateFips',\n",
       " 'DestStateName',\n",
       " 'DestWac',\n",
       " 'DepDel15',\n",
       " 'DepartureDelayGroups',\n",
       " 'DepTimeBlk',\n",
       " 'TaxiOut',\n",
       " 'WheelsOff',\n",
       " 'WheelsOn',\n",
       " 'TaxiIn',\n",
       " 'CRSArrTime',\n",
       " 'ArrDelay',\n",
       " 'ArrDel15',\n",
       " 'ArrivalDelayGroups',\n",
       " 'ArrTimeBlk',\n",
       " 'DistanceGroup',\n",
       " 'DivAirportLandings']"
      ]
     },
     "execution_count": 12,
     "metadata": {},
     "output_type": "execute_result"
    }
   ],
   "source": [
    "df_18.columns"
   ]
  },
  {
   "cell_type": "markdown",
   "id": "07d43686-a8e5-4afa-90f0-5333e5a08656",
   "metadata": {},
   "source": [
    "## Visualizing"
   ]
  },
  {
   "cell_type": "code",
   "execution_count": 13,
   "id": "e33a6514-bd5b-4d46-aa99-54647a7f6ab3",
   "metadata": {},
   "outputs": [
    {
     "name": "stderr",
     "output_type": "stream",
     "text": [
      "[Stage 14:===================================================>    (72 + 7) / 79]\r"
     ]
    },
    {
     "name": "stdout",
     "output_type": "stream",
     "text": [
      "+-----------+-----------------+\n",
      "|Tail_Number|CancellationCount|\n",
      "+-----------+-----------------+\n",
      "|     N201JQ|              334|\n",
      "|     N791SK|              328|\n",
      "|     N793SK|              322|\n",
      "|     N783SK|              317|\n",
      "|     N743SK|              314|\n",
      "|     N788SK|              311|\n",
      "|     N779SK|              299|\n",
      "|     N631RW|              296|\n",
      "|     N790SK|              294|\n",
      "|     N785SK|              290|\n",
      "+-----------+-----------------+\n",
      "\n"
     ]
    },
    {
     "name": "stderr",
     "output_type": "stream",
     "text": [
      "                                                                                \r"
     ]
    }
   ],
   "source": [
    "top_cancelled_tailnumbers = df_all.filter(df_all.Cancelled == True) \\\n",
    "    .groupBy(\"Tail_Number\") \\\n",
    "    .agg(F.count(\"Tail_Number\").alias(\"CancellationCount\")) \\\n",
    "    .orderBy(F.desc(\"CancellationCount\")) \\\n",
    "    .limit(10)\n",
    "\n",
    "top_cancelled_tailnumbers.show()"
   ]
  },
  {
   "cell_type": "code",
   "execution_count": 14,
   "id": "980f28a5-3019-47d0-ac22-9888262ee7cf",
   "metadata": {},
   "outputs": [
    {
     "name": "stderr",
     "output_type": "stream",
     "text": [
      "[Stage 18:====================================================> (156 + 4) / 160]\r"
     ]
    },
    {
     "name": "stdout",
     "output_type": "stream",
     "text": [
      "+-----------+------------------+\n",
      "|Tail_Number|       AvgDepDelay|\n",
      "+-----------+------------------+\n",
      "|     N567NK|             655.0|\n",
      "|     N654DL|             609.0|\n",
      "|     N684RW|             491.0|\n",
      "|     N656YX|             486.0|\n",
      "|     N416DX|             233.5|\n",
      "|     N360NK|             223.0|\n",
      "|      N805H|             213.0|\n",
      "|     N417DX|              80.0|\n",
      "|     N863DA|              62.0|\n",
      "|     N575DZ|53.333333333333336|\n",
      "+-----------+------------------+\n",
      "\n"
     ]
    },
    {
     "name": "stderr",
     "output_type": "stream",
     "text": [
      "                                                                                \r"
     ]
    }
   ],
   "source": [
    "top_avg_delay_tailnumbers = df_all.groupBy(\"Tail_Number\") \\\n",
    "    .agg(F.avg(\"DepDelay\").alias(\"AvgDepDelay\")) \\\n",
    "    .orderBy(F.desc(\"AvgDepDelay\")) \\\n",
    "    .limit(10)\n",
    "\n",
    "# Display the result or save it to a file or use it in plotting libraries\n",
    "top_avg_delay_tailnumbers.show()"
   ]
  },
  {
   "cell_type": "code",
   "execution_count": 15,
   "id": "7b43b504-ff6b-4b02-b00c-6b7e630c0f14",
   "metadata": {},
   "outputs": [
    {
     "name": "stderr",
     "output_type": "stream",
     "text": [
      "[Stage 22:====================================================> (155 + 5) / 160]\r"
     ]
    },
    {
     "name": "stdout",
     "output_type": "stream",
     "text": [
      "+-----------+-----------+\n",
      "|Tail_Number|FlightCount|\n",
      "+-----------+-----------+\n",
      "|     N480HA|      12470|\n",
      "|     N491HA|      12376|\n",
      "|     N494HA|      12248|\n",
      "|     N492HA|      11985|\n",
      "|     N487HA|      11945|\n",
      "|     N483HA|      11935|\n",
      "|     N493HA|      11837|\n",
      "|     N486HA|      11797|\n",
      "|     N476HA|      11771|\n",
      "|     N488HA|      11727|\n",
      "+-----------+-----------+\n",
      "\n"
     ]
    },
    {
     "name": "stderr",
     "output_type": "stream",
     "text": [
      "                                                                                \r"
     ]
    }
   ],
   "source": [
    "top_flown_tailnumbers = df_all.groupBy(\"Tail_Number\") \\\n",
    "    .agg(F.count(\"Tail_Number\").alias(\"FlightCount\")) \\\n",
    "    .orderBy(F.desc(\"FlightCount\")) \\\n",
    "    .limit(10)\n",
    "\n",
    "# Display the result or save it to a file or use it in plotting libraries\n",
    "top_flown_tailnumbers.show()"
   ]
  },
  {
   "cell_type": "code",
   "execution_count": 16,
   "id": "e30dba5d-169a-4732-b2a3-d1e2873cebe1",
   "metadata": {},
   "outputs": [
    {
     "name": "stderr",
     "output_type": "stream",
     "text": [
      "                                                                                \r"
     ]
    },
    {
     "data": {
      "image/png": "[encoded data removed]",
      "text/plain": [
       "<Figure size 1000x800 with 1 Axes>"
      ]
     },
     "metadata": {},
     "output_type": "display_data"
    }
   ],
   "source": [
    "import matplotlib.pyplot as plt\n",
    "import pandas as pd\n",
    "\n",
    "# Convert Spark DataFrame to Pandas DataFrame\n",
    "top_cancelled_pd = top_cancelled_tailnumbers.toPandas()\n",
    "\n",
    "# Plot the data using matplotlib or other plotting libraries\n",
    "plt.figure(figsize = (10,8))\n",
    "plt.bar(top_cancelled_pd['Tail_Number'], top_cancelled_pd['CancellationCount'])\n",
    "plt.xlabel('TailNumber')\n",
    "plt.ylabel('CancellationCount')\n",
    "plt.title('Top 10 TailNumbers with the most cancellations')\n",
    "plt.show()"
   ]
  },
  {
   "cell_type": "code",
   "execution_count": 17,
   "id": "f66f9d37-1160-4d78-9de5-cd1bbb5003fd",
   "metadata": {},
   "outputs": [
    {
     "name": "stderr",
     "output_type": "stream",
     "text": [
      "                                                                                \r"
     ]
    },
    {
     "data": {
      "image/png": "[encoded data removed]",
      "text/plain": [
       "<Figure size 1000x800 with 1 Axes>"
      ]
     },
     "metadata": {},
     "output_type": "display_data"
    }
   ],
   "source": [
    "\n",
    "# Convert Spark DataFrame to Pandas DataFrame\n",
    "top_avg_delay_tailnumbers_pd = top_avg_delay_tailnumbers.toPandas()\n",
    "\n",
    "# Plot the data using matplotlib or other plotting libraries\n",
    "plt.figure(figsize = (10,8))\n",
    "plt.bar(top_avg_delay_tailnumbers_pd['Tail_Number'], top_avg_delay_tailnumbers_pd['AvgDepDelay'])\n",
    "plt.xlabel('TailNumber')\n",
    "plt.ylabel('Delay Count')\n",
    "plt.title('Top 10 TailNumbers with the most delay')\n",
    "plt.show()"
   ]
  },
  {
   "cell_type": "code",
   "execution_count": 18,
   "id": "06cf42dd-e757-48cb-bca8-46d78dff869a",
   "metadata": {},
   "outputs": [
    {
     "name": "stderr",
     "output_type": "stream",
     "text": [
      "                                                                                \r"
     ]
    },
    {
     "data": {
      "image/png": "[encoded data removed]",
      "text/plain": [
       "<Figure size 1000x800 with 1 Axes>"
      ]
     },
     "metadata": {},
     "output_type": "display_data"
    }
   ],
   "source": [
    "# Convert Spark DataFrame to Pandas DataFrame\n",
    "top_flown_tailnumbers_pd = top_flown_tailnumbers.toPandas()\n",
    "\n",
    "# Plot the data using matplotlib or other plotting libraries\n",
    "plt.figure(figsize = (10,8))\n",
    "plt.bar(top_flown_tailnumbers_pd['Tail_Number'], top_flown_tailnumbers_pd['FlightCount'])\n",
    "plt.xlabel('TailNumber')\n",
    "plt.ylabel('Flight Count')\n",
    "plt.title('Top 10 TailNumbers with the most flights')\n",
    "plt.show()"
   ]
  },
  {
   "cell_type": "code",
   "execution_count": 25,
   "id": "91fa1531-aa31-47aa-9e3f-a3423f423e59",
   "metadata": {},
   "outputs": [
    {
     "name": "stderr",
     "output_type": "stream",
     "text": [
      "                                                                                \r"
     ]
    },
    {
     "name": "stdout",
     "output_type": "stream",
     "text": [
      "Error: name 'sns' is not defined\n"
     ]
    },
    {
     "name": "stderr",
     "output_type": "stream",
     "text": [
      "23/11/28 16:42:26 WARN org.apache.spark.mllib.stat.correlation.PearsonCorrelation: Pearson correlation matrix contains NaN values.\n"
     ]
    },
    {
     "ename": "NameError",
     "evalue": "name 'sns' is not defined",
     "output_type": "error",
     "traceback": [
      "\u001b[0;31m---------------------------------------------------------------------------\u001b[0m",
      "\u001b[0;31mNameError\u001b[0m                                 Traceback (most recent call last)",
      "Cell \u001b[0;32mIn[25], line 29\u001b[0m\n\u001b[1;32m     27\u001b[0m \u001b[38;5;28mprint\u001b[39m(\u001b[38;5;124mf\u001b[39m\u001b[38;5;124m\"\u001b[39m\u001b[38;5;124mError: \u001b[39m\u001b[38;5;132;01m{\u001b[39;00m\u001b[38;5;28mstr\u001b[39m(e)\u001b[38;5;132;01m}\u001b[39;00m\u001b[38;5;124m\"\u001b[39m)\n\u001b[1;32m     28\u001b[0m \u001b[38;5;66;03m# Print more detailed information about the error for troubleshooting\u001b[39;00m\n\u001b[0;32m---> 29\u001b[0m \u001b[38;5;28;01mraise\u001b[39;00m e\n",
      "Cell \u001b[0;32mIn[25], line 22\u001b[0m\n\u001b[1;32m     20\u001b[0m \u001b[38;5;66;03m# Use seaborn to create a heatmap\u001b[39;00m\n\u001b[1;32m     21\u001b[0m plt\u001b[38;5;241m.\u001b[39mfigure(figsize\u001b[38;5;241m=\u001b[39m(\u001b[38;5;241m10\u001b[39m, \u001b[38;5;241m8\u001b[39m))\n\u001b[0;32m---> 22\u001b[0m \u001b[43msns\u001b[49m\u001b[38;5;241m.\u001b[39mheatmap(correlation_df, annot\u001b[38;5;241m=\u001b[39m\u001b[38;5;28;01mTrue\u001b[39;00m, cmap\u001b[38;5;241m=\u001b[39m\u001b[38;5;124m\"\u001b[39m\u001b[38;5;124mcoolwarm\u001b[39m\u001b[38;5;124m\"\u001b[39m, fmt\u001b[38;5;241m=\u001b[39m\u001b[38;5;124m\"\u001b[39m\u001b[38;5;124m.2f\u001b[39m\u001b[38;5;124m\"\u001b[39m, linewidths\u001b[38;5;241m=\u001b[39m\u001b[38;5;241m.5\u001b[39m)\n\u001b[1;32m     23\u001b[0m plt\u001b[38;5;241m.\u001b[39mtitle(\u001b[38;5;124m'\u001b[39m\u001b[38;5;124mCorrelation Matrix Heatmap\u001b[39m\u001b[38;5;124m'\u001b[39m)\n\u001b[1;32m     24\u001b[0m plt\u001b[38;5;241m.\u001b[39mshow()\n",
      "\u001b[0;31mNameError\u001b[0m: name 'sns' is not defined"
     ]
    },
    {
     "data": {
      "text/plain": [
       "<Figure size 1000x800 with 0 Axes>"
      ]
     },
     "metadata": {},
     "output_type": "display_data"
    }
   ],
   "source": [
    "indexer = StringIndexer(inputCol=\"Tail_Number\", outputCol=\"TailNumberIndex\")\n",
    "flights_indexed = indexer.fit(df_all).transform(df_all)\n",
    "\n",
    "flights_indexed = flights_indexed.withColumn(\"Cancelled\", flights_indexed[\"Cancelled\"].cast(\"integer\"))\n",
    "selected_columns = [\"DepDelay\", \"Cancelled\", \"ArrDelay\"]\n",
    "flights_selected = flights_indexed.select(selected_columns).na.drop()\n",
    "assembler = VectorAssembler(inputCols=selected_columns, outputCol=\"features\")\n",
    "flights_assembled = assembler.transform(flights_selected)\n",
    "\n",
    "# Calculate correlation matrix\n",
    "try:\n",
    "    correlation_matrix = Correlation.corr(flights_assembled, \"features\").head()\n",
    "\n",
    "    # Extract the correlation matrix as a NumPy array\n",
    "    correlation_array = correlation_matrix[0].toArray()\n",
    "\n",
    "    # Convert correlation matrix to Pandas DataFrame\n",
    "    correlation_df = pd.DataFrame(correlation_array, columns=selected_columns, index=selected_columns)\n",
    "\n",
    "    # Use seaborn to create a heatmap\n",
    "    plt.figure(figsize=(10, 8))\n",
    "    sns.heatmap(correlation_df, annot=True, cmap=\"coolwarm\", fmt=\".2f\", linewidths=.5)\n",
    "    plt.title('Correlation Matrix Heatmap')\n",
    "    plt.show()\n",
    "\n",
    "except Exception as e:\n",
    "    print(f\"Error: {str(e)}\")\n",
    "    # Print more detailed information about the error for troubleshooting\n",
    "    raise e\n"
   ]
  },
  {
   "cell_type": "code",
   "execution_count": null,
   "id": "199d786f-10f5-4dda-8b89-bf310ab36acb",
   "metadata": {},
   "outputs": [],
   "source": []
  }
 ],
 "metadata": {
  "kernelspec": {
   "display_name": "PySpark",
   "language": "python",
   "name": "pyspark"
  },
  "language_info": {
   "codemirror_mode": {
    "name": "ipython",
    "version": 3
   },
   "file_extension": ".py",
   "mimetype": "text/x-python",
   "name": "python",
   "nbconvert_exporter": "python",
   "pygments_lexer": "ipython3",
   "version": "3.8.15"
  }
 },
 "nbformat": 4,
 "nbformat_minor": 5
}
