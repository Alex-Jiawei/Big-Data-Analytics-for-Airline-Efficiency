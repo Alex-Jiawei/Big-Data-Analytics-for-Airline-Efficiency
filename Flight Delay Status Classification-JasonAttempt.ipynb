{
 "cells": [
  {
   "cell_type": "markdown",
   "id": "e97e9cc8-a289-45e4-8324-f5b5e8f62655",
   "metadata": {},
   "source": [
    "# Flight Delay Status Classification"
   ]
  },
  {
   "cell_type": "code",
   "execution_count": 2,
   "id": "1881758e-0be4-447a-9cb4-788f93e1f22f",
   "metadata": {},
   "outputs": [],
   "source": [
    "from pyspark.sql import SparkSession\n",
    "from pyspark.sql.types import StructType, StructField, StringType, DoubleType, IntegerType, NullType\n",
    "from pyspark.ml.feature import OneHotEncoder, StringIndexer, VectorAssembler\n",
    "from pyspark.ml.evaluation import BinaryClassificationEvaluator\n",
    "from pyspark.ml.feature import StandardScaler, Imputer\n",
    "from pyspark.sql import functions as F\n",
    "from pyspark.sql.window import Window\n",
    "from pyspark.sql import SQLContext\n",
    "import pyspark.ml.feature as ftr\n",
    "import pyspark.ml as ml\n",
    " \n",
    "from pyspark.ml.classification import DecisionTreeClassifier\n",
    "from pyspark.ml.classification import RandomForestClassifier\n",
    "from pyspark.ml.classification import GBTClassifier\n",
    "from pyspark.mllib.linalg.distributed import RowMatrix\n",
    "from pyspark.ml.tuning import ParamGridBuilder\n",
    "from pyspark.ml.tuning import CrossValidator\n",
    "from pyspark.ml.tuning import TrainValidationSplit\n",
    "from pyspark.ml import PipelineModel\n",
    "from pyspark.mllib.linalg import Vectors\n",
    "from pyspark.ml.feature import PCA\n",
    " \n",
    "import pandas as pd\n",
    "import numpy as np\n",
    "import seaborn as sns\n",
    "import matplotlib.pyplot as plt\n",
    "from pyspark.ml import Pipeline"
   ]
  },
  {
   "cell_type": "markdown",
   "id": "5713e5fc-a85a-407a-915e-c3cbce23dced",
   "metadata": {},
   "source": [
    "### Data Loading and Initial Exploration"
   ]
  },
  {
   "cell_type": "code",
   "execution_count": 3,
   "id": "2a1b4b4f-66a9-4bb6-91c2-d18d9d51465b",
   "metadata": {},
   "outputs": [],
   "source": [
    "spark = SparkSession.builder.appName(\"FlightDelayPrediction\").getOrCreate()"
   ]
  },
  {
   "cell_type": "code",
   "execution_count": 4,
   "id": "b62fcbff-4b9f-4976-8a40-844499552bd9",
   "metadata": {},
   "outputs": [
    {
     "name": "stderr",
     "output_type": "stream",
     "text": [
      "                                                                                \r"
     ]
    }
   ],
   "source": [
    "flight_path = 'gs://msca-bdp-student-gcs/Group4_Final_Project/archive/Combined_Flights_2018-2022.parquet'\n",
    "airport_path = 'gs://msca-bdp-student-gcs/Group4_Final_Project/archive/Airports'\n",
    "\n",
    "flight = spark.read.parquet(flight_path)\n",
    "airport = spark.read.parquet(airport_path)"
   ]
  },
  {
   "cell_type": "code",
   "execution_count": 5,
   "id": "4a36cbf4-fb7e-4f09-8e89-f736dd05624b",
   "metadata": {},
   "outputs": [
    {
     "name": "stdout",
     "output_type": "stream",
     "text": [
      "root\n",
      " |-- FlightDate: timestamp (nullable = true)\n",
      " |-- Airline: string (nullable = true)\n",
      " |-- Origin: string (nullable = true)\n",
      " |-- Dest: string (nullable = true)\n",
      " |-- Cancelled: boolean (nullable = true)\n",
      " |-- Diverted: boolean (nullable = true)\n",
      " |-- CRSDepTime: long (nullable = true)\n",
      " |-- DepTime: double (nullable = true)\n",
      " |-- DepDelayMinutes: double (nullable = true)\n",
      " |-- DepDelay: double (nullable = true)\n",
      " |-- ArrTime: double (nullable = true)\n",
      " |-- ArrDelayMinutes: double (nullable = true)\n",
      " |-- AirTime: double (nullable = true)\n",
      " |-- CRSElapsedTime: double (nullable = true)\n",
      " |-- ActualElapsedTime: double (nullable = true)\n",
      " |-- Distance: double (nullable = true)\n",
      " |-- Year: long (nullable = true)\n",
      " |-- Quarter: long (nullable = true)\n",
      " |-- Month: long (nullable = true)\n",
      " |-- DayofMonth: long (nullable = true)\n",
      " |-- DayOfWeek: long (nullable = true)\n",
      " |-- Marketing_Airline_Network: string (nullable = true)\n",
      " |-- Operated_or_Branded_Code_Share_Partners: string (nullable = true)\n",
      " |-- DOT_ID_Marketing_Airline: long (nullable = true)\n",
      " |-- IATA_Code_Marketing_Airline: string (nullable = true)\n",
      " |-- Flight_Number_Marketing_Airline: long (nullable = true)\n",
      " |-- Operating_Airline: string (nullable = true)\n",
      " |-- DOT_ID_Operating_Airline: long (nullable = true)\n",
      " |-- IATA_Code_Operating_Airline: string (nullable = true)\n",
      " |-- Tail_Number: string (nullable = true)\n",
      " |-- Flight_Number_Operating_Airline: long (nullable = true)\n",
      " |-- OriginAirportID: long (nullable = true)\n",
      " |-- OriginAirportSeqID: long (nullable = true)\n",
      " |-- OriginCityMarketID: long (nullable = true)\n",
      " |-- OriginCityName: string (nullable = true)\n",
      " |-- OriginState: string (nullable = true)\n",
      " |-- OriginStateFips: long (nullable = true)\n",
      " |-- OriginStateName: string (nullable = true)\n",
      " |-- OriginWac: long (nullable = true)\n",
      " |-- DestAirportID: long (nullable = true)\n",
      " |-- DestAirportSeqID: long (nullable = true)\n",
      " |-- DestCityMarketID: long (nullable = true)\n",
      " |-- DestCityName: string (nullable = true)\n",
      " |-- DestState: string (nullable = true)\n",
      " |-- DestStateFips: long (nullable = true)\n",
      " |-- DestStateName: string (nullable = true)\n",
      " |-- DestWac: long (nullable = true)\n",
      " |-- DepDel15: double (nullable = true)\n",
      " |-- DepartureDelayGroups: double (nullable = true)\n",
      " |-- DepTimeBlk: string (nullable = true)\n",
      " |-- TaxiOut: double (nullable = true)\n",
      " |-- WheelsOff: double (nullable = true)\n",
      " |-- WheelsOn: double (nullable = true)\n",
      " |-- TaxiIn: double (nullable = true)\n",
      " |-- CRSArrTime: long (nullable = true)\n",
      " |-- ArrDelay: double (nullable = true)\n",
      " |-- ArrDel15: double (nullable = true)\n",
      " |-- ArrivalDelayGroups: double (nullable = true)\n",
      " |-- ArrTimeBlk: string (nullable = true)\n",
      " |-- DistanceGroup: long (nullable = true)\n",
      " |-- DivAirportLandings: double (nullable = true)\n",
      " |-- __index_level_0__: long (nullable = true)\n",
      "\n",
      "root\n",
      " |-- AIRPORT_SEQ_ID: integer (nullable = true)\n",
      " |-- AIRPORT_ID: integer (nullable = true)\n",
      " |-- AIRPORT: string (nullable = true)\n",
      " |-- DISPLAY_AIRPORT_NAME: string (nullable = true)\n",
      " |-- DISPLAY_AIRPORT_CITY_NAME_FULL: string (nullable = true)\n",
      " |-- AIRPORT_WAC_SEQ_ID2: integer (nullable = true)\n",
      " |-- AIRPORT_WAC: integer (nullable = true)\n",
      " |-- AIRPORT_COUNTRY_NAME: string (nullable = true)\n",
      " |-- AIRPORT_COUNTRY_CODE_ISO: string (nullable = true)\n",
      " |-- AIRPORT_STATE_NAME: string (nullable = true)\n",
      " |-- AIRPORT_STATE_CODE: string (nullable = true)\n",
      " |-- AIRPORT_STATE_FIPS: integer (nullable = true)\n",
      " |-- CITY_MARKET_SEQ_ID: integer (nullable = true)\n",
      " |-- CITY_MARKET_ID: integer (nullable = true)\n",
      " |-- DISPLAY_CITY_MARKET_NAME_FULL: string (nullable = true)\n",
      " |-- CITY_MARKET_WAC_SEQ_ID2: integer (nullable = true)\n",
      " |-- CITY_MARKET_WAC: integer (nullable = true)\n",
      " |-- LAT_DEGREES: integer (nullable = true)\n",
      " |-- LAT_HEMISPHERE: string (nullable = true)\n",
      " |-- LAT_MINUTES: integer (nullable = true)\n",
      " |-- LAT_SECONDS: integer (nullable = true)\n",
      " |-- LATITUDE: double (nullable = true)\n",
      " |-- LON_DEGREES: integer (nullable = true)\n",
      " |-- LON_HEMISPHERE: string (nullable = true)\n",
      " |-- LON_MINUTES: integer (nullable = true)\n",
      " |-- LON_SECONDS: integer (nullable = true)\n",
      " |-- LONGITUDE: double (nullable = true)\n",
      " |-- UTC_LOCAL_TIME_VARIATION: integer (nullable = true)\n",
      " |-- AIRPORT_START_DATE: string (nullable = true)\n",
      " |-- AIRPORT_THRU_DATE: string (nullable = true)\n",
      " |-- AIRPORT_IS_CLOSED: integer (nullable = true)\n",
      " |-- AIRPORT_IS_LATEST: integer (nullable = true)\n",
      " |-- _c32: string (nullable = true)\n",
      "\n"
     ]
    }
   ],
   "source": [
    "flight.printSchema()\n",
    "airport.printSchema()"
   ]
  },
  {
   "cell_type": "code",
   "execution_count": 6,
   "id": "5fb58862-a2f9-4861-8371-ed28b5900b12",
   "metadata": {},
   "outputs": [
    {
     "name": "stderr",
     "output_type": "stream",
     "text": [
      "                                                                                \r"
     ]
    },
    {
     "name": "stdout",
     "output_type": "stream",
     "text": [
      "Number of flight records loaded: 29,193,782\n",
      "Number of airport records loaded: 13,386\n"
     ]
    }
   ],
   "source": [
    "print('Number of flight records loaded: ' + f'{flight.count():,}')\n",
    "print('Number of airport records loaded: ' + f'{airport.count():,}')"
   ]
  },
  {
   "cell_type": "code",
   "execution_count": 11,
   "id": "b450853f-c63e-465a-88cd-6a9253cd2028",
   "metadata": {},
   "outputs": [
    {
     "name": "stderr",
     "output_type": "stream",
     "text": [
      "[Stage 16:================>                                       (5 + 12) / 17]\r"
     ]
    },
    {
     "name": "stdout",
     "output_type": "stream",
     "text": [
      "+----+----------------+\n",
      "|Year|Count of Records|\n",
      "+----+----------------+\n",
      "|2018|         5689512|\n",
      "|2019|         8091684|\n",
      "|2020|         5022397|\n",
      "|2021|         6311871|\n",
      "|2022|         4078318|\n",
      "+----+----------------+\n",
      "\n"
     ]
    },
    {
     "name": "stderr",
     "output_type": "stream",
     "text": [
      "                                                                                \r"
     ]
    }
   ],
   "source": [
    "yearly_counts = flight.groupBy(\"Year\").agg(F.count(\"*\").alias(\"Count of Records\")).orderBy(\"Year\")\n",
    "\n",
    "yearly_counts.show()"
   ]
  },
  {
   "cell_type": "code",
   "execution_count": 7,
   "id": "c2fad28b-2531-4f18-841b-6337c41329ca",
   "metadata": {},
   "outputs": [],
   "source": [
    "# Filter US airport only \n",
    "def airport_transform(dataframe):\n",
    "  return (\n",
    "    dataframe\n",
    "    .filter(\"AIRPORT_COUNTRY_CODE_ISO = 'US'\")\n",
    "    .dropDuplicates(['AIRPORT'])\n",
    "    )"
   ]
  },
  {
   "cell_type": "code",
   "execution_count": 8,
   "id": "eefe1b29-499d-4e11-8b9c-c057be8e5462",
   "metadata": {},
   "outputs": [
    {
     "name": "stderr",
     "output_type": "stream",
     "text": [
      "23/11/26 20:26:22 WARN org.apache.spark.sql.catalyst.util.package: Truncated the string representation of a plan since it was too large. This behavior can be adjusted by setting 'spark.sql.debug.maxToStringFields'.\n",
      "[Stage 8:>                                                          (0 + 1) / 1]\r"
     ]
    },
    {
     "name": "stdout",
     "output_type": "stream",
     "text": [
      "+--------------+----------+-------+--------------------+------------------------------+-------------------+-----------+--------------------+------------------------+------------------+------------------+------------------+------------------+--------------+-----------------------------+-----------------------+---------------+-----------+--------------+-----------+-----------+-----------+-----------+--------------+-----------+-----------+-------------+------------------------+------------------+-----------------+-----------------+-----------------+----+\n",
      "|AIRPORT_SEQ_ID|AIRPORT_ID|AIRPORT|DISPLAY_AIRPORT_NAME|DISPLAY_AIRPORT_CITY_NAME_FULL|AIRPORT_WAC_SEQ_ID2|AIRPORT_WAC|AIRPORT_COUNTRY_NAME|AIRPORT_COUNTRY_CODE_ISO|AIRPORT_STATE_NAME|AIRPORT_STATE_CODE|AIRPORT_STATE_FIPS|CITY_MARKET_SEQ_ID|CITY_MARKET_ID|DISPLAY_CITY_MARKET_NAME_FULL|CITY_MARKET_WAC_SEQ_ID2|CITY_MARKET_WAC|LAT_DEGREES|LAT_HEMISPHERE|LAT_MINUTES|LAT_SECONDS|   LATITUDE|LON_DEGREES|LON_HEMISPHERE|LON_MINUTES|LON_SECONDS|    LONGITUDE|UTC_LOCAL_TIME_VARIATION|AIRPORT_START_DATE|AIRPORT_THRU_DATE|AIRPORT_IS_CLOSED|AIRPORT_IS_LATEST|_c32|\n",
      "+--------------+----------+-------+--------------------+------------------------------+-------------------+-----------+--------------------+------------------------+------------------+------------------+------------------+------------------+--------------+-----------------------------+-----------------------+---------------+-----------+--------------+-----------+-----------+-----------+-----------+--------------+-----------+-----------+-------------+------------------------+------------------+-----------------+-----------------+-----------------+----+\n",
      "|       1003601|     10036|    A23|Bradley Lake Airport|              Bradley Lake, AK|                101|          1|       United States|                      US|            Alaska|                AK|                 2|           3003601|         30036|             Bradley Lake, AK|                    101|              1|         59|             N|         46|         34|59.77611111|        151|             W|         57|         49|-151.96361111|                    null|        2003-01-01|             null|                0|                1|null|\n",
      "|       1005901|     10059|    A46|Lake Hasselborg A...|           Lake Hasselborg, AK|                101|          1|       United States|                      US|            Alaska|                AK|                 2|           3005901|         30059|          Lake Hasselborg, AK|                    101|              1|         57|             N|         42|          0|       57.7|        134|             W|         16|          0|-134.26666667|                    null|        2004-07-01|             null|                0|                1|null|\n",
      "|       1006001|     10060|    A47| Distin Lake Airport|               Distin Lake, AK|                101|          1|       United States|                      US|            Alaska|                AK|                 2|           3006001|         30060|              Distin Lake, AK|                    101|              1|         57|             N|         37|          0|57.61666667|        134|             W|         22|          0|-134.36666667|                    null|        2004-07-01|             null|                0|                1|null|\n",
      "|       1007801|     10078|    A65|Karluk Portage Ai...|            Karluk Portage, AK|                101|          1|       United States|                      US|            Alaska|                AK|                 2|           3007801|         30078|           Karluk Portage, AK|                    101|              1|         57|             N|         32|         18|57.53833333|        154|             W|          9|         52|-154.16444444|                    null|        2005-06-01|             null|                0|                1|null|\n",
      "|       1008901|     10089|    A76| Red Fox Bay Airport|               Red Fox Bay, AK|                101|          1|       United States|                      US|            Alaska|                AK|                 2|           3008901|         30089|              Red Fox Bay, AK|                    101|              1|         58|             N|         27|         52|58.46444444|        152|             W|         35|         35|-152.59305556|                    null|        2005-10-01|             null|                0|                1|null|\n",
      "+--------------+----------+-------+--------------------+------------------------------+-------------------+-----------+--------------------+------------------------+------------------+------------------+------------------+------------------+--------------+-----------------------------+-----------------------+---------------+-----------+--------------+-----------+-----------+-----------+-----------+--------------+-----------+-----------+-------------+------------------------+------------------+-----------------+-----------------+-----------------+----+\n",
      "only showing top 5 rows\n",
      "\n"
     ]
    },
    {
     "name": "stderr",
     "output_type": "stream",
     "text": [
      "                                                                                \r"
     ]
    }
   ],
   "source": [
    "airport = airport_transform(airport)\n",
    "airport.show(5)"
   ]
  },
  {
   "cell_type": "code",
   "execution_count": 9,
   "id": "de61807f-ddde-44bb-9f95-d27c45d3f006",
   "metadata": {},
   "outputs": [
    {
     "name": "stderr",
     "output_type": "stream",
     "text": [
      "[Stage 12:======================================>                   (6 + 3) / 9]\r"
     ]
    },
    {
     "name": "stdout",
     "output_type": "stream",
     "text": [
      "Number of airports that co-exist in the airline dataset: 387\n"
     ]
    },
    {
     "name": "stderr",
     "output_type": "stream",
     "text": [
      "                                                                                \r"
     ]
    }
   ],
   "source": [
    "# Keep airports that co-exist in the airline dataset\n",
    "flight.createOrReplaceTempView('flight')\n",
    "airport.createOrReplaceTempView('airport')\n",
    "\n",
    "filtered_airport = spark.sql(\n",
    "  \"\"\"\n",
    "  SELECT * \n",
    "  FROM airport \n",
    "  WHERE \n",
    "    AIRPORT IN (\n",
    "      SELECT DISTINCT ORIGIN FROM flight AS airline_subquery\n",
    "      UNION\n",
    "      SELECT DISTINCT DEST FROM flight AS airline_subquery\n",
    "    )\n",
    "  \"\"\"\n",
    ")\n",
    "airport = spark.read.option(\"header\", \"true\").parquet(\"gs://msca-bdp-student-gcs/Group4_Final_Project/archive/Flight Delay Status Classification/filtered_airport\")\n",
    "\n",
    "airport.createOrReplaceTempView('airport')\n",
    "\n",
    "print('Number of airports that co-exist in the airline dataset: ' + f'{airport.count():,}')"
   ]
  },
  {
   "cell_type": "code",
   "execution_count": 10,
   "id": "949b237f-6051-4f28-b072-4d2f4df83143",
   "metadata": {},
   "outputs": [
    {
     "name": "stderr",
     "output_type": "stream",
     "text": [
      "[Stage 17:>                                                         (0 + 1) / 1]\r"
     ]
    },
    {
     "name": "stdout",
     "output_type": "stream",
     "text": [
      "+----+-------+-----+----------+---------+----------+-----------------+-----------+-------------------------------+------+-------------------+-----------+----+------------+---------+----------+-------+---------------+----------+----------+-------+---------------+----------+--------+-------------+--------+--------+---------------+-------------+------------+\n",
      "|Year|Quarter|Month|DayofMonth|DayOfWeek|FlightDate|Operating_Airline|Tail_Number|Flight_Number_Operating_Airline|Origin|     OriginCityName|OriginState|Dest|DestCityName|DestState|CRSDepTime|DepTime|DepDelayMinutes|DepTimeBlk|CRSArrTime|ArrTime|ArrDelayMinutes|ArrTimeBlk|Distance|DistanceGroup|DepDel15|ArrDel15|OriginAirportID|DestAirportID|PR_ARR_DEL15|\n",
      "+----+-------+-----+----------+---------+----------+-----------------+-----------+-------------------------------+------+-------------------+-----------+----+------------+---------+----------+-------+---------------+----------+----------+-------+---------------+----------+--------+-------------+--------+--------+---------------+-------------+------------+\n",
      "|2020|      4|   11|        29|        7|2020-11-29|               G4|      282NV|                            437|   TYS|      Knoxville, TN|         TN| SFB| Sanford, FL|       FL|       600|      6|            0.0| 0600-0659|       731|      7|            0.0| 0700-0759|   511.0|            3|     0.0|     0.0|          15412|        14761|        null|\n",
      "|2021|      3|    7|        19|        1|2021-07-19|               G4|      282NV|                           1753|   FLL|Fort Lauderdale, FL|         FL| MEM| Memphis, TN|       TN|       600|      6|            0.0| 0600-0659|       725|      7|            0.0| 0700-0759|   851.0|            4|     0.0|     0.0|          11697|        13244|         0.0|\n",
      "|2021|      3|    7|         8|        4|2021-07-08|               G4|      282NV|                           1792|   FLL|Fort Lauderdale, FL|         FL| LCK|Columbus, OH|       OH|       600|      6|            2.0| 0600-0659|       827|      8|            0.0| 0800-0859|   961.0|            4|     0.0|     0.0|          11697|        12917|         0.0|\n",
      "|2021|      3|    7|        25|        7|2021-07-25|               G4|      282NV|                           1792|   FLL|Fort Lauderdale, FL|         FL| LCK|Columbus, OH|       OH|       600|      6|            0.0| 0600-0659|       827|      8|            3.0| 0800-0859|   961.0|            4|     0.0|     0.0|          11697|        12917|         0.0|\n",
      "|2021|      3|    7|        30|        5|2021-07-30|               G4|      282NV|                           1753|   FLL|Fort Lauderdale, FL|         FL| MEM| Memphis, TN|       TN|       600|      6|            0.0| 0600-0659|       724|      7|            0.0| 0700-0759|   851.0|            4|     0.0|     0.0|          11697|        13244|         0.0|\n",
      "|2021|      3|    7|        17|        6|2021-07-17|               G4|      282NV|                           1758|   FLL|Fort Lauderdale, FL|         FL| USA| Concord, NC|       NC|       600|      6|            0.0| 0600-0659|       755|      7|            0.0| 0700-0759|   643.0|            3|     0.0|     0.0|          11697|        12544|         0.0|\n",
      "|2021|      3|    7|         2|        5|2021-07-02|               G4|      282NV|                           1714|   FLL|Fort Lauderdale, FL|         FL| MEM| Memphis, TN|       TN|       600|      6|            0.0| 0600-0659|       728|      7|            0.0| 0700-0759|   851.0|            4|     0.0|     0.0|          11697|        13244|         0.0|\n",
      "|2021|      3|    7|        26|        1|2021-07-26|               G4|      282NV|                           1753|   FLL|Fort Lauderdale, FL|         FL| MEM| Memphis, TN|       TN|       600|      6|            0.0| 0600-0659|       725|      7|            0.0| 0700-0759|   851.0|            4|     0.0|     0.0|          11697|        13244|         0.0|\n",
      "|2021|      3|    7|         1|        4|2021-07-01|               G4|      282NV|                           1717|   FLL|Fort Lauderdale, FL|         FL| LCK|Columbus, OH|       OH|       600|      6|            0.0| 0600-0659|       831|      8|            0.0| 0800-0859|   961.0|            4|     0.0|     0.0|          11697|        12917|         0.0|\n",
      "|2021|      3|    7|        16|        5|2021-07-16|               G4|      282NV|                           1753|   FLL|Fort Lauderdale, FL|         FL| MEM| Memphis, TN|       TN|       600|      6|            0.0| 0600-0659|       725|      7|            0.0| 0700-0759|   851.0|            4|     0.0|     0.0|          11697|        13244|         0.0|\n",
      "+----+-------+-----+----------+---------+----------+-----------------+-----------+-------------------------------+------+-------------------+-----------+----+------------+---------+----------+-------+---------------+----------+----------+-------+---------------+----------+--------+-------------+--------+--------+---------------+-------------+------------+\n",
      "only showing top 10 rows\n",
      "\n"
     ]
    },
    {
     "name": "stderr",
     "output_type": "stream",
     "text": [
      "                                                                                \r"
     ]
    }
   ],
   "source": [
    "def flight_transform(dataframe):\n",
    "    selected_col = [\"Year\", \"Quarter\", \"Month\", \"DayofMonth\", \"DayOfWeek\", \"FlightDate\",\n",
    "                    \"Operating_Airline\", \"Tail_Number\", \"Flight_Number_Operating_Airline\", \n",
    "                    \"Origin\", \"OriginCityName\", \"OriginState\", \"Dest\", \"DestCityName\", \n",
    "                    \"DestState\", \"CRSDepTime\", \"DepTime\", \"DepDelayMinutes\", \"DepTimeBlk\", \n",
    "                    \"CRSArrTime\", \"ArrTime\", \"ArrDelayMinutes\", \"ArrTimeBlk\", \"Distance\", \n",
    "                    \"DistanceGroup\", \"DepDel15\", \"ArrDel15\", \"OriginAirportID\", \n",
    "                    \"DestAirportID\", \"PR_ARR_DEL15\"]\n",
    "\n",
    "    # Creating a window partition to extract prior arrival delay\n",
    "    windowSpec = Window.partitionBy(\"Tail_Number\").orderBy(\"CRSDepTime\")\n",
    "\n",
    "    return (\n",
    "        dataframe\n",
    "        .filter(\"Cancelled != 1 AND Diverted != 1\")\n",
    "        .withColumn(\"FlightDate\", F.col(\"FlightDate\").cast(\"date\"))\n",
    "        .withColumn(\"Flight_Number_Operating_Airline\", F.col(\"Flight_Number_Operating_Airline\").cast(\"string\"))\n",
    "        .withColumn(\"DepTime\", F.col(\"DepTimeBlk\").substr(1, 2).cast(\"int\")) \n",
    "        .withColumn(\"ArrTime\", F.col(\"ArrTimeBlk\").substr(1, 2).cast(\"int\"))\n",
    "        .withColumn(\"DistanceGroup\", F.col(\"DistanceGroup\").cast(\"string\"))\n",
    "        .withColumn(\"DepDel15\", F.col(\"DepDel15\").cast(\"string\"))\n",
    "        .withColumn(\"ArrDel15\", F.col(\"ArrDel15\").cast(\"string\"))\n",
    "        .withColumn(\"Year\", F.col(\"Year\").cast(\"string\"))\n",
    "        .withColumn(\"Quarter\", F.col(\"Quarter\").cast(\"string\"))\n",
    "        .withColumn(\"Month\", F.col(\"Month\").cast(\"string\"))\n",
    "        .withColumn(\"DayofMonth\", F.col(\"DayofMonth\").cast(\"string\"))\n",
    "        .withColumn(\"DayofWeek\", F.col(\"DayofWeek\").cast(\"string\"))\n",
    "        .withColumn(\"PR_ARR_DEL15\", F.lag(F.col(\"ArrDel15\"), 1).over(windowSpec).cast(\"string\"))\n",
    "        .select(selected_col)\n",
    "    )\n",
    "cleaned_flight = flight_transform(flight)\n",
    "cleaned_flight.show(10)"
   ]
  },
  {
   "cell_type": "code",
   "execution_count": 16,
   "id": "9eb7d1d9-710d-498e-8673-c165d474a2a3",
   "metadata": {},
   "outputs": [
    {
     "name": "stdout",
     "output_type": "stream",
     "text": [
      "Total flight data number: 28,348,168\n"
     ]
    }
   ],
   "source": [
    "print('Total flight data number: ' + f'{cleaned_flight.count():,}')"
   ]
  },
  {
   "cell_type": "code",
   "execution_count": 17,
   "id": "1a51059a-c010-4a1f-a1f2-0b1ac273eae4",
   "metadata": {},
   "outputs": [
    {
     "name": "stdout",
     "output_type": "stream",
     "text": [
      "28348168\n"
     ]
    }
   ],
   "source": [
    "print(cleaned_flight.count())"
   ]
  },
  {
   "cell_type": "raw",
   "id": "357a63f1-11e0-4313-a0cc-dc81a312bcb0",
   "metadata": {},
   "source": [
    "# Specify the path where you want to save the CSV file\n",
    "output_path = \"gs://msca-bdp-student-gcs/Group4_Final_Project/archive/Weather_Data\"  # Replace with your desired file path\n",
    "\n",
    "# Use the limit method to select the first 1,000 rows\n",
    "first_1000_rows = cleaned_flight.limit(1000)\n",
    "\n",
    "# Use the write method to save the selected DataFrame to a CSV file\n",
    "first_1000_rows.write.csv(output_path, header=True, mode=\"overwrite\")\n",
    "\n",
    "print(\"printed\")"
   ]
  },
  {
   "cell_type": "markdown",
   "id": "08a40d73-c5d8-46f7-9d20-c14a6d61aaf3",
   "metadata": {},
   "source": [
    "### Exploratory Data Analysis (EDA)"
   ]
  },
  {
   "cell_type": "markdown",
   "id": "1b79b7ac-d95d-441a-88c7-c8577c9e5ca4",
   "metadata": {},
   "source": [
    "##### 1. Basic Data Exploration"
   ]
  },
  {
   "cell_type": "code",
   "execution_count": 11,
   "id": "2405f8f3-bf75-4637-9e87-d040f74445c9",
   "metadata": {},
   "outputs": [
    {
     "name": "stdout",
     "output_type": "stream",
     "text": [
      "root\n",
      " |-- Year: string (nullable = true)\n",
      " |-- Quarter: string (nullable = true)\n",
      " |-- Month: string (nullable = true)\n",
      " |-- DayofMonth: string (nullable = true)\n",
      " |-- DayOfWeek: string (nullable = true)\n",
      " |-- FlightDate: date (nullable = true)\n",
      " |-- Operating_Airline: string (nullable = true)\n",
      " |-- Tail_Number: string (nullable = true)\n",
      " |-- Flight_Number_Operating_Airline: string (nullable = true)\n",
      " |-- Origin: string (nullable = true)\n",
      " |-- OriginCityName: string (nullable = true)\n",
      " |-- OriginState: string (nullable = true)\n",
      " |-- Dest: string (nullable = true)\n",
      " |-- DestCityName: string (nullable = true)\n",
      " |-- DestState: string (nullable = true)\n",
      " |-- CRSDepTime: long (nullable = true)\n",
      " |-- DepTime: integer (nullable = true)\n",
      " |-- DepDelayMinutes: double (nullable = true)\n",
      " |-- DepTimeBlk: string (nullable = true)\n",
      " |-- CRSArrTime: long (nullable = true)\n",
      " |-- ArrTime: integer (nullable = true)\n",
      " |-- ArrDelayMinutes: double (nullable = true)\n",
      " |-- ArrTimeBlk: string (nullable = true)\n",
      " |-- Distance: double (nullable = true)\n",
      " |-- DistanceGroup: string (nullable = true)\n",
      " |-- DepDel15: string (nullable = true)\n",
      " |-- ArrDel15: string (nullable = true)\n",
      " |-- OriginAirportID: long (nullable = true)\n",
      " |-- DestAirportID: long (nullable = true)\n",
      " |-- PR_ARR_DEL15: string (nullable = true)\n",
      "\n"
     ]
    },
    {
     "name": "stderr",
     "output_type": "stream",
     "text": [
      "[Stage 20:======================================================> (46 + 1) / 47]\r"
     ]
    },
    {
     "name": "stdout",
     "output_type": "stream",
     "text": [
      "+-------+------------------+------------------+-----------------+------------------+------------------+-----------------+-----------+-------------------------------+--------+--------------+-----------+--------+------------+---------+-----------------+------------------+------------------+----------+------------------+------------------+------------------+----------+-----------------+-----------------+------------------+-------------------+------------------+------------------+-------------------+\n",
      "|summary|              Year|           Quarter|            Month|        DayofMonth|         DayOfWeek|Operating_Airline|Tail_Number|Flight_Number_Operating_Airline|  Origin|OriginCityName|OriginState|    Dest|DestCityName|DestState|       CRSDepTime|           DepTime|   DepDelayMinutes|DepTimeBlk|        CRSArrTime|           ArrTime|   ArrDelayMinutes|ArrTimeBlk|         Distance|    DistanceGroup|          DepDel15|           ArrDel15|   OriginAirportID|     DestAirportID|       PR_ARR_DEL15|\n",
      "+-------+------------------+------------------+-----------------+------------------+------------------+-----------------+-----------+-------------------------------+--------+--------------+-----------+--------+------------+---------+-----------------+------------------+------------------+----------+------------------+------------------+------------------+----------+-----------------+-----------------+------------------+-------------------+------------------+------------------+-------------------+\n",
      "|  count|          28348168|          28348168|         28348168|          28348168|          28348168|         28348168|   28348149|                       28348168|28348168|      28348168|   28348168|28348168|    28348168| 28348168|         28348168|          28348168|          28347063|  28348168|          28348168|          28348168|          28347599|  28348168|         28348168|         28348168|          28347063|           28347599|          28348168|          28348168|           28340548|\n",
      "|   mean|2019.8230597123595|2.4619180329395536| 6.36945258684794|15.739512408703096|3.9748880068722605|             null|       null|              2686.802405502888|    null|          null|       null|    null|        null|     null|1325.313560509448|12.880048156903825|12.717679570543163|      null|1488.2135618428676|14.551381768303335|12.809917023307689|      null|781.4400993390473|3.599978383082815|0.1722435583538231|0.17662070780668232|12677.523598420892|12677.983009484069|0.17661278109371772|\n",
      "| stddev|1.3458059784308143|1.1220665029170263|3.455939248893219| 8.764459304780777|2.0022487251947036|             null|       null|             1838.6668435798688|    null|          null|       null|    null|        null|     null|482.1187394815875| 5.021931045187212| 45.99345782368199|      null| 506.9278069546123| 5.156088530047352|45.799592150704015|      null|582.7599408693418|2.292743482251391|0.3775920020194853| 0.3813473987201726|1526.1931718406101|1526.4285717321907|0.38134067679602235|\n",
      "|    min|              2018|                 1|                1|                 1|                 1|               9E|      202NV|                              1|     ABE|  Aberdeen, SD|         AK|     ABE|Aberdeen, SD|       AK|                1|                 0|               0.0| 0001-0559|                 1|                 0|               0.0| 0001-0559|             16.0|                1|               0.0|                0.0|             10135|             10135|                0.0|\n",
      "|    max|              2022|                 4|                9|                 9|                 7|               ZW|       SS25|                            999|     YUM|      Yuma, AZ|         WY|     YUM|    Yuma, AZ|       WY|             2359|                23|            7223.0| 2300-2359|              2400|                23|            7232.0| 2300-2359|           5812.0|                9|               1.0|                1.0|             16869|             16869|                1.0|\n",
      "+-------+------------------+------------------+-----------------+------------------+------------------+-----------------+-----------+-------------------------------+--------+--------------+-----------+--------+------------+---------+-----------------+------------------+------------------+----------+------------------+------------------+------------------+----------+-----------------+-----------------+------------------+-------------------+------------------+------------------+-------------------+\n",
      "\n"
     ]
    },
    {
     "name": "stderr",
     "output_type": "stream",
     "text": [
      "                                                                                \r"
     ]
    }
   ],
   "source": [
    "cleaned_flight.printSchema()\n",
    "\n",
    "cleaned_flight.describe().show()"
   ]
  },
  {
   "cell_type": "markdown",
   "id": "e84cf371-6fd4-4111-88f1-aa69b6d46ea7",
   "metadata": {},
   "source": [
    "##### 2. Exploring Specific Columns"
   ]
  },
  {
   "cell_type": "code",
   "execution_count": 19,
   "id": "5b0b488c-3430-4694-a2cf-5621d3d4f935",
   "metadata": {},
   "outputs": [
    {
     "name": "stderr",
     "output_type": "stream",
     "text": [
      "                                                                                \r"
     ]
    },
    {
     "name": "stdout",
     "output_type": "stream",
     "text": [
      "+-------+------------------+------------------+------------------+-------------------+\n",
      "|summary|   DepDelayMinutes|   ArrDelayMinutes|          DepDel15|           ArrDel15|\n",
      "+-------+------------------+------------------+------------------+-------------------+\n",
      "|  count|          28347063|          28347599|          28347063|           28347599|\n",
      "|   mean|12.717679570543163|12.809917023307689|0.1722435583538231|0.17662070780668232|\n",
      "| stddev|45.993457823681524| 45.79959215070429| 0.377592002019486|0.38134739872017354|\n",
      "|    min|               0.0|               0.0|               0.0|                0.0|\n",
      "|    25%|               0.0|               0.0|               0.0|                0.0|\n",
      "|    50%|               0.0|               0.0|               0.0|                0.0|\n",
      "|    75%|               5.0|               6.0|               0.0|                0.0|\n",
      "|    max|            7223.0|            7232.0|               1.0|                1.0|\n",
      "+-------+------------------+------------------+------------------+-------------------+\n",
      "\n"
     ]
    },
    {
     "name": "stderr",
     "output_type": "stream",
     "text": [
      "                                                                                \r"
     ]
    },
    {
     "name": "stdout",
     "output_type": "stream",
     "text": [
      "Missing values in DepDelayMinutes: 1105\n",
      "Missing values in ArrDelayMinutes: 569\n"
     ]
    },
    {
     "name": "stderr",
     "output_type": "stream",
     "text": [
      "                                                                                \r"
     ]
    },
    {
     "name": "stdout",
     "output_type": "stream",
     "text": [
      "Missing values in DepDel15: 1105\n"
     ]
    },
    {
     "name": "stderr",
     "output_type": "stream",
     "text": [
      "[Stage 53:=================================================>      (29 + 4) / 33]\r"
     ]
    },
    {
     "name": "stdout",
     "output_type": "stream",
     "text": [
      "Missing values in ArrDel15: 569\n"
     ]
    },
    {
     "name": "stderr",
     "output_type": "stream",
     "text": [
      "                                                                                \r"
     ]
    }
   ],
   "source": [
    "from pyspark.sql.functions import col\n",
    "\n",
    "# Selecting specific columns for analysis\n",
    "delay_columns = ['DepDelayMinutes', 'ArrDelayMinutes', 'DepDel15', 'ArrDel15']\n",
    "cleaned_flight.select(delay_columns).summary().show()\n",
    "\n",
    "# Count of null or missing values\n",
    "for column in delay_columns:\n",
    "    missing_count = cleaned_flight.filter(col(column).isNull()).count()\n",
    "    print(f\"Missing values in {column}: {missing_count}\")"
   ]
  },
  {
   "cell_type": "markdown",
   "id": "4231e0db-75d1-4e72-adef-0e92e51c334d",
   "metadata": {},
   "source": [
    "###### Count: Indicates the number of records. There are over 28 million records for each variable, which is a substantial dataset.\n",
    "\n",
    "###### Mean: The average DepDelayMinutes and ArrDelayMinutes are approximately 12.7 and 12.8 minutes, respectively. This suggests that on average, flights have a slight delay. The mean values for DepDel15 and ArrDel15 are close to 0.17 and 0.18, respectively, indicating that around 17-18% of flights are delayed by more than 15 minutes either on departure or arrival.\n",
    "\n",
    "###### Standard Deviation (stddev): The standard deviations for both DepDelayMinutes and ArrDelayMinutes are around 46 minutes, which is quite high. This large deviation indicates a wide spread in the delay times, with some flights experiencing significantly higher delays than the average.\n",
    "\n",
    "###### Minimum (min): The minimum values for all columns are 0. This is expected as the minimum delay time and delay indicator can't be less than 0.\n",
    "\n",
    "###### Percentiles (25%, 50%, 75%): These values give a sense of the distribution. For both delay minutes, the 25th and 50th percentiles are 0, which means that at least half of the flights are on time or early. The 75th percentile is 5 minutes for departure delays and 6 minutes for arrival delays, indicating that 75% of flights have delays within these bounds.\n",
    "\n",
    "###### Maximum (max): The maximum values for DepDelayMinutes and ArrDelayMinutes are over 7200 minutes, which is extremely high. These could be outliers or special cases where flights were delayed for extraordinary reasons.\n",
    "\n",
    "###### Insights: A significant portion of flights (about 17-18%) experience delays of more than 15 minutes. While the average delay is around 12-13 minutes, the wide standard deviation suggests that the flight delay times vary greatly. The majority of flights are on time or have minimal delays, as indicated by the 25th and 50th percentile values. There are extreme cases of delays, as seen in the maximum values, but these are not the norm."
   ]
  },
  {
   "cell_type": "markdown",
   "id": "61164ad4-3ec0-4ee9-9203-71c8cc0c2105",
   "metadata": {},
   "source": [
    "##### 3. Visualizations"
   ]
  },
  {
   "cell_type": "code",
   "execution_count": null,
   "id": "86bc2e3d-8497-404b-a14f-bfe8132fd0e2",
   "metadata": {},
   "outputs": [
    {
     "name": "stderr",
     "output_type": "stream",
     "text": [
      "                                                                                \r"
     ]
    },
    {
     "data": {
      "image/png": "[encoded data removed]",
      "text/plain": [
       "<Figure size 500x500 with 6 Axes>"
      ]
     },
     "metadata": {},
     "output_type": "display_data"
    }
   ],
   "source": [
    "import pandas as pd\n",
    "import matplotlib.pyplot as plt\n",
    "import seaborn as sns\n",
    "\n",
    "# Convert to Pandas DataFrame for visualization\n",
    "pdf = cleaned_flight.select(delay_columns).toPandas()\n",
    "\n",
    "# Set the aesthetics for the plot\n",
    "sns.set(style=\"whitegrid\", palette=\"muted\")\n",
    "\n",
    "# Create a pairplot\n",
    "# You can also add hue if you have a categorical variable to differentiate between categories\n",
    "# For example: sns.pairplot(pdf, hue='YourCategoricalColumn')\n",
    "pair_plot = sns.pairplot(pdf)\n",
    "\n",
    "# Enhancing the plot\n",
    "pair_plot.fig.suptitle(\"Pairplot of Delay Columns\", y=1.02) # Add a title and adjust its position\n",
    "plt.show()"
   ]
  },
  {
   "cell_type": "code",
   "execution_count": null,
   "id": "6fb30e35-f428-4b53-9e25-1975f4753a88",
   "metadata": {},
   "outputs": [
    {
     "name": "stderr",
     "output_type": "stream",
     "text": [
      "                                                                                \r"
     ]
    },
    {
     "data": {
      "image/png": "[encoded data removed]",
      "text/plain": [
       "<Figure size 1200x600 with 2 Axes>"
      ]
     },
     "metadata": {},
     "output_type": "display_data"
    }
   ],
   "source": [
    "# Histograms for Delay Minutes\n",
    "\n",
    "import pandas as pd\n",
    "import matplotlib.pyplot as plt\n",
    "import seaborn as sns\n",
    "\n",
    "# Convert Spark DataFrame to Pandas DataFrame for visualization\n",
    "pdf = cleaned_flight.select('DepDelayMinutes', 'ArrDelayMinutes').toPandas()\n",
    "\n",
    "# Setting the aesthetics for the plots\n",
    "sns.set(style=\"whitegrid\")\n",
    "\n",
    "# Plotting histograms\n",
    "plt.figure(figsize=(12, 6))\n",
    "plt.subplot(1, 2, 1)\n",
    "sns.histplot(pdf['DepDelayMinutes'], kde=True, color=\"skyblue\")\n",
    "plt.title('Histogram of Departure Delay Minutes')\n",
    "plt.xlabel('Departure Delay Minutes')\n",
    "\n",
    "plt.subplot(1, 2, 2)\n",
    "sns.histplot(pdf['ArrDelayMinutes'], kde=True, color=\"olive\")\n",
    "plt.title('Histogram of Arrival Delay Minutes')\n",
    "plt.xlabel('Arrival Delay Minutes')\n",
    "\n",
    "plt.tight_layout()\n",
    "plt.show()"
   ]
  },
  {
   "cell_type": "code",
   "execution_count": null,
   "id": "5e3ad247-81b2-4f05-a01f-7e80a2971055",
   "metadata": {},
   "outputs": [
    {
     "name": "stderr",
     "output_type": "stream",
     "text": [
      "                                                                                \r"
     ]
    },
    {
     "data": {
      "image/png": "[encoded data removed]",
      "text/plain": [
       "<Figure size 1000x600 with 1 Axes>"
      ]
     },
     "metadata": {},
     "output_type": "display_data"
    }
   ],
   "source": [
    "# Boxplot for Delays by Day of Week\n",
    "\n",
    "# Convert to Pandas DataFrame\n",
    "pdf = cleaned_flight.select('DayOfWeek', 'DepDelayMinutes').toPandas()\n",
    "\n",
    "# Plotting\n",
    "plt.figure(figsize=(10, 6))\n",
    "sns.boxplot(x='DayOfWeek', y='DepDelayMinutes', data=pdf)\n",
    "plt.title('Boxplot of Departure Delays by Day of the Week')\n",
    "plt.xlabel('Day of the Week')\n",
    "plt.ylabel('Departure Delay Minutes')\n",
    "plt.show()\n"
   ]
  },
  {
   "cell_type": "code",
   "execution_count": null,
   "id": "e7c19937-ec60-4266-bbf7-70cebfc5e76f",
   "metadata": {},
   "outputs": [
    {
     "name": "stderr",
     "output_type": "stream",
     "text": [
      "                                                                                \r"
     ]
    },
    {
     "data": {
      "image/png": "[encoded data removed]",
      "text/plain": [
       "<Figure size 800x600 with 2 Axes>"
      ]
     },
     "metadata": {},
     "output_type": "display_data"
    }
   ],
   "source": [
    "# Correlation Heatmap\n",
    "\n",
    "# Selecting numerical columns for correlation\n",
    "numerical_columns = ['DepDelayMinutes', 'ArrDelayMinutes', 'Distance']\n",
    "pdf = cleaned_flight.select(numerical_columns).toPandas()\n",
    "\n",
    "# Calculating correlation matrix\n",
    "corr = pdf.corr()\n",
    "\n",
    "# Plotting heatmap\n",
    "plt.figure(figsize=(8, 6))\n",
    "sns.heatmap(corr, annot=True, cmap='coolwarm')\n",
    "plt.title('Correlation Heatmap')\n",
    "plt.show()\n"
   ]
  },
  {
   "cell_type": "markdown",
   "id": "0318cbcd-8dfd-425a-9483-80a6f37b108f",
   "metadata": {},
   "source": [
    "##### 4. Handling Missing Values"
   ]
  },
  {
   "cell_type": "code",
   "execution_count": 12,
   "id": "b8a6d921-2fd8-4825-9b5a-c66fac937a0d",
   "metadata": {},
   "outputs": [],
   "source": [
    "# Dropping rows with missing values\n",
    "df_cleaned = cleaned_flight.na.drop()"
   ]
  },
  {
   "cell_type": "code",
   "execution_count": null,
   "id": "db3fd77d-c336-48b8-afd9-b516136802be",
   "metadata": {},
   "outputs": [],
   "source": []
  },
  {
   "cell_type": "markdown",
   "id": "925128f5-de91-4a82-9d3e-675b8076e657",
   "metadata": {},
   "source": [
    "### Feature Engineering and Data Preprocessing"
   ]
  },
  {
   "cell_type": "code",
   "execution_count": 14,
   "id": "ddfcb059-22fd-47a0-9f1b-c6d762973a12",
   "metadata": {},
   "outputs": [
    {
     "name": "stderr",
     "output_type": "stream",
     "text": [
      "                                                                                \r"
     ]
    }
   ],
   "source": [
    "from pyspark.ml.feature import StringIndexer, OneHotEncoder, VectorAssembler\n",
    "\n",
    "# StringIndexer for categorical column\n",
    "indexer = StringIndexer(inputCol='Operating_Airline', outputCol='Operating_Airline_Index')\n",
    "df_indexed = indexer.fit(df_cleaned).transform(df_cleaned)\n",
    "\n",
    "# OneHotEncoder for indexed column\n",
    "encoder = OneHotEncoder(inputCol='Operating_Airline_Index', outputCol='Operating_Airline_Encoded')\n",
    "\n",
    "# Fit and transform using the OneHotEncoder\n",
    "encoder_model = encoder.fit(df_indexed)\n",
    "df_encoded = encoder_model.transform(df_indexed)\n"
   ]
  },
  {
   "cell_type": "raw",
   "id": "0c8d13a2-c3e9-4cc4-9667-8ffb57a98bcf",
   "metadata": {},
   "source": [
    "# Drop the column if it exists\n",
    "if 'Operating_Airline_Index' in df_cleaned.columns:\n",
    "    df_cleaned = df_cleaned.drop('Operating_Airline_Index')\n",
    "    \n",
    "if 'Operating_Airline_Encoded' in df_cleaned.columns:\n",
    "    df_cleaned = df_cleaned.drop('Operating_Airline_Encoded')"
   ]
  },
  {
   "cell_type": "code",
   "execution_count": 15,
   "id": "e459d8f3-4447-4601-a067-94acebe02101",
   "metadata": {},
   "outputs": [
    {
     "name": "stderr",
     "output_type": "stream",
     "text": [
      "                                                                                \r"
     ]
    }
   ],
   "source": [
    "# Feature Scaling\n",
    "\n",
    "from pyspark.ml.feature import StandardScaler\n",
    "\n",
    "# Assemble numeric columns into a single vector column\n",
    "assembler = VectorAssembler(inputCols=['DepDelayMinutes', 'Distance'], outputCol='features')\n",
    "df_cleaned = assembler.transform(df_cleaned)\n",
    "\n",
    "# Scale the features\n",
    "scaler = StandardScaler(inputCol='features', outputCol='scaledFeatures')\n",
    "df_cleaned = scaler.fit(df_cleaned).transform(df_cleaned)\n"
   ]
  },
  {
   "cell_type": "raw",
   "id": "d41b0080-0e0b-4a9f-ad27-7d6c2d00744c",
   "metadata": {},
   "source": [
    "# Drop the 'features' column if it already exists\n",
    "if 'features' in df_cleaned.columns:\n",
    "    df_cleaned = df_cleaned.drop('features')\n",
    "\n",
    "# Drop the 'features' column if it already exists\n",
    "if 'scaledFeatures' in df_cleaned.columns:\n",
    "    df_cleaned = df_cleaned.drop('scaledFeatures')"
   ]
  },
  {
   "cell_type": "code",
   "execution_count": 16,
   "id": "564a9624-6650-408a-bb71-f7828e039d63",
   "metadata": {},
   "outputs": [],
   "source": [
    "#Feature Creation\n",
    "\n",
    "from pyspark.sql.functions import col\n",
    "\n",
    "# Example: Creating a new feature 'IsWeekend'\n",
    "df_cleaned = df_cleaned.withColumn('IsWeekend', (col('DayOfWeek') > 5).cast('integer'))"
   ]
  },
  {
   "cell_type": "code",
   "execution_count": 17,
   "id": "0d455ba3-30f9-4b2a-a549-aa64fde0cfa1",
   "metadata": {},
   "outputs": [],
   "source": [
    "# Feature Selection\n",
    "\n",
    "# Selecting features to include in the model\n",
    "selected_columns = ['DepDelayMinutes', 'Distance', 'IsWeekend', 'ArrDel15']\n",
    "df_model = df_cleaned.select(selected_columns)"
   ]
  },
  {
   "cell_type": "code",
   "execution_count": 18,
   "id": "872567ae-224c-4544-8bdb-cfeae3ded7b8",
   "metadata": {},
   "outputs": [
    {
     "name": "stdout",
     "output_type": "stream",
     "text": [
      "root\n",
      " |-- Year: string (nullable = true)\n",
      " |-- Quarter: string (nullable = true)\n",
      " |-- Month: string (nullable = true)\n",
      " |-- DayofMonth: string (nullable = true)\n",
      " |-- DayOfWeek: string (nullable = true)\n",
      " |-- FlightDate: date (nullable = true)\n",
      " |-- Operating_Airline: string (nullable = true)\n",
      " |-- Tail_Number: string (nullable = true)\n",
      " |-- Flight_Number_Operating_Airline: string (nullable = true)\n",
      " |-- Origin: string (nullable = true)\n",
      " |-- OriginCityName: string (nullable = true)\n",
      " |-- OriginState: string (nullable = true)\n",
      " |-- Dest: string (nullable = true)\n",
      " |-- DestCityName: string (nullable = true)\n",
      " |-- DestState: string (nullable = true)\n",
      " |-- CRSDepTime: long (nullable = true)\n",
      " |-- DepTime: integer (nullable = true)\n",
      " |-- DepDelayMinutes: double (nullable = true)\n",
      " |-- DepTimeBlk: string (nullable = true)\n",
      " |-- CRSArrTime: long (nullable = true)\n",
      " |-- ArrTime: integer (nullable = true)\n",
      " |-- ArrDelayMinutes: double (nullable = true)\n",
      " |-- ArrTimeBlk: string (nullable = true)\n",
      " |-- Distance: double (nullable = true)\n",
      " |-- DistanceGroup: string (nullable = true)\n",
      " |-- DepDel15: string (nullable = true)\n",
      " |-- ArrDel15: string (nullable = true)\n",
      " |-- OriginAirportID: long (nullable = true)\n",
      " |-- DestAirportID: long (nullable = true)\n",
      " |-- PR_ARR_DEL15: string (nullable = true)\n",
      " |-- features: vector (nullable = true)\n",
      " |-- scaledFeatures: vector (nullable = true)\n",
      " |-- IsWeekend: integer (nullable = true)\n",
      "\n"
     ]
    }
   ],
   "source": [
    "# Inspect DataFrame schema\n",
    "df_cleaned.printSchema()\n",
    "\n",
    "# Assuming 'Operating_Airline_Encoded' exists, select the columns\n",
    "selected_columns = ['DepDelayMinutes', 'Distance', 'IsWeekend', 'ArrDel15']\n",
    "df_model = df_cleaned.select(selected_columns)"
   ]
  },
  {
   "cell_type": "code",
   "execution_count": null,
   "id": "b7fc5b4e-7a11-4ad4-9b28-52e496ce06eb",
   "metadata": {},
   "outputs": [],
   "source": []
  },
  {
   "cell_type": "code",
   "execution_count": 19,
   "id": "b319332d-20af-499a-8ddd-bd6fc6880a76",
   "metadata": {},
   "outputs": [
    {
     "name": "stderr",
     "output_type": "stream",
     "text": [
      "                                                                                \r"
     ]
    }
   ],
   "source": [
    "from pyspark.ml import Pipeline\n",
    "from pyspark.ml.feature import StringIndexer, OneHotEncoder, VectorAssembler, StandardScaler\n",
    "\n",
    "# Assuming df_original is your original DataFrame before any transformation\n",
    "df_original = cleaned_flight\n",
    "\n",
    "from pyspark.sql.functions import col\n",
    "from pyspark.sql.types import IntegerType\n",
    "\n",
    "# Assuming 'Year', 'Quarter', and 'Month' are supposed to be integers\n",
    "df_original = df_original.withColumn(\"Year\", df_original[\"Year\"].cast(IntegerType()))\n",
    "df_original = df_original.withColumn(\"Quarter\", df_original[\"Quarter\"].cast(IntegerType()))\n",
    "df_original = df_original.withColumn(\"Month\", df_original[\"Month\"].cast(IntegerType()))\n",
    "\n",
    "# Define the stages of the pipeline\n",
    "indexer = StringIndexer(inputCol='Operating_Airline', outputCol='Operating_Airline_Index')\n",
    "encoder = OneHotEncoder(inputCols=['Operating_Airline_Index'], outputCols=['Operating_Airline_Encoded'])\n",
    "assembler = VectorAssembler(inputCols=['Year', 'Quarter', 'Month'], outputCol='features')\n",
    "scaler = StandardScaler(inputCol='features', outputCol='scaledFeatures')\n",
    "\n",
    "# Combine stages into the pipeline\n",
    "pipeline = Pipeline(stages=[indexer, encoder, assembler, scaler])\n",
    "\n",
    "# Apply the pipeline to the original DataFrame\n",
    "df_transformed = pipeline.fit(df_original).transform(df_original)"
   ]
  },
  {
   "cell_type": "markdown",
   "id": "034f0bbe-484c-4174-943d-0a56f1beac81",
   "metadata": {},
   "source": [
    "### Jason Chandra Model -- PIPELINE"
   ]
  },
  {
   "cell_type": "code",
   "execution_count": null,
   "id": "e5c56928-f7c6-45a1-892f-40ab37cbb0b7",
   "metadata": {},
   "outputs": [],
   "source": [
    "# Inspect DataFrame schema\n",
    "df_transformed.printSchema()"
   ]
  },
  {
   "cell_type": "code",
   "execution_count": 30,
   "id": "68378f1e-d8b1-4d6e-bda8-f572d19a332c",
   "metadata": {
    "tags": []
   },
   "outputs": [],
   "source": [
    "from pyspark.sql.functions import col\n",
    "from pyspark.sql.types import DoubleType\n",
    "\n",
    "# Assuming df_cleaned is your DataFrame\n",
    "df_transformedInput = df_transformed.withColumn(\"ArrDel15\", col(\"ArrDel15\").cast(DoubleType()))\n",
    "\n",
    "# Assuming df_cleaned is your preprocessed DataFrame\n",
    "# Split the data into training and test sets\n",
    "train_full, test_full = df_transformedInput.randomSplit([0.7, 0.3], seed=12345)\n",
    "\n",
    "# Take a sample of the train and test sets for smaller subsets\n",
    "train_subset = train_full.sample(fraction=0.01, seed=12345)\n",
    "test_subset = test_full.sample(fraction=0.01, seed=12345)\n",
    "\n",
    "# Dropping rows with null values in the train and test sets\n",
    "train_subset = train_subset.na.drop()\n",
    "test_subset = test_subset.na.drop()\n",
    "\n"
   ]
  },
  {
   "cell_type": "code",
   "execution_count": 31,
   "id": "aab9d2da-3db3-4868-9331-ec0cdfe0abe0",
   "metadata": {},
   "outputs": [],
   "source": [
    "from pyspark.ml.classification import RandomForestClassifier, GBTClassifier, LogisticRegression\n",
    "from pyspark.ml import Pipeline\n",
    "from pyspark.ml.tuning import ParamGridBuilder, CrossValidator\n",
    "from pyspark.ml.evaluation import BinaryClassificationEvaluator"
   ]
  },
  {
   "cell_type": "code",
   "execution_count": 32,
   "id": "8708e2ee-662a-486e-acb4-f333db02b1d1",
   "metadata": {},
   "outputs": [],
   "source": [
    "# Initialize the classifiers\n",
    "rf = RandomForestClassifier(labelCol=\"ArrDel15\", featuresCol=\"scaledFeatures\")\n",
    "gbt = GBTClassifier(labelCol=\"ArrDel15\", featuresCol=\"scaledFeatures\")\n",
    "lr = LogisticRegression(labelCol=\"ArrDel15\", featuresCol=\"scaledFeatures\")\n",
    "\n",
    "# Define parameter grids\n",
    "paramGridRF = ParamGridBuilder() \\\n",
    "    .addGrid(rf.maxDepth, [5, 10]) \\\n",
    "    .addGrid(rf.numTrees, [20, 50]) \\\n",
    "    .build()\n",
    "\n",
    "paramGridGBT = ParamGridBuilder() \\\n",
    "    .addGrid(gbt.maxDepth, [5, 10]) \\\n",
    "    .addGrid(gbt.maxIter, [20, 50]) \\\n",
    "    .build()\n",
    "\n",
    "paramGridLR = ParamGridBuilder() \\\n",
    "    .addGrid(lr.regParam, [0.01, 0.1]) \\\n",
    "    .addGrid(lr.elasticNetParam, [0.0, 0.5]) \\\n",
    "    .build()\n",
    "\n",
    "# Initialize CrossValidator for each classifier\n",
    "evaluator = BinaryClassificationEvaluator(labelCol=\"ArrDel15\")\n",
    "\n",
    "crossvalRF = CrossValidator(estimator=rf,\n",
    "                            estimatorParamMaps=paramGridRF,\n",
    "                            evaluator=evaluator,\n",
    "                            numFolds=3)\n",
    "\n",
    "crossvalGBT = CrossValidator(estimator=gbt,\n",
    "                             estimatorParamMaps=paramGridGBT,\n",
    "                             evaluator=evaluator,\n",
    "                             numFolds=3)\n",
    "\n",
    "crossvalLR = CrossValidator(estimator=lr,\n",
    "                            estimatorParamMaps=paramGridLR,\n",
    "                            evaluator=evaluator,\n",
    "                            numFolds=3)\n"
   ]
  },
  {
   "cell_type": "code",
   "execution_count": null,
   "id": "bc2cc445-6b7c-41c6-917d-a92c7f864004",
   "metadata": {},
   "outputs": [
    {
     "name": "stderr",
     "output_type": "stream",
     "text": [
      "23/11/26 21:09:07 WARN org.apache.spark.storage.BlockManagerMasterEndpoint: No more replicas available for rdd_123_163 !\n",
      "23/11/26 21:09:07 WARN org.apache.spark.storage.BlockManagerMasterEndpoint: No more replicas available for rdd_123_48 !\n",
      "23/11/26 21:09:07 WARN org.apache.spark.storage.BlockManagerMasterEndpoint: No more replicas available for rdd_5790_56 !\n",
      "23/11/26 21:09:07 WARN org.apache.spark.storage.BlockManagerMasterEndpoint: No more replicas available for rdd_5790_58 !\n",
      "23/11/26 21:09:07 WARN org.apache.spark.storage.BlockManagerMasterEndpoint: No more replicas available for rdd_6119_157 !\n",
      "23/11/26 21:09:07 WARN org.apache.spark.storage.BlockManagerMasterEndpoint: No more replicas available for rdd_123_79 !\n",
      "23/11/26 21:09:07 WARN org.apache.spark.storage.BlockManagerMasterEndpoint: No more replicas available for rdd_5790_92 !\n",
      "23/11/26 21:09:07 WARN org.apache.spark.storage.BlockManagerMasterEndpoint: No more replicas available for rdd_123_84 !\n",
      "23/11/26 21:09:07 WARN org.apache.spark.storage.BlockManagerMasterEndpoint: No more replicas available for rdd_123_52 !\n",
      "23/11/26 21:09:07 WARN org.apache.spark.storage.BlockManagerMasterEndpoint: No more replicas available for rdd_123_114 !\n",
      "23/11/26 21:09:07 WARN org.apache.spark.storage.BlockManagerMasterEndpoint: No more replicas available for rdd_6097_158 !\n",
      "23/11/26 21:09:07 WARN org.apache.spark.storage.BlockManagerMasterEndpoint: No more replicas available for rdd_5813_53 !\n",
      "23/11/26 21:09:07 WARN org.apache.spark.storage.BlockManagerMasterEndpoint: No more replicas available for rdd_123_43 !\n",
      "23/11/26 21:09:07 WARN org.apache.spark.storage.BlockManagerMasterEndpoint: No more replicas available for rdd_123_56 !\n",
      "23/11/26 21:09:07 WARN org.apache.spark.storage.BlockManagerMasterEndpoint: No more replicas available for rdd_5813_158 !\n",
      "23/11/26 21:09:07 WARN org.apache.spark.storage.BlockManagerMasterEndpoint: No more replicas available for rdd_123_33 !\n",
      "23/11/26 21:09:07 WARN org.apache.spark.storage.BlockManagerMasterEndpoint: No more replicas available for rdd_5790_55 !\n",
      "23/11/26 21:09:07 WARN org.apache.spark.storage.BlockManagerMasterEndpoint: No more replicas available for rdd_6097_156 !\n",
      "23/11/26 21:09:07 WARN org.apache.spark.storage.BlockManagerMasterEndpoint: No more replicas available for rdd_123_45 !\n",
      "23/11/26 21:09:07 WARN org.apache.spark.storage.BlockManagerMasterEndpoint: No more replicas available for rdd_123_75 !\n",
      "23/11/26 21:09:07 WARN org.apache.spark.storage.BlockManagerMasterEndpoint: No more replicas available for rdd_5790_160 !\n",
      "23/11/26 21:09:07 WARN org.apache.spark.storage.BlockManagerMasterEndpoint: No more replicas available for rdd_5813_159 !\n",
      "23/11/26 21:09:07 WARN org.apache.spark.storage.BlockManagerMasterEndpoint: No more replicas available for rdd_123_78 !\n",
      "23/11/26 21:09:07 WARN org.apache.spark.storage.BlockManagerMasterEndpoint: No more replicas available for rdd_123_117 !\n",
      "23/11/26 21:09:07 WARN org.apache.spark.storage.BlockManagerMasterEndpoint: No more replicas available for rdd_123_73 !\n",
      "23/11/26 21:09:07 WARN org.apache.spark.storage.BlockManagerMasterEndpoint: No more replicas available for rdd_6119_52 !\n",
      "23/11/26 21:09:07 WARN org.apache.spark.storage.BlockManagerMasterEndpoint: No more replicas available for rdd_123_159 !\n",
      "23/11/26 21:09:07 WARN org.apache.spark.storage.BlockManagerMasterEndpoint: No more replicas available for rdd_123_53 !\n",
      "23/11/26 21:09:07 WARN org.apache.spark.storage.BlockManagerMasterEndpoint: No more replicas available for rdd_5813_92 !\n",
      "23/11/26 21:09:07 WARN org.apache.spark.storage.BlockManagerMasterEndpoint: No more replicas available for rdd_6075_159 !\n",
      "23/11/26 21:09:07 WARN org.apache.spark.storage.BlockManagerMasterEndpoint: No more replicas available for rdd_123_49 !\n",
      "23/11/26 21:09:07 WARN org.apache.spark.storage.BlockManagerMasterEndpoint: No more replicas available for rdd_123_65 !\n",
      "23/11/26 21:09:07 WARN org.apache.spark.storage.BlockManagerMasterEndpoint: No more replicas available for rdd_123_3 !\n",
      "23/11/26 21:09:07 WARN org.apache.spark.storage.BlockManagerMasterEndpoint: No more replicas available for rdd_123_121 !\n",
      "23/11/26 21:09:07 WARN org.apache.spark.storage.BlockManagerMasterEndpoint: No more replicas available for rdd_123_174 !\n",
      "23/11/26 21:09:07 WARN org.apache.spark.storage.BlockManagerMasterEndpoint: No more replicas available for rdd_6119_161 !\n",
      "23/11/26 21:09:07 WARN org.apache.spark.storage.BlockManagerMasterEndpoint: No more replicas available for rdd_123_113 !\n",
      "23/11/26 21:09:07 WARN org.apache.spark.storage.BlockManagerMasterEndpoint: No more replicas available for rdd_123_41 !\n",
      "23/11/26 21:09:07 WARN org.apache.spark.storage.BlockManagerMasterEndpoint: No more replicas available for rdd_6075_158 !\n",
      "23/11/26 21:09:07 WARN org.apache.spark.storage.BlockManagerMasterEndpoint: No more replicas available for rdd_6119_156 !\n",
      "23/11/26 21:09:07 WARN org.apache.spark.storage.BlockManagerMasterEndpoint: No more replicas available for rdd_6119_92 !\n",
      "23/11/26 21:09:07 WARN org.apache.spark.storage.BlockManagerMasterEndpoint: No more replicas available for rdd_123_168 !\n",
      "23/11/26 21:09:07 WARN org.apache.spark.storage.BlockManagerMasterEndpoint: No more replicas available for rdd_5813_89 !\n",
      "23/11/26 21:09:07 WARN org.apache.spark.storage.BlockManagerMasterEndpoint: No more replicas available for rdd_5813_87 !\n",
      "23/11/26 21:09:07 WARN org.apache.spark.storage.BlockManagerMasterEndpoint: No more replicas available for rdd_6097_89 !\n",
      "23/11/26 21:09:07 WARN org.apache.spark.storage.BlockManagerMasterEndpoint: No more replicas available for rdd_6075_90 !\n",
      "23/11/26 21:09:07 WARN org.apache.spark.storage.BlockManagerMasterEndpoint: No more replicas available for rdd_123_123 !\n",
      "23/11/26 21:09:07 WARN org.apache.spark.storage.BlockManagerMasterEndpoint: No more replicas available for rdd_123_176 !\n",
      "23/11/26 21:09:07 WARN org.apache.spark.storage.BlockManagerMasterEndpoint: No more replicas available for rdd_5813_160 !\n",
      "23/11/26 21:09:07 WARN org.apache.spark.storage.BlockManagerMasterEndpoint: No more replicas available for rdd_6122_90 !\n",
      "23/11/26 21:09:07 WARN org.apache.spark.storage.BlockManagerMasterEndpoint: No more replicas available for rdd_123_70 !\n",
      "23/11/26 21:09:07 WARN org.apache.spark.storage.BlockManagerMasterEndpoint: No more replicas available for rdd_6119_158 !\n",
      "23/11/26 21:09:07 WARN org.apache.spark.storage.BlockManagerMasterEndpoint: No more replicas available for rdd_6097_92 !\n",
      "23/11/26 21:09:07 WARN org.apache.spark.storage.BlockManagerMasterEndpoint: No more replicas available for rdd_123_161 !\n",
      "23/11/26 21:09:07 WARN org.apache.spark.storage.BlockManagerMasterEndpoint: No more replicas available for rdd_5813_51 !\n",
      "23/11/26 21:09:07 WARN org.apache.spark.storage.BlockManagerMasterEndpoint: No more replicas available for rdd_123_128 !\n",
      "23/11/26 21:09:07 WARN org.apache.spark.storage.BlockManagerMasterEndpoint: No more replicas available for rdd_6119_91 !\n",
      "23/11/26 21:09:07 WARN org.apache.spark.storage.BlockManagerMasterEndpoint: No more replicas available for rdd_6075_163 !\n",
      "23/11/26 21:09:07 WARN org.apache.spark.storage.BlockManagerMasterEndpoint: No more replicas available for rdd_6097_54 !\n",
      "23/11/26 21:09:07 WARN org.apache.spark.storage.BlockManagerMasterEndpoint: No more replicas available for rdd_5790_57 !\n",
      "23/11/26 21:09:07 WARN org.apache.spark.storage.BlockManagerMasterEndpoint: No more replicas available for rdd_123_6 !\n",
      "23/11/26 21:09:07 WARN org.apache.spark.storage.BlockManagerMasterEndpoint: No more replicas available for rdd_123_180 !\n",
      "23/11/26 21:09:07 WARN org.apache.spark.storage.BlockManagerMasterEndpoint: No more replicas available for rdd_6122_88 !\n",
      "23/11/26 21:09:07 WARN org.apache.spark.storage.BlockManagerMasterEndpoint: No more replicas available for rdd_5790_88 !\n",
      "23/11/26 21:09:07 WARN org.apache.spark.storage.BlockManagerMasterEndpoint: No more replicas available for rdd_123_35 !\n",
      "23/11/26 21:09:07 WARN org.apache.spark.storage.BlockManagerMasterEndpoint: No more replicas available for rdd_6119_89 !\n",
      "23/11/26 21:09:07 WARN org.apache.spark.storage.BlockManagerMasterEndpoint: No more replicas available for rdd_6122_56 !\n",
      "23/11/26 21:09:07 WARN org.apache.spark.storage.BlockManagerMasterEndpoint: No more replicas available for rdd_123_158 !\n",
      "23/11/26 21:09:07 WARN org.apache.spark.storage.BlockManagerMasterEndpoint: No more replicas available for rdd_6097_55 !\n",
      "23/11/26 21:09:07 WARN org.apache.spark.storage.BlockManagerMasterEndpoint: No more replicas available for rdd_6097_86 !\n",
      "23/11/26 21:09:07 WARN org.apache.spark.storage.BlockManagerMasterEndpoint: No more replicas available for rdd_6075_89 !\n",
      "23/11/26 21:09:07 WARN org.apache.spark.storage.BlockManagerMasterEndpoint: No more replicas available for rdd_6097_56 !\n",
      "23/11/26 21:09:07 WARN org.apache.spark.storage.BlockManagerMasterEndpoint: No more replicas available for rdd_6097_51 !\n",
      "23/11/26 21:09:07 WARN org.apache.spark.storage.BlockManagerMasterEndpoint: No more replicas available for rdd_6122_54 !\n",
      "23/11/26 21:09:07 WARN org.apache.spark.storage.BlockManagerMasterEndpoint: No more replicas available for rdd_5813_58 !\n",
      "23/11/26 21:09:07 WARN org.apache.spark.storage.BlockManagerMasterEndpoint: No more replicas available for rdd_123_7 !\n",
      "23/11/26 21:09:07 WARN org.apache.spark.storage.BlockManagerMasterEndpoint: No more replicas available for rdd_5790_91 !\n",
      "23/11/26 21:09:07 WARN org.apache.spark.storage.BlockManagerMasterEndpoint: No more replicas available for rdd_6122_162 !\n",
      "23/11/26 21:09:07 WARN org.apache.spark.storage.BlockManagerMasterEndpoint: No more replicas available for rdd_123_112 !\n",
      "23/11/26 21:09:07 WARN org.apache.spark.storage.BlockManagerMasterEndpoint: No more replicas available for rdd_123_118 !\n",
      "23/11/26 21:09:07 WARN org.apache.spark.storage.BlockManagerMasterEndpoint: No more replicas available for rdd_123_66 !\n",
      "23/11/26 21:09:07 WARN org.apache.spark.storage.BlockManagerMasterEndpoint: No more replicas available for rdd_5813_88 !\n",
      "23/11/26 21:09:07 WARN org.apache.spark.storage.BlockManagerMasterEndpoint: No more replicas available for rdd_6122_91 !\n",
      "23/11/26 21:09:07 WARN org.apache.spark.storage.BlockManagerMasterEndpoint: No more replicas available for rdd_5813_86 !\n",
      "23/11/26 21:09:07 WARN org.apache.spark.storage.BlockManagerMasterEndpoint: No more replicas available for rdd_6122_163 !\n",
      "23/11/26 21:09:07 WARN org.apache.spark.storage.BlockManagerMasterEndpoint: No more replicas available for rdd_6075_86 !\n",
      "23/11/26 21:09:07 WARN org.apache.spark.storage.BlockManagerMasterEndpoint: No more replicas available for rdd_5790_52 !\n",
      "23/11/26 21:09:07 WARN org.apache.spark.storage.BlockManagerMasterEndpoint: No more replicas available for rdd_6119_86 !\n",
      "23/11/26 21:09:07 WARN org.apache.spark.storage.BlockManagerMasterEndpoint: No more replicas available for rdd_5813_162 !\n",
      "23/11/26 21:09:07 WARN org.apache.spark.storage.BlockManagerMasterEndpoint: No more replicas available for rdd_6122_160 !\n",
      "23/11/26 21:09:07 WARN org.apache.spark.storage.BlockManagerMasterEndpoint: No more replicas available for rdd_123_169 !\n",
      "23/11/26 21:09:07 WARN org.apache.spark.storage.BlockManagerMasterEndpoint: No more replicas available for rdd_6119_162 !\n",
      "23/11/26 21:09:07 WARN org.apache.spark.storage.BlockManagerMasterEndpoint: No more replicas available for rdd_123_164 !\n",
      "23/11/26 21:09:07 WARN org.apache.spark.storage.BlockManagerMasterEndpoint: No more replicas available for rdd_6097_88 !\n",
      "23/11/26 21:09:07 WARN org.apache.spark.storage.BlockManagerMasterEndpoint: No more replicas available for rdd_6097_159 !\n",
      "23/11/26 21:09:07 WARN org.apache.spark.storage.BlockManagerMasterEndpoint: No more replicas available for rdd_123_76 !\n",
      "23/11/26 21:09:07 WARN org.apache.spark.storage.BlockManagerMasterEndpoint: No more replicas available for rdd_5790_54 !\n",
      "23/11/26 21:09:07 WARN org.apache.spark.storage.BlockManagerMasterEndpoint: No more replicas available for rdd_123_132 !\n",
      "23/11/26 21:09:07 WARN org.apache.spark.storage.BlockManagerMasterEndpoint: No more replicas available for rdd_5790_158 !\n",
      "23/11/26 21:09:07 WARN org.apache.spark.storage.BlockManagerMasterEndpoint: No more replicas available for rdd_6119_51 !\n",
      "23/11/26 21:09:07 WARN org.apache.spark.storage.BlockManagerMasterEndpoint: No more replicas available for rdd_6119_85 !\n",
      "23/11/26 21:09:07 WARN org.apache.spark.storage.BlockManagerMasterEndpoint: No more replicas available for rdd_6097_157 !\n",
      "23/11/26 21:09:07 WARN org.apache.spark.storage.BlockManagerMasterEndpoint: No more replicas available for rdd_123_38 !\n",
      "23/11/26 21:09:07 WARN org.apache.spark.storage.BlockManagerMasterEndpoint: No more replicas available for rdd_123_166 !\n",
      "23/11/26 21:09:07 WARN org.apache.spark.storage.BlockManagerMasterEndpoint: No more replicas available for rdd_6075_55 !\n",
      "23/11/26 21:09:07 WARN org.apache.spark.storage.BlockManagerMasterEndpoint: No more replicas available for rdd_6097_162 !\n",
      "23/11/26 21:09:07 WARN org.apache.spark.storage.BlockManagerMasterEndpoint: No more replicas available for rdd_5790_163 !\n",
      "23/11/26 21:09:07 WARN org.apache.spark.storage.BlockManagerMasterEndpoint: No more replicas available for rdd_6075_54 !\n",
      "23/11/26 21:09:07 WARN org.apache.spark.storage.BlockManagerMasterEndpoint: No more replicas available for rdd_6075_56 !\n",
      "23/11/26 21:09:07 WARN org.apache.spark.storage.BlockManagerMasterEndpoint: No more replicas available for rdd_6122_57 !\n",
      "23/11/26 21:09:07 WARN org.apache.spark.storage.BlockManagerMasterEndpoint: No more replicas available for rdd_5790_87 !\n",
      "23/11/26 21:09:07 WARN org.apache.spark.storage.BlockManagerMasterEndpoint: No more replicas available for rdd_123_54 !\n",
      "23/11/26 21:09:07 WARN org.apache.spark.storage.BlockManagerMasterEndpoint: No more replicas available for rdd_6097_53 !\n",
      "23/11/26 21:09:07 WARN org.apache.spark.storage.BlockManagerMasterEndpoint: No more replicas available for rdd_123_181 !\n",
      "23/11/26 21:09:07 WARN org.apache.spark.storage.BlockManagerMasterEndpoint: No more replicas available for rdd_6122_85 !\n",
      "23/11/26 21:09:07 WARN org.apache.spark.storage.BlockManagerMasterEndpoint: No more replicas available for rdd_123_72 !\n",
      "23/11/26 21:09:07 WARN org.apache.spark.storage.BlockManagerMasterEndpoint: No more replicas available for rdd_123_2 !\n",
      "23/11/26 21:09:07 WARN org.apache.spark.storage.BlockManagerMasterEndpoint: No more replicas available for rdd_123_40 !\n",
      "23/11/26 21:09:07 WARN org.apache.spark.storage.BlockManagerMasterEndpoint: No more replicas available for rdd_5790_159 !\n",
      "23/11/26 21:09:07 WARN org.apache.spark.storage.BlockManagerMasterEndpoint: No more replicas available for rdd_123_46 !\n",
      "23/11/26 21:09:07 WARN org.apache.spark.storage.BlockManagerMasterEndpoint: No more replicas available for rdd_123_109 !\n",
      "23/11/26 21:09:07 WARN org.apache.spark.storage.BlockManagerMasterEndpoint: No more replicas available for rdd_123_133 !\n",
      "23/11/26 21:09:07 WARN org.apache.spark.storage.BlockManagerMasterEndpoint: No more replicas available for rdd_6075_91 !\n",
      "23/11/26 21:09:07 WARN org.apache.spark.storage.BlockManagerMasterEndpoint: No more replicas available for rdd_123_182 !\n",
      "23/11/26 21:09:07 WARN org.apache.spark.storage.BlockManagerMasterEndpoint: No more replicas available for rdd_123_68 !\n",
      "23/11/26 21:09:07 WARN org.apache.spark.storage.BlockManagerMasterEndpoint: No more replicas available for rdd_5813_85 !\n",
      "23/11/26 21:09:07 WARN org.apache.spark.storage.BlockManagerMasterEndpoint: No more replicas available for rdd_6122_158 !\n",
      "23/11/26 21:09:07 WARN org.apache.spark.storage.BlockManagerMasterEndpoint: No more replicas available for rdd_6122_92 !\n",
      "23/11/26 21:09:07 WARN org.apache.spark.storage.BlockManagerMasterEndpoint: No more replicas available for rdd_5813_157 !\n",
      "23/11/26 21:09:07 WARN org.apache.spark.storage.BlockManagerMasterEndpoint: No more replicas available for rdd_123_0 !\n",
      "23/11/26 21:09:07 WARN org.apache.spark.storage.BlockManagerMasterEndpoint: No more replicas available for rdd_6097_52 !\n",
      "23/11/26 21:09:07 WARN org.apache.spark.storage.BlockManagerMasterEndpoint: No more replicas available for rdd_6119_159 !\n",
      "23/11/26 21:09:07 WARN org.apache.spark.storage.BlockManagerMasterEndpoint: No more replicas available for rdd_6122_52 !\n",
      "23/11/26 21:09:07 WARN org.apache.spark.storage.BlockManagerMasterEndpoint: No more replicas available for rdd_5790_90 !\n",
      "23/11/26 21:09:07 WARN org.apache.spark.storage.BlockManagerMasterEndpoint: No more replicas available for rdd_123_126 !\n",
      "23/11/26 21:09:07 WARN org.apache.spark.storage.BlockManagerMasterEndpoint: No more replicas available for rdd_6075_52 !\n",
      "23/11/26 21:09:07 WARN org.apache.spark.storage.BlockManagerMasterEndpoint: No more replicas available for rdd_5790_161 !\n",
      "23/11/26 21:09:07 WARN org.apache.spark.storage.BlockManagerMasterEndpoint: No more replicas available for rdd_123_83 !\n",
      "23/11/26 21:09:07 WARN org.apache.spark.storage.BlockManagerMasterEndpoint: No more replicas available for rdd_6119_87 !\n",
      "23/11/26 21:09:07 WARN org.apache.spark.storage.BlockManagerMasterEndpoint: No more replicas available for rdd_123_131 !\n",
      "23/11/26 21:09:07 WARN org.apache.spark.storage.BlockManagerMasterEndpoint: No more replicas available for rdd_5813_55 !\n",
      "23/11/26 21:09:07 WARN org.apache.spark.storage.BlockManagerMasterEndpoint: No more replicas available for rdd_6122_86 !\n",
      "23/11/26 21:09:07 WARN org.apache.spark.storage.BlockManagerMasterEndpoint: No more replicas available for rdd_123_67 !\n",
      "23/11/26 21:09:07 WARN org.apache.spark.storage.BlockManagerMasterEndpoint: No more replicas available for rdd_5813_57 !\n",
      "23/11/26 21:09:07 WARN org.apache.spark.storage.BlockManagerMasterEndpoint: No more replicas available for rdd_6075_87 !\n",
      "23/11/26 21:09:07 WARN org.apache.spark.storage.BlockManagerMasterEndpoint: No more replicas available for rdd_6075_88 !\n",
      "23/11/26 21:09:07 WARN org.apache.spark.storage.BlockManagerMasterEndpoint: No more replicas available for rdd_123_51 !\n",
      "23/11/26 21:09:07 WARN org.apache.spark.storage.BlockManagerMasterEndpoint: No more replicas available for rdd_6075_156 !\n",
      "23/11/26 21:09:07 WARN org.apache.spark.storage.BlockManagerMasterEndpoint: No more replicas available for rdd_123_127 !\n",
      "23/11/26 21:09:07 WARN org.apache.spark.storage.BlockManagerMasterEndpoint: No more replicas available for rdd_6075_53 !\n",
      "23/11/26 21:09:07 WARN org.apache.spark.storage.BlockManagerMasterEndpoint: No more replicas available for rdd_123_124 !\n",
      "23/11/26 21:09:07 WARN org.apache.spark.storage.BlockManagerMasterEndpoint: No more replicas available for rdd_123_42 !\n",
      "23/11/26 21:09:07 WARN org.apache.spark.storage.BlockManagerMasterEndpoint: No more replicas available for rdd_123_39 !\n",
      "23/11/26 21:09:07 WARN org.apache.spark.storage.BlockManagerMasterEndpoint: No more replicas available for rdd_6122_89 !\n",
      "23/11/26 21:09:07 WARN org.apache.spark.storage.BlockManagerMasterEndpoint: No more replicas available for rdd_123_177 !\n",
      "23/11/26 21:09:07 WARN org.apache.spark.storage.BlockManagerMasterEndpoint: No more replicas available for rdd_6119_160 !\n",
      "23/11/26 21:09:07 WARN org.apache.spark.storage.BlockManagerMasterEndpoint: No more replicas available for rdd_6097_163 !\n",
      "23/11/26 21:09:07 WARN org.apache.spark.storage.BlockManagerMasterEndpoint: No more replicas available for rdd_5790_86 !\n",
      "23/11/26 21:09:07 WARN org.apache.spark.storage.BlockManagerMasterEndpoint: No more replicas available for rdd_123_1 !\n",
      "23/11/26 21:09:07 WARN org.apache.spark.storage.BlockManagerMasterEndpoint: No more replicas available for rdd_123_162 !\n",
      "23/11/26 21:09:07 WARN org.apache.spark.storage.BlockManagerMasterEndpoint: No more replicas available for rdd_6122_58 !\n",
      "23/11/26 21:09:07 WARN org.apache.spark.storage.BlockManagerMasterEndpoint: No more replicas available for rdd_5790_53 !\n",
      "23/11/26 21:09:07 WARN org.apache.spark.storage.BlockManagerMasterEndpoint: No more replicas available for rdd_5790_51 !\n",
      "23/11/26 21:09:07 WARN org.apache.spark.storage.BlockManagerMasterEndpoint: No more replicas available for rdd_6122_157 !\n",
      "23/11/26 21:09:07 WARN org.apache.spark.storage.BlockManagerMasterEndpoint: No more replicas available for rdd_123_81 !\n",
      "23/11/26 21:09:07 WARN org.apache.spark.storage.BlockManagerMasterEndpoint: No more replicas available for rdd_6097_85 !\n",
      "23/11/26 21:09:07 WARN org.apache.spark.storage.BlockManagerMasterEndpoint: No more replicas available for rdd_123_119 !\n",
      "23/11/26 21:09:07 WARN org.apache.spark.storage.BlockManagerMasterEndpoint: No more replicas available for rdd_123_120 !\n",
      "23/11/26 21:09:07 WARN org.apache.spark.storage.BlockManagerMasterEndpoint: No more replicas available for rdd_123_74 !\n",
      "23/11/26 21:09:07 WARN org.apache.spark.storage.BlockManagerMasterEndpoint: No more replicas available for rdd_123_47 !\n",
      "23/11/26 21:09:07 WARN org.apache.spark.storage.BlockManagerMasterEndpoint: No more replicas available for rdd_123_179 !\n",
      "23/11/26 21:09:07 WARN org.apache.spark.storage.BlockManagerMasterEndpoint: No more replicas available for rdd_123_5 !\n",
      "23/11/26 21:09:07 WARN org.apache.spark.storage.BlockManagerMasterEndpoint: No more replicas available for rdd_5813_52 !\n",
      "23/11/26 21:09:07 WARN org.apache.spark.storage.BlockManagerMasterEndpoint: No more replicas available for rdd_6075_51 !\n",
      "23/11/26 21:09:07 WARN org.apache.spark.storage.BlockManagerMasterEndpoint: No more replicas available for rdd_5813_56 !\n",
      "23/11/26 21:09:07 WARN org.apache.spark.storage.BlockManagerMasterEndpoint: No more replicas available for rdd_123_4 !\n",
      "23/11/26 21:09:07 WARN org.apache.spark.storage.BlockManagerMasterEndpoint: No more replicas available for rdd_123_167 !\n",
      "23/11/26 21:09:07 WARN org.apache.spark.storage.BlockManagerMasterEndpoint: No more replicas available for rdd_123_129 !\n",
      "23/11/26 21:09:07 WARN org.apache.spark.storage.BlockManagerMasterEndpoint: No more replicas available for rdd_6119_163 !\n",
      "23/11/26 21:09:07 WARN org.apache.spark.storage.BlockManagerMasterEndpoint: No more replicas available for rdd_6122_87 !\n",
      "23/11/26 21:09:07 WARN org.apache.spark.storage.BlockManagerMasterEndpoint: No more replicas available for rdd_5813_90 !\n",
      "23/11/26 21:09:07 WARN org.apache.spark.storage.BlockManagerMasterEndpoint: No more replicas available for rdd_123_37 !\n",
      "23/11/26 21:09:07 WARN org.apache.spark.storage.BlockManagerMasterEndpoint: No more replicas available for rdd_6122_159 !\n",
      "23/11/26 21:09:07 WARN org.apache.spark.storage.BlockManagerMasterEndpoint: No more replicas available for rdd_123_170 !\n",
      "23/11/26 21:09:07 WARN org.apache.spark.storage.BlockManagerMasterEndpoint: No more replicas available for rdd_5813_54 !\n",
      "23/11/26 21:09:07 WARN org.apache.spark.storage.BlockManagerMasterEndpoint: No more replicas available for rdd_123_32 !\n",
      "23/11/26 21:09:07 WARN org.apache.spark.storage.BlockManagerMasterEndpoint: No more replicas available for rdd_123_178 !\n",
      "23/11/26 21:09:07 WARN org.apache.spark.storage.BlockManagerMasterEndpoint: No more replicas available for rdd_5813_161 !\n",
      "23/11/26 21:09:07 WARN org.apache.spark.storage.BlockManagerMasterEndpoint: No more replicas available for rdd_123_50 !\n",
      "23/11/26 21:09:07 WARN org.apache.spark.storage.BlockManagerMasterEndpoint: No more replicas available for rdd_6075_58 !\n",
      "23/11/26 21:09:07 WARN org.apache.spark.storage.BlockManagerMasterEndpoint: No more replicas available for rdd_123_80 !\n",
      "23/11/26 21:09:07 WARN org.apache.spark.storage.BlockManagerMasterEndpoint: No more replicas available for rdd_123_69 !\n",
      "23/11/26 21:09:07 WARN org.apache.spark.storage.BlockManagerMasterEndpoint: No more replicas available for rdd_6075_85 !\n",
      "23/11/26 21:09:07 WARN org.apache.spark.storage.BlockManagerMasterEndpoint: No more replicas available for rdd_6119_53 !\n",
      "23/11/26 21:09:07 WARN org.apache.spark.storage.BlockManagerMasterEndpoint: No more replicas available for rdd_6122_51 !\n",
      "23/11/26 21:09:07 WARN org.apache.spark.storage.BlockManagerMasterEndpoint: No more replicas available for rdd_123_110 !\n",
      "23/11/26 21:09:07 WARN org.apache.spark.storage.BlockManagerMasterEndpoint: No more replicas available for rdd_6075_161 !\n",
      "23/11/26 21:09:07 WARN org.apache.spark.storage.BlockManagerMasterEndpoint: No more replicas available for rdd_5813_163 !\n",
      "23/11/26 21:09:07 WARN org.apache.spark.storage.BlockManagerMasterEndpoint: No more replicas available for rdd_5790_157 !\n",
      "23/11/26 21:09:07 ERROR org.apache.spark.scheduler.cluster.YarnScheduler: Lost executor 8 on hub-msca-bdp-dphub-students-jasonchandra-sw-stb1.c.msca-bdp-student-ap.internal: Container marked as failed: container_1701030147651_0002_01_000008 on host: hub-msca-bdp-dphub-students-jasonchandra-sw-stb1.c.msca-bdp-student-ap.internal. Exit status: -100. Diagnostics: Container released on a *lost* node.\n",
      "23/11/26 21:09:07 WARN org.apache.spark.storage.BlockManagerMasterEndpoint: No more replicas available for rdd_123_111 !\n",
      "23/11/26 21:09:07 WARN org.apache.spark.storage.BlockManagerMasterEndpoint: No more replicas available for rdd_5790_162 !\n",
      "23/11/26 21:09:07 WARN org.apache.spark.storage.BlockManagerMasterEndpoint: No more replicas available for rdd_123_82 !\n",
      "23/11/26 21:09:07 WARN org.apache.spark.storage.BlockManagerMasterEndpoint: No more replicas available for rdd_6075_160 !\n",
      "23/11/26 21:09:07 WARN org.apache.spark.storage.BlockManagerMasterEndpoint: No more replicas available for rdd_123_44 !\n",
      "23/11/26 21:09:07 WARN org.apache.spark.storage.BlockManagerMasterEndpoint: No more replicas available for rdd_6119_56 !\n",
      "23/11/26 21:09:07 WARN org.apache.spark.storage.BlockManagerMasterEndpoint: No more replicas available for rdd_123_130 !\n",
      "23/11/26 21:09:07 WARN org.apache.spark.storage.BlockManagerMasterEndpoint: No more replicas available for rdd_123_34 !\n",
      "23/11/26 21:09:07 WARN org.apache.spark.scheduler.cluster.YarnSchedulerBackend$YarnSchedulerEndpoint: Requesting driver to remove executor 8 for reason Container marked as failed: container_1701030147651_0002_01_000008 on host: hub-msca-bdp-dphub-students-jasonchandra-sw-stb1.c.msca-bdp-student-ap.internal. Exit status: -100. Diagnostics: Container released on a *lost* node.\n",
      "23/11/26 21:09:07 WARN org.apache.spark.storage.BlockManagerMasterEndpoint: No more replicas available for rdd_123_160 !\n",
      "23/11/26 21:09:07 WARN org.apache.spark.storage.BlockManagerMasterEndpoint: No more replicas available for rdd_6075_57 !\n",
      "23/11/26 21:09:07 WARN org.apache.spark.storage.BlockManagerMasterEndpoint: No more replicas available for rdd_6119_57 !\n",
      "23/11/26 21:09:07 WARN org.apache.spark.storage.BlockManagerMasterEndpoint: No more replicas available for rdd_123_122 !\n",
      "23/11/26 21:09:07 WARN org.apache.spark.storage.BlockManagerMasterEndpoint: No more replicas available for rdd_6119_55 !\n",
      "23/11/26 21:09:07 WARN org.apache.spark.storage.BlockManagerMasterEndpoint: No more replicas available for rdd_6097_58 !\n",
      "23/11/26 21:09:07 WARN org.apache.spark.storage.BlockManagerMasterEndpoint: No more replicas available for rdd_123_172 !\n",
      "23/11/26 21:09:07 WARN org.apache.spark.storage.BlockManagerMasterEndpoint: No more replicas available for rdd_6097_160 !\n",
      "23/11/26 21:09:07 WARN org.apache.spark.storage.BlockManagerMasterEndpoint: No more replicas available for rdd_6075_92 !\n",
      "23/11/26 21:09:07 WARN org.apache.spark.storage.BlockManagerMasterEndpoint: No more replicas available for rdd_123_115 !\n",
      "23/11/26 21:09:07 WARN org.apache.spark.storage.BlockManagerMasterEndpoint: No more replicas available for rdd_5790_156 !\n",
      "23/11/26 21:09:07 WARN org.apache.spark.storage.BlockManagerMasterEndpoint: No more replicas available for rdd_123_116 !\n",
      "23/11/26 21:09:07 WARN org.apache.spark.storage.BlockManagerMasterEndpoint: No more replicas available for rdd_5813_91 !\n",
      "23/11/26 21:09:07 WARN org.apache.spark.storage.BlockManagerMasterEndpoint: No more replicas available for rdd_6119_58 !\n",
      "23/11/26 21:09:07 WARN org.apache.spark.storage.BlockManagerMasterEndpoint: No more replicas available for rdd_6097_91 !\n",
      "23/11/26 21:09:07 WARN org.apache.spark.storage.BlockManagerMasterEndpoint: No more replicas available for rdd_5790_89 !\n",
      "23/11/26 21:09:07 WARN org.apache.spark.storage.BlockManagerMasterEndpoint: No more replicas available for rdd_123_36 !\n",
      "23/11/26 21:09:07 WARN org.apache.spark.storage.BlockManagerMasterEndpoint: No more replicas available for rdd_6075_157 !\n",
      "23/11/26 21:09:07 WARN org.apache.spark.storage.BlockManagerMasterEndpoint: No more replicas available for rdd_123_165 !\n",
      "23/11/26 21:09:07 WARN org.apache.spark.storage.BlockManagerMasterEndpoint: No more replicas available for rdd_6122_55 !\n",
      "23/11/26 21:09:07 WARN org.apache.spark.storage.BlockManagerMasterEndpoint: No more replicas available for rdd_6075_162 !\n",
      "23/11/26 21:09:07 WARN org.apache.spark.storage.BlockManagerMasterEndpoint: No more replicas available for rdd_123_71 !\n",
      "23/11/26 21:09:07 WARN org.apache.spark.storage.BlockManagerMasterEndpoint: No more replicas available for rdd_6097_161 !\n",
      "23/11/26 21:09:07 WARN org.apache.spark.storage.BlockManagerMasterEndpoint: No more replicas available for rdd_123_175 !\n",
      "23/11/26 21:09:07 WARN org.apache.spark.storage.BlockManagerMasterEndpoint: No more replicas available for rdd_5790_85 !\n",
      "23/11/26 21:09:07 WARN org.apache.spark.storage.BlockManagerMasterEndpoint: No more replicas available for rdd_6097_87 !\n",
      "23/11/26 21:09:07 WARN org.apache.spark.storage.BlockManagerMasterEndpoint: No more replicas available for rdd_123_125 !\n",
      "23/11/26 21:09:07 WARN org.apache.spark.storage.BlockManagerMasterEndpoint: No more replicas available for rdd_6122_156 !\n",
      "23/11/26 21:09:07 WARN org.apache.spark.storage.BlockManagerMasterEndpoint: No more replicas available for rdd_6119_90 !\n",
      "23/11/26 21:09:07 WARN org.apache.spark.storage.BlockManagerMasterEndpoint: No more replicas available for rdd_6097_90 !\n",
      "23/11/26 21:09:07 WARN org.apache.spark.storage.BlockManagerMasterEndpoint: No more replicas available for rdd_6119_54 !\n",
      "23/11/26 21:09:07 WARN org.apache.spark.storage.BlockManagerMasterEndpoint: No more replicas available for rdd_123_173 !\n",
      "23/11/26 21:09:07 WARN org.apache.spark.storage.BlockManagerMasterEndpoint: No more replicas available for rdd_123_77 !\n",
      "23/11/26 21:09:07 WARN org.apache.spark.storage.BlockManagerMasterEndpoint: No more replicas available for rdd_123_171 !\n",
      "23/11/26 21:09:07 WARN org.apache.spark.storage.BlockManagerMasterEndpoint: No more replicas available for rdd_6097_57 !\n",
      "23/11/26 21:09:07 WARN org.apache.spark.storage.BlockManagerMasterEndpoint: No more replicas available for rdd_123_55 !\n",
      "23/11/26 21:09:07 WARN org.apache.spark.storage.BlockManagerMasterEndpoint: No more replicas available for rdd_6122_53 !\n",
      "23/11/26 21:09:07 WARN org.apache.spark.storage.BlockManagerMasterEndpoint: No more replicas available for rdd_6122_161 !\n",
      "23/11/26 21:09:07 WARN org.apache.spark.storage.BlockManagerMasterEndpoint: No more replicas available for rdd_6119_88 !\n",
      "23/11/26 21:09:07 WARN org.apache.spark.storage.BlockManagerMasterEndpoint: No more replicas available for rdd_123_183 !\n",
      "23/11/26 21:09:07 WARN org.apache.spark.storage.BlockManagerMasterEndpoint: No more replicas available for rdd_5813_156 !\n",
      "23/11/26 21:09:07 WARN org.apache.spark.scheduler.TaskSetManager: Lost task 0.0 in stage 4167.0 (TID 506733) (hub-msca-bdp-dphub-students-jasonchandra-w-1.c.msca-bdp-student-ap.internal executor 10): FetchFailed(BlockManagerId(8, hub-msca-bdp-dphub-students-jasonchandra-sw-stb1.c.msca-bdp-student-ap.internal, 7337, None), shuffleId=1312, mapIndex=51, mapId=506535, reduceId=0, message=\n",
      "org.apache.spark.shuffle.FetchFailedException: Failure while fetching StreamChunkId[streamId=1112323532279,chunkIndex=0]: java.lang.RuntimeException: Executor is not registered (appId=application_1701030147651_0002, execId=8)\n",
      "\tat org.apache.spark.network.shuffle.ExternalShuffleBlockResolver.getContinuousBlocksData(ExternalShuffleBlockResolver.java:203)\n",
      "\tat org.apache.spark.network.shuffle.ExternalShuffleBlockResolver.getBlockData(ExternalShuffleBlockResolver.java:185)\n",
      "\tat org.apache.spark.network.shuffle.ExternalBlockHandler$ShuffleManagedBufferIterator.next(ExternalBlockHandler.java:533)\n",
      "\tat org.apache.spark.network.shuffle.ExternalBlockHandler$ShuffleManagedBufferIterator.next(ExternalBlockHandler.java:499)\n",
      "\tat org.apache.spark.network.server.OneForOneStreamManager.getChunk(OneForOneStreamManager.java:87)\n",
      "\tat org.apache.spark.network.server.ChunkFetchRequestHandler.processFetchRequest(ChunkFetchRequestHandler.java:103)\n",
      "\tat org.apache.spark.network.server.TransportRequestHandler.handle(TransportRequestHandler.java:107)\n",
      "\tat org.apache.spark.network.server.TransportChannelHandler.channelRead0(TransportChannelHandler.java:140)\n",
      "\tat org.apache.spark.network.server.TransportChannelHandler.channelRead0(TransportChannelHandler.java:53)\n",
      "\tat org.sparkproject.io.netty.channel.SimpleChannelInboundHandler.channelRead(SimpleChannelInboundHandler.java:99)\n",
      "\tat org.sparkproject.io.netty.channel.AbstractChannelHandlerContext.invokeChannelRead(AbstractChannelHandlerContext.java:379)\n",
      "\tat org.sparkproject.io.netty.channel.AbstractChannelHandlerContext.invokeChannelRead(AbstractChannelHandlerContext.java:365)\n",
      "\tat org.sparkproject.io.netty.channel.AbstractChannelHandlerContext.fireChannelRead(AbstractChannelHandlerContext.java:357)\n",
      "\tat org.sparkproject.io.netty.handler.timeout.IdleStateHandler.channelRead(IdleStateHandler.java:286)\n",
      "\tat org.sparkproject.io.netty.channel.AbstractChannelHandlerContext.invokeChannelRead(AbstractChannelHandlerContext.java:379)\n",
      "\tat org.sparkproject.io.netty.channel.AbstractChannelHandlerContext.invokeChannelRead(AbstractChannelHandlerContext.java:365)\n",
      "\tat org.sparkproject.io.netty.channel.AbstractChannelHandlerContext.fireChannelRead(AbstractChannelHandlerContext.java:357)\n",
      "\tat org.sparkproject.io.netty.handler.codec.MessageToMessageDecoder.channelRead(MessageToMessageDecoder.java:103)\n",
      "\tat org.sparkproject.io.netty.channel.AbstractChannelHandlerContext.invokeChannelRead(AbstractChannelHandlerContext.java:379)\n",
      "\tat org.sparkproject.io.netty.channel.AbstractChannelHandlerContext.invokeChannelRead(AbstractChannelHandlerContext.java:365)\n",
      "\tat org.sparkproject.io.netty.channel.AbstractChannelHandlerContext.fireChannelRead(AbstractChannelHandlerContext.java:357)\n",
      "\tat org.apache.spark.network.util.TransportFrameDecoder.channelRead(TransportFrameDecoder.java:102)\n",
      "\tat org.sparkproject.io.netty.channel.AbstractChannelHandlerContext.invokeChannelRead(AbstractChannelHandlerContext.java:379)\n",
      "\tat org.sparkproject.io.netty.channel.AbstractChannelHandlerContext.invokeChannelRead(AbstractChannelHandlerContext.java:365)\n",
      "\tat org.sparkproject.io.netty.channel.AbstractChannelHandlerContext.fireChannelRead(AbstractChannelHandlerContext.java:357)\n",
      "\tat org.sparkproject.io.netty.channel.DefaultChannelPipeline$HeadContext.channelRead(DefaultChannelPipeline.java:1410)\n",
      "\tat org.sparkproject.io.netty.channel.AbstractChannelHandlerContext.invokeChannelRead(AbstractChannelHandlerContext.java:379)\n",
      "\tat org.sparkproject.io.netty.channel.AbstractChannelHandlerContext.invokeChannelRead(AbstractChannelHandlerContext.java:365)\n",
      "\tat org.sparkproject.io.netty.channel.DefaultChannelPipeline.fireChannelRead(DefaultChannelPipeline.java:919)\n",
      "\tat org.sparkproject.io.netty.channel.nio.AbstractNioByteChannel$NioByteUnsafe.read(AbstractNioByteChannel.java:163)\n",
      "\tat org.sparkproject.io.netty.channel.nio.NioEventLoop.processSelectedKey(NioEventLoop.java:714)\n",
      "\tat org.sparkproject.io.netty.channel.nio.NioEventLoop.processSelectedKeysOptimized(NioEventLoop.java:650)\n",
      "\tat org.sparkproject.io.netty.channel.nio.NioEventLoop.processSelectedKeys(NioEventLoop.java:576)\n",
      "\tat org.sparkproject.io.netty.channel.nio.NioEventLoop.run(NioEventLoop.java:493)\n",
      "\tat org.sparkproject.io.netty.util.concurrent.SingleThreadEventExecutor$4.run(SingleThreadEventExecutor.java:989)\n",
      "\tat org.sparkproject.io.netty.util.internal.ThreadExecutorMap$2.run(ThreadExecutorMap.java:74)\n",
      "\tat org.sparkproject.io.netty.util.concurrent.FastThreadLocalRunnable.run(FastThreadLocalRunnable.java:30)\n",
      "\tat java.lang.Thread.run(Thread.java:750)\n",
      "\n",
      "\tat org.apache.spark.storage.ShuffleBlockFetcherIterator.throwFetchFailedException(ShuffleBlockFetcherIterator.scala:775)\n",
      "\tat org.apache.spark.storage.ShuffleBlockFetcherIterator.next(ShuffleBlockFetcherIterator.scala:690)\n",
      "\tat org.apache.spark.storage.ShuffleBlockFetcherIterator.next(ShuffleBlockFetcherIterator.scala:70)\n",
      "\tat org.apache.spark.util.CompletionIterator.next(CompletionIterator.scala:29)\n",
      "\tat scala.collection.Iterator$$anon$11.nextCur(Iterator.scala:486)\n",
      "\tat scala.collection.Iterator$$anon$11.hasNext(Iterator.scala:492)\n",
      "\tat scala.collection.Iterator$$anon$10.hasNext(Iterator.scala:460)\n",
      "\tat org.apache.spark.util.CompletionIterator.hasNext(CompletionIterator.scala:31)\n",
      "\tat org.apache.spark.InterruptibleIterator.hasNext(InterruptibleIterator.scala:37)\n",
      "\tat org.apache.spark.util.collection.ExternalAppendOnlyMap.insertAll(ExternalAppendOnlyMap.scala:155)\n",
      "\tat org.apache.spark.Aggregator.combineCombinersByKey(Aggregator.scala:50)\n",
      "\tat org.apache.spark.shuffle.BlockStoreShuffleReader.read(BlockStoreShuffleReader.scala:112)\n",
      "\tat org.apache.spark.rdd.ShuffledRDD.compute(ShuffledRDD.scala:106)\n",
      "\tat org.apache.spark.rdd.RDD.computeOrReadCheckpoint(RDD.scala:373)\n",
      "\tat org.apache.spark.rdd.RDD.iterator(RDD.scala:337)\n",
      "\tat org.apache.spark.rdd.MapPartitionsRDD.compute(MapPartitionsRDD.scala:52)\n",
      "\tat org.apache.spark.rdd.RDD.computeOrReadCheckpoint(RDD.scala:373)\n",
      "\tat org.apache.spark.rdd.RDD.iterator(RDD.scala:337)\n",
      "\tat org.apache.spark.scheduler.ResultTask.runTask(ResultTask.scala:90)\n",
      "\tat org.apache.spark.scheduler.Task.run(Task.scala:131)\n",
      "\tat org.apache.spark.executor.Executor$TaskRunner.$anonfun$run$3(Executor.scala:505)\n",
      "\tat org.apache.spark.util.Utils$.tryWithSafeFinally(Utils.scala:1439)\n",
      "\tat org.apache.spark.executor.Executor$TaskRunner.run(Executor.scala:508)\n",
      "\tat java.util.concurrent.ThreadPoolExecutor.runWorker(ThreadPoolExecutor.java:1149)\n",
      "\tat java.util.concurrent.ThreadPoolExecutor$Worker.run(ThreadPoolExecutor.java:624)\n",
      "\tat java.lang.Thread.run(Thread.java:750)\n",
      "Caused by: org.apache.spark.network.client.ChunkFetchFailureException: Failure while fetching StreamChunkId[streamId=1112323532279,chunkIndex=0]: java.lang.RuntimeException: Executor is not registered (appId=application_1701030147651_0002, execId=8)\n",
      "\tat org.apache.spark.network.shuffle.ExternalShuffleBlockResolver.getContinuousBlocksData(ExternalShuffleBlockResolver.java:203)\n",
      "\tat org.apache.spark.network.shuffle.ExternalShuffleBlockResolver.getBlockData(ExternalShuffleBlockResolver.java:185)\n",
      "\tat org.apache.spark.network.shuffle.ExternalBlockHandler$ShuffleManagedBufferIterator.next(ExternalBlockHandler.java:533)\n",
      "\tat org.apache.spark.network.shuffle.ExternalBlockHandler$ShuffleManagedBufferIterator.next(ExternalBlockHandler.java:499)\n",
      "\tat org.apache.spark.network.server.OneForOneStreamManager.getChunk(OneForOneStreamManager.java:87)\n",
      "\tat org.apache.spark.network.server.ChunkFetchRequestHandler.processFetchRequest(ChunkFetchRequestHandler.java:103)\n",
      "\tat org.apache.spark.network.server.TransportRequestHandler.handle(TransportRequestHandler.java:107)\n",
      "\tat org.apache.spark.network.server.TransportChannelHandler.channelRead0(TransportChannelHandler.java:140)\n",
      "\tat org.apache.spark.network.server.TransportChannelHandler.channelRead0(TransportChannelHandler.java:53)\n",
      "\tat org.sparkproject.io.netty.channel.SimpleChannelInboundHandler.channelRead(SimpleChannelInboundHandler.java:99)\n",
      "\tat org.sparkproject.io.netty.channel.AbstractChannelHandlerContext.invokeChannelRead(AbstractChannelHandlerContext.java:379)\n",
      "\tat org.sparkproject.io.netty.channel.AbstractChannelHandlerContext.invokeChannelRead(AbstractChannelHandlerContext.java:365)\n",
      "\tat org.sparkproject.io.netty.channel.AbstractChannelHandlerContext.fireChannelRead(AbstractChannelHandlerContext.java:357)\n",
      "\tat org.sparkproject.io.netty.handler.timeout.IdleStateHandler.channelRead(IdleStateHandler.java:286)\n",
      "\tat org.sparkproject.io.netty.channel.AbstractChannelHandlerContext.invokeChannelRead(AbstractChannelHandlerContext.java:379)\n",
      "\tat org.sparkproject.io.netty.channel.AbstractChannelHandlerContext.invokeChannelRead(AbstractChannelHandlerContext.java:365)\n",
      "\tat org.sparkproject.io.netty.channel.AbstractChannelHandlerContext.fireChannelRead(AbstractChannelHandlerContext.java:357)\n",
      "\tat org.sparkproject.io.netty.handler.codec.MessageToMessageDecoder.channelRead(MessageToMessageDecoder.java:103)\n",
      "\tat org.sparkproject.io.netty.channel.AbstractChannelHandlerContext.invokeChannelRead(AbstractChannelHandlerContext.java:379)\n",
      "\tat org.sparkproject.io.netty.channel.AbstractChannelHandlerContext.invokeChannelRead(AbstractChannelHandlerContext.java:365)\n",
      "\tat org.sparkproject.io.netty.channel.AbstractChannelHandlerContext.fireChannelRead(AbstractChannelHandlerContext.java:357)\n",
      "\tat org.apache.spark.network.util.TransportFrameDecoder.channelRead(TransportFrameDecoder.java:102)\n",
      "\tat org.sparkproject.io.netty.channel.AbstractChannelHandlerContext.invokeChannelRead(AbstractChannelHandlerContext.java:379)\n",
      "\tat org.sparkproject.io.netty.channel.AbstractChannelHandlerContext.invokeChannelRead(AbstractChannelHandlerContext.java:365)\n",
      "\tat org.sparkproject.io.netty.channel.AbstractChannelHandlerContext.fireChannelRead(AbstractChannelHandlerContext.java:357)\n",
      "\tat org.sparkproject.io.netty.channel.DefaultChannelPipeline$HeadContext.channelRead(DefaultChannelPipeline.java:1410)\n",
      "\tat org.sparkproject.io.netty.channel.AbstractChannelHandlerContext.invokeChannelRead(AbstractChannelHandlerContext.java:379)\n",
      "\tat org.sparkproject.io.netty.channel.AbstractChannelHandlerContext.invokeChannelRead(AbstractChannelHandlerContext.java:365)\n",
      "\tat org.sparkproject.io.netty.channel.DefaultChannelPipeline.fireChannelRead(DefaultChannelPipeline.java:919)\n",
      "\tat org.sparkproject.io.netty.channel.nio.AbstractNioByteChannel$NioByteUnsafe.read(AbstractNioByteChannel.java:163)\n",
      "\tat org.sparkproject.io.netty.channel.nio.NioEventLoop.processSelectedKey(NioEventLoop.java:714)\n",
      "\tat org.sparkproject.io.netty.channel.nio.NioEventLoop.processSelectedKeysOptimized(NioEventLoop.java:650)\n",
      "\tat org.sparkproject.io.netty.channel.nio.NioEventLoop.processSelectedKeys(NioEventLoop.java:576)\n",
      "\tat org.sparkproject.io.netty.channel.nio.NioEventLoop.run(NioEventLoop.java:493)\n",
      "\tat org.sparkproject.io.netty.util.concurrent.SingleThreadEventExecutor$4.run(SingleThreadEventExecutor.java:989)\n",
      "\tat org.sparkproject.io.netty.util.internal.ThreadExecutorMap$2.run(ThreadExecutorMap.java:74)\n",
      "\tat org.sparkproject.io.netty.util.concurrent.FastThreadLocalRunnable.run(FastThreadLocalRunnable.java:30)\n",
      "\tat java.lang.Thread.run(Thread.java:750)\n",
      "\n",
      "\tat org.apache.spark.network.client.TransportResponseHandler.handle(TransportResponseHandler.java:182)\n",
      "\tat org.apache.spark.network.server.TransportChannelHandler.channelRead0(TransportChannelHandler.java:142)\n",
      "\tat org.apache.spark.network.server.TransportChannelHandler.channelRead0(TransportChannelHandler.java:53)\n",
      "\tat io.netty.channel.SimpleChannelInboundHandler.channelRead(SimpleChannelInboundHandler.java:99)\n",
      "\tat io.netty.channel.AbstractChannelHandlerContext.invokeChannelRead(AbstractChannelHandlerContext.java:379)\n",
      "\tat io.netty.channel.AbstractChannelHandlerContext.invokeChannelRead(AbstractChannelHandlerContext.java:365)\n",
      "\tat io.netty.channel.AbstractChannelHandlerContext.fireChannelRead(AbstractChannelHandlerContext.java:357)\n",
      "\tat io.netty.handler.timeout.IdleStateHandler.channelRead(IdleStateHandler.java:286)\n",
      "\tat io.netty.channel.AbstractChannelHandlerContext.invokeChannelRead(AbstractChannelHandlerContext.java:379)\n",
      "\tat io.netty.channel.AbstractChannelHandlerContext.invokeChannelRead(AbstractChannelHandlerContext.java:365)\n",
      "\tat io.netty.channel.AbstractChannelHandlerContext.fireChannelRead(AbstractChannelHandlerContext.java:357)\n",
      "\tat io.netty.handler.codec.MessageToMessageDecoder.channelRead(MessageToMessageDecoder.java:103)\n",
      "\tat io.netty.channel.AbstractChannelHandlerContext.invokeChannelRead(AbstractChannelHandlerContext.java:379)\n",
      "\tat io.netty.channel.AbstractChannelHandlerContext.invokeChannelRead(AbstractChannelHandlerContext.java:365)\n",
      "\tat io.netty.channel.AbstractChannelHandlerContext.fireChannelRead(AbstractChannelHandlerContext.java:357)\n",
      "\tat org.apache.spark.network.util.TransportFrameDecoder.channelRead(TransportFrameDecoder.java:102)\n",
      "\tat io.netty.channel.AbstractChannelHandlerContext.invokeChannelRead(AbstractChannelHandlerContext.java:379)\n",
      "\tat io.netty.channel.AbstractChannelHandlerContext.invokeChannelRead(AbstractChannelHandlerContext.java:365)\n",
      "\tat io.netty.channel.AbstractChannelHandlerContext.fireChannelRead(AbstractChannelHandlerContext.java:357)\n",
      "\tat io.netty.channel.DefaultChannelPipeline$HeadContext.channelRead(DefaultChannelPipeline.java:1410)\n",
      "\tat io.netty.channel.AbstractChannelHandlerContext.invokeChannelRead(AbstractChannelHandlerContext.java:379)\n",
      "\tat io.netty.channel.AbstractChannelHandlerContext.invokeChannelRead(AbstractChannelHandlerContext.java:365)\n",
      "\tat io.netty.channel.DefaultChannelPipeline.fireChannelRead(DefaultChannelPipeline.java:919)\n",
      "\tat io.netty.channel.nio.AbstractNioByteChannel$NioByteUnsafe.read(AbstractNioByteChannel.java:163)\n",
      "\tat io.netty.channel.nio.NioEventLoop.processSelectedKey(NioEventLoop.java:714)\n",
      "\tat io.netty.channel.nio.NioEventLoop.processSelectedKeysOptimized(NioEventLoop.java:650)\n",
      "\tat io.netty.channel.nio.NioEventLoop.processSelectedKeys(NioEventLoop.java:576)\n",
      "\tat io.netty.channel.nio.NioEventLoop.run(NioEventLoop.java:493)\n",
      "\tat io.netty.util.concurrent.SingleThreadEventExecutor$4.run(SingleThreadEventExecutor.java:989)\n",
      "\tat io.netty.util.internal.ThreadExecutorMap$2.run(ThreadExecutorMap.java:74)\n",
      "\tat io.netty.util.concurrent.FastThreadLocalRunnable.run(FastThreadLocalRunnable.java:30)\n",
      "\t... 1 more\n",
      "\n",
      ")\n",
      "                                                                                \r"
     ]
    }
   ],
   "source": [
    "# Create Pipelines\n",
    "pipelineRF = Pipeline(stages=[crossvalRF])\n",
    "pipelineGBT = Pipeline(stages=[crossvalGBT])\n",
    "pipelineLR = Pipeline(stages=[crossvalLR])\n",
    "\n",
    "# Fit the models\n",
    "modelRF = pipelineRF.fit(train_subset)\n",
    "modelGBT = pipelineGBT.fit(train_subset)\n",
    "modelLR = pipelineLR.fit(train_subset)\n"
   ]
  },
  {
   "cell_type": "code",
   "execution_count": null,
   "id": "6e2c1a80-7ba9-4a88-be51-7dad03ca104f",
   "metadata": {},
   "outputs": [],
   "source": [
    "# Saving the models\n",
    "modelRF.bestModel.save(\"path_to_save_random_forest_model\")\n",
    "modelGBT.bestModel.save(\"path_to_save_gradient_boosted_tree_model\")\n",
    "modelLR.bestModel.save(\"path_to_save_logistic_regression_model\")\n",
    "\n",
    "# Evaluation Metrics\n",
    "evaluator_auc = BinaryClassificationEvaluator(labelCol=\"ArrDel15\", metricName=\"areaUnderROC\")\n",
    "evaluator_f1 = MulticlassClassificationEvaluator(labelCol=\"ArrDel15\", metricName=\"f1\")\n",
    "\n",
    "# Evaluate RandomForest model\n",
    "predictionsRF = modelRF.transform(test_subset)\n",
    "aucRF = evaluator_auc.evaluate(predictionsRF)\n",
    "f1_score_RF = evaluator_f1.evaluate(predictionsRF)\n",
    "print(f\"RandomForest AUC: {aucRF}\")\n",
    "print(f\"RandomForest F1 Score: {f1_score_RF}\")\n",
    "\n",
    "# Evaluate Gradient Boosted Tree model\n",
    "predictionsGBT = modelGBT.transform(test_subset)\n",
    "aucGBT = evaluator_auc.evaluate(predictionsGBT)\n",
    "f1_score_GBT = evaluator_f1.evaluate(predictionsGBT)\n",
    "print(f\"Gradient Boosted Tree AUC: {aucGBT}\")\n",
    "print(f\"Gradient Boosted Tree F1 Score: {f1_score_GBT}\")\n",
    "\n",
    "# Evaluate Logistic Regression model\n",
    "predictionsLR = modelLR.transform(test_subset)\n",
    "aucLR = evaluator_auc.evaluate(predictionsLR)\n",
    "f1_score_LR = evaluator_f1.evaluate(predictionsLR)\n",
    "print(f\"Logistic Regression AUC: {aucLR}\")\n",
    "print(f\"Logistic Regression F1 Score: {f1_score_LR}\")"
   ]
  },
  {
   "cell_type": "code",
   "execution_count": null,
   "id": "da8e9f18-c0fd-400d-bbd1-605c9a2aacd2",
   "metadata": {},
   "outputs": [],
   "source": [
    "#######################"
   ]
  },
  {
   "cell_type": "markdown",
   "id": "2676d636-e04a-465f-8a96-e47f023937c2",
   "metadata": {},
   "source": [
    "### Model Building"
   ]
  },
  {
   "cell_type": "code",
   "execution_count": 78,
   "id": "801dac2b-e5fa-4f37-b3a0-8136ad6ed188",
   "metadata": {},
   "outputs": [],
   "source": [
    "#1. Preparing the Data\n",
    "\n",
    "# Splitting the data into training and test sets\n",
    "train, test = df_transformed.randomSplit([0.7, 0.3])"
   ]
  },
  {
   "cell_type": "code",
   "execution_count": 80,
   "id": "43de3cd2-caf2-4ba3-818b-cb0fc4c5f61d",
   "metadata": {},
   "outputs": [
    {
     "name": "stderr",
     "output_type": "stream",
     "text": [
      "                                                                                \r"
     ]
    }
   ],
   "source": [
    "from pyspark.sql.functions import col\n",
    "\n",
    "# Example to check for null values in specific columns\n",
    "for column in df_cleaned.columns:\n",
    "    null_count = df_cleaned.filter(col(column).isNull()).count()\n",
    "    if null_count > 0:\n",
    "        print(f\"Column {column} has {null_count} null values\")\n"
   ]
  },
  {
   "cell_type": "code",
   "execution_count": 81,
   "id": "ccb5cced-3a91-4034-acd5-9ccd287a9654",
   "metadata": {},
   "outputs": [
    {
     "name": "stdout",
     "output_type": "stream",
     "text": [
      "root\n",
      " |-- Year: string (nullable = true)\n",
      " |-- Quarter: string (nullable = true)\n",
      " |-- Month: string (nullable = true)\n",
      " |-- DayofMonth: string (nullable = true)\n",
      " |-- DayOfWeek: string (nullable = true)\n",
      " |-- FlightDate: date (nullable = true)\n",
      " |-- Operating_Airline: string (nullable = true)\n",
      " |-- Tail_Number: string (nullable = true)\n",
      " |-- Flight_Number_Operating_Airline: string (nullable = true)\n",
      " |-- Origin: string (nullable = true)\n",
      " |-- OriginCityName: string (nullable = true)\n",
      " |-- OriginState: string (nullable = true)\n",
      " |-- Dest: string (nullable = true)\n",
      " |-- DestCityName: string (nullable = true)\n",
      " |-- DestState: string (nullable = true)\n",
      " |-- CRSDepTime: long (nullable = true)\n",
      " |-- DepTime: integer (nullable = true)\n",
      " |-- DepDelayMinutes: double (nullable = true)\n",
      " |-- DepTimeBlk: string (nullable = true)\n",
      " |-- CRSArrTime: long (nullable = true)\n",
      " |-- ArrTime: integer (nullable = true)\n",
      " |-- ArrDelayMinutes: double (nullable = true)\n",
      " |-- ArrTimeBlk: string (nullable = true)\n",
      " |-- Distance: double (nullable = true)\n",
      " |-- DistanceGroup: string (nullable = true)\n",
      " |-- DepDel15: string (nullable = true)\n",
      " |-- ArrDel15: string (nullable = true)\n",
      " |-- OriginAirportID: long (nullable = true)\n",
      " |-- DestAirportID: long (nullable = true)\n",
      " |-- PR_ARR_DEL15: string (nullable = true)\n",
      " |-- IsWeekend: integer (nullable = true)\n",
      " |-- features: vector (nullable = true)\n",
      " |-- scaledFeatures: vector (nullable = true)\n",
      "\n"
     ]
    }
   ],
   "source": [
    "# Print the schema of the DataFrame\n",
    "df_cleaned.printSchema()"
   ]
  },
  {
   "cell_type": "code",
   "execution_count": 82,
   "id": "869e6030-1270-45c9-ae41-bff31781be3c",
   "metadata": {},
   "outputs": [
    {
     "name": "stderr",
     "output_type": "stream",
     "text": [
      "[Stage 391:>                                                        (0 + 1) / 1]\r"
     ]
    },
    {
     "name": "stdout",
     "output_type": "stream",
     "text": [
      "+-------------+\n",
      "|features     |\n",
      "+-------------+\n",
      "|[58.0,1005.0]|\n",
      "|[0.0,660.0]  |\n",
      "|[0.0,783.0]  |\n",
      "|[0.0,807.0]  |\n",
      "|[3.0,660.0]  |\n",
      "|[0.0,660.0]  |\n",
      "|[3.0,783.0]  |\n",
      "|[5.0,687.0]  |\n",
      "|[0.0,916.0]  |\n",
      "|[2.0,1590.0] |\n",
      "|[0.0,1472.0] |\n",
      "|[0.0,961.0]  |\n",
      "|[0.0,643.0]  |\n",
      "|[0.0,851.0]  |\n",
      "|[10.0,961.0] |\n",
      "|[0.0,643.0]  |\n",
      "|[0.0,851.0]  |\n",
      "|[30.0,851.0] |\n",
      "|[12.0,855.0] |\n",
      "|[0.0,916.0]  |\n",
      "+-------------+\n",
      "only showing top 20 rows\n",
      "\n"
     ]
    },
    {
     "name": "stderr",
     "output_type": "stream",
     "text": [
      "                                                                                \r"
     ]
    }
   ],
   "source": [
    "# Inspect the contents of the feature vector\n",
    "df_cleaned.select(\"features\").show(truncate=False)\n"
   ]
  },
  {
   "cell_type": "code",
   "execution_count": 83,
   "id": "7e6b0bab-0629-463f-b5c9-f752d2010a4e",
   "metadata": {},
   "outputs": [],
   "source": [
    "# Use a small subset of the DataFrame\n",
    "subset = df_cleaned.sample(fraction=0.1, seed=12345)\n",
    "\n",
    "# Apply your model on this subset\n",
    "# model.fit(subset) or similar code depending on your specific scenario\n"
   ]
  },
  {
   "cell_type": "markdown",
   "id": "4dc3f746-56ff-4e25-af38-c5aedd40e0ff",
   "metadata": {},
   "source": [
    "##### Decision Tree"
   ]
  },
  {
   "cell_type": "code",
   "execution_count": 86,
   "id": "3ae0d18c-7453-409f-b60d-86ac45b320a2",
   "metadata": {},
   "outputs": [
    {
     "name": "stderr",
     "output_type": "stream",
     "text": [
      "23/11/26 02:53:04 WARN org.apache.spark.scheduler.TaskSetManager: Lost task 11.0 in stage 403.0 (TID 6251) (hub-msca-bdp-dphub-students-jiaweixu-w-0.c.msca-bdp-student-ap.internal executor 48): scala.MatchError: [null,1.0,[1499.473202188546,0.8912127733964943,0.28935693829694464]] (of class org.apache.spark.sql.catalyst.expressions.GenericRowWithSchema)\n",
      "\tat org.apache.spark.ml.PredictorParams.$anonfun$extractInstances$1(Predictor.scala:81)\n",
      "\tat scala.collection.Iterator$$anon$10.next(Iterator.scala:461)\n",
      "\tat scala.collection.Iterator$$anon$10.next(Iterator.scala:461)\n",
      "\tat scala.collection.Iterator.foreach(Iterator.scala:943)\n",
      "\tat scala.collection.Iterator.foreach$(Iterator.scala:943)\n",
      "\tat scala.collection.AbstractIterator.foreach(Iterator.scala:1431)\n",
      "\tat scala.collection.TraversableOnce.foldLeft(TraversableOnce.scala:199)\n",
      "\tat scala.collection.TraversableOnce.foldLeft$(TraversableOnce.scala:192)\n",
      "\tat scala.collection.AbstractIterator.foldLeft(Iterator.scala:1431)\n",
      "\tat scala.collection.TraversableOnce.aggregate(TraversableOnce.scala:260)\n",
      "\tat scala.collection.TraversableOnce.aggregate$(TraversableOnce.scala:260)\n",
      "\tat scala.collection.AbstractIterator.aggregate(Iterator.scala:1431)\n",
      "\tat org.apache.spark.rdd.RDD.$anonfun$aggregate$2(RDD.scala:1207)\n",
      "\tat org.apache.spark.SparkContext.$anonfun$runJob$6(SparkContext.scala:2298)\n",
      "\tat org.apache.spark.scheduler.ResultTask.runTask(ResultTask.scala:90)\n",
      "\tat org.apache.spark.scheduler.Task.run(Task.scala:131)\n",
      "\tat org.apache.spark.executor.Executor$TaskRunner.$anonfun$run$3(Executor.scala:505)\n",
      "\tat org.apache.spark.util.Utils$.tryWithSafeFinally(Utils.scala:1439)\n",
      "\tat org.apache.spark.executor.Executor$TaskRunner.run(Executor.scala:508)\n",
      "\tat java.util.concurrent.ThreadPoolExecutor.runWorker(ThreadPoolExecutor.java:1149)\n",
      "\tat java.util.concurrent.ThreadPoolExecutor$Worker.run(ThreadPoolExecutor.java:624)\n",
      "\tat java.lang.Thread.run(Thread.java:750)\n",
      "\n",
      "23/11/26 02:53:04 WARN org.apache.spark.scheduler.TaskSetManager: Lost task 16.0 in stage 403.0 (TID 6256) (hub-msca-bdp-dphub-students-jiaweixu-w-1.c.msca-bdp-student-ap.internal executor 45): scala.MatchError: [null,1.0,[1499.473202188546,1.7824255467929886,1.1574277531877786]] (of class org.apache.spark.sql.catalyst.expressions.GenericRowWithSchema)\n",
      "\tat org.apache.spark.ml.PredictorParams.$anonfun$extractInstances$1(Predictor.scala:81)\n",
      "\tat scala.collection.Iterator$$anon$10.next(Iterator.scala:461)\n",
      "\tat scala.collection.Iterator$$anon$10.next(Iterator.scala:461)\n",
      "\tat scala.collection.Iterator.foreach(Iterator.scala:943)\n",
      "\tat scala.collection.Iterator.foreach$(Iterator.scala:943)\n",
      "\tat scala.collection.AbstractIterator.foreach(Iterator.scala:1431)\n",
      "\tat scala.collection.TraversableOnce.foldLeft(TraversableOnce.scala:199)\n",
      "\tat scala.collection.TraversableOnce.foldLeft$(TraversableOnce.scala:192)\n",
      "\tat scala.collection.AbstractIterator.foldLeft(Iterator.scala:1431)\n",
      "\tat scala.collection.TraversableOnce.aggregate(TraversableOnce.scala:260)\n",
      "\tat scala.collection.TraversableOnce.aggregate$(TraversableOnce.scala:260)\n",
      "\tat scala.collection.AbstractIterator.aggregate(Iterator.scala:1431)\n",
      "\tat org.apache.spark.rdd.RDD.$anonfun$aggregate$2(RDD.scala:1207)\n",
      "\tat org.apache.spark.SparkContext.$anonfun$runJob$6(SparkContext.scala:2298)\n",
      "\tat org.apache.spark.scheduler.ResultTask.runTask(ResultTask.scala:90)\n",
      "\tat org.apache.spark.scheduler.Task.run(Task.scala:131)\n",
      "\tat org.apache.spark.executor.Executor$TaskRunner.$anonfun$run$3(Executor.scala:505)\n",
      "\tat org.apache.spark.util.Utils$.tryWithSafeFinally(Utils.scala:1439)\n",
      "\tat org.apache.spark.executor.Executor$TaskRunner.run(Executor.scala:508)\n",
      "\tat java.util.concurrent.ThreadPoolExecutor.runWorker(ThreadPoolExecutor.java:1149)\n",
      "\tat java.util.concurrent.ThreadPoolExecutor$Worker.run(ThreadPoolExecutor.java:624)\n",
      "\tat java.lang.Thread.run(Thread.java:750)\n",
      "\n",
      "23/11/26 02:53:14 WARN org.apache.spark.scheduler.TaskSetManager: Lost task 19.1 in stage 403.0 (TID 6286) (hub-msca-bdp-dphub-students-jiaweixu-w-0.c.msca-bdp-student-ap.internal executor 48): scala.MatchError: [null,1.0,[1499.473202188546,0.8912127733964943,0.28935693829694464]] (of class org.apache.spark.sql.catalyst.expressions.GenericRowWithSchema)\n",
      "\tat org.apache.spark.ml.PredictorParams.$anonfun$extractInstances$1(Predictor.scala:81)\n",
      "\tat scala.collection.Iterator$$anon$10.next(Iterator.scala:461)\n",
      "\tat scala.collection.Iterator$$anon$10.next(Iterator.scala:461)\n",
      "\tat scala.collection.Iterator.foreach(Iterator.scala:943)\n",
      "\tat scala.collection.Iterator.foreach$(Iterator.scala:943)\n",
      "\tat scala.collection.AbstractIterator.foreach(Iterator.scala:1431)\n",
      "\tat scala.collection.TraversableOnce.foldLeft(TraversableOnce.scala:199)\n",
      "\tat scala.collection.TraversableOnce.foldLeft$(TraversableOnce.scala:192)\n",
      "\tat scala.collection.AbstractIterator.foldLeft(Iterator.scala:1431)\n",
      "\tat scala.collection.TraversableOnce.aggregate(TraversableOnce.scala:260)\n",
      "\tat scala.collection.TraversableOnce.aggregate$(TraversableOnce.scala:260)\n",
      "\tat scala.collection.AbstractIterator.aggregate(Iterator.scala:1431)\n",
      "\tat org.apache.spark.rdd.RDD.$anonfun$aggregate$2(RDD.scala:1207)\n",
      "\tat org.apache.spark.SparkContext.$anonfun$runJob$6(SparkContext.scala:2298)\n",
      "\tat org.apache.spark.scheduler.ResultTask.runTask(ResultTask.scala:90)\n",
      "\tat org.apache.spark.scheduler.Task.run(Task.scala:131)\n",
      "\tat org.apache.spark.executor.Executor$TaskRunner.$anonfun$run$3(Executor.scala:505)\n",
      "\tat org.apache.spark.util.Utils$.tryWithSafeFinally(Utils.scala:1439)\n",
      "\tat org.apache.spark.executor.Executor$TaskRunner.run(Executor.scala:508)\n",
      "\tat java.util.concurrent.ThreadPoolExecutor.runWorker(ThreadPoolExecutor.java:1149)\n",
      "\tat java.util.concurrent.ThreadPoolExecutor$Worker.run(ThreadPoolExecutor.java:624)\n",
      "\tat java.lang.Thread.run(Thread.java:750)\n",
      "\n",
      "23/11/26 02:53:15 WARN org.apache.spark.scheduler.TaskSetManager: Lost task 14.1 in stage 403.0 (TID 6293) (hub-msca-bdp-dphub-students-jiaweixu-w-0.c.msca-bdp-student-ap.internal executor 48): scala.MatchError: [null,1.0,[1499.473202188546,1.7824255467929886,1.1574277531877786]] (of class org.apache.spark.sql.catalyst.expressions.GenericRowWithSchema)\n",
      "\tat org.apache.spark.ml.PredictorParams.$anonfun$extractInstances$1(Predictor.scala:81)\n",
      "\tat scala.collection.Iterator$$anon$10.next(Iterator.scala:461)\n",
      "\tat scala.collection.Iterator$$anon$10.next(Iterator.scala:461)\n",
      "\tat scala.collection.Iterator.foreach(Iterator.scala:943)\n",
      "\tat scala.collection.Iterator.foreach$(Iterator.scala:943)\n",
      "\tat scala.collection.AbstractIterator.foreach(Iterator.scala:1431)\n",
      "\tat scala.collection.TraversableOnce.foldLeft(TraversableOnce.scala:199)\n",
      "\tat scala.collection.TraversableOnce.foldLeft$(TraversableOnce.scala:192)\n",
      "\tat scala.collection.AbstractIterator.foldLeft(Iterator.scala:1431)\n",
      "\tat scala.collection.TraversableOnce.aggregate(TraversableOnce.scala:260)\n",
      "\tat scala.collection.TraversableOnce.aggregate$(TraversableOnce.scala:260)\n",
      "\tat scala.collection.AbstractIterator.aggregate(Iterator.scala:1431)\n",
      "\tat org.apache.spark.rdd.RDD.$anonfun$aggregate$2(RDD.scala:1207)\n",
      "\tat org.apache.spark.SparkContext.$anonfun$runJob$6(SparkContext.scala:2298)\n",
      "\tat org.apache.spark.scheduler.ResultTask.runTask(ResultTask.scala:90)\n",
      "\tat org.apache.spark.scheduler.Task.run(Task.scala:131)\n",
      "\tat org.apache.spark.executor.Executor$TaskRunner.$anonfun$run$3(Executor.scala:505)\n",
      "\tat org.apache.spark.util.Utils$.tryWithSafeFinally(Utils.scala:1439)\n",
      "\tat org.apache.spark.executor.Executor$TaskRunner.run(Executor.scala:508)\n",
      "\tat java.util.concurrent.ThreadPoolExecutor.runWorker(ThreadPoolExecutor.java:1149)\n",
      "\tat java.util.concurrent.ThreadPoolExecutor$Worker.run(ThreadPoolExecutor.java:624)\n",
      "\tat java.lang.Thread.run(Thread.java:750)\n",
      "\n",
      "23/11/26 02:53:24 WARN org.apache.spark.scheduler.TaskSetManager: Lost task 13.2 in stage 403.0 (TID 6335) (hub-msca-bdp-dphub-students-jiaweixu-w-0.c.msca-bdp-student-ap.internal executor 47): scala.MatchError: [null,1.0,[1499.473202188546,0.8912127733964943,0.28935693829694464]] (of class org.apache.spark.sql.catalyst.expressions.GenericRowWithSchema)\n",
      "\tat org.apache.spark.ml.PredictorParams.$anonfun$extractInstances$1(Predictor.scala:81)\n",
      "\tat scala.collection.Iterator$$anon$10.next(Iterator.scala:461)\n",
      "\tat scala.collection.Iterator$$anon$10.next(Iterator.scala:461)\n",
      "\tat scala.collection.Iterator.foreach(Iterator.scala:943)\n",
      "\tat scala.collection.Iterator.foreach$(Iterator.scala:943)\n",
      "\tat scala.collection.AbstractIterator.foreach(Iterator.scala:1431)\n",
      "\tat scala.collection.TraversableOnce.foldLeft(TraversableOnce.scala:199)\n",
      "\tat scala.collection.TraversableOnce.foldLeft$(TraversableOnce.scala:192)\n",
      "\tat scala.collection.AbstractIterator.foldLeft(Iterator.scala:1431)\n",
      "\tat scala.collection.TraversableOnce.aggregate(TraversableOnce.scala:260)\n",
      "\tat scala.collection.TraversableOnce.aggregate$(TraversableOnce.scala:260)\n",
      "\tat scala.collection.AbstractIterator.aggregate(Iterator.scala:1431)\n",
      "\tat org.apache.spark.rdd.RDD.$anonfun$aggregate$2(RDD.scala:1207)\n",
      "\tat org.apache.spark.SparkContext.$anonfun$runJob$6(SparkContext.scala:2298)\n",
      "\tat org.apache.spark.scheduler.ResultTask.runTask(ResultTask.scala:90)\n",
      "\tat org.apache.spark.scheduler.Task.run(Task.scala:131)\n",
      "\tat org.apache.spark.executor.Executor$TaskRunner.$anonfun$run$3(Executor.scala:505)\n",
      "\tat org.apache.spark.util.Utils$.tryWithSafeFinally(Utils.scala:1439)\n",
      "\tat org.apache.spark.executor.Executor$TaskRunner.run(Executor.scala:508)\n",
      "\tat java.util.concurrent.ThreadPoolExecutor.runWorker(ThreadPoolExecutor.java:1149)\n",
      "\tat java.util.concurrent.ThreadPoolExecutor$Worker.run(ThreadPoolExecutor.java:624)\n",
      "\tat java.lang.Thread.run(Thread.java:750)\n",
      "\n",
      "23/11/26 02:53:32 WARN org.apache.spark.scheduler.TaskSetManager: Lost task 16.3 in stage 403.0 (TID 6367) (hub-msca-bdp-dphub-students-jiaweixu-w-0.c.msca-bdp-student-ap.internal executor 47): scala.MatchError: [null,1.0,[1499.473202188546,1.7824255467929886,1.1574277531877786]] (of class org.apache.spark.sql.catalyst.expressions.GenericRowWithSchema)\n",
      "\tat org.apache.spark.ml.PredictorParams.$anonfun$extractInstances$1(Predictor.scala:81)\n",
      "\tat scala.collection.Iterator$$anon$10.next(Iterator.scala:461)\n",
      "\tat scala.collection.Iterator$$anon$10.next(Iterator.scala:461)\n",
      "\tat scala.collection.Iterator.foreach(Iterator.scala:943)\n",
      "\tat scala.collection.Iterator.foreach$(Iterator.scala:943)\n",
      "\tat scala.collection.AbstractIterator.foreach(Iterator.scala:1431)\n",
      "\tat scala.collection.TraversableOnce.foldLeft(TraversableOnce.scala:199)\n",
      "\tat scala.collection.TraversableOnce.foldLeft$(TraversableOnce.scala:192)\n",
      "\tat scala.collection.AbstractIterator.foldLeft(Iterator.scala:1431)\n",
      "\tat scala.collection.TraversableOnce.aggregate(TraversableOnce.scala:260)\n",
      "\tat scala.collection.TraversableOnce.aggregate$(TraversableOnce.scala:260)\n",
      "\tat scala.collection.AbstractIterator.aggregate(Iterator.scala:1431)\n",
      "\tat org.apache.spark.rdd.RDD.$anonfun$aggregate$2(RDD.scala:1207)\n",
      "\tat org.apache.spark.SparkContext.$anonfun$runJob$6(SparkContext.scala:2298)\n",
      "\tat org.apache.spark.scheduler.ResultTask.runTask(ResultTask.scala:90)\n",
      "\tat org.apache.spark.scheduler.Task.run(Task.scala:131)\n",
      "\tat org.apache.spark.executor.Executor$TaskRunner.$anonfun$run$3(Executor.scala:505)\n",
      "\tat org.apache.spark.util.Utils$.tryWithSafeFinally(Utils.scala:1439)\n",
      "\tat org.apache.spark.executor.Executor$TaskRunner.run(Executor.scala:508)\n",
      "\tat java.util.concurrent.ThreadPoolExecutor.runWorker(ThreadPoolExecutor.java:1149)\n",
      "\tat java.util.concurrent.ThreadPoolExecutor$Worker.run(ThreadPoolExecutor.java:624)\n",
      "\tat java.lang.Thread.run(Thread.java:750)\n",
      "\n",
      "23/11/26 02:53:34 WARN org.apache.spark.scheduler.TaskSetManager: Lost task 43.2 in stage 403.0 (TID 6393) (hub-msca-bdp-dphub-students-jiaweixu-sw-lxj3.c.msca-bdp-student-ap.internal executor 44): scala.MatchError: [null,1.0,[1499.473202188546,0.8912127733964943,0.28935693829694464]] (of class org.apache.spark.sql.catalyst.expressions.GenericRowWithSchema)\n",
      "\tat org.apache.spark.ml.PredictorParams.$anonfun$extractInstances$1(Predictor.scala:81)\n",
      "\tat scala.collection.Iterator$$anon$10.next(Iterator.scala:461)\n",
      "\tat scala.collection.Iterator$$anon$10.next(Iterator.scala:461)\n",
      "\tat scala.collection.Iterator.foreach(Iterator.scala:943)\n",
      "\tat scala.collection.Iterator.foreach$(Iterator.scala:943)\n",
      "\tat scala.collection.AbstractIterator.foreach(Iterator.scala:1431)\n",
      "\tat scala.collection.TraversableOnce.foldLeft(TraversableOnce.scala:199)\n",
      "\tat scala.collection.TraversableOnce.foldLeft$(TraversableOnce.scala:192)\n",
      "\tat scala.collection.AbstractIterator.foldLeft(Iterator.scala:1431)\n",
      "\tat scala.collection.TraversableOnce.aggregate(TraversableOnce.scala:260)\n",
      "\tat scala.collection.TraversableOnce.aggregate$(TraversableOnce.scala:260)\n",
      "\tat scala.collection.AbstractIterator.aggregate(Iterator.scala:1431)\n",
      "\tat org.apache.spark.rdd.RDD.$anonfun$aggregate$2(RDD.scala:1207)\n",
      "\tat org.apache.spark.SparkContext.$anonfun$runJob$6(SparkContext.scala:2298)\n",
      "\tat org.apache.spark.scheduler.ResultTask.runTask(ResultTask.scala:90)\n",
      "\tat org.apache.spark.scheduler.Task.run(Task.scala:131)\n",
      "\tat org.apache.spark.executor.Executor$TaskRunner.$anonfun$run$3(Executor.scala:505)\n",
      "\tat org.apache.spark.util.Utils$.tryWithSafeFinally(Utils.scala:1439)\n",
      "\tat org.apache.spark.executor.Executor$TaskRunner.run(Executor.scala:508)\n",
      "\tat java.util.concurrent.ThreadPoolExecutor.runWorker(ThreadPoolExecutor.java:1149)\n",
      "\tat java.util.concurrent.ThreadPoolExecutor$Worker.run(ThreadPoolExecutor.java:624)\n",
      "\tat java.lang.Thread.run(Thread.java:750)\n",
      "\n",
      "23/11/26 02:53:42 ERROR org.apache.spark.scheduler.TaskSetManager: Task 47 in stage 403.0 failed 10 times; aborting job\n",
      "23/11/26 02:53:42 ERROR org.apache.spark.ml.util.Instrumentation: org.apache.spark.SparkException: Job aborted due to stage failure: Task 47 in stage 403.0 failed 10 times, most recent failure: Lost task 47.9 in stage 403.0 (TID 6447) (hub-msca-bdp-dphub-students-jiaweixu-w-0.c.msca-bdp-student-ap.internal executor 47): scala.MatchError: [null,1.0,[1499.473202188546,0.8912127733964943,0.28935693829694464]] (of class org.apache.spark.sql.catalyst.expressions.GenericRowWithSchema)\n",
      "\tat org.apache.spark.ml.PredictorParams.$anonfun$extractInstances$1(Predictor.scala:81)\n",
      "\tat scala.collection.Iterator$$anon$10.next(Iterator.scala:461)\n",
      "\tat scala.collection.Iterator$$anon$10.next(Iterator.scala:461)\n",
      "\tat scala.collection.Iterator.foreach(Iterator.scala:943)\n",
      "\tat scala.collection.Iterator.foreach$(Iterator.scala:943)\n",
      "\tat scala.collection.AbstractIterator.foreach(Iterator.scala:1431)\n",
      "\tat scala.collection.TraversableOnce.foldLeft(TraversableOnce.scala:199)\n",
      "\tat scala.collection.TraversableOnce.foldLeft$(TraversableOnce.scala:192)\n",
      "\tat scala.collection.AbstractIterator.foldLeft(Iterator.scala:1431)\n",
      "\tat scala.collection.TraversableOnce.aggregate(TraversableOnce.scala:260)\n",
      "\tat scala.collection.TraversableOnce.aggregate$(TraversableOnce.scala:260)\n",
      "\tat scala.collection.AbstractIterator.aggregate(Iterator.scala:1431)\n",
      "\tat org.apache.spark.rdd.RDD.$anonfun$aggregate$2(RDD.scala:1207)\n",
      "\tat org.apache.spark.SparkContext.$anonfun$runJob$6(SparkContext.scala:2298)\n",
      "\tat org.apache.spark.scheduler.ResultTask.runTask(ResultTask.scala:90)\n",
      "\tat org.apache.spark.scheduler.Task.run(Task.scala:131)\n",
      "\tat org.apache.spark.executor.Executor$TaskRunner.$anonfun$run$3(Executor.scala:505)\n",
      "\tat org.apache.spark.util.Utils$.tryWithSafeFinally(Utils.scala:1439)\n",
      "\tat org.apache.spark.executor.Executor$TaskRunner.run(Executor.scala:508)\n",
      "\tat java.util.concurrent.ThreadPoolExecutor.runWorker(ThreadPoolExecutor.java:1149)\n",
      "\tat java.util.concurrent.ThreadPoolExecutor$Worker.run(ThreadPoolExecutor.java:624)\n",
      "\tat java.lang.Thread.run(Thread.java:750)\n",
      "\n",
      "Driver stacktrace:\n",
      "\tat org.apache.spark.scheduler.DAGScheduler.failJobAndIndependentStages(DAGScheduler.scala:2304)\n",
      "\tat org.apache.spark.scheduler.DAGScheduler.$anonfun$abortStage$2(DAGScheduler.scala:2253)\n",
      "\tat org.apache.spark.scheduler.DAGScheduler.$anonfun$abortStage$2$adapted(DAGScheduler.scala:2252)\n",
      "\tat scala.collection.mutable.ResizableArray.foreach(ResizableArray.scala:62)\n",
      "\tat scala.collection.mutable.ResizableArray.foreach$(ResizableArray.scala:55)\n",
      "\tat scala.collection.mutable.ArrayBuffer.foreach(ArrayBuffer.scala:49)\n",
      "\tat org.apache.spark.scheduler.DAGScheduler.abortStage(DAGScheduler.scala:2252)\n",
      "\tat org.apache.spark.scheduler.DAGScheduler.$anonfun$handleTaskSetFailed$1(DAGScheduler.scala:1124)\n",
      "\tat org.apache.spark.scheduler.DAGScheduler.$anonfun$handleTaskSetFailed$1$adapted(DAGScheduler.scala:1124)\n",
      "\tat scala.Option.foreach(Option.scala:407)\n",
      "\tat org.apache.spark.scheduler.DAGScheduler.handleTaskSetFailed(DAGScheduler.scala:1124)\n",
      "\tat org.apache.spark.scheduler.DAGSchedulerEventProcessLoop.doOnReceive(DAGScheduler.scala:2491)\n",
      "\tat org.apache.spark.scheduler.DAGSchedulerEventProcessLoop.onReceive(DAGScheduler.scala:2433)\n",
      "\tat org.apache.spark.scheduler.DAGSchedulerEventProcessLoop.onReceive(DAGScheduler.scala:2422)\n",
      "\tat org.apache.spark.util.EventLoop$$anon$1.run(EventLoop.scala:49)\n",
      "\tat org.apache.spark.scheduler.DAGScheduler.runJob(DAGScheduler.scala:902)\n",
      "\tat org.apache.spark.SparkContext.runJob(SparkContext.scala:2204)\n",
      "\tat org.apache.spark.SparkContext.runJob(SparkContext.scala:2299)\n",
      "\tat org.apache.spark.rdd.RDD.$anonfun$aggregate$1(RDD.scala:1209)\n",
      "\tat org.apache.spark.rdd.RDDOperationScope$.withScope(RDDOperationScope.scala:151)\n",
      "\tat org.apache.spark.rdd.RDDOperationScope$.withScope(RDDOperationScope.scala:112)\n",
      "\tat org.apache.spark.rdd.RDD.withScope(RDD.scala:414)\n",
      "\tat org.apache.spark.rdd.RDD.aggregate(RDD.scala:1202)\n",
      "\tat org.apache.spark.ml.tree.impl.DecisionTreeMetadata$.buildMetadata(DecisionTreeMetadata.scala:125)\n",
      "\tat org.apache.spark.ml.tree.impl.RandomForest$.run(RandomForest.scala:274)\n",
      "\tat org.apache.spark.ml.classification.DecisionTreeClassifier.$anonfun$train$1(DecisionTreeClassifier.scala:135)\n",
      "\tat org.apache.spark.ml.util.Instrumentation$.$anonfun$instrumented$1(Instrumentation.scala:191)\n",
      "\tat scala.util.Try$.apply(Try.scala:213)\n",
      "\tat org.apache.spark.ml.util.Instrumentation$.instrumented(Instrumentation.scala:191)\n",
      "\tat org.apache.spark.ml.classification.DecisionTreeClassifier.train(DecisionTreeClassifier.scala:114)\n",
      "\tat org.apache.spark.ml.classification.DecisionTreeClassifier.train(DecisionTreeClassifier.scala:46)\n",
      "\tat org.apache.spark.ml.Predictor.fit(Predictor.scala:151)\n",
      "\tat sun.reflect.NativeMethodAccessorImpl.invoke0(Native Method)\n",
      "\tat sun.reflect.NativeMethodAccessorImpl.invoke(NativeMethodAccessorImpl.java:62)\n",
      "\tat sun.reflect.DelegatingMethodAccessorImpl.invoke(DelegatingMethodAccessorImpl.java:43)\n",
      "\tat java.lang.reflect.Method.invoke(Method.java:498)\n",
      "\tat py4j.reflection.MethodInvoker.invoke(MethodInvoker.java:244)\n",
      "\tat py4j.reflection.ReflectionEngine.invoke(ReflectionEngine.java:357)\n",
      "\tat py4j.Gateway.invoke(Gateway.java:282)\n",
      "\tat py4j.commands.AbstractCommand.invokeMethod(AbstractCommand.java:132)\n",
      "\tat py4j.commands.CallCommand.execute(CallCommand.java:79)\n",
      "\tat py4j.GatewayConnection.run(GatewayConnection.java:238)\n",
      "\tat java.lang.Thread.run(Thread.java:750)\n",
      "Caused by: scala.MatchError: [null,1.0,[1499.473202188546,0.8912127733964943,0.28935693829694464]] (of class org.apache.spark.sql.catalyst.expressions.GenericRowWithSchema)\n",
      "\tat org.apache.spark.ml.PredictorParams.$anonfun$extractInstances$1(Predictor.scala:81)\n",
      "\tat scala.collection.Iterator$$anon$10.next(Iterator.scala:461)\n",
      "\tat scala.collection.Iterator$$anon$10.next(Iterator.scala:461)\n",
      "\tat scala.collection.Iterator.foreach(Iterator.scala:943)\n",
      "\tat scala.collection.Iterator.foreach$(Iterator.scala:943)\n",
      "\tat scala.collection.AbstractIterator.foreach(Iterator.scala:1431)\n",
      "\tat scala.collection.TraversableOnce.foldLeft(TraversableOnce.scala:199)\n",
      "\tat scala.collection.TraversableOnce.foldLeft$(TraversableOnce.scala:192)\n",
      "\tat scala.collection.AbstractIterator.foldLeft(Iterator.scala:1431)\n",
      "\tat scala.collection.TraversableOnce.aggregate(TraversableOnce.scala:260)\n",
      "\tat scala.collection.TraversableOnce.aggregate$(TraversableOnce.scala:260)\n",
      "\tat scala.collection.AbstractIterator.aggregate(Iterator.scala:1431)\n",
      "\tat org.apache.spark.rdd.RDD.$anonfun$aggregate$2(RDD.scala:1207)\n",
      "\tat org.apache.spark.SparkContext.$anonfun$runJob$6(SparkContext.scala:2298)\n",
      "\tat org.apache.spark.scheduler.ResultTask.runTask(ResultTask.scala:90)\n",
      "\tat org.apache.spark.scheduler.Task.run(Task.scala:131)\n",
      "\tat org.apache.spark.executor.Executor$TaskRunner.$anonfun$run$3(Executor.scala:505)\n",
      "\tat org.apache.spark.util.Utils$.tryWithSafeFinally(Utils.scala:1439)\n",
      "\tat org.apache.spark.executor.Executor$TaskRunner.run(Executor.scala:508)\n",
      "\tat java.util.concurrent.ThreadPoolExecutor.runWorker(ThreadPoolExecutor.java:1149)\n",
      "\tat java.util.concurrent.ThreadPoolExecutor$Worker.run(ThreadPoolExecutor.java:624)\n",
      "\t... 1 more\n",
      "\n",
      "23/11/26 02:53:42 WARN org.apache.spark.scheduler.TaskSetManager: Lost task 10.5 in stage 403.0 (TID 6452) (hub-msca-bdp-dphub-students-jiaweixu-sw-lxj3.c.msca-bdp-student-ap.internal executor 44): TaskKilled (Stage cancelled)\n",
      "23/11/26 02:53:42 WARN org.apache.spark.scheduler.TaskSetManager: Lost task 23.4 in stage 403.0 (TID 6435) (hub-msca-bdp-dphub-students-jiaweixu-w-0.c.msca-bdp-student-ap.internal executor 48): TaskKilled (Stage cancelled)\n",
      "23/11/26 02:53:42 WARN org.apache.spark.scheduler.TaskSetManager: Lost task 0.5 in stage 403.0 (TID 6448) (hub-msca-bdp-dphub-students-jiaweixu-w-0.c.msca-bdp-student-ap.internal executor 48): TaskKilled (Stage cancelled)\n",
      "23/11/26 02:53:42 WARN org.apache.spark.scheduler.TaskSetManager: Lost task 30.4 in stage 403.0 (TID 6427) (hub-msca-bdp-dphub-students-jiaweixu-w-1.c.msca-bdp-student-ap.internal executor 45): TaskKilled (Stage cancelled)\n",
      "23/11/26 02:53:42 WARN org.apache.spark.scheduler.TaskSetManager: Lost task 19.5 in stage 403.0 (TID 6445) (hub-msca-bdp-dphub-students-jiaweixu-w-1.c.msca-bdp-student-ap.internal executor 45): TaskKilled (Stage cancelled)\n",
      "23/11/26 02:53:42 WARN org.apache.spark.scheduler.TaskSetManager: Lost task 21.4 in stage 403.0 (TID 6444) (hub-msca-bdp-dphub-students-jiaweixu-w-0.c.msca-bdp-student-ap.internal executor 47): TaskKilled (Stage cancelled)\n",
      "23/11/26 02:53:42 WARN org.apache.spark.scheduler.TaskSetManager: Lost task 25.4 in stage 403.0 (TID 6446) (hub-msca-bdp-dphub-students-jiaweixu-w-0.c.msca-bdp-student-ap.internal executor 47): TaskKilled (Stage cancelled)\n",
      "23/11/26 02:53:42 WARN org.apache.spark.scheduler.TaskSetManager: Lost task 24.4 in stage 403.0 (TID 6429) (hub-msca-bdp-dphub-students-jiaweixu-w-1.c.msca-bdp-student-ap.internal executor 46): TaskKilled (Stage cancelled)\n",
      "23/11/26 02:53:42 WARN org.apache.spark.scheduler.TaskSetManager: Lost task 8.4 in stage 403.0 (TID 6432) (hub-msca-bdp-dphub-students-jiaweixu-w-1.c.msca-bdp-student-ap.internal executor 46): TaskKilled (Stage cancelled)\n",
      "23/11/26 02:53:42 WARN org.apache.spark.scheduler.TaskSetManager: Lost task 20.5 in stage 403.0 (TID 6459) (hub-msca-bdp-dphub-students-jiaweixu-w-0.c.msca-bdp-student-ap.internal executor 47): TaskKilled (Stage cancelled)\n",
      "23/11/26 02:53:43 WARN org.apache.spark.scheduler.TaskSetManager: Lost task 16.5 in stage 403.0 (TID 6450) (hub-msca-bdp-dphub-students-jiaweixu-w-0.c.msca-bdp-student-ap.internal executor 48): TaskKilled (Stage cancelled)\n",
      "23/11/26 02:53:43 WARN org.apache.spark.scheduler.TaskSetManager: Lost task 3.4 in stage 403.0 (TID 6419) (hub-msca-bdp-dphub-students-jiaweixu-w-1.c.msca-bdp-student-ap.internal executor 45): TaskKilled (Stage cancelled)\n"
     ]
    },
    {
     "ename": "Py4JJavaError",
     "evalue": "An error occurred while calling o2319.fit.\n: org.apache.spark.SparkException: Job aborted due to stage failure: Task 47 in stage 403.0 failed 10 times, most recent failure: Lost task 47.9 in stage 403.0 (TID 6447) (hub-msca-bdp-dphub-students-jiaweixu-w-0.c.msca-bdp-student-ap.internal executor 47): scala.MatchError: [null,1.0,[1499.473202188546,0.8912127733964943,0.28935693829694464]] (of class org.apache.spark.sql.catalyst.expressions.GenericRowWithSchema)\n\tat org.apache.spark.ml.PredictorParams.$anonfun$extractInstances$1(Predictor.scala:81)\n\tat scala.collection.Iterator$$anon$10.next(Iterator.scala:461)\n\tat scala.collection.Iterator$$anon$10.next(Iterator.scala:461)\n\tat scala.collection.Iterator.foreach(Iterator.scala:943)\n\tat scala.collection.Iterator.foreach$(Iterator.scala:943)\n\tat scala.collection.AbstractIterator.foreach(Iterator.scala:1431)\n\tat scala.collection.TraversableOnce.foldLeft(TraversableOnce.scala:199)\n\tat scala.collection.TraversableOnce.foldLeft$(TraversableOnce.scala:192)\n\tat scala.collection.AbstractIterator.foldLeft(Iterator.scala:1431)\n\tat scala.collection.TraversableOnce.aggregate(TraversableOnce.scala:260)\n\tat scala.collection.TraversableOnce.aggregate$(TraversableOnce.scala:260)\n\tat scala.collection.AbstractIterator.aggregate(Iterator.scala:1431)\n\tat org.apache.spark.rdd.RDD.$anonfun$aggregate$2(RDD.scala:1207)\n\tat org.apache.spark.SparkContext.$anonfun$runJob$6(SparkContext.scala:2298)\n\tat org.apache.spark.scheduler.ResultTask.runTask(ResultTask.scala:90)\n\tat org.apache.spark.scheduler.Task.run(Task.scala:131)\n\tat org.apache.spark.executor.Executor$TaskRunner.$anonfun$run$3(Executor.scala:505)\n\tat org.apache.spark.util.Utils$.tryWithSafeFinally(Utils.scala:1439)\n\tat org.apache.spark.executor.Executor$TaskRunner.run(Executor.scala:508)\n\tat java.util.concurrent.ThreadPoolExecutor.runWorker(ThreadPoolExecutor.java:1149)\n\tat java.util.concurrent.ThreadPoolExecutor$Worker.run(ThreadPoolExecutor.java:624)\n\tat java.lang.Thread.run(Thread.java:750)\n\nDriver stacktrace:\n\tat org.apache.spark.scheduler.DAGScheduler.failJobAndIndependentStages(DAGScheduler.scala:2304)\n\tat org.apache.spark.scheduler.DAGScheduler.$anonfun$abortStage$2(DAGScheduler.scala:2253)\n\tat org.apache.spark.scheduler.DAGScheduler.$anonfun$abortStage$2$adapted(DAGScheduler.scala:2252)\n\tat scala.collection.mutable.ResizableArray.foreach(ResizableArray.scala:62)\n\tat scala.collection.mutable.ResizableArray.foreach$(ResizableArray.scala:55)\n\tat scala.collection.mutable.ArrayBuffer.foreach(ArrayBuffer.scala:49)\n\tat org.apache.spark.scheduler.DAGScheduler.abortStage(DAGScheduler.scala:2252)\n\tat org.apache.spark.scheduler.DAGScheduler.$anonfun$handleTaskSetFailed$1(DAGScheduler.scala:1124)\n\tat org.apache.spark.scheduler.DAGScheduler.$anonfun$handleTaskSetFailed$1$adapted(DAGScheduler.scala:1124)\n\tat scala.Option.foreach(Option.scala:407)\n\tat org.apache.spark.scheduler.DAGScheduler.handleTaskSetFailed(DAGScheduler.scala:1124)\n\tat org.apache.spark.scheduler.DAGSchedulerEventProcessLoop.doOnReceive(DAGScheduler.scala:2491)\n\tat org.apache.spark.scheduler.DAGSchedulerEventProcessLoop.onReceive(DAGScheduler.scala:2433)\n\tat org.apache.spark.scheduler.DAGSchedulerEventProcessLoop.onReceive(DAGScheduler.scala:2422)\n\tat org.apache.spark.util.EventLoop$$anon$1.run(EventLoop.scala:49)\n\tat org.apache.spark.scheduler.DAGScheduler.runJob(DAGScheduler.scala:902)\n\tat org.apache.spark.SparkContext.runJob(SparkContext.scala:2204)\n\tat org.apache.spark.SparkContext.runJob(SparkContext.scala:2299)\n\tat org.apache.spark.rdd.RDD.$anonfun$aggregate$1(RDD.scala:1209)\n\tat org.apache.spark.rdd.RDDOperationScope$.withScope(RDDOperationScope.scala:151)\n\tat org.apache.spark.rdd.RDDOperationScope$.withScope(RDDOperationScope.scala:112)\n\tat org.apache.spark.rdd.RDD.withScope(RDD.scala:414)\n\tat org.apache.spark.rdd.RDD.aggregate(RDD.scala:1202)\n\tat org.apache.spark.ml.tree.impl.DecisionTreeMetadata$.buildMetadata(DecisionTreeMetadata.scala:125)\n\tat org.apache.spark.ml.tree.impl.RandomForest$.run(RandomForest.scala:274)\n\tat org.apache.spark.ml.classification.DecisionTreeClassifier.$anonfun$train$1(DecisionTreeClassifier.scala:135)\n\tat org.apache.spark.ml.util.Instrumentation$.$anonfun$instrumented$1(Instrumentation.scala:191)\n\tat scala.util.Try$.apply(Try.scala:213)\n\tat org.apache.spark.ml.util.Instrumentation$.instrumented(Instrumentation.scala:191)\n\tat org.apache.spark.ml.classification.DecisionTreeClassifier.train(DecisionTreeClassifier.scala:114)\n\tat org.apache.spark.ml.classification.DecisionTreeClassifier.train(DecisionTreeClassifier.scala:46)\n\tat org.apache.spark.ml.Predictor.fit(Predictor.scala:151)\n\tat sun.reflect.NativeMethodAccessorImpl.invoke0(Native Method)\n\tat sun.reflect.NativeMethodAccessorImpl.invoke(NativeMethodAccessorImpl.java:62)\n\tat sun.reflect.DelegatingMethodAccessorImpl.invoke(DelegatingMethodAccessorImpl.java:43)\n\tat java.lang.reflect.Method.invoke(Method.java:498)\n\tat py4j.reflection.MethodInvoker.invoke(MethodInvoker.java:244)\n\tat py4j.reflection.ReflectionEngine.invoke(ReflectionEngine.java:357)\n\tat py4j.Gateway.invoke(Gateway.java:282)\n\tat py4j.commands.AbstractCommand.invokeMethod(AbstractCommand.java:132)\n\tat py4j.commands.CallCommand.execute(CallCommand.java:79)\n\tat py4j.GatewayConnection.run(GatewayConnection.java:238)\n\tat java.lang.Thread.run(Thread.java:750)\nCaused by: scala.MatchError: [null,1.0,[1499.473202188546,0.8912127733964943,0.28935693829694464]] (of class org.apache.spark.sql.catalyst.expressions.GenericRowWithSchema)\n\tat org.apache.spark.ml.PredictorParams.$anonfun$extractInstances$1(Predictor.scala:81)\n\tat scala.collection.Iterator$$anon$10.next(Iterator.scala:461)\n\tat scala.collection.Iterator$$anon$10.next(Iterator.scala:461)\n\tat scala.collection.Iterator.foreach(Iterator.scala:943)\n\tat scala.collection.Iterator.foreach$(Iterator.scala:943)\n\tat scala.collection.AbstractIterator.foreach(Iterator.scala:1431)\n\tat scala.collection.TraversableOnce.foldLeft(TraversableOnce.scala:199)\n\tat scala.collection.TraversableOnce.foldLeft$(TraversableOnce.scala:192)\n\tat scala.collection.AbstractIterator.foldLeft(Iterator.scala:1431)\n\tat scala.collection.TraversableOnce.aggregate(TraversableOnce.scala:260)\n\tat scala.collection.TraversableOnce.aggregate$(TraversableOnce.scala:260)\n\tat scala.collection.AbstractIterator.aggregate(Iterator.scala:1431)\n\tat org.apache.spark.rdd.RDD.$anonfun$aggregate$2(RDD.scala:1207)\n\tat org.apache.spark.SparkContext.$anonfun$runJob$6(SparkContext.scala:2298)\n\tat org.apache.spark.scheduler.ResultTask.runTask(ResultTask.scala:90)\n\tat org.apache.spark.scheduler.Task.run(Task.scala:131)\n\tat org.apache.spark.executor.Executor$TaskRunner.$anonfun$run$3(Executor.scala:505)\n\tat org.apache.spark.util.Utils$.tryWithSafeFinally(Utils.scala:1439)\n\tat org.apache.spark.executor.Executor$TaskRunner.run(Executor.scala:508)\n\tat java.util.concurrent.ThreadPoolExecutor.runWorker(ThreadPoolExecutor.java:1149)\n\tat java.util.concurrent.ThreadPoolExecutor$Worker.run(ThreadPoolExecutor.java:624)\n\t... 1 more\n",
     "output_type": "error",
     "traceback": [
      "\u001b[0;31m---------------------------------------------------------------------------\u001b[0m",
      "\u001b[0;31mPy4JJavaError\u001b[0m                             Traceback (most recent call last)",
      "Cell \u001b[0;32mIn[86], line 15\u001b[0m\n\u001b[1;32m     12\u001b[0m dt \u001b[38;5;241m=\u001b[39m DecisionTreeClassifier(labelCol\u001b[38;5;241m=\u001b[39m\u001b[38;5;124m\"\u001b[39m\u001b[38;5;124mArrDel15\u001b[39m\u001b[38;5;124m\"\u001b[39m, featuresCol\u001b[38;5;241m=\u001b[39m\u001b[38;5;124m\"\u001b[39m\u001b[38;5;124mscaledFeatures\u001b[39m\u001b[38;5;124m\"\u001b[39m)\n\u001b[1;32m     14\u001b[0m \u001b[38;5;66;03m# Fit the model on the training data\u001b[39;00m\n\u001b[0;32m---> 15\u001b[0m dt_model \u001b[38;5;241m=\u001b[39m \u001b[43mdt\u001b[49m\u001b[38;5;241;43m.\u001b[39;49m\u001b[43mfit\u001b[49m\u001b[43m(\u001b[49m\u001b[43mtrain\u001b[49m\u001b[43m)\u001b[49m\n\u001b[1;32m     17\u001b[0m \u001b[38;5;66;03m# Make predictions on the test data\u001b[39;00m\n\u001b[1;32m     18\u001b[0m dt_predictions \u001b[38;5;241m=\u001b[39m dt_model\u001b[38;5;241m.\u001b[39mtransform(test)\n",
      "File \u001b[0;32m/usr/lib/spark/python/pyspark/ml/base.py:161\u001b[0m, in \u001b[0;36mEstimator.fit\u001b[0;34m(self, dataset, params)\u001b[0m\n\u001b[1;32m    159\u001b[0m         \u001b[38;5;28;01mreturn\u001b[39;00m \u001b[38;5;28mself\u001b[39m\u001b[38;5;241m.\u001b[39mcopy(params)\u001b[38;5;241m.\u001b[39m_fit(dataset)\n\u001b[1;32m    160\u001b[0m     \u001b[38;5;28;01melse\u001b[39;00m:\n\u001b[0;32m--> 161\u001b[0m         \u001b[38;5;28;01mreturn\u001b[39;00m \u001b[38;5;28;43mself\u001b[39;49m\u001b[38;5;241;43m.\u001b[39;49m\u001b[43m_fit\u001b[49m\u001b[43m(\u001b[49m\u001b[43mdataset\u001b[49m\u001b[43m)\u001b[49m\n\u001b[1;32m    162\u001b[0m \u001b[38;5;28;01melse\u001b[39;00m:\n\u001b[1;32m    163\u001b[0m     \u001b[38;5;28;01mraise\u001b[39;00m \u001b[38;5;167;01mValueError\u001b[39;00m(\u001b[38;5;124m\"\u001b[39m\u001b[38;5;124mParams must be either a param map or a list/tuple of param maps, \u001b[39m\u001b[38;5;124m\"\u001b[39m\n\u001b[1;32m    164\u001b[0m                      \u001b[38;5;124m\"\u001b[39m\u001b[38;5;124mbut got \u001b[39m\u001b[38;5;132;01m%s\u001b[39;00m\u001b[38;5;124m.\u001b[39m\u001b[38;5;124m\"\u001b[39m \u001b[38;5;241m%\u001b[39m \u001b[38;5;28mtype\u001b[39m(params))\n",
      "File \u001b[0;32m/usr/lib/spark/python/pyspark/ml/wrapper.py:335\u001b[0m, in \u001b[0;36mJavaEstimator._fit\u001b[0;34m(self, dataset)\u001b[0m\n\u001b[1;32m    334\u001b[0m \u001b[38;5;28;01mdef\u001b[39;00m \u001b[38;5;21m_fit\u001b[39m(\u001b[38;5;28mself\u001b[39m, dataset):\n\u001b[0;32m--> 335\u001b[0m     java_model \u001b[38;5;241m=\u001b[39m \u001b[38;5;28;43mself\u001b[39;49m\u001b[38;5;241;43m.\u001b[39;49m\u001b[43m_fit_java\u001b[49m\u001b[43m(\u001b[49m\u001b[43mdataset\u001b[49m\u001b[43m)\u001b[49m\n\u001b[1;32m    336\u001b[0m     model \u001b[38;5;241m=\u001b[39m \u001b[38;5;28mself\u001b[39m\u001b[38;5;241m.\u001b[39m_create_model(java_model)\n\u001b[1;32m    337\u001b[0m     \u001b[38;5;28;01mreturn\u001b[39;00m \u001b[38;5;28mself\u001b[39m\u001b[38;5;241m.\u001b[39m_copyValues(model)\n",
      "File \u001b[0;32m/usr/lib/spark/python/pyspark/ml/wrapper.py:332\u001b[0m, in \u001b[0;36mJavaEstimator._fit_java\u001b[0;34m(self, dataset)\u001b[0m\n\u001b[1;32m    318\u001b[0m \u001b[38;5;250m\u001b[39m\u001b[38;5;124;03m\"\"\"\u001b[39;00m\n\u001b[1;32m    319\u001b[0m \u001b[38;5;124;03mFits a Java model to the input dataset.\u001b[39;00m\n\u001b[1;32m    320\u001b[0m \n\u001b[0;32m   (...)\u001b[0m\n\u001b[1;32m    329\u001b[0m \u001b[38;5;124;03m    fitted Java model\u001b[39;00m\n\u001b[1;32m    330\u001b[0m \u001b[38;5;124;03m\"\"\"\u001b[39;00m\n\u001b[1;32m    331\u001b[0m \u001b[38;5;28mself\u001b[39m\u001b[38;5;241m.\u001b[39m_transfer_params_to_java()\n\u001b[0;32m--> 332\u001b[0m \u001b[38;5;28;01mreturn\u001b[39;00m \u001b[38;5;28;43mself\u001b[39;49m\u001b[38;5;241;43m.\u001b[39;49m\u001b[43m_java_obj\u001b[49m\u001b[38;5;241;43m.\u001b[39;49m\u001b[43mfit\u001b[49m\u001b[43m(\u001b[49m\u001b[43mdataset\u001b[49m\u001b[38;5;241;43m.\u001b[39;49m\u001b[43m_jdf\u001b[49m\u001b[43m)\u001b[49m\n",
      "File \u001b[0;32m/usr/lib/spark/python/lib/py4j-0.10.9-src.zip/py4j/java_gateway.py:1304\u001b[0m, in \u001b[0;36mJavaMember.__call__\u001b[0;34m(self, *args)\u001b[0m\n\u001b[1;32m   1298\u001b[0m command \u001b[38;5;241m=\u001b[39m proto\u001b[38;5;241m.\u001b[39mCALL_COMMAND_NAME \u001b[38;5;241m+\u001b[39m\\\n\u001b[1;32m   1299\u001b[0m     \u001b[38;5;28mself\u001b[39m\u001b[38;5;241m.\u001b[39mcommand_header \u001b[38;5;241m+\u001b[39m\\\n\u001b[1;32m   1300\u001b[0m     args_command \u001b[38;5;241m+\u001b[39m\\\n\u001b[1;32m   1301\u001b[0m     proto\u001b[38;5;241m.\u001b[39mEND_COMMAND_PART\n\u001b[1;32m   1303\u001b[0m answer \u001b[38;5;241m=\u001b[39m \u001b[38;5;28mself\u001b[39m\u001b[38;5;241m.\u001b[39mgateway_client\u001b[38;5;241m.\u001b[39msend_command(command)\n\u001b[0;32m-> 1304\u001b[0m return_value \u001b[38;5;241m=\u001b[39m \u001b[43mget_return_value\u001b[49m\u001b[43m(\u001b[49m\n\u001b[1;32m   1305\u001b[0m \u001b[43m    \u001b[49m\u001b[43manswer\u001b[49m\u001b[43m,\u001b[49m\u001b[43m \u001b[49m\u001b[38;5;28;43mself\u001b[39;49m\u001b[38;5;241;43m.\u001b[39;49m\u001b[43mgateway_client\u001b[49m\u001b[43m,\u001b[49m\u001b[43m \u001b[49m\u001b[38;5;28;43mself\u001b[39;49m\u001b[38;5;241;43m.\u001b[39;49m\u001b[43mtarget_id\u001b[49m\u001b[43m,\u001b[49m\u001b[43m \u001b[49m\u001b[38;5;28;43mself\u001b[39;49m\u001b[38;5;241;43m.\u001b[39;49m\u001b[43mname\u001b[49m\u001b[43m)\u001b[49m\n\u001b[1;32m   1307\u001b[0m \u001b[38;5;28;01mfor\u001b[39;00m temp_arg \u001b[38;5;129;01min\u001b[39;00m temp_args:\n\u001b[1;32m   1308\u001b[0m     temp_arg\u001b[38;5;241m.\u001b[39m_detach()\n",
      "File \u001b[0;32m/usr/lib/spark/python/pyspark/sql/utils.py:111\u001b[0m, in \u001b[0;36mcapture_sql_exception.<locals>.deco\u001b[0;34m(*a, **kw)\u001b[0m\n\u001b[1;32m    109\u001b[0m \u001b[38;5;28;01mdef\u001b[39;00m \u001b[38;5;21mdeco\u001b[39m(\u001b[38;5;241m*\u001b[39ma, \u001b[38;5;241m*\u001b[39m\u001b[38;5;241m*\u001b[39mkw):\n\u001b[1;32m    110\u001b[0m     \u001b[38;5;28;01mtry\u001b[39;00m:\n\u001b[0;32m--> 111\u001b[0m         \u001b[38;5;28;01mreturn\u001b[39;00m \u001b[43mf\u001b[49m\u001b[43m(\u001b[49m\u001b[38;5;241;43m*\u001b[39;49m\u001b[43ma\u001b[49m\u001b[43m,\u001b[49m\u001b[43m \u001b[49m\u001b[38;5;241;43m*\u001b[39;49m\u001b[38;5;241;43m*\u001b[39;49m\u001b[43mkw\u001b[49m\u001b[43m)\u001b[49m\n\u001b[1;32m    112\u001b[0m     \u001b[38;5;28;01mexcept\u001b[39;00m py4j\u001b[38;5;241m.\u001b[39mprotocol\u001b[38;5;241m.\u001b[39mPy4JJavaError \u001b[38;5;28;01mas\u001b[39;00m e:\n\u001b[1;32m    113\u001b[0m         converted \u001b[38;5;241m=\u001b[39m convert_exception(e\u001b[38;5;241m.\u001b[39mjava_exception)\n",
      "File \u001b[0;32m/usr/lib/spark/python/lib/py4j-0.10.9-src.zip/py4j/protocol.py:326\u001b[0m, in \u001b[0;36mget_return_value\u001b[0;34m(answer, gateway_client, target_id, name)\u001b[0m\n\u001b[1;32m    324\u001b[0m value \u001b[38;5;241m=\u001b[39m OUTPUT_CONVERTER[\u001b[38;5;28mtype\u001b[39m](answer[\u001b[38;5;241m2\u001b[39m:], gateway_client)\n\u001b[1;32m    325\u001b[0m \u001b[38;5;28;01mif\u001b[39;00m answer[\u001b[38;5;241m1\u001b[39m] \u001b[38;5;241m==\u001b[39m REFERENCE_TYPE:\n\u001b[0;32m--> 326\u001b[0m     \u001b[38;5;28;01mraise\u001b[39;00m Py4JJavaError(\n\u001b[1;32m    327\u001b[0m         \u001b[38;5;124m\"\u001b[39m\u001b[38;5;124mAn error occurred while calling \u001b[39m\u001b[38;5;132;01m{0}\u001b[39;00m\u001b[38;5;132;01m{1}\u001b[39;00m\u001b[38;5;132;01m{2}\u001b[39;00m\u001b[38;5;124m.\u001b[39m\u001b[38;5;130;01m\\n\u001b[39;00m\u001b[38;5;124m\"\u001b[39m\u001b[38;5;241m.\u001b[39m\n\u001b[1;32m    328\u001b[0m         \u001b[38;5;28mformat\u001b[39m(target_id, \u001b[38;5;124m\"\u001b[39m\u001b[38;5;124m.\u001b[39m\u001b[38;5;124m\"\u001b[39m, name), value)\n\u001b[1;32m    329\u001b[0m \u001b[38;5;28;01melse\u001b[39;00m:\n\u001b[1;32m    330\u001b[0m     \u001b[38;5;28;01mraise\u001b[39;00m Py4JError(\n\u001b[1;32m    331\u001b[0m         \u001b[38;5;124m\"\u001b[39m\u001b[38;5;124mAn error occurred while calling \u001b[39m\u001b[38;5;132;01m{0}\u001b[39;00m\u001b[38;5;132;01m{1}\u001b[39;00m\u001b[38;5;132;01m{2}\u001b[39;00m\u001b[38;5;124m. Trace:\u001b[39m\u001b[38;5;130;01m\\n\u001b[39;00m\u001b[38;5;132;01m{3}\u001b[39;00m\u001b[38;5;130;01m\\n\u001b[39;00m\u001b[38;5;124m\"\u001b[39m\u001b[38;5;241m.\u001b[39m\n\u001b[1;32m    332\u001b[0m         \u001b[38;5;28mformat\u001b[39m(target_id, \u001b[38;5;124m\"\u001b[39m\u001b[38;5;124m.\u001b[39m\u001b[38;5;124m\"\u001b[39m, name, value))\n",
      "\u001b[0;31mPy4JJavaError\u001b[0m: An error occurred while calling o2319.fit.\n: org.apache.spark.SparkException: Job aborted due to stage failure: Task 47 in stage 403.0 failed 10 times, most recent failure: Lost task 47.9 in stage 403.0 (TID 6447) (hub-msca-bdp-dphub-students-jiaweixu-w-0.c.msca-bdp-student-ap.internal executor 47): scala.MatchError: [null,1.0,[1499.473202188546,0.8912127733964943,0.28935693829694464]] (of class org.apache.spark.sql.catalyst.expressions.GenericRowWithSchema)\n\tat org.apache.spark.ml.PredictorParams.$anonfun$extractInstances$1(Predictor.scala:81)\n\tat scala.collection.Iterator$$anon$10.next(Iterator.scala:461)\n\tat scala.collection.Iterator$$anon$10.next(Iterator.scala:461)\n\tat scala.collection.Iterator.foreach(Iterator.scala:943)\n\tat scala.collection.Iterator.foreach$(Iterator.scala:943)\n\tat scala.collection.AbstractIterator.foreach(Iterator.scala:1431)\n\tat scala.collection.TraversableOnce.foldLeft(TraversableOnce.scala:199)\n\tat scala.collection.TraversableOnce.foldLeft$(TraversableOnce.scala:192)\n\tat scala.collection.AbstractIterator.foldLeft(Iterator.scala:1431)\n\tat scala.collection.TraversableOnce.aggregate(TraversableOnce.scala:260)\n\tat scala.collection.TraversableOnce.aggregate$(TraversableOnce.scala:260)\n\tat scala.collection.AbstractIterator.aggregate(Iterator.scala:1431)\n\tat org.apache.spark.rdd.RDD.$anonfun$aggregate$2(RDD.scala:1207)\n\tat org.apache.spark.SparkContext.$anonfun$runJob$6(SparkContext.scala:2298)\n\tat org.apache.spark.scheduler.ResultTask.runTask(ResultTask.scala:90)\n\tat org.apache.spark.scheduler.Task.run(Task.scala:131)\n\tat org.apache.spark.executor.Executor$TaskRunner.$anonfun$run$3(Executor.scala:505)\n\tat org.apache.spark.util.Utils$.tryWithSafeFinally(Utils.scala:1439)\n\tat org.apache.spark.executor.Executor$TaskRunner.run(Executor.scala:508)\n\tat java.util.concurrent.ThreadPoolExecutor.runWorker(ThreadPoolExecutor.java:1149)\n\tat java.util.concurrent.ThreadPoolExecutor$Worker.run(ThreadPoolExecutor.java:624)\n\tat java.lang.Thread.run(Thread.java:750)\n\nDriver stacktrace:\n\tat org.apache.spark.scheduler.DAGScheduler.failJobAndIndependentStages(DAGScheduler.scala:2304)\n\tat org.apache.spark.scheduler.DAGScheduler.$anonfun$abortStage$2(DAGScheduler.scala:2253)\n\tat org.apache.spark.scheduler.DAGScheduler.$anonfun$abortStage$2$adapted(DAGScheduler.scala:2252)\n\tat scala.collection.mutable.ResizableArray.foreach(ResizableArray.scala:62)\n\tat scala.collection.mutable.ResizableArray.foreach$(ResizableArray.scala:55)\n\tat scala.collection.mutable.ArrayBuffer.foreach(ArrayBuffer.scala:49)\n\tat org.apache.spark.scheduler.DAGScheduler.abortStage(DAGScheduler.scala:2252)\n\tat org.apache.spark.scheduler.DAGScheduler.$anonfun$handleTaskSetFailed$1(DAGScheduler.scala:1124)\n\tat org.apache.spark.scheduler.DAGScheduler.$anonfun$handleTaskSetFailed$1$adapted(DAGScheduler.scala:1124)\n\tat scala.Option.foreach(Option.scala:407)\n\tat org.apache.spark.scheduler.DAGScheduler.handleTaskSetFailed(DAGScheduler.scala:1124)\n\tat org.apache.spark.scheduler.DAGSchedulerEventProcessLoop.doOnReceive(DAGScheduler.scala:2491)\n\tat org.apache.spark.scheduler.DAGSchedulerEventProcessLoop.onReceive(DAGScheduler.scala:2433)\n\tat org.apache.spark.scheduler.DAGSchedulerEventProcessLoop.onReceive(DAGScheduler.scala:2422)\n\tat org.apache.spark.util.EventLoop$$anon$1.run(EventLoop.scala:49)\n\tat org.apache.spark.scheduler.DAGScheduler.runJob(DAGScheduler.scala:902)\n\tat org.apache.spark.SparkContext.runJob(SparkContext.scala:2204)\n\tat org.apache.spark.SparkContext.runJob(SparkContext.scala:2299)\n\tat org.apache.spark.rdd.RDD.$anonfun$aggregate$1(RDD.scala:1209)\n\tat org.apache.spark.rdd.RDDOperationScope$.withScope(RDDOperationScope.scala:151)\n\tat org.apache.spark.rdd.RDDOperationScope$.withScope(RDDOperationScope.scala:112)\n\tat org.apache.spark.rdd.RDD.withScope(RDD.scala:414)\n\tat org.apache.spark.rdd.RDD.aggregate(RDD.scala:1202)\n\tat org.apache.spark.ml.tree.impl.DecisionTreeMetadata$.buildMetadata(DecisionTreeMetadata.scala:125)\n\tat org.apache.spark.ml.tree.impl.RandomForest$.run(RandomForest.scala:274)\n\tat org.apache.spark.ml.classification.DecisionTreeClassifier.$anonfun$train$1(DecisionTreeClassifier.scala:135)\n\tat org.apache.spark.ml.util.Instrumentation$.$anonfun$instrumented$1(Instrumentation.scala:191)\n\tat scala.util.Try$.apply(Try.scala:213)\n\tat org.apache.spark.ml.util.Instrumentation$.instrumented(Instrumentation.scala:191)\n\tat org.apache.spark.ml.classification.DecisionTreeClassifier.train(DecisionTreeClassifier.scala:114)\n\tat org.apache.spark.ml.classification.DecisionTreeClassifier.train(DecisionTreeClassifier.scala:46)\n\tat org.apache.spark.ml.Predictor.fit(Predictor.scala:151)\n\tat sun.reflect.NativeMethodAccessorImpl.invoke0(Native Method)\n\tat sun.reflect.NativeMethodAccessorImpl.invoke(NativeMethodAccessorImpl.java:62)\n\tat sun.reflect.DelegatingMethodAccessorImpl.invoke(DelegatingMethodAccessorImpl.java:43)\n\tat java.lang.reflect.Method.invoke(Method.java:498)\n\tat py4j.reflection.MethodInvoker.invoke(MethodInvoker.java:244)\n\tat py4j.reflection.ReflectionEngine.invoke(ReflectionEngine.java:357)\n\tat py4j.Gateway.invoke(Gateway.java:282)\n\tat py4j.commands.AbstractCommand.invokeMethod(AbstractCommand.java:132)\n\tat py4j.commands.CallCommand.execute(CallCommand.java:79)\n\tat py4j.GatewayConnection.run(GatewayConnection.java:238)\n\tat java.lang.Thread.run(Thread.java:750)\nCaused by: scala.MatchError: [null,1.0,[1499.473202188546,0.8912127733964943,0.28935693829694464]] (of class org.apache.spark.sql.catalyst.expressions.GenericRowWithSchema)\n\tat org.apache.spark.ml.PredictorParams.$anonfun$extractInstances$1(Predictor.scala:81)\n\tat scala.collection.Iterator$$anon$10.next(Iterator.scala:461)\n\tat scala.collection.Iterator$$anon$10.next(Iterator.scala:461)\n\tat scala.collection.Iterator.foreach(Iterator.scala:943)\n\tat scala.collection.Iterator.foreach$(Iterator.scala:943)\n\tat scala.collection.AbstractIterator.foreach(Iterator.scala:1431)\n\tat scala.collection.TraversableOnce.foldLeft(TraversableOnce.scala:199)\n\tat scala.collection.TraversableOnce.foldLeft$(TraversableOnce.scala:192)\n\tat scala.collection.AbstractIterator.foldLeft(Iterator.scala:1431)\n\tat scala.collection.TraversableOnce.aggregate(TraversableOnce.scala:260)\n\tat scala.collection.TraversableOnce.aggregate$(TraversableOnce.scala:260)\n\tat scala.collection.AbstractIterator.aggregate(Iterator.scala:1431)\n\tat org.apache.spark.rdd.RDD.$anonfun$aggregate$2(RDD.scala:1207)\n\tat org.apache.spark.SparkContext.$anonfun$runJob$6(SparkContext.scala:2298)\n\tat org.apache.spark.scheduler.ResultTask.runTask(ResultTask.scala:90)\n\tat org.apache.spark.scheduler.Task.run(Task.scala:131)\n\tat org.apache.spark.executor.Executor$TaskRunner.$anonfun$run$3(Executor.scala:505)\n\tat org.apache.spark.util.Utils$.tryWithSafeFinally(Utils.scala:1439)\n\tat org.apache.spark.executor.Executor$TaskRunner.run(Executor.scala:508)\n\tat java.util.concurrent.ThreadPoolExecutor.runWorker(ThreadPoolExecutor.java:1149)\n\tat java.util.concurrent.ThreadPoolExecutor$Worker.run(ThreadPoolExecutor.java:624)\n\t... 1 more\n"
     ]
    },
    {
     "name": "stderr",
     "output_type": "stream",
     "text": [
      "23/11/26 02:53:43 WARN org.apache.spark.scheduler.TaskSetManager: Lost task 41.3 in stage 403.0 (TID 6418) (hub-msca-bdp-dphub-students-jiaweixu-w-0.c.msca-bdp-student-ap.internal executor 47): TaskKilled (Stage cancelled)\n",
      "23/11/26 02:53:43 WARN org.apache.spark.scheduler.TaskSetManager: Lost task 13.4 in stage 403.0 (TID 6437) (hub-msca-bdp-dphub-students-jiaweixu-sw-lxj3.c.msca-bdp-student-ap.internal executor 44): TaskKilled (Stage cancelled)\n",
      "23/11/26 02:53:43 WARN org.apache.spark.scheduler.TaskSetManager: Lost task 5.4 in stage 403.0 (TID 6438) (hub-msca-bdp-dphub-students-jiaweixu-sw-lxj3.c.msca-bdp-student-ap.internal executor 44): TaskKilled (Stage cancelled)\n",
      "23/11/26 02:53:43 WARN org.apache.spark.scheduler.TaskSetManager: Lost task 14.4 in stage 403.0 (TID 6443) (hub-msca-bdp-dphub-students-jiaweixu-sw-lxj3.c.msca-bdp-student-ap.internal executor 44): TaskKilled (Stage cancelled)\n",
      "23/11/26 02:53:43 WARN org.apache.spark.scheduler.TaskSetManager: Lost task 7.4 in stage 403.0 (TID 6449) (hub-msca-bdp-dphub-students-jiaweixu-w-1.c.msca-bdp-student-ap.internal executor 45): TaskKilled (Stage cancelled)\n",
      "23/11/26 02:53:43 WARN org.apache.spark.scheduler.TaskSetManager: Lost task 31.5 in stage 403.0 (TID 6451) (hub-msca-bdp-dphub-students-jiaweixu-w-1.c.msca-bdp-student-ap.internal executor 45): TaskKilled (Stage cancelled)\n",
      "23/11/26 02:53:43 WARN org.apache.spark.scheduler.TaskSetManager: Lost task 38.4 in stage 403.0 (TID 6453) (hub-msca-bdp-dphub-students-jiaweixu-w-0.c.msca-bdp-student-ap.internal executor 48): TaskKilled (Stage cancelled)\n",
      "23/11/26 02:53:43 WARN org.apache.spark.scheduler.TaskSetManager: Lost task 42.4 in stage 403.0 (TID 6454) (hub-msca-bdp-dphub-students-jiaweixu-w-1.c.msca-bdp-student-ap.internal executor 45): TaskKilled (Stage cancelled)\n",
      "23/11/26 02:53:43 WARN org.apache.spark.scheduler.TaskSetManager: Lost task 17.5 in stage 403.0 (TID 6456) (hub-msca-bdp-dphub-students-jiaweixu-w-1.c.msca-bdp-student-ap.internal executor 46): TaskKilled (Stage cancelled)\n",
      "23/11/26 02:53:43 WARN org.apache.spark.scheduler.TaskSetManager: Lost task 2.4 in stage 403.0 (TID 6439) (hub-msca-bdp-dphub-students-jiaweixu-sw-lxj3.c.msca-bdp-student-ap.internal executor 44): TaskKilled (Stage cancelled)\n",
      "23/11/26 02:53:43 WARN org.apache.spark.scheduler.TaskSetManager: Lost task 39.4 in stage 403.0 (TID 6425) (hub-msca-bdp-dphub-students-jiaweixu-w-1.c.msca-bdp-student-ap.internal executor 46): TaskKilled (Stage cancelled)\n",
      "23/11/26 02:53:43 WARN org.apache.spark.scheduler.TaskSetManager: Lost task 40.4 in stage 403.0 (TID 6455) (hub-msca-bdp-dphub-students-jiaweixu-w-0.c.msca-bdp-student-ap.internal executor 48): TaskKilled (Stage cancelled)\n",
      "23/11/26 02:53:43 WARN org.apache.spark.scheduler.TaskSetManager: Lost task 6.4 in stage 403.0 (TID 6420) (hub-msca-bdp-dphub-students-jiaweixu-w-0.c.msca-bdp-student-ap.internal executor 48): TaskKilled (Stage cancelled)\n",
      "23/11/26 02:53:43 WARN org.apache.spark.scheduler.TaskSetManager: Lost task 29.3 in stage 403.0 (TID 6415) (hub-msca-bdp-dphub-students-jiaweixu-w-1.c.msca-bdp-student-ap.internal executor 45): TaskKilled (Stage cancelled)\n",
      "23/11/26 02:53:43 WARN org.apache.spark.scheduler.TaskSetManager: Lost task 34.4 in stage 403.0 (TID 6442) (hub-msca-bdp-dphub-students-jiaweixu-sw-lxj3.c.msca-bdp-student-ap.internal executor 44): TaskKilled (Stage cancelled)\n",
      "23/11/26 02:53:43 WARN org.apache.spark.scheduler.TaskSetManager: Lost task 11.5 in stage 403.0 (TID 6433) (hub-msca-bdp-dphub-students-jiaweixu-w-1.c.msca-bdp-student-ap.internal executor 46): TaskKilled (Stage cancelled)\n",
      "23/11/26 02:53:43 WARN org.apache.spark.scheduler.TaskSetManager: Lost task 15.4 in stage 403.0 (TID 6441) (hub-msca-bdp-dphub-students-jiaweixu-sw-lxj3.c.msca-bdp-student-ap.internal executor 44): TaskKilled (Stage cancelled)\n",
      "23/11/26 02:53:43 WARN org.apache.spark.scheduler.TaskSetManager: Lost task 46.3 in stage 403.0 (TID 6422) (hub-msca-bdp-dphub-students-jiaweixu-w-1.c.msca-bdp-student-ap.internal executor 45): TaskKilled (Stage cancelled)\n",
      "23/11/26 02:53:43 WARN org.apache.spark.scheduler.TaskSetManager: Lost task 32.4 in stage 403.0 (TID 6440) (hub-msca-bdp-dphub-students-jiaweixu-sw-lxj3.c.msca-bdp-student-ap.internal executor 44): TaskKilled (Stage cancelled)\n",
      "23/11/26 02:53:43 WARN org.apache.spark.scheduler.TaskSetManager: Lost task 45.3 in stage 403.0 (TID 6457) (hub-msca-bdp-dphub-students-jiaweixu-w-0.c.msca-bdp-student-ap.internal executor 47): TaskKilled (Stage cancelled)\n",
      "23/11/26 02:53:43 WARN org.apache.spark.scheduler.TaskSetManager: Lost task 44.4 in stage 403.0 (TID 6458) (hub-msca-bdp-dphub-students-jiaweixu-w-0.c.msca-bdp-student-ap.internal executor 47): TaskKilled (Stage cancelled)\n",
      "23/11/26 02:53:43 WARN org.apache.spark.scheduler.TaskSetManager: Lost task 36.4 in stage 403.0 (TID 6426) (hub-msca-bdp-dphub-students-jiaweixu-w-0.c.msca-bdp-student-ap.internal executor 48): TaskKilled (Stage cancelled)\n",
      "23/11/26 02:53:43 WARN org.apache.spark.scheduler.TaskSetManager: Lost task 37.4 in stage 403.0 (TID 6424) (hub-msca-bdp-dphub-students-jiaweixu-w-0.c.msca-bdp-student-ap.internal executor 47): TaskKilled (Stage cancelled)\n",
      "23/11/26 02:53:44 WARN org.apache.spark.scheduler.TaskSetManager: Lost task 33.4 in stage 403.0 (TID 6431) (hub-msca-bdp-dphub-students-jiaweixu-w-1.c.msca-bdp-student-ap.internal executor 46): TaskKilled (Stage cancelled)\n",
      "23/11/26 02:53:44 WARN org.apache.spark.scheduler.TaskSetManager: Lost task 9.4 in stage 403.0 (TID 6430) (hub-msca-bdp-dphub-students-jiaweixu-w-1.c.msca-bdp-student-ap.internal executor 46): TaskKilled (Stage cancelled)\n",
      "23/11/26 02:53:44 WARN org.apache.spark.scheduler.TaskSetManager: Lost task 18.4 in stage 403.0 (TID 6434) (hub-msca-bdp-dphub-students-jiaweixu-w-1.c.msca-bdp-student-ap.internal executor 46): TaskKilled (Stage cancelled)\n",
      "23/11/26 02:53:44 WARN org.apache.spark.scheduler.TaskSetManager: Lost task 43.3 in stage 403.0 (TID 6423) (hub-msca-bdp-dphub-students-jiaweixu-w-0.c.msca-bdp-student-ap.internal executor 48): TaskKilled (Stage cancelled)\n",
      "23/11/26 02:53:44 WARN org.apache.spark.scheduler.TaskSetManager: Lost task 28.4 in stage 403.0 (TID 6428) (hub-msca-bdp-dphub-students-jiaweixu-w-0.c.msca-bdp-student-ap.internal executor 47): TaskKilled (Stage cancelled)\n"
     ]
    }
   ],
   "source": [
    "from pyspark.sql.functions import col\n",
    "from pyspark.sql.types import DoubleType\n",
    "\n",
    "# Assuming 'ArrDel15' is supposed to be a double\n",
    "train = train.withColumn(\"ArrDel15\", train[\"ArrDel15\"].cast(DoubleType()))\n",
    "test = test.withColumn(\"ArrDel15\", test[\"ArrDel15\"].cast(DoubleType()))\n",
    "\n",
    "from pyspark.ml.classification import DecisionTreeClassifier\n",
    "from pyspark.ml.evaluation import BinaryClassificationEvaluator\n",
    "\n",
    "# Initialize the Decision Tree Classifier\n",
    "dt = DecisionTreeClassifier(labelCol=\"ArrDel15\", featuresCol=\"scaledFeatures\")\n",
    "\n",
    "# Fit the model on the training data\n",
    "dt_model = dt.fit(train)\n",
    "\n",
    "# Make predictions on the test data\n",
    "dt_predictions = dt_model.transform(test)\n",
    "\n",
    "# Evaluate the model\n",
    "evaluator = BinaryClassificationEvaluator(labelCol=\"ArrDel15\")\n",
    "dt_accuracy = evaluator.evaluate(dt_predictions, {evaluator.metricName: \"accuracy\"})\n",
    "\n",
    "print(f\"Decision Tree Accuracy: {dt_accuracy}\")\n"
   ]
  },
  {
   "cell_type": "markdown",
   "id": "71b55969-cea3-4083-9b86-fc120563265a",
   "metadata": {},
   "source": [
    "##### Random Forest"
   ]
  },
  {
   "cell_type": "code",
   "execution_count": null,
   "id": "acdee7b8-7766-4efb-ada9-4fbc3000ccd4",
   "metadata": {},
   "outputs": [
    {
     "name": "stderr",
     "output_type": "stream",
     "text": [
      "23/11/26 02:31:50 WARN org.apache.spark.scheduler.TaskSetManager: Lost task 14.9 in stage 190.0 (TID 2623) (hub-msca-bdp-dphub-students-jiaweixu-w-0.c.msca-bdp-student-ap.internal executor 36): TaskKilled (Stage cancelled)\n",
      "23/11/26 02:31:50 WARN org.apache.spark.scheduler.TaskSetManager: Lost task 30.7 in stage 190.0 (TID 2596) (hub-msca-bdp-dphub-students-jiaweixu-w-1.c.msca-bdp-student-ap.internal executor 39): TaskKilled (Stage cancelled)\n",
      "23/11/26 02:31:50 WARN org.apache.spark.scheduler.TaskSetManager: Lost task 8.8 in stage 190.0 (TID 2621) (hub-msca-bdp-dphub-students-jiaweixu-w-1.c.msca-bdp-student-ap.internal executor 41): TaskKilled (Stage cancelled)\n",
      "23/11/26 02:31:51 WARN org.apache.spark.scheduler.TaskSetManager: Lost task 9.8 in stage 190.0 (TID 2599) (hub-msca-bdp-dphub-students-jiaweixu-w-1.c.msca-bdp-student-ap.internal executor 41): TaskKilled (Stage cancelled)\n",
      "23/11/26 02:31:51 WARN org.apache.spark.scheduler.TaskSetManager: Lost task 36.7 in stage 190.0 (TID 2601) (hub-msca-bdp-dphub-students-jiaweixu-w-1.c.msca-bdp-student-ap.internal executor 39): TaskKilled (Stage cancelled)\n",
      "23/11/26 02:31:51 WARN org.apache.spark.scheduler.TaskSetManager: Lost task 18.9 in stage 190.0 (TID 2624) (hub-msca-bdp-dphub-students-jiaweixu-w-0.c.msca-bdp-student-ap.internal executor 40): TaskKilled (Stage cancelled)\n",
      "23/11/26 02:31:51 WARN org.apache.spark.scheduler.TaskSetManager: Lost task 24.8 in stage 190.0 (TID 2622) (hub-msca-bdp-dphub-students-jiaweixu-w-1.c.msca-bdp-student-ap.internal executor 41): TaskKilled (Stage cancelled)\n",
      "23/11/26 02:31:51 WARN org.apache.spark.scheduler.TaskSetManager: Lost task 39.7 in stage 190.0 (TID 2625) (hub-msca-bdp-dphub-students-jiaweixu-w-1.c.msca-bdp-student-ap.internal executor 41): TaskKilled (Stage cancelled)\n",
      "23/11/26 02:31:51 WARN org.apache.spark.scheduler.TaskSetManager: Lost task 33.8 in stage 190.0 (TID 2626) (hub-msca-bdp-dphub-students-jiaweixu-w-1.c.msca-bdp-student-ap.internal executor 41): TaskKilled (Stage cancelled)\n",
      "23/11/26 02:31:51 WARN org.apache.spark.scheduler.TaskSetManager: Lost task 19.9 in stage 190.0 (TID 2605) (hub-msca-bdp-dphub-students-jiaweixu-w-1.c.msca-bdp-student-ap.internal executor 39): TaskKilled (Stage cancelled)\n",
      "23/11/26 02:31:51 WARN org.apache.spark.scheduler.TaskSetManager: Lost task 2.9 in stage 190.0 (TID 2627) (hub-msca-bdp-dphub-students-jiaweixu-w-0.c.msca-bdp-student-ap.internal executor 36): TaskKilled (Stage cancelled)\n",
      "23/11/26 02:31:51 WARN org.apache.spark.scheduler.TaskSetManager: Lost task 25.8 in stage 190.0 (TID 2604) (hub-msca-bdp-dphub-students-jiaweixu-w-0.c.msca-bdp-student-ap.internal executor 40): TaskKilled (Stage cancelled)\n",
      "23/11/26 02:31:51 WARN org.apache.spark.scheduler.TaskSetManager: Lost task 3.9 in stage 190.0 (TID 2628) (hub-msca-bdp-dphub-students-jiaweixu-w-1.c.msca-bdp-student-ap.internal executor 39): TaskKilled (Stage cancelled)\n",
      "23/11/26 02:31:51 WARN org.apache.spark.scheduler.TaskSetManager: Lost task 7.7 in stage 190.0 (TID 2600) (hub-msca-bdp-dphub-students-jiaweixu-w-1.c.msca-bdp-student-ap.internal executor 39): TaskKilled (Stage cancelled)\n",
      "23/11/26 02:31:51 WARN org.apache.spark.scheduler.TaskSetManager: Lost task 32.7 in stage 190.0 (TID 2603) (hub-msca-bdp-dphub-students-jiaweixu-w-1.c.msca-bdp-student-ap.internal executor 39): TaskKilled (Stage cancelled)\n"
     ]
    }
   ],
   "source": [
    "from pyspark.ml.classification import RandomForestClassifier\n",
    "\n",
    "# Initialize the Random Forest Classifier\n",
    "rf = RandomForestClassifier(labelCol=\"ArrDel15\", featuresCol=\"scaledFeatures\")\n",
    "\n",
    "# Fit the model on the training data\n",
    "rf_model = rf.fit(train)\n",
    "\n",
    "# Make predictions on the test data\n",
    "rf_predictions = rf_model.transform(test)\n",
    "\n",
    "# Evaluate the model\n",
    "rf_accuracy = evaluator.evaluate(rf_predictions, {evaluator.metricName: \"accuracy\"})\n",
    "\n",
    "print(f\"Random Forest Accuracy: {rf_accuracy}\")\n"
   ]
  },
  {
   "cell_type": "markdown",
   "id": "294194df-47aa-4b12-b0ce-6ac0f21bc231",
   "metadata": {},
   "source": [
    "##### Hyperparameter Tuning"
   ]
  },
  {
   "cell_type": "code",
   "execution_count": null,
   "id": "094842de-71a9-4713-90e2-073be7f32b80",
   "metadata": {},
   "outputs": [],
   "source": [
    "from pyspark.ml.tuning import ParamGridBuilder, CrossValidator\n",
    "\n",
    "# Example for Decision Tree\n",
    "paramGrid = ParamGridBuilder() \\\n",
    "    .addGrid(dt.maxDepth, [2, 5, 10]) \\\n",
    "    .addGrid(dt.maxBins, [20, 30, 40]) \\\n",
    "    .build()\n",
    "\n",
    "crossval = CrossValidator(estimator=dt,\n",
    "                          estimatorParamMaps=paramGrid,\n",
    "                          evaluator=BinaryClassificationEvaluator(labelCol=\"ArrDel15\"),\n",
    "                          numFolds=3)\n",
    "\n",
    "# Fit the model\n",
    "cv_model = crossval.fit(train)\n",
    "\n",
    "# Evaluate on the test set\n",
    "cv_predictions = cv_model.transform(test)\n",
    "cv_accuracy = evaluator.evaluate(cv_predictions, {evaluator.metricName: \"accuracy\"})\n",
    "print(f\"Cross-Validated Accuracy: {cv_accuracy}\")"
   ]
  },
  {
   "cell_type": "markdown",
   "id": "f3dde5fd-5772-4b4f-b912-bab994bd347a",
   "metadata": {},
   "source": [
    "### Model Evaluation"
   ]
  },
  {
   "cell_type": "markdown",
   "id": "49dc4300-8650-488e-bb50-6e2a609326bb",
   "metadata": {},
   "source": [
    "##### Evaluate with Basic Metrics"
   ]
  },
  {
   "cell_type": "code",
   "execution_count": null,
   "id": "8b92c45f-2589-4768-9c97-a39e9a25bf1c",
   "metadata": {},
   "outputs": [],
   "source": [
    "from pyspark.ml.evaluation import MulticlassClassificationEvaluator\n",
    "\n",
    "# Initialize evaluators\n",
    "evaluator_accuracy = MulticlassClassificationEvaluator(labelCol=\"ArrDel15\", predictionCol=\"prediction\", metricName=\"accuracy\")\n",
    "evaluator_precision = MulticlassClassificationEvaluator(labelCol=\"ArrDel15\", predictionCol=\"prediction\", metricName=\"weightedPrecision\")\n",
    "evaluator_recall = MulticlassClassificationEvaluator(labelCol=\"ArrDel15\", predictionCol=\"prediction\", metricName=\"weightedRecall\")\n",
    "evaluator_f1 = MulticlassClassificationEvaluator(labelCol=\"ArrDel15\", predictionCol=\"prediction\", metricName=\"f1\")\n",
    "\n",
    "# Evaluate Decision Tree model\n",
    "dt_accuracy = evaluator_accuracy.evaluate(dt_predictions)\n",
    "dt_precision = evaluator_precision.evaluate(dt_predictions)\n",
    "dt_recall = evaluator_recall.evaluate(dt_predictions)\n",
    "dt_f1 = evaluator_f1.evaluate(dt_predictions)\n",
    "\n",
    "# Evaluate Random Forest model\n",
    "rf_accuracy = evaluator_accuracy.evaluate(rf_predictions)\n",
    "rf_precision = evaluator_precision.evaluate(rf_predictions)\n",
    "rf_recall = evaluator_recall.evaluate(rf_predictions)\n",
    "rf_f1 = evaluator_f1.evaluate(rf_predictions)\n",
    "\n",
    "print(f\"Decision Tree - Accuracy: {dt_accuracy}, Precision: {dt_precision}, Recall: {dt_recall}, F1 Score: {dt_f1}\")\n",
    "print(f\"Random Forest - Accuracy: {rf_accuracy}, Precision: {rf_precision}, Recall: {rf_recall}, F1 Score: {rf_f1}\")\n"
   ]
  },
  {
   "cell_type": "markdown",
   "id": "cf38eeef-1ae0-460e-8b47-0b54764dc48e",
   "metadata": {},
   "source": [
    "##### ROC Curve and AUC"
   ]
  },
  {
   "cell_type": "code",
   "execution_count": null,
   "id": "61d8038b-6dcf-4330-929f-e2e38471dfb6",
   "metadata": {},
   "outputs": [],
   "source": [
    "from pyspark.ml.evaluation import BinaryClassificationEvaluator\n",
    "\n",
    "# ROC and AUC for Decision Tree\n",
    "dt_evaluator = BinaryClassificationEvaluator(labelCol=\"ArrDel15\")\n",
    "dt_auc = dt_evaluator.evaluate(dt_predictions, {dt_evaluator.metricName: \"areaUnderROC\"})\n",
    "\n",
    "# ROC and AUC for Random Forest\n",
    "rf_auc = dt_evaluator.evaluate(rf_predictions, {rf_evaluator.metricName: \"areaUnderROC\"})\n",
    "\n",
    "print(f\"Decision Tree - AUC: {dt_auc}\")\n",
    "print(f\"Random Forest - AUC: {rf_auc}\")\n"
   ]
  },
  {
   "cell_type": "markdown",
   "id": "ef1ffa4f-a830-4dd3-b372-a5bb52212333",
   "metadata": {},
   "source": [
    "##### Confusion Matrix"
   ]
  },
  {
   "cell_type": "code",
   "execution_count": null,
   "id": "c3628ff6-bc78-456c-8221-b04602caa51a",
   "metadata": {},
   "outputs": [],
   "source": [
    "from pyspark.mllib.evaluation import MulticlassMetrics\n",
    "\n",
    "# Convert prediction results to RDD\n",
    "rdd_dt = dt_predictions.select(['prediction', 'ArrDel15']).rdd\n",
    "rdd_rf = rf_predictions.select(['prediction', 'ArrDel15']).rdd\n",
    "\n",
    "# Instantiate metrics object\n",
    "metrics_dt = MulticlassMetrics(rdd_dt)\n",
    "metrics_rf = MulticlassMetrics(rdd_rf)\n",
    "\n",
    "# Confusion matrix\n",
    "print(\"Decision Tree - Confusion Matrix\")\n",
    "print(metrics_dt.confusionMatrix().toArray())\n",
    "\n",
    "print(\"\\nRandom Forest - Confusion Matrix\")\n",
    "print(metrics_rf.confusionMatrix().toArray())\n"
   ]
  }
 ],
 "metadata": {
  "kernelspec": {
   "display_name": "PySpark",
   "language": "python",
   "name": "pyspark"
  },
  "language_info": {
   "codemirror_mode": {
    "name": "ipython",
    "version": 3
   },
   "file_extension": ".py",
   "mimetype": "text/x-python",
   "name": "python",
   "nbconvert_exporter": "python",
   "pygments_lexer": "ipython3",
   "version": "3.8.15"
  }
 },
 "nbformat": 4,
 "nbformat_minor": 5
}
