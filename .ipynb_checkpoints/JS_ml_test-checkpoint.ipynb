{
 "cells": [
  {
   "cell_type": "markdown",
   "id": "035192b1-a2f1-42d4-960a-631b89b9a8f8",
   "metadata": {},
   "source": [
    "# ML Maintenance Problem"
   ]
  },
  {
   "cell_type": "code",
   "execution_count": 2,
   "id": "44231dda-bc13-4c60-8b55-ea6dc45f20aa",
   "metadata": {},
   "outputs": [],
   "source": [
    "from pyspark.ml.feature import VectorAssembler\n",
    "from pyspark.ml.stat import Correlation\n",
    "from pyspark.sql import SparkSession\n",
    "from pyspark.sql.functions import col\n",
    "from pyspark.ml.feature import StringIndexer, OneHotEncoder\n",
    "from pyspark.ml import Pipeline"
   ]
  },
  {
   "cell_type": "markdown",
   "id": "97b56cd3-f879-479a-b4ef-a65abda2da6f",
   "metadata": {},
   "source": [
    "## Load DataSet"
   ]
  },
  {
   "cell_type": "code",
   "execution_count": 3,
   "id": "1ef8bff6-6280-4930-9689-9ed63ab77832",
   "metadata": {},
   "outputs": [],
   "source": [
    "spark = SparkSession.builder.getOrCreate()"
   ]
  },
  {
   "cell_type": "code",
   "execution_count": 39,
   "id": "bd9fc48e-57e0-4e29-80b1-d839b4da1010",
   "metadata": {},
   "outputs": [
    {
     "name": "stderr",
     "output_type": "stream",
     "text": [
      "                                                                                \r"
     ]
    }
   ],
   "source": [
    "datapath_18 = \"gs://msca-bdp-student-gcs/Group4_Final_Project/archive/Combined_Flights_2018.csv\"\n",
    "df_18 = spark.read.csv(datapath_18, header=True, inferSchema=True)"
   ]
  },
  {
   "cell_type": "code",
   "execution_count": 5,
   "id": "9e8854b0-012f-4c03-bb11-a0b57173a927",
   "metadata": {},
   "outputs": [
    {
     "data": {
      "text/plain": [
       "['FlightDate',\n",
       " 'Airline',\n",
       " 'Origin',\n",
       " 'Dest',\n",
       " 'Cancelled',\n",
       " 'Diverted',\n",
       " 'CRSDepTime',\n",
       " 'DepTime',\n",
       " 'DepDelayMinutes',\n",
       " 'DepDelay',\n",
       " 'ArrTime',\n",
       " 'ArrDelayMinutes',\n",
       " 'AirTime',\n",
       " 'CRSElapsedTime',\n",
       " 'ActualElapsedTime',\n",
       " 'Distance',\n",
       " 'Year',\n",
       " 'Quarter',\n",
       " 'Month',\n",
       " 'DayofMonth',\n",
       " 'DayOfWeek',\n",
       " 'Marketing_Airline_Network',\n",
       " 'Operated_or_Branded_Code_Share_Partners',\n",
       " 'DOT_ID_Marketing_Airline',\n",
       " 'IATA_Code_Marketing_Airline',\n",
       " 'Flight_Number_Marketing_Airline',\n",
       " 'Operating_Airline',\n",
       " 'DOT_ID_Operating_Airline',\n",
       " 'IATA_Code_Operating_Airline',\n",
       " 'Tail_Number',\n",
       " 'Flight_Number_Operating_Airline',\n",
       " 'OriginAirportID',\n",
       " 'OriginAirportSeqID',\n",
       " 'OriginCityMarketID',\n",
       " 'OriginCityName',\n",
       " 'OriginState',\n",
       " 'OriginStateFips',\n",
       " 'OriginStateName',\n",
       " 'OriginWac',\n",
       " 'DestAirportID',\n",
       " 'DestAirportSeqID',\n",
       " 'DestCityMarketID',\n",
       " 'DestCityName',\n",
       " 'DestState',\n",
       " 'DestStateFips',\n",
       " 'DestStateName',\n",
       " 'DestWac',\n",
       " 'DepDel15',\n",
       " 'DepartureDelayGroups',\n",
       " 'DepTimeBlk',\n",
       " 'TaxiOut',\n",
       " 'WheelsOff',\n",
       " 'WheelsOn',\n",
       " 'TaxiIn',\n",
       " 'CRSArrTime',\n",
       " 'ArrDelay',\n",
       " 'ArrDel15',\n",
       " 'ArrivalDelayGroups',\n",
       " 'ArrTimeBlk',\n",
       " 'DistanceGroup',\n",
       " 'DivAirportLandings']"
      ]
     },
     "execution_count": 5,
     "metadata": {},
     "output_type": "execute_result"
    }
   ],
   "source": [
    "df_18.columns"
   ]
  },
  {
   "cell_type": "code",
   "execution_count": 6,
   "id": "69a25e8b-a136-481b-a308-b670accfb24b",
   "metadata": {},
   "outputs": [
    {
     "name": "stdout",
     "output_type": "stream",
     "text": [
      "root\n",
      " |-- FlightDate: string (nullable = true)\n",
      " |-- Airline: string (nullable = true)\n",
      " |-- Origin: string (nullable = true)\n",
      " |-- Dest: string (nullable = true)\n",
      " |-- Cancelled: boolean (nullable = true)\n",
      " |-- Diverted: boolean (nullable = true)\n",
      " |-- CRSDepTime: integer (nullable = true)\n",
      " |-- DepTime: double (nullable = true)\n",
      " |-- DepDelayMinutes: double (nullable = true)\n",
      " |-- DepDelay: double (nullable = true)\n",
      " |-- ArrTime: double (nullable = true)\n",
      " |-- ArrDelayMinutes: double (nullable = true)\n",
      " |-- AirTime: double (nullable = true)\n",
      " |-- CRSElapsedTime: double (nullable = true)\n",
      " |-- ActualElapsedTime: double (nullable = true)\n",
      " |-- Distance: double (nullable = true)\n",
      " |-- Year: integer (nullable = true)\n",
      " |-- Quarter: integer (nullable = true)\n",
      " |-- Month: integer (nullable = true)\n",
      " |-- DayofMonth: integer (nullable = true)\n",
      " |-- DayOfWeek: integer (nullable = true)\n",
      " |-- Marketing_Airline_Network: string (nullable = true)\n",
      " |-- Operated_or_Branded_Code_Share_Partners: string (nullable = true)\n",
      " |-- DOT_ID_Marketing_Airline: integer (nullable = true)\n",
      " |-- IATA_Code_Marketing_Airline: string (nullable = true)\n",
      " |-- Flight_Number_Marketing_Airline: integer (nullable = true)\n",
      " |-- Operating_Airline: string (nullable = true)\n",
      " |-- DOT_ID_Operating_Airline: integer (nullable = true)\n",
      " |-- IATA_Code_Operating_Airline: string (nullable = true)\n",
      " |-- Tail_Number: string (nullable = true)\n",
      " |-- Flight_Number_Operating_Airline: integer (nullable = true)\n",
      " |-- OriginAirportID: integer (nullable = true)\n",
      " |-- OriginAirportSeqID: integer (nullable = true)\n",
      " |-- OriginCityMarketID: integer (nullable = true)\n",
      " |-- OriginCityName: string (nullable = true)\n",
      " |-- OriginState: string (nullable = true)\n",
      " |-- OriginStateFips: integer (nullable = true)\n",
      " |-- OriginStateName: string (nullable = true)\n",
      " |-- OriginWac: integer (nullable = true)\n",
      " |-- DestAirportID: integer (nullable = true)\n",
      " |-- DestAirportSeqID: integer (nullable = true)\n",
      " |-- DestCityMarketID: integer (nullable = true)\n",
      " |-- DestCityName: string (nullable = true)\n",
      " |-- DestState: string (nullable = true)\n",
      " |-- DestStateFips: integer (nullable = true)\n",
      " |-- DestStateName: string (nullable = true)\n",
      " |-- DestWac: integer (nullable = true)\n",
      " |-- DepDel15: double (nullable = true)\n",
      " |-- DepartureDelayGroups: double (nullable = true)\n",
      " |-- DepTimeBlk: string (nullable = true)\n",
      " |-- TaxiOut: double (nullable = true)\n",
      " |-- WheelsOff: double (nullable = true)\n",
      " |-- WheelsOn: double (nullable = true)\n",
      " |-- TaxiIn: double (nullable = true)\n",
      " |-- CRSArrTime: integer (nullable = true)\n",
      " |-- ArrDelay: double (nullable = true)\n",
      " |-- ArrDel15: double (nullable = true)\n",
      " |-- ArrivalDelayGroups: double (nullable = true)\n",
      " |-- ArrTimeBlk: string (nullable = true)\n",
      " |-- DistanceGroup: integer (nullable = true)\n",
      " |-- DivAirportLandings: double (nullable = true)\n",
      "\n"
     ]
    }
   ],
   "source": [
    "df_18.printSchema()"
   ]
  },
  {
   "cell_type": "code",
   "execution_count": 63,
   "id": "52d37533-43b6-485c-b1de-df488190ca44",
   "metadata": {},
   "outputs": [
    {
     "name": "stderr",
     "output_type": "stream",
     "text": [
      "[Stage 185:===============================================>       (13 + 2) / 15]\r"
     ]
    },
    {
     "name": "stdout",
     "output_type": "stream",
     "text": [
      "+-----------+----------+-----------------+---------------------+-----------------+\n",
      "|Tail_Number|FlightDate|ActualElapsedTime|CumulativeFlightHours|MaintenanceNeeded|\n",
      "+-----------+----------+-----------------+---------------------+-----------------+\n",
      "|      219NV|2018-01-01|            161.0|   10.149999999999999|                0|\n",
      "|      219NV|2018-01-01|            181.0|   10.149999999999999|                0|\n",
      "|      219NV|2018-01-01|            135.0|   10.149999999999999|                0|\n",
      "|      219NV|2018-01-01|            132.0|   10.149999999999999|                0|\n",
      "|      219NV|2018-01-02|            124.0|                22.05|                0|\n",
      "|      219NV|2018-01-02|            124.0|                22.05|                0|\n",
      "|      219NV|2018-01-02|            161.0|                22.05|                0|\n",
      "|      219NV|2018-01-02|            164.0|                22.05|                0|\n",
      "|      219NV|2018-01-02|            141.0|                22.05|                0|\n",
      "|      219NV|2018-01-03|            125.0|                 26.3|                0|\n",
      "+-----------+----------+-----------------+---------------------+-----------------+\n",
      "only showing top 10 rows\n",
      "\n"
     ]
    },
    {
     "name": "stderr",
     "output_type": "stream",
     "text": [
      "                                                                                \r"
     ]
    }
   ],
   "source": [
    "from pyspark.sql.functions import when, sum, col, lag\n",
    "from pyspark.sql.window import Window\n",
    "\n",
    "# Define the maintenance criteria\n",
    "flight_hours_threshold_low = 400\n",
    "flight_hours_threshold_high = 600\n",
    "maintenance_interval_low = 200\n",
    "maintenance_interval_high = 300\n",
    "\n",
    "# Assuming 'FlightDate' is a timestamp column indicating the flight date\n",
    "# 'Tail_Number' is the aircraft identifier\n",
    "\n",
    "# Calculate flight hours using the 'ActualElapsedTime' column\n",
    "df_18 = df_18.withColumn('FlightHours', col('ActualElapsedTime') / 60.0)  # Convert ActualElapsedTime from minutes to hours\n",
    "\n",
    "# Define a window specification for each aircraft\n",
    "window_spec = Window().partitionBy('Tail_Number').orderBy('FlightDate')\n",
    "\n",
    "# Calculate cumulative flight hours for each aircraft\n",
    "df_18 = df_18.withColumn('CumulativeFlightHours', sum('FlightHours').over(window_spec))\n",
    "\n",
    "# Create a column indicating whether maintenance is needed based on the criteria\n",
    "df_18 = df_18.withColumn(\n",
    "    'MaintenanceNeeded',\n",
    "    when(\n",
    "        ((df_18['CumulativeFlightHours'] >= flight_hours_threshold_low) & (df_18['CumulativeFlightHours'] <= flight_hours_threshold_high)) |\n",
    "        (((df_18['CumulativeFlightHours'] - maintenance_interval_high) % maintenance_interval_low == 0) & (df_18['CumulativeFlightHours'] > flight_hours_threshold_high)),\n",
    "        1\n",
    "    ).otherwise(0)\n",
    ")\n",
    "\n",
    "# Reset cumulative flight hours for each aircraft when maintenance is performed\n",
    "df_18 = df_18.withColumn('CumulativeFlightHours', when(df_18['MaintenanceNeeded'] == 1, 0).otherwise(df_18['CumulativeFlightHours']))\n",
    "\n",
    "# Drop intermediate columns used for calculations\n",
    "df_18 = df_18.drop('FlightHours')\n",
    "\n",
    "# Check if the new columns are created successfully\n",
    "df_18.select('Tail_Number', 'FlightDate', 'ActualElapsedTime', 'CumulativeFlightHours', 'MaintenanceNeeded').show(10)\n"
   ]
  },
  {
   "cell_type": "code",
   "execution_count": 67,
   "id": "4dd47ee6-6e38-4d01-a980-e1dcc7333fc5",
   "metadata": {},
   "outputs": [
    {
     "data": {
      "text/plain": [
       "['FlightDate',\n",
       " 'Airline',\n",
       " 'Origin',\n",
       " 'Dest',\n",
       " 'Cancelled',\n",
       " 'Diverted',\n",
       " 'CRSDepTime',\n",
       " 'DepTime',\n",
       " 'DepDelayMinutes',\n",
       " 'DepDelay',\n",
       " 'ArrTime',\n",
       " 'ArrDelayMinutes',\n",
       " 'AirTime',\n",
       " 'CRSElapsedTime',\n",
       " 'ActualElapsedTime',\n",
       " 'Distance',\n",
       " 'Year',\n",
       " 'Quarter',\n",
       " 'Month',\n",
       " 'DayofMonth',\n",
       " 'DayOfWeek',\n",
       " 'Marketing_Airline_Network',\n",
       " 'Operated_or_Branded_Code_Share_Partners',\n",
       " 'DOT_ID_Marketing_Airline',\n",
       " 'IATA_Code_Marketing_Airline',\n",
       " 'Flight_Number_Marketing_Airline',\n",
       " 'Operating_Airline',\n",
       " 'DOT_ID_Operating_Airline',\n",
       " 'IATA_Code_Operating_Airline',\n",
       " 'Tail_Number',\n",
       " 'Flight_Number_Operating_Airline',\n",
       " 'OriginAirportID',\n",
       " 'OriginAirportSeqID',\n",
       " 'OriginCityMarketID',\n",
       " 'OriginCityName',\n",
       " 'OriginState',\n",
       " 'OriginStateFips',\n",
       " 'OriginStateName',\n",
       " 'OriginWac',\n",
       " 'DestAirportID',\n",
       " 'DestAirportSeqID',\n",
       " 'DestCityMarketID',\n",
       " 'DestCityName',\n",
       " 'DestState',\n",
       " 'DestStateFips',\n",
       " 'DestStateName',\n",
       " 'DestWac',\n",
       " 'DepDel15',\n",
       " 'DepartureDelayGroups',\n",
       " 'DepTimeBlk',\n",
       " 'TaxiOut',\n",
       " 'WheelsOff',\n",
       " 'WheelsOn',\n",
       " 'TaxiIn',\n",
       " 'CRSArrTime',\n",
       " 'ArrDelay',\n",
       " 'ArrDel15',\n",
       " 'ArrivalDelayGroups',\n",
       " 'ArrTimeBlk',\n",
       " 'DistanceGroup',\n",
       " 'DivAirportLandings',\n",
       " 'CumulativeFlightHours',\n",
       " 'MaintenanceNeeded']"
      ]
     },
     "execution_count": 67,
     "metadata": {},
     "output_type": "execute_result"
    }
   ],
   "source": [
    "df_18.columns"
   ]
  },
  {
   "cell_type": "markdown",
   "id": "562852dc-5b40-47fb-8a34-06423b38fe92",
   "metadata": {},
   "source": [
    "## EDA"
   ]
  },
  {
   "cell_type": "code",
   "execution_count": 64,
   "id": "e4e73525-8e66-4c28-b410-ac09c0c06df2",
   "metadata": {},
   "outputs": [
    {
     "name": "stderr",
     "output_type": "stream",
     "text": [
      "[Stage 188:===================================================>   (14 + 1) / 15]\r"
     ]
    },
    {
     "name": "stdout",
     "output_type": "stream",
     "text": [
      "+-----------+-----------------+\n",
      "|Tail_Number|CancellationCount|\n",
      "+-----------+-----------------+\n",
      "|     N346JB|               77|\n",
      "|     N178JB|               74|\n",
      "|     N273JB|               71|\n",
      "|     N247JB|               70|\n",
      "|     N323JB|               70|\n",
      "|     N509MJ|               69|\n",
      "|     N284JB|               69|\n",
      "|     N745YX|               68|\n",
      "|     N722YX|               67|\n",
      "|     N229JB|               67|\n",
      "+-----------+-----------------+\n",
      "\n"
     ]
    },
    {
     "name": "stderr",
     "output_type": "stream",
     "text": [
      "                                                                                \r"
     ]
    }
   ],
   "source": [
    "from pyspark.sql import SparkSession\n",
    "from pyspark.sql import functions as F\n",
    "\n",
    "top_cancelled_tailnumbers = df_18.filter(df_18.Cancelled == True) \\\n",
    "    .groupBy(\"Tail_Number\") \\\n",
    "    .agg(F.count(\"Tail_Number\").alias(\"CancellationCount\")) \\\n",
    "    .orderBy(F.desc(\"CancellationCount\")) \\\n",
    "    .limit(10)\n",
    "\n",
    "top_cancelled_tailnumbers.show()"
   ]
  },
  {
   "cell_type": "code",
   "execution_count": 65,
   "id": "edf4fc45-2a2e-4855-bf79-14115d12deca",
   "metadata": {},
   "outputs": [
    {
     "name": "stderr",
     "output_type": "stream",
     "text": [
      "[Stage 192:==================================>                    (10 + 6) / 16]\r"
     ]
    },
    {
     "name": "stdout",
     "output_type": "stream",
     "text": [
      "+-----------+-----------------+\n",
      "|Tail_Number|      AvgDepDelay|\n",
      "+-----------+-----------------+\n",
      "|     N654DL|            609.0|\n",
      "|      N805H|            213.0|\n",
      "|     N732AN|            198.5|\n",
      "|     N760AN|131.9090909090909|\n",
      "|     N17002|            117.8|\n",
      "|     N2331U|            117.4|\n",
      "|     N2332U|            106.0|\n",
      "|     N2644U|94.53846153846153|\n",
      "|     N2243U|           88.375|\n",
      "|     N270AY|76.18181818181819|\n",
      "+-----------+-----------------+\n",
      "\n"
     ]
    },
    {
     "name": "stderr",
     "output_type": "stream",
     "text": [
      "                                                                                \r"
     ]
    }
   ],
   "source": [
    "top_avg_delay_tailnumbers = df_18.groupBy(\"Tail_Number\") \\\n",
    "    .agg(F.avg(\"DepDelay\").alias(\"AvgDepDelay\")) \\\n",
    "    .orderBy(F.desc(\"AvgDepDelay\")) \\\n",
    "    .limit(10)\n",
    "\n",
    "# Display the result or save it to a file or use it in plotting libraries\n",
    "top_avg_delay_tailnumbers.show()"
   ]
  },
  {
   "cell_type": "code",
   "execution_count": 66,
   "id": "1f0a135b-5714-4b10-9f20-9f799e84f911",
   "metadata": {},
   "outputs": [
    {
     "name": "stderr",
     "output_type": "stream",
     "text": [
      "[Stage 196:===================================================>   (15 + 1) / 16]\r"
     ]
    },
    {
     "name": "stdout",
     "output_type": "stream",
     "text": [
      "+-----------+-----------+\n",
      "|Tail_Number|FlightCount|\n",
      "+-----------+-----------+\n",
      "|     N491HA|       3810|\n",
      "|     N495HA|       3695|\n",
      "|     N494HA|       3692|\n",
      "|     N477HA|       3601|\n",
      "|     N486HA|       3589|\n",
      "|     N475HA|       3531|\n",
      "|     N488HA|       3529|\n",
      "|     N487HA|       3432|\n",
      "|     N476HA|       3417|\n",
      "|     N483HA|       3278|\n",
      "+-----------+-----------+\n",
      "\n"
     ]
    },
    {
     "name": "stderr",
     "output_type": "stream",
     "text": [
      "                                                                                \r"
     ]
    }
   ],
   "source": [
    "top_flown_tailnumbers = df_18.groupBy(\"Tail_Number\") \\\n",
    "    .agg(F.count(\"Tail_Number\").alias(\"FlightCount\")) \\\n",
    "    .orderBy(F.desc(\"FlightCount\")) \\\n",
    "    .limit(10)\n",
    "\n",
    "# Display the result or save it to a file or use it in plotting libraries\n",
    "top_flown_tailnumbers.show()"
   ]
  },
  {
   "cell_type": "code",
   "execution_count": 68,
   "id": "6fc0e345-0c92-447c-82b5-10b17524c431",
   "metadata": {},
   "outputs": [
    {
     "name": "stderr",
     "output_type": "stream",
     "text": [
      "                                                                                \r"
     ]
    },
    {
     "data": {
      "image/png": "[encoded data removed]",
      "text/plain": [
       "<Figure size 1000x800 with 1 Axes>"
      ]
     },
     "metadata": {},
     "output_type": "display_data"
    }
   ],
   "source": [
    "import matplotlib.pyplot as plt\n",
    "import pandas as pd\n",
    "\n",
    "# Convert Spark DataFrame to Pandas DataFrame\n",
    "top_cancelled_pd = top_cancelled_tailnumbers.toPandas()\n",
    "\n",
    "# Plot the data using matplotlib or other plotting libraries\n",
    "plt.figure(figsize = (10,8))\n",
    "plt.bar(top_cancelled_pd['Tail_Number'], top_cancelled_pd['CancellationCount'])\n",
    "plt.xlabel('TailNumber')\n",
    "plt.ylabel('CancellationCount')\n",
    "plt.title('Top 10 TailNumbers with the most cancellations')\n",
    "plt.show()"
   ]
  },
  {
   "cell_type": "code",
   "execution_count": 69,
   "id": "c41068b6-3fea-4f55-a86f-5aa6639b0978",
   "metadata": {},
   "outputs": [
    {
     "name": "stderr",
     "output_type": "stream",
     "text": [
      "                                                                                \r"
     ]
    },
    {
     "data": {
      "image/png": "[encoded data removed]",
      "text/plain": [
       "<Figure size 1000x800 with 1 Axes>"
      ]
     },
     "metadata": {},
     "output_type": "display_data"
    }
   ],
   "source": [
    "\n",
    "# Convert Spark DataFrame to Pandas DataFrame\n",
    "top_avg_delay_tailnumbers_pd = top_avg_delay_tailnumbers.toPandas()\n",
    "\n",
    "# Plot the data using matplotlib or other plotting libraries\n",
    "plt.figure(figsize = (10,8))\n",
    "plt.bar(top_avg_delay_tailnumbers_pd['Tail_Number'], top_avg_delay_tailnumbers_pd['AvgDepDelay'])\n",
    "plt.xlabel('TailNumber')\n",
    "plt.ylabel('Delay Count')\n",
    "plt.title('Top 10 TailNumbers with the most delay')\n",
    "plt.show()"
   ]
  },
  {
   "cell_type": "code",
   "execution_count": 70,
   "id": "a91989ed-8de8-497c-89ac-be2b9de39ac8",
   "metadata": {},
   "outputs": [
    {
     "name": "stderr",
     "output_type": "stream",
     "text": [
      "                                                                                \r"
     ]
    },
    {
     "data": {
      "image/png": "[encoded data removed]",
      "text/plain": [
       "<Figure size 1000x800 with 1 Axes>"
      ]
     },
     "metadata": {},
     "output_type": "display_data"
    }
   ],
   "source": [
    "# Convert Spark DataFrame to Pandas DataFrame\n",
    "top_flown_tailnumbers_pd = top_flown_tailnumbers.toPandas()\n",
    "\n",
    "# Plot the data using matplotlib or other plotting libraries\n",
    "plt.figure(figsize = (10,8))\n",
    "plt.bar(top_flown_tailnumbers_pd['Tail_Number'], top_flown_tailnumbers_pd['FlightCount'])\n",
    "plt.xlabel('TailNumber')\n",
    "plt.ylabel('Flight Count')\n",
    "plt.title('Top 10 TailNumbers with the most flights')\n",
    "plt.show()"
   ]
  },
  {
   "cell_type": "markdown",
   "id": "e3b6210b-0163-4b9f-bb9c-46286d5cf029",
   "metadata": {},
   "source": [
    "## Correlation"
   ]
  },
  {
   "cell_type": "code",
   "execution_count": 71,
   "id": "3ed55c40-f96b-4e37-b55b-b1d47f80ef6e",
   "metadata": {},
   "outputs": [
    {
     "name": "stderr",
     "output_type": "stream",
     "text": [
      "23/11/28 15:43:42 WARN org.apache.spark.mllib.stat.correlation.PearsonCorrelation: Pearson correlation matrix contains NaN values.\n"
     ]
    },
    {
     "data": {
      "image/png": "[encoded data removed]",
      "text/plain": [
       "<Figure size 1000x800 with 2 Axes>"
      ]
     },
     "metadata": {},
     "output_type": "display_data"
    }
   ],
   "source": [
    "indexer = StringIndexer(inputCol=\"Tail_Number\", outputCol=\"TailNumberIndex\")\n",
    "flights_indexed = indexer.fit(df_18).transform(df_18)\n",
    "\n",
    "flights_indexed = flights_indexed.withColumn(\"Cancelled\", flights_indexed[\"Cancelled\"].cast(\"integer\"))\n",
    "selected_columns = [\"DepDelay\", \"Cancelled\", \"ArrDelay\"]\n",
    "flights_selected = flights_indexed.select(selected_columns).na.drop()\n",
    "assembler = VectorAssembler(inputCols=selected_columns, outputCol=\"features\")\n",
    "flights_assembled = assembler.transform(flights_selected)\n",
    "\n",
    "# Calculate correlation matrix\n",
    "try:\n",
    "    correlation_matrix = Correlation.corr(flights_assembled, \"features\").head()\n",
    "\n",
    "    # Extract the correlation matrix as a NumPy array\n",
    "    correlation_array = correlation_matrix[0].toArray()\n",
    "\n",
    "    # Convert correlation matrix to Pandas DataFrame\n",
    "    correlation_df = pd.DataFrame(correlation_array, columns=selected_columns, index=selected_columns)\n",
    "\n",
    "    # Use seaborn to create a heatmap\n",
    "    plt.figure(figsize=(10, 8))\n",
    "    sns.heatmap(correlation_df, annot=True, cmap=\"coolwarm\", fmt=\".2f\", linewidths=.5)\n",
    "    plt.title('Correlation Matrix Heatmap')\n",
    "    plt.show()\n",
    "\n",
    "except Exception as e:\n",
    "    print(f\"Error: {str(e)}\")\n",
    "    # Print more detailed information about the error for troubleshooting\n",
    "    raise e\n"
   ]
  },
  {
   "cell_type": "code",
   "execution_count": 21,
   "id": "dd1fe418-29c6-422b-8c65-fdab91cfaf0c",
   "metadata": {},
   "outputs": [],
   "source": [
    "# Divide Columns Into Important Features\n",
    "\n",
    "# flight_info = ['FlightDate', 'Airline', 'Origin', 'Dest']\n",
    "# flight_charac = ['CRSDepTime', 'DepTime', 'DepDelayMinutes', 'DepDelay', 'ArrTime', 'ArrDelayMinutes', 'AirTime', 'CRSElapsedTime', 'ActualElapsedTime', 'Distance', 'DistanceGroup']\n",
    "# airline = ['Marketing_Airline_Network', 'DOT_ID_Marketing_Airline', 'IATA_Code_Marketing_Airline', 'Flight_Number_Marketing_Airline']\n",
    "# aircraft_info = ['DivAirportLandings', 'Tail_Number']\n",
    "# Dep_Arr = ['OriginAirportID', 'DestAirportID', 'OriginCityName', 'DestCityName']\n",
    "# Delay = ['DepDel15', 'ArrDel15', 'DepartureDelayGroups', 'ArrivalDelayGroups']\n",
    "# Taxi = ['TaxiOut', 'WheelsOff', 'WheelsOn', 'TaxiIn']\n",
    "# depTimes = ['CRSArrTime', 'ArrTimeBlk', 'DepTimeBlk']\n"
   ]
  },
  {
   "cell_type": "code",
   "execution_count": 22,
   "id": "b1c8dfb2-7ba2-4f46-8230-0a3441e595b3",
   "metadata": {},
   "outputs": [],
   "source": [
    "# selected_columns = flight_info + flight_charac + airline + aircraft_info + Dep_Arr + Delay + Taxi + depTimes\n",
    "# selected_columns = list(set(selected_columns))"
   ]
  },
  {
   "cell_type": "code",
   "execution_count": 23,
   "id": "7c88a096-c2c4-4dac-a766-aef4a5f19f2e",
   "metadata": {},
   "outputs": [],
   "source": [
    "#tail_number_indexer = StringIndexer(inputCol='Tail_Number', outputCol='Tail_Number_Index')\n",
    "#df_18 = tail_number_indexer.fit(df_18).transform(df_18)\n",
    "# df_18 = df_18.drop('Tail_Number')\n",
    "#df_18.head()"
   ]
  },
  {
   "cell_type": "code",
   "execution_count": 72,
   "id": "2bc13f96-b8f4-45c4-9042-a7f2afdc7efe",
   "metadata": {},
   "outputs": [],
   "source": [
    "# Make sure the are all categorical values to build correlation Matrix\n",
    "# categorical_columns = ['CRSDepTime', 'DepTime', 'DepDelayMinutes', 'DepDelay', 'ArrTime', 'ArrDelayMinutes', 'AirTime', 'CRSElapsedTime', 'ActualElapsedTime', 'Distance', 'DistanceGroup',\n",
    "#                       'Flight_Number_Marketing_Airline', 'Tail_Number_Index', 'DivAirportLandings', 'OriginAirportID', 'DestAirportID', 'DepDel15', 'ArrDel15', 'DepartureDelayGroups', 'ArrivalDelayGroups',\n",
    "#                       'TaxiOut', 'WheelsOff', 'WheelsOn', 'TaxiIn','CRSArrTime']"
   ]
  },
  {
   "cell_type": "code",
   "execution_count": 85,
   "id": "a3c651fe-7a82-45d0-bb20-2c73894d66a3",
   "metadata": {},
   "outputs": [
    {
     "name": "stderr",
     "output_type": "stream",
     "text": [
      "                                                                                \r"
     ]
    }
   ],
   "source": [
    "selected_columns = ['Tail_Number', 'DepDelayMinutes', 'ArrDelayMinutes', 'AirTime', 'Distance', 'DepDel15', 'TaxiOut', 'TaxiIn', 'CRSArrTime', 'Cancelled', 'CumulativeFlightHours',\n",
    " 'MaintenanceNeeded']\n",
    "df = df_18.select(selected_columns)\n",
    "df = df.na.drop()\n",
    "df = df.withColumn('DepDel15', df['DepDel15'].cast('int'))\n",
    "df = df.withColumn('LateArrival', (df['ArrDelayMinutes'] > 15).cast('int'))\n",
    "df = df.drop('FlightDate')\n",
    "df = df.withColumn('Tail_Number', F.when(df['Tail_Number'].isNull(), 'Unknown').otherwise(df['Tail_Number']))\n",
    "string_indexer = StringIndexer(inputCol='Tail_Number', outputCol='Tail_Number_Index')\n",
    "df = string_indexer.fit(df).transform(df)\n"
   ]
  },
  {
   "cell_type": "code",
   "execution_count": 76,
   "id": "ea39c333-1d63-4c66-906b-1e8d97deec25",
   "metadata": {},
   "outputs": [
    {
     "data": {
      "text/plain": [
       "['Tail_Number',\n",
       " 'DepDelayMinutes',\n",
       " 'ArrDelayMinutes',\n",
       " 'AirTime',\n",
       " 'Distance',\n",
       " 'DepDel15',\n",
       " 'TaxiOut',\n",
       " 'TaxiIn',\n",
       " 'CRSArrTime',\n",
       " 'Cancelled',\n",
       " 'CumulativeFlightHours',\n",
       " 'MaintenanceNeeded',\n",
       " 'LateArrival',\n",
       " 'Tail_Number_Index']"
      ]
     },
     "execution_count": 76,
     "metadata": {},
     "output_type": "execute_result"
    }
   ],
   "source": [
    "df.columns"
   ]
  },
  {
   "cell_type": "code",
   "execution_count": 77,
   "id": "bf195cf9-458c-4025-84f2-b38c8046d7de",
   "metadata": {},
   "outputs": [],
   "source": [
    "df = df.drop('Tail_Number')"
   ]
  },
  {
   "cell_type": "code",
   "execution_count": 78,
   "id": "47e77bcb-2b01-47d9-83e7-b4d33cf54bb6",
   "metadata": {},
   "outputs": [],
   "source": [
    "df = df.withColumn('TotalTaxiTime', df['TaxiOut'] + df['TaxiIn'])\n",
    "df = df.withColumn('ScheduledArrivalDelay', df['CRSArrTime'] - (df['DepDelayMinutes'] + df['AirTime']))\n",
    "df = df.withColumn('DistancePerMinute', df['Distance'] / (df['AirTime'] + 1))  # Adding 1 to avoid division by zero\n"
   ]
  },
  {
   "cell_type": "code",
   "execution_count": 79,
   "id": "d8ec81e7-5ff5-4c28-ab6a-c199e36f0c9d",
   "metadata": {},
   "outputs": [
    {
     "data": {
      "text/plain": [
       "['DepDelayMinutes',\n",
       " 'ArrDelayMinutes',\n",
       " 'AirTime',\n",
       " 'Distance',\n",
       " 'DepDel15',\n",
       " 'TaxiOut',\n",
       " 'TaxiIn',\n",
       " 'CRSArrTime',\n",
       " 'Cancelled',\n",
       " 'CumulativeFlightHours',\n",
       " 'MaintenanceNeeded',\n",
       " 'LateArrival',\n",
       " 'Tail_Number_Index',\n",
       " 'TotalTaxiTime',\n",
       " 'ScheduledArrivalDelay',\n",
       " 'DistancePerMinute']"
      ]
     },
     "execution_count": 79,
     "metadata": {},
     "output_type": "execute_result"
    }
   ],
   "source": [
    "df.columns"
   ]
  },
  {
   "cell_type": "code",
   "execution_count": 81,
   "id": "621b1eb0-6441-47eb-a16b-8f39335c9085",
   "metadata": {},
   "outputs": [
    {
     "name": "stderr",
     "output_type": "stream",
     "text": [
      "                                                                                \r"
     ]
    },
    {
     "name": "stdout",
     "output_type": "stream",
     "text": [
      "root\n",
      " |-- features: vector (nullable = true)\n",
      " |-- MaintenanceNeeded: integer (nullable = false)\n",
      "\n"
     ]
    },
    {
     "name": "stderr",
     "output_type": "stream",
     "text": [
      "[Stage 258:==============================================>        (27 + 5) / 32]\r"
     ]
    },
    {
     "name": "stdout",
     "output_type": "stream",
     "text": [
      "+--------------------+-----------------+\n",
      "|            features|MaintenanceNeeded|\n",
      "+--------------------+-----------------+\n",
      "|[1.0,0.0,0.0,0.04...|                0|\n",
      "|[0.0,0.0259047619...|                0|\n",
      "|[0.0,0.0163809523...|                0|\n",
      "|[0.0,0.0232380952...|                0|\n",
      "|[0.0,0.0262857142...|                0|\n",
      "+--------------------+-----------------+\n",
      "only showing top 5 rows\n",
      "\n"
     ]
    },
    {
     "name": "stderr",
     "output_type": "stream",
     "text": [
      "                                                                                \r"
     ]
    }
   ],
   "source": [
    "from pyspark.ml.feature import MinMaxScaler, OneHotEncoder\n",
    "from pyspark.ml import Pipeline\n",
    "from pyspark.ml.feature import VectorAssembler\n",
    "\n",
    "\n",
    "numerical_columns = ['DepDelayMinutes', 'ArrDelayMinutes', 'TotalTaxiTime', 'ScheduledArrivalDelay', 'DistancePerMinute', 'Tail_Number_Index', 'CumulativeFlightHours']\n",
    "categorical_columns = ['DepDel15', 'Cancelled']\n",
    "assembler_numerical = VectorAssembler(inputCols=numerical_columns, outputCol='numerical_features')\n",
    "scaler = MinMaxScaler(inputCol='numerical_features', outputCol='scaled_numerical_features')\n",
    "encoders = [OneHotEncoder(inputCol=col, outputCol=f'{col}_encoded') for col in categorical_columns]\n",
    "assembler_all = VectorAssembler(\n",
    "    inputCols=[f'{col}_encoded' for col in categorical_columns] + ['scaled_numerical_features', 'MaintenanceNeeded'],\n",
    "    outputCol='features'\n",
    ")\n",
    "pipeline = Pipeline(stages=[assembler_numerical, scaler] + encoders + [assembler_all])\n",
    "df = df.withColumn('Cancelled', col('Cancelled').cast('int'))\n",
    "transformed_df = pipeline.fit(df).transform(df)\n",
    "transformed_df = transformed_df.select(['features', 'MaintenanceNeeded'])\n",
    "transformed_df.printSchema()\n",
    "transformed_df.show(5)\n"
   ]
  },
  {
   "cell_type": "code",
   "execution_count": null,
   "id": "2c6d3010-5fa6-4f71-a44c-fa9fdbbea515",
   "metadata": {},
   "outputs": [],
   "source": []
  },
  {
   "cell_type": "markdown",
   "id": "e72154af-c9c7-47bf-9ef9-0d322ea2e261",
   "metadata": {},
   "source": [
    "## Machine Learning"
   ]
  },
  {
   "cell_type": "markdown",
   "id": "7adfc77a-7dd1-4c34-92b4-264bc710f2b7",
   "metadata": {},
   "source": [
    "Regression"
   ]
  },
  {
   "cell_type": "code",
   "execution_count": 82,
   "id": "49dc4bc7-c96c-48ca-ba94-b2b40bfab816",
   "metadata": {},
   "outputs": [
    {
     "name": "stderr",
     "output_type": "stream",
     "text": [
      "23/11/28 15:57:00 WARN com.github.fommil.netlib.BLAS: Failed to load implementation from: com.github.fommil.netlib.NativeSystemBLAS\n",
      "23/11/28 15:57:00 WARN com.github.fommil.netlib.BLAS: Failed to load implementation from: com.github.fommil.netlib.NativeRefBLAS\n",
      "23/11/28 15:57:00 WARN com.github.fommil.netlib.LAPACK: Failed to load implementation from: com.github.fommil.netlib.NativeSystemLAPACK\n",
      "23/11/28 15:57:00 WARN com.github.fommil.netlib.LAPACK: Failed to load implementation from: com.github.fommil.netlib.NativeRefLAPACK\n",
      "[Stage 515:=====================================================> (34 + 1) / 35]\r"
     ]
    },
    {
     "name": "stdout",
     "output_type": "stream",
     "text": [
      "Root Mean Squared Error (RMSE): 0.009856706281103878\n"
     ]
    },
    {
     "name": "stderr",
     "output_type": "stream",
     "text": [
      "                                                                                \r"
     ]
    }
   ],
   "source": [
    "from pyspark.ml.regression import LinearRegression\n",
    "from pyspark.ml.evaluation import RegressionEvaluator\n",
    "from pyspark.ml.tuning import ParamGridBuilder, CrossValidator\n",
    "from pyspark.ml import Pipeline\n",
    "from pyspark.sql.functions import col\n",
    "\n",
    "# Assuming 'features' and 'MaintenanceNeeded' columns are present in the DataFrame\n",
    "# 'features' column should contain the feature vector, and 'MaintenanceNeeded' is the target variable\n",
    "\n",
    "# Split the data into training and testing sets\n",
    "train_data, test_data = transformed_df.randomSplit([0.8, 0.2], seed=42)\n",
    "\n",
    "# Initialize the Linear Regression model\n",
    "lr = LinearRegression(labelCol='MaintenanceNeeded', featuresCol='features', maxIter=10)\n",
    "\n",
    "# Define the parameter grid for hyperparameter tuning\n",
    "param_grid = ParamGridBuilder() \\\n",
    "    .addGrid(lr.regParam, [0.01, 0.1, 0.5]) \\\n",
    "    .addGrid(lr.elasticNetParam, [0.0, 0.5, 1.0]) \\\n",
    "    .build()\n",
    "\n",
    "# Set up cross-validation\n",
    "crossval = CrossValidator(estimator=lr,\n",
    "                          estimatorParamMaps=param_grid,\n",
    "                          evaluator=RegressionEvaluator(labelCol='MaintenanceNeeded'),\n",
    "                          numFolds=3)\n",
    "\n",
    "# Create a pipeline for the model\n",
    "pipeline = Pipeline(stages=[crossval])\n",
    "\n",
    "# Train the model\n",
    "model = pipeline.fit(train_data)\n",
    "\n",
    "# Make predictions on the test set\n",
    "predictions = model.transform(test_data)\n",
    "\n",
    "# Evaluate the model\n",
    "evaluator = RegressionEvaluator(labelCol='MaintenanceNeeded', metricName='rmse')\n",
    "rmse = evaluator.evaluate(predictions)\n",
    "\n",
    "print(f\"Root Mean Squared Error (RMSE): {rmse}\")\n"
   ]
  },
  {
   "cell_type": "code",
   "execution_count": 83,
   "id": "b4bb5c48-406c-48ac-86fb-9e6da231a742",
   "metadata": {},
   "outputs": [
    {
     "name": "stderr",
     "output_type": "stream",
     "text": [
      "                                                                                \r"
     ]
    },
    {
     "name": "stdout",
     "output_type": "stream",
     "text": [
      "+-----------------+--------------------+\n",
      "|MaintenanceNeeded|          prediction|\n",
      "+-----------------+--------------------+\n",
      "|                1|  0.9691418004775139|\n",
      "|                0|0.003131381275986...|\n",
      "|                0|0.003131381275986...|\n",
      "|                0|0.003131381275986...|\n",
      "|                0|0.003131381275986...|\n",
      "|                1|  0.9691418004775139|\n",
      "|                0|0.003131381275986...|\n",
      "|                0|0.003131381275986...|\n",
      "|                0|0.003131381275986...|\n",
      "|                0|0.003131381275986...|\n",
      "+-----------------+--------------------+\n",
      "only showing top 10 rows\n",
      "\n"
     ]
    },
    {
     "name": "stderr",
     "output_type": "stream",
     "text": [
      "[Stage 522:>                                                        (0 + 1) / 1]\r"
     ]
    },
    {
     "name": "stdout",
     "output_type": "stream",
     "text": [
      "+-----------------+--------------------+--------------------+\n",
      "|MaintenanceNeeded|          prediction|     PredictionError|\n",
      "+-----------------+--------------------+--------------------+\n",
      "|                1|  0.9691418004775139|-0.03085819952248614|\n",
      "|                0|0.003131381275986...|0.003131381275986...|\n",
      "|                0|0.003131381275986...|0.003131381275986...|\n",
      "|                0|0.003131381275986...|0.003131381275986...|\n",
      "|                0|0.003131381275986...|0.003131381275986...|\n",
      "|                1|  0.9691418004775139|-0.03085819952248614|\n",
      "|                0|0.003131381275986...|0.003131381275986...|\n",
      "|                0|0.003131381275986...|0.003131381275986...|\n",
      "|                0|0.003131381275986...|0.003131381275986...|\n",
      "|                0|0.003131381275986...|0.003131381275986...|\n",
      "+-----------------+--------------------+--------------------+\n",
      "only showing top 10 rows\n",
      "\n"
     ]
    },
    {
     "name": "stderr",
     "output_type": "stream",
     "text": [
      "                                                                                \r"
     ]
    }
   ],
   "source": [
    "# Extract the actual and predicted values\n",
    "predictions.select('MaintenanceNeeded', 'prediction').show(10)\n",
    "\n",
    "# You can also calculate the difference between predicted and actual values\n",
    "predictions.withColumn('PredictionError', col('prediction') - col('MaintenanceNeeded')).select('MaintenanceNeeded', 'prediction', 'PredictionError').show(10)\n"
   ]
  },
  {
   "cell_type": "code",
   "execution_count": null,
   "id": "ee406e97-dd33-4ab8-a4f4-d4f18636f54e",
   "metadata": {},
   "outputs": [],
   "source": []
  },
  {
   "cell_type": "markdown",
   "id": "4318d2dc-4b7f-45f6-91b9-45594d9cfeac",
   "metadata": {},
   "source": [
    "Classification"
   ]
  },
  {
   "cell_type": "code",
   "execution_count": 84,
   "id": "5f442b7e-644e-4e8f-9f87-08debfd8f997",
   "metadata": {},
   "outputs": [
    {
     "name": "stderr",
     "output_type": "stream",
     "text": [
      "[Stage 2254:==================================================>   (33 + 2) / 35]\r"
     ]
    },
    {
     "name": "stdout",
     "output_type": "stream",
     "text": [
      "Area Under ROC Curve: 1.0\n"
     ]
    },
    {
     "name": "stderr",
     "output_type": "stream",
     "text": [
      "                                                                                \r"
     ]
    }
   ],
   "source": [
    "from pyspark.ml.classification import LogisticRegression\n",
    "from pyspark.ml.evaluation import BinaryClassificationEvaluator\n",
    "from pyspark.ml.tuning import ParamGridBuilder, CrossValidator\n",
    "from pyspark.ml import Pipeline\n",
    "from pyspark.sql.functions import col\n",
    "\n",
    "# Assuming 'features' and 'MaintenanceNeeded' columns are present in the DataFrame\n",
    "# 'features' column should contain the feature vector, and 'MaintenanceNeeded' is the target variable\n",
    "\n",
    "# Split the data into training and testing sets\n",
    "train_data, test_data = transformed_df.randomSplit([0.8, 0.2], seed=42)\n",
    "\n",
    "# Initialize the Logistic Regression model\n",
    "lr = LogisticRegression(labelCol='MaintenanceNeeded', featuresCol='features', maxIter=10)\n",
    "\n",
    "# Define the parameter grid for hyperparameter tuning\n",
    "param_grid = ParamGridBuilder() \\\n",
    "    .addGrid(lr.regParam, [0.01, 0.1, 0.5]) \\\n",
    "    .addGrid(lr.elasticNetParam, [0.0, 0.5, 1.0]) \\\n",
    "    .build()\n",
    "\n",
    "# Set up cross-validation\n",
    "crossval = CrossValidator(estimator=lr,\n",
    "                          estimatorParamMaps=param_grid,\n",
    "                          evaluator=BinaryClassificationEvaluator(labelCol='MaintenanceNeeded'),\n",
    "                          numFolds=3)\n",
    "\n",
    "# Create a pipeline for the model\n",
    "pipeline = Pipeline(stages=[crossval])\n",
    "\n",
    "# Train the model\n",
    "model = pipeline.fit(train_data)\n",
    "\n",
    "# Make predictions on the test set\n",
    "predictions = model.transform(test_data)\n",
    "\n",
    "# Evaluate the model\n",
    "evaluator = BinaryClassificationEvaluator(labelCol='MaintenanceNeeded')\n",
    "area_under_curve = evaluator.evaluate(predictions, {evaluator.metricName: 'areaUnderROC'})\n",
    "\n",
    "print(f\"Area Under ROC Curve: {area_under_curve}\")\n"
   ]
  },
  {
   "cell_type": "code",
   "execution_count": null,
   "id": "93e40eb6-664a-44bc-acc7-ca3250831cd1",
   "metadata": {},
   "outputs": [],
   "source": []
  }
 ],
 "metadata": {
  "kernelspec": {
   "display_name": "PySpark",
   "language": "python",
   "name": "pyspark"
  },
  "language_info": {
   "codemirror_mode": {
    "name": "ipython",
    "version": 3
   },
   "file_extension": ".py",
   "mimetype": "text/x-python",
   "name": "python",
   "nbconvert_exporter": "python",
   "pygments_lexer": "ipython3",
   "version": "3.8.15"
  }
 },
 "nbformat": 4,
 "nbformat_minor": 5
}
