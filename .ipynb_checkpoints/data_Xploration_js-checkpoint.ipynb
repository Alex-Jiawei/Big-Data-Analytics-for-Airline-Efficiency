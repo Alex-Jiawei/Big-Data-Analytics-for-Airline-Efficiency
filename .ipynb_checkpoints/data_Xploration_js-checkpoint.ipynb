{
 "cells": [
  {
   "cell_type": "markdown",
   "id": "e872e501-12ca-4903-8a24-8bd4ac3acf5a",
   "metadata": {},
   "source": [
    "# Flight Data Xploration\n",
    "Jean-Sebastien Gaultier"
   ]
  },
  {
   "cell_type": "code",
   "execution_count": 1,
   "id": "8867251a-df90-4b81-a4d6-d3bad254d373",
   "metadata": {},
   "outputs": [],
   "source": [
    "from pyspark.sql import SparkSession\n",
    "from pyspark.sql import functions as F"
   ]
  },
  {
   "cell_type": "markdown",
   "id": "8258cc69-6134-4abc-b9c7-6127e776532b",
   "metadata": {},
   "source": [
    "## Download the datasets"
   ]
  },
  {
   "cell_type": "code",
   "execution_count": 2,
   "id": "6871e877-9b58-4fa2-8e19-f1b1df3f44e0",
   "metadata": {},
   "outputs": [],
   "source": [
    "spark = SparkSession.builder.getOrCreate()"
   ]
  },
  {
   "cell_type": "code",
   "execution_count": null,
   "id": "206c5fa1-120a-4b8b-9c3b-06fd751a6f93",
   "metadata": {},
   "outputs": [
    {
     "name": "stderr",
     "output_type": "stream",
     "text": [
      "23/11/28 16:06:41 WARN org.apache.spark.scheduler.cluster.YarnScheduler: Initial job has not accepted any resources; check your cluster UI to ensure that workers are registered and have sufficient resources\n",
      "23/11/28 16:06:56 WARN org.apache.spark.scheduler.cluster.YarnScheduler: Initial job has not accepted any resources; check your cluster UI to ensure that workers are registered and have sufficient resources\n",
      "23/11/28 16:07:11 WARN org.apache.spark.scheduler.cluster.YarnScheduler: Initial job has not accepted any resources; check your cluster UI to ensure that workers are registered and have sufficient resources\n",
      "23/11/28 16:07:26 WARN org.apache.spark.scheduler.cluster.YarnScheduler: Initial job has not accepted any resources; check your cluster UI to ensure that workers are registered and have sufficient resources\n",
      "23/11/28 16:07:41 WARN org.apache.spark.scheduler.cluster.YarnScheduler: Initial job has not accepted any resources; check your cluster UI to ensure that workers are registered and have sufficient resources\n"
     ]
    }
   ],
   "source": [
    "datapath_18 = \"gs://msca-bdp-student-gcs/Group4_Final_Project/archive/Combined_Flights_2018.csv\"\n",
    "df_18 = spark.read.csv(datapath_18, header=True, inferSchema=True)"
   ]
  },
  {
   "cell_type": "code",
   "execution_count": null,
   "id": "7aabea60-3f47-446c-ba08-dd781b634353",
   "metadata": {},
   "outputs": [],
   "source": [
    "datapath_19 = \"gs://msca-bdp-student-gcs/Group4_Final_Project/archive/Combined_Flights_2019.csv\"\n",
    "df_19 = spark.read.csv(datapath_19, header=True, inferSchema=True)"
   ]
  },
  {
   "cell_type": "code",
   "execution_count": null,
   "id": "390beaee-bed6-4e80-a603-a3e3ca4aae98",
   "metadata": {},
   "outputs": [],
   "source": [
    "datapath_20 = \"gs://msca-bdp-student-gcs/Group4_Final_Project/archive/Combined_Flights_2020.csv\"\n",
    "df_20 = spark.read.csv(datapath_20, header=True, inferSchema=True)"
   ]
  },
  {
   "cell_type": "code",
   "execution_count": null,
   "id": "a1785a6a-e3d6-4737-ae70-0ea86c876109",
   "metadata": {},
   "outputs": [],
   "source": [
    "datapath_21 = \"gs://msca-bdp-student-gcs/Group4_Final_Project/archive/Combined_Flights_2021.csv\"\n",
    "df_21 = spark.read.csv(datapath_21, header=True, inferSchema=True)"
   ]
  },
  {
   "cell_type": "code",
   "execution_count": null,
   "id": "ca656d9f-44bf-44bb-98ca-b328b27b6638",
   "metadata": {},
   "outputs": [],
   "source": [
    "datapath_22 = \"gs://msca-bdp-student-gcs/Group4_Final_Project/archive/Combined_Flights_2022.csv\"\n",
    "df_22 = spark.read.csv(datapath_22, header=True, inferSchema=True)"
   ]
  },
  {
   "cell_type": "code",
   "execution_count": null,
   "id": "89b921c2-1c16-402f-8b75-efccf7cf96a8",
   "metadata": {},
   "outputs": [],
   "source": [
    "datapath_air = \"gs://msca-bdp-student-gcs/Group4_Final_Project/archive/Airlines.csv\"\n",
    "df_airlines = spark.read.csv(datapath_air, header=True, inferSchema=True)"
   ]
  },
  {
   "cell_type": "code",
   "execution_count": null,
   "id": "fcf65804-126c-40db-81db-bced78478a41",
   "metadata": {},
   "outputs": [],
   "source": [
    "df_all = df_18.union(df_19).union(df_20).union(df_21).union(df_22)"
   ]
  },
  {
   "cell_type": "code",
   "execution_count": null,
   "id": "a0bd4efe-3662-427b-9e12-e39f37cec94b",
   "metadata": {},
   "outputs": [],
   "source": [
    "df_18.columns"
   ]
  },
  {
   "cell_type": "markdown",
   "id": "07d43686-a8e5-4afa-90f0-5333e5a08656",
   "metadata": {},
   "source": [
    "## Visualizing"
   ]
  },
  {
   "cell_type": "code",
   "execution_count": null,
   "id": "e33a6514-bd5b-4d46-aa99-54647a7f6ab3",
   "metadata": {},
   "outputs": [],
   "source": [
    "top_cancelled_tailnumbers = df_all.filter(df_all.Cancelled == True) \\\n",
    "    .groupBy(\"Tail_Number\") \\\n",
    "    .agg(F.count(\"Tail_Number\").alias(\"CancellationCount\")) \\\n",
    "    .orderBy(F.desc(\"CancellationCount\")) \\\n",
    "    .limit(10)\n",
    "\n",
    "top_cancelled_tailnumbers.show()"
   ]
  },
  {
   "cell_type": "code",
   "execution_count": null,
   "id": "980f28a5-3019-47d0-ac22-9888262ee7cf",
   "metadata": {},
   "outputs": [],
   "source": [
    "top_avg_delay_tailnumbers = df_all.groupBy(\"Tail_Number\") \\\n",
    "    .agg(F.avg(\"DepDelay\").alias(\"AvgDepDelay\")) \\\n",
    "    .orderBy(F.desc(\"AvgDepDelay\")) \\\n",
    "    .limit(10)\n",
    "\n",
    "# Display the result or save it to a file or use it in plotting libraries\n",
    "top_avg_delay_tailnumbers.show()"
   ]
  },
  {
   "cell_type": "code",
   "execution_count": null,
   "id": "7b43b504-ff6b-4b02-b00c-6b7e630c0f14",
   "metadata": {},
   "outputs": [],
   "source": [
    "top_flown_tailnumbers = df_all.groupBy(\"Tail_Number\") \\\n",
    "    .agg(F.count(\"Tail_Number\").alias(\"FlightCount\")) \\\n",
    "    .orderBy(F.desc(\"FlightCount\")) \\\n",
    "    .limit(10)\n",
    "\n",
    "# Display the result or save it to a file or use it in plotting libraries\n",
    "top_flown_tailnumbers.show()"
   ]
  },
  {
   "cell_type": "code",
   "execution_count": null,
   "id": "e30dba5d-169a-4732-b2a3-d1e2873cebe1",
   "metadata": {},
   "outputs": [],
   "source": [
    "import matplotlib.pyplot as plt\n",
    "import pandas as pd\n",
    "\n",
    "# Convert Spark DataFrame to Pandas DataFrame\n",
    "top_cancelled_pd = top_cancelled_tailnumbers.toPandas()\n",
    "\n",
    "# Plot the data using matplotlib or other plotting libraries\n",
    "plt.figure(figsize = (10,8))\n",
    "plt.bar(top_cancelled_pd['Tail_Number'], top_cancelled_pd['CancellationCount'])\n",
    "plt.xlabel('TailNumber')\n",
    "plt.ylabel('CancellationCount')\n",
    "plt.title('Top 10 TailNumbers with the most cancellations')\n",
    "plt.show()"
   ]
  },
  {
   "cell_type": "code",
   "execution_count": null,
   "id": "f66f9d37-1160-4d78-9de5-cd1bbb5003fd",
   "metadata": {},
   "outputs": [],
   "source": [
    "\n",
    "# Convert Spark DataFrame to Pandas DataFrame\n",
    "top_avg_delay_tailnumbers_pd = top_avg_delay_tailnumbers.toPandas()\n",
    "\n",
    "# Plot the data using matplotlib or other plotting libraries\n",
    "plt.figure(figsize = (10,8))\n",
    "plt.bar(top_avg_delay_tailnumbers_pd['Tail_Number'], top_avg_delay_tailnumbers_pd['AvgDepDelay'])\n",
    "plt.xlabel('TailNumber')\n",
    "plt.ylabel('Delay Count')\n",
    "plt.title('Top 10 TailNumbers with the most delay')\n",
    "plt.show()"
   ]
  },
  {
   "cell_type": "code",
   "execution_count": null,
   "id": "06cf42dd-e757-48cb-bca8-46d78dff869a",
   "metadata": {},
   "outputs": [],
   "source": [
    "# Convert Spark DataFrame to Pandas DataFrame\n",
    "top_flown_tailnumbers_pd = top_flown_tailnumbers.toPandas()\n",
    "\n",
    "# Plot the data using matplotlib or other plotting libraries\n",
    "plt.figure(figsize = (10,8))\n",
    "plt.bar(top_flown_tailnumbers_pd['Tail_Number'], top_flown_tailnumbers_pd['FlightCount'])\n",
    "plt.xlabel('TailNumber')\n",
    "plt.ylabel('Flight Count')\n",
    "plt.title('Top 10 TailNumbers with the most flights')\n",
    "plt.show()"
   ]
  },
  {
   "cell_type": "code",
   "execution_count": null,
   "id": "91fa1531-aa31-47aa-9e3f-a3423f423e59",
   "metadata": {},
   "outputs": [],
   "source": [
    "indexer = StringIndexer(inputCol=\"Tail_Number\", outputCol=\"TailNumberIndex\")\n",
    "flights_indexed = indexer.fit(df_all).transform(df_all)\n",
    "\n",
    "flights_indexed = flights_indexed.withColumn(\"Cancelled\", flights_indexed[\"Cancelled\"].cast(\"integer\"))\n",
    "selected_columns = [\"DepDelay\", \"Cancelled\", \"ArrDelay\"]\n",
    "flights_selected = flights_indexed.select(selected_columns).na.drop()\n",
    "assembler = VectorAssembler(inputCols=selected_columns, outputCol=\"features\")\n",
    "flights_assembled = assembler.transform(flights_selected)\n",
    "\n",
    "# Calculate correlation matrix\n",
    "try:\n",
    "    correlation_matrix = Correlation.corr(flights_assembled, \"features\").head()\n",
    "\n",
    "    # Extract the correlation matrix as a NumPy array\n",
    "    correlation_array = correlation_matrix[0].toArray()\n",
    "\n",
    "    # Convert correlation matrix to Pandas DataFrame\n",
    "    correlation_df = pd.DataFrame(correlation_array, columns=selected_columns, index=selected_columns)\n",
    "\n",
    "    # Use seaborn to create a heatmap\n",
    "    plt.figure(figsize=(10, 8))\n",
    "    sns.heatmap(correlation_df, annot=True, cmap=\"coolwarm\", fmt=\".2f\", linewidths=.5)\n",
    "    plt.title('Correlation Matrix Heatmap')\n",
    "    plt.show()\n",
    "\n",
    "except Exception as e:\n",
    "    print(f\"Error: {str(e)}\")\n",
    "    # Print more detailed information about the error for troubleshooting\n",
    "    raise e\n"
   ]
  },
  {
   "cell_type": "code",
   "execution_count": null,
   "id": "199d786f-10f5-4dda-8b89-bf310ab36acb",
   "metadata": {},
   "outputs": [],
   "source": []
  }
 ],
 "metadata": {
  "kernelspec": {
   "display_name": "PySpark",
   "language": "python",
   "name": "pyspark"
  },
  "language_info": {
   "codemirror_mode": {
    "name": "ipython",
    "version": 3
   },
   "file_extension": ".py",
   "mimetype": "text/x-python",
   "name": "python",
   "nbconvert_exporter": "python",
   "pygments_lexer": "ipython3",
   "version": "3.8.15"
  }
 },
 "nbformat": 4,
 "nbformat_minor": 5
}
