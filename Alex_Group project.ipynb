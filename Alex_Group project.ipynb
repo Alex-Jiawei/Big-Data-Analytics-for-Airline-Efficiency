{
 "cells": [
  {
   "cell_type": "markdown",
   "id": "ae74e217-03ec-481a-9eb2-994712eea942",
   "metadata": {},
   "source": [
    "# Flight Delay Status Classification"
   ]
  },
  {
   "cell_type": "code",
   "execution_count": 1,
   "id": "fc6c3e70-8054-4b60-8cb9-5283ca1a79ad",
   "metadata": {},
   "outputs": [],
   "source": [
    "from pyspark.sql import SparkSession\n",
    "from pyspark.sql.types import StructType, StructField, StringType, DoubleType, IntegerType, NullType\n",
    "from pyspark.ml.feature import OneHotEncoder, StringIndexer, VectorAssembler\n",
    "from pyspark.ml.evaluation import BinaryClassificationEvaluator\n",
    "from pyspark.ml.feature import StandardScaler, Imputer\n",
    "from pyspark.sql import functions as F\n",
    "from pyspark.sql.window import Window\n",
    "from pyspark.sql import SQLContext\n",
    "import pyspark.ml.feature as ftr\n",
    "import pyspark.ml as ml\n",
    " \n",
    "from pyspark.ml.classification import DecisionTreeClassifier\n",
    "from pyspark.ml.classification import RandomForestClassifier\n",
    "from pyspark.ml.classification import GBTClassifier\n",
    "from pyspark.mllib.linalg.distributed import RowMatrix\n",
    "from pyspark.ml.tuning import ParamGridBuilder\n",
    "from pyspark.ml.tuning import CrossValidator\n",
    "from pyspark.ml.tuning import TrainValidationSplit\n",
    "from pyspark.ml import PipelineModel\n",
    "from pyspark.mllib.linalg import Vectors\n",
    "from pyspark.ml.feature import PCA\n",
    " \n",
    "import pandas as pd\n",
    "import numpy as np\n",
    "import seaborn as sns\n",
    "import matplotlib.pyplot as plt\n",
    "from pyspark.ml import Pipeline"
   ]
  },
  {
   "cell_type": "markdown",
   "id": "af5e1e44-a6fb-46e4-9e66-8d2100c6e699",
   "metadata": {},
   "source": [
    "#### Data"
   ]
  },
  {
   "cell_type": "raw",
   "id": "131f63a7-e6ba-4422-a12e-3e451b0fc67f",
   "metadata": {},
   "source": [
    "spark = SparkSession.builder.appName(\"Project_Data\")\\\n",
    "        .config(\"spark.sql.debug.maxToStringFields\", 100)\\\n",
    "        .getOrCreate()\n",
    "\n",
    "# Load Flight Data\n",
    "\n",
    "flight_file_paths = [\n",
    "    \"gs://msca-bdp-student-gcs/Group4_Final_Project/archive/Combined_Flights_2018.parquet\",\n",
    "    \"gs://msca-bdp-student-gcs/Group4_Final_Project/archive/Combined_Flights_2019.parquet\",\n",
    "    \"gs://msca-bdp-student-gcs/Group4_Final_Project/archive/Combined_Flights_2020.parquet\",\n",
    "    \"gs://msca-bdp-student-gcs/Group4_Final_Project/archive/Combined_Flights_2021.parquet\",\n",
    "    \"gs://msca-bdp-student-gcs/Group4_Final_Project/archive/Combined_Flights_2022.parquet\"]\n",
    "\n",
    "flight = spark.read.parquet(flight_file_paths[0])\n",
    "\n",
    "for flight_file_paths in flight_file_paths[1:]:\n",
    "    flight_df_temp = spark.read.parquet(flight_file_paths)\n",
    "    flight = flight.union(flight_df_temp)\n",
    "\n",
    "flight.write.parquet(\"gs://msca-bdp-student-gcs/Group4_Final_Project/archive/Combined_Flights_2018-2022.parquet\")\n",
    "\n",
    "# Load Weather Data\n",
    "\n",
    "weather_csv_path = 'gs://msca-bdp-student-gcs/Group4_Final_Project/archive/combined_weather_data.csv'\n",
    "\n",
    "weather = spark.read.csv(weather_csv_path, header=True, inferSchema=True)\n",
    "\n",
    "weather_parquet_path = 'gs://msca-bdp-student-gcs/Group4_Final_Project/archive/combined_weather_data'\n",
    "\n",
    "weather.write.parquet(weather_parquet_path)\n",
    "\n",
    "# Load Airport Data\n",
    "\n",
    "airport_csv_path = 'gs://msca-bdp-student-gcs/Group4_Final_Project/archive/Airports.csv'\n",
    "\n",
    "airport = spark.read.csv(airport_csv_path, header=True, inferSchema=True)\n",
    "\n",
    "airport_parquet_path = 'gs://msca-bdp-student-gcs/Group4_Final_Project/archive/Airports'\n",
    "\n",
    "weather.write.parquet(airport_parquet_path)\n",
    "\n",
    "# Load Airport Data\n",
    "\n",
    "airport_csv_path = 'gs://msca-bdp-student-gcs/Group4_Final_Project/archive/Airports.csv'\n",
    "\n",
    "airport = spark.read.csv(airport_csv_path, header=True, inferSchema=True)\n",
    "\n",
    "airport_parquet_path = 'gs://msca-bdp-student-gcs/Group4_Final_Project/archive/Airports'\n",
    "\n",
    "airport.write.parquet(airport_parquet_path)\n",
    "\n",
    "# Load Airline Data\n",
    "\n",
    "airline_csv_path = 'gs://msca-bdp-student-gcs/Group4_Final_Project/archive/Airlines.csv'\n",
    "\n",
    "airline = spark.read.csv(airline_csv_path, header=True, inferSchema=True)\n",
    "\n",
    "airline_parquet_path = 'gs://msca-bdp-student-gcs/Group4_Final_Project/archive/Airlines'\n",
    "\n",
    "airline.write.parquet(airline_parquet_path)"
   ]
  },
  {
   "cell_type": "markdown",
   "id": "6bba1be7-2a93-4c14-b3cf-7072102164cf",
   "metadata": {},
   "source": [
    "#### Load Data"
   ]
  },
  {
   "cell_type": "code",
   "execution_count": 33,
   "id": "65627613-c9b3-41c6-b00e-7c4a194abc7a",
   "metadata": {},
   "outputs": [],
   "source": [
    "spark = SparkSession.builder.appName(\"Load_Data\").getOrCreate()\n",
    "\n",
    "flight_path = 'gs://msca-bdp-student-gcs/Group4_Final_Project/archive/Combined_Flights_2018-2022.parquet'\n",
    "\n",
    "flight = spark.read.parquet(flight_path)\n",
    "\n",
    "weather_path = 'gs://msca-bdp-student-gcs/Group4_Final_Project/archive/combined_weather_data'\n",
    "\n",
    "weather = spark.read.parquet(weather_path)\n",
    "\n",
    "airport_path = 'gs://msca-bdp-student-gcs/Group4_Final_Project/archive/Airports'\n",
    "\n",
    "airport = spark.read.parquet(airport_path)"
   ]
  },
  {
   "cell_type": "markdown",
   "id": "fc6ae085-8387-4e02-8e42-e4268ae712c3",
   "metadata": {},
   "source": [
    "##### 1. Flight Data"
   ]
  },
  {
   "cell_type": "code",
   "execution_count": 34,
   "id": "eacddced-7032-46ed-a72e-d90a77039b06",
   "metadata": {},
   "outputs": [
    {
     "name": "stdout",
     "output_type": "stream",
     "text": [
      "root\n",
      " |-- FlightDate: timestamp (nullable = true)\n",
      " |-- Airline: string (nullable = true)\n",
      " |-- Origin: string (nullable = true)\n",
      " |-- Dest: string (nullable = true)\n",
      " |-- Cancelled: boolean (nullable = true)\n",
      " |-- Diverted: boolean (nullable = true)\n",
      " |-- CRSDepTime: long (nullable = true)\n",
      " |-- DepTime: double (nullable = true)\n",
      " |-- DepDelayMinutes: double (nullable = true)\n",
      " |-- DepDelay: double (nullable = true)\n",
      " |-- ArrTime: double (nullable = true)\n",
      " |-- ArrDelayMinutes: double (nullable = true)\n",
      " |-- AirTime: double (nullable = true)\n",
      " |-- CRSElapsedTime: double (nullable = true)\n",
      " |-- ActualElapsedTime: double (nullable = true)\n",
      " |-- Distance: double (nullable = true)\n",
      " |-- Year: long (nullable = true)\n",
      " |-- Quarter: long (nullable = true)\n",
      " |-- Month: long (nullable = true)\n",
      " |-- DayofMonth: long (nullable = true)\n",
      " |-- DayOfWeek: long (nullable = true)\n",
      " |-- Marketing_Airline_Network: string (nullable = true)\n",
      " |-- Operated_or_Branded_Code_Share_Partners: string (nullable = true)\n",
      " |-- DOT_ID_Marketing_Airline: long (nullable = true)\n",
      " |-- IATA_Code_Marketing_Airline: string (nullable = true)\n",
      " |-- Flight_Number_Marketing_Airline: long (nullable = true)\n",
      " |-- Operating_Airline: string (nullable = true)\n",
      " |-- DOT_ID_Operating_Airline: long (nullable = true)\n",
      " |-- IATA_Code_Operating_Airline: string (nullable = true)\n",
      " |-- Tail_Number: string (nullable = true)\n",
      " |-- Flight_Number_Operating_Airline: long (nullable = true)\n",
      " |-- OriginAirportID: long (nullable = true)\n",
      " |-- OriginAirportSeqID: long (nullable = true)\n",
      " |-- OriginCityMarketID: long (nullable = true)\n",
      " |-- OriginCityName: string (nullable = true)\n",
      " |-- OriginState: string (nullable = true)\n",
      " |-- OriginStateFips: long (nullable = true)\n",
      " |-- OriginStateName: string (nullable = true)\n",
      " |-- OriginWac: long (nullable = true)\n",
      " |-- DestAirportID: long (nullable = true)\n",
      " |-- DestAirportSeqID: long (nullable = true)\n",
      " |-- DestCityMarketID: long (nullable = true)\n",
      " |-- DestCityName: string (nullable = true)\n",
      " |-- DestState: string (nullable = true)\n",
      " |-- DestStateFips: long (nullable = true)\n",
      " |-- DestStateName: string (nullable = true)\n",
      " |-- DestWac: long (nullable = true)\n",
      " |-- DepDel15: double (nullable = true)\n",
      " |-- DepartureDelayGroups: double (nullable = true)\n",
      " |-- DepTimeBlk: string (nullable = true)\n",
      " |-- TaxiOut: double (nullable = true)\n",
      " |-- WheelsOff: double (nullable = true)\n",
      " |-- WheelsOn: double (nullable = true)\n",
      " |-- TaxiIn: double (nullable = true)\n",
      " |-- CRSArrTime: long (nullable = true)\n",
      " |-- ArrDelay: double (nullable = true)\n",
      " |-- ArrDel15: double (nullable = true)\n",
      " |-- ArrivalDelayGroups: double (nullable = true)\n",
      " |-- ArrTimeBlk: string (nullable = true)\n",
      " |-- DistanceGroup: long (nullable = true)\n",
      " |-- DivAirportLandings: double (nullable = true)\n",
      " |-- __index_level_0__: long (nullable = true)\n",
      "\n"
     ]
    }
   ],
   "source": [
    "flight.printSchema()"
   ]
  },
  {
   "cell_type": "code",
   "execution_count": 35,
   "id": "e32e6ba1-14e2-467f-993f-6447d168e09e",
   "metadata": {},
   "outputs": [
    {
     "name": "stderr",
     "output_type": "stream",
     "text": [
      "[Stage 11:===================================================>      (8 + 1) / 9]\r"
     ]
    },
    {
     "name": "stdout",
     "output_type": "stream",
     "text": [
      "Number of flight records loaded: 29,193,782\n"
     ]
    },
    {
     "name": "stderr",
     "output_type": "stream",
     "text": [
      "                                                                                \r"
     ]
    }
   ],
   "source": [
    "# Check the number of records loaded\n",
    "print('Number of flight records loaded: ' + f'{flight.count():,}')"
   ]
  },
  {
   "cell_type": "code",
   "execution_count": 36,
   "id": "4fd3cd30-1a41-425a-84bc-f8c96652389d",
   "metadata": {},
   "outputs": [
    {
     "name": "stderr",
     "output_type": "stream",
     "text": [
      "[Stage 14:===================================================>      (8 + 1) / 9]\r"
     ]
    },
    {
     "name": "stdout",
     "output_type": "stream",
     "text": [
      "+----+----------------+\n",
      "|Year|Count of Records|\n",
      "+----+----------------+\n",
      "|2018|         5689512|\n",
      "|2019|         8091684|\n",
      "|2020|         5022397|\n",
      "|2021|         6311871|\n",
      "|2022|         4078318|\n",
      "+----+----------------+\n",
      "\n"
     ]
    },
    {
     "name": "stderr",
     "output_type": "stream",
     "text": [
      "                                                                                \r"
     ]
    }
   ],
   "source": [
    "yearly_counts = flight.groupBy(\"Year\").agg(F.count(\"*\").alias(\"Count of Records\")).orderBy(\"Year\")\n",
    "\n",
    "yearly_counts.show()"
   ]
  },
  {
   "cell_type": "markdown",
   "id": "dbdd6e49-3773-40f7-a102-78e49124bbf5",
   "metadata": {},
   "source": [
    "##### 2. Weather Data"
   ]
  },
  {
   "cell_type": "code",
   "execution_count": 37,
   "id": "9482a849-16e5-481b-a14d-393e753da364",
   "metadata": {},
   "outputs": [
    {
     "name": "stderr",
     "output_type": "stream",
     "text": [
      "[Stage 17:>                                                         (0 + 1) / 1]\r"
     ]
    },
    {
     "name": "stdout",
     "output_type": "stream",
     "text": [
      "+-----------+----------+----------+-----------+---------+-----------------+----+---------------+----+---------------+------+--------------+-----+--------------+-----+----------------+----+---------------+-----+-----+----+--------------+----+--------------+-----+---------------+-----+------+\n",
      "|    STATION|      DATE|  LATITUDE|  LONGITUDE|ELEVATION|             NAME|TEMP|TEMP_ATTRIBUTES|DEWP|DEWP_ATTRIBUTES|   SLP|SLP_ATTRIBUTES|  STP|STP_ATTRIBUTES|VISIB|VISIB_ATTRIBUTES|WDSP|WDSP_ATTRIBUTES|MXSPD| GUST| MAX|MAX_ATTRIBUTES| MIN|MIN_ATTRIBUTES| PRCP|PRCP_ATTRIBUTES| SNDP|FRSHTT|\n",
      "+-----------+----------+----------+-----------+---------+-----------------+----+---------------+----+---------------+------+--------------+-----+--------------+-----+----------------+----+---------------+-----+-----+----+--------------+----+--------------+-----+---------------+-----+------+\n",
      "|71817099999|2021-12-28|      52.3|-55.8333333|     12.0|MARYS HARBOUR, CA|30.4|             24|27.4|             24|1006.0|            19|999.9|             0|  7.5|              24|13.9|             24| 20.0| 28.9|33.8|             *|28.4|             *|99.99|               |999.9| 11000|\n",
      "|71817099999|2021-12-29|      52.3|-55.8333333|     12.0|MARYS HARBOUR, CA|30.4|             24|28.6|             24|1009.8|            23|999.9|             0|  7.1|              24|11.0|             24| 15.0| 22.0|33.8|             *|28.4|             *|99.99|               |999.9| 11000|\n",
      "|71817099999|2021-12-30|      52.3|-55.8333333|     12.0|MARYS HARBOUR, CA|24.4|             24|21.7|             24|1016.4|            21|999.9|             0|  8.8|              24| 7.9|             24| 13.0| 20.0|30.2|             *|14.0|             *|99.99|               |999.9|  1000|\n",
      "|71817099999|2021-12-31|      52.3|-55.8333333|     12.0|MARYS HARBOUR, CA|14.0|             24|10.9|             24|1014.5|            23|999.9|             0|  8.3|              24| 3.7|             24|  6.0|999.9|26.6|             *| 5.0|             *|  0.0|              I|999.9|     0|\n",
      "|26509099999|2021-01-01|55.7333333| 21.0833333|     7.26|     KLAIPEDA, LH|28.0|              8|27.0|              8|1011.1|             8| 10.2|             8|  0.9|               8| 3.4|              8|  3.9| 13.6|29.8|             *|26.1|             *|  0.0|              E|999.9|101000|\n",
      "+-----------+----------+----------+-----------+---------+-----------------+----+---------------+----+---------------+------+--------------+-----+--------------+-----+----------------+----+---------------+-----+-----+----+--------------+----+--------------+-----+---------------+-----+------+\n",
      "only showing top 5 rows\n",
      "\n"
     ]
    },
    {
     "name": "stderr",
     "output_type": "stream",
     "text": [
      "                                                                                \r"
     ]
    }
   ],
   "source": [
    "weather.show(5)"
   ]
  },
  {
   "cell_type": "code",
   "execution_count": 38,
   "id": "da5e32ce-eb2d-40a9-bfaa-7713d5f43907",
   "metadata": {},
   "outputs": [
    {
     "name": "stdout",
     "output_type": "stream",
     "text": [
      "root\n",
      " |-- STATION: string (nullable = true)\n",
      " |-- DATE: string (nullable = true)\n",
      " |-- LATITUDE: double (nullable = true)\n",
      " |-- LONGITUDE: double (nullable = true)\n",
      " |-- ELEVATION: double (nullable = true)\n",
      " |-- NAME: string (nullable = true)\n",
      " |-- TEMP: double (nullable = true)\n",
      " |-- TEMP_ATTRIBUTES: integer (nullable = true)\n",
      " |-- DEWP: double (nullable = true)\n",
      " |-- DEWP_ATTRIBUTES: integer (nullable = true)\n",
      " |-- SLP: double (nullable = true)\n",
      " |-- SLP_ATTRIBUTES: integer (nullable = true)\n",
      " |-- STP: double (nullable = true)\n",
      " |-- STP_ATTRIBUTES: integer (nullable = true)\n",
      " |-- VISIB: double (nullable = true)\n",
      " |-- VISIB_ATTRIBUTES: integer (nullable = true)\n",
      " |-- WDSP: double (nullable = true)\n",
      " |-- WDSP_ATTRIBUTES: integer (nullable = true)\n",
      " |-- MXSPD: double (nullable = true)\n",
      " |-- GUST: double (nullable = true)\n",
      " |-- MAX: double (nullable = true)\n",
      " |-- MAX_ATTRIBUTES: string (nullable = true)\n",
      " |-- MIN: double (nullable = true)\n",
      " |-- MIN_ATTRIBUTES: string (nullable = true)\n",
      " |-- PRCP: double (nullable = true)\n",
      " |-- PRCP_ATTRIBUTES: string (nullable = true)\n",
      " |-- SNDP: double (nullable = true)\n",
      " |-- FRSHTT: integer (nullable = true)\n",
      "\n"
     ]
    }
   ],
   "source": [
    "weather.printSchema()"
   ]
  },
  {
   "cell_type": "code",
   "execution_count": 39,
   "id": "36df640f-8dd6-4785-b494-bc2e5f90f6da",
   "metadata": {},
   "outputs": [
    {
     "name": "stderr",
     "output_type": "stream",
     "text": [
      "[Stage 18:===========================================>              (3 + 1) / 4]\r"
     ]
    },
    {
     "name": "stdout",
     "output_type": "stream",
     "text": [
      "Number of weather records loaded: 20,437,888\n"
     ]
    },
    {
     "name": "stderr",
     "output_type": "stream",
     "text": [
      "                                                                                \r"
     ]
    }
   ],
   "source": [
    "# Check the number of records loaded\n",
    "print('Number of weather records loaded: ' + f'{weather.count():,}')"
   ]
  },
  {
   "cell_type": "markdown",
   "id": "3bda4538-4745-49a4-a526-ff41b73bfbfb",
   "metadata": {},
   "source": [
    "##### 3. Airport Data"
   ]
  },
  {
   "cell_type": "code",
   "execution_count": 45,
   "id": "fe04eead-da05-479e-b7e0-159d82efdbfe",
   "metadata": {},
   "outputs": [
    {
     "name": "stdout",
     "output_type": "stream",
     "text": [
      "+--------------+----------+-------+--------------------+------------------------------+-------------------+-----------+--------------------+------------------------+------------------+------------------+------------------+------------------+--------------+-----------------------------+-----------------------+---------------+-----------+--------------+-----------+-----------+-----------+-----------+--------------+-----------+-----------+-------------+------------------------+------------------+-----------------+-----------------+-----------------+----+\n",
      "|AIRPORT_SEQ_ID|AIRPORT_ID|AIRPORT|DISPLAY_AIRPORT_NAME|DISPLAY_AIRPORT_CITY_NAME_FULL|AIRPORT_WAC_SEQ_ID2|AIRPORT_WAC|AIRPORT_COUNTRY_NAME|AIRPORT_COUNTRY_CODE_ISO|AIRPORT_STATE_NAME|AIRPORT_STATE_CODE|AIRPORT_STATE_FIPS|CITY_MARKET_SEQ_ID|CITY_MARKET_ID|DISPLAY_CITY_MARKET_NAME_FULL|CITY_MARKET_WAC_SEQ_ID2|CITY_MARKET_WAC|LAT_DEGREES|LAT_HEMISPHERE|LAT_MINUTES|LAT_SECONDS|   LATITUDE|LON_DEGREES|LON_HEMISPHERE|LON_MINUTES|LON_SECONDS|    LONGITUDE|UTC_LOCAL_TIME_VARIATION|AIRPORT_START_DATE|AIRPORT_THRU_DATE|AIRPORT_IS_CLOSED|AIRPORT_IS_LATEST|_c32|\n",
      "+--------------+----------+-------+--------------------+------------------------------+-------------------+-----------+--------------------+------------------------+------------------+------------------+------------------+------------------+--------------+-----------------------------+-----------------------+---------------+-----------+--------------+-----------+-----------+-----------+-----------+--------------+-----------+-----------+-------------+------------------------+------------------+-----------------+-----------------+-----------------+----+\n",
      "|       1000101|     10001|    01A|Afognak Lake Airport|              Afognak Lake, AK|                101|          1|       United States|                      US|            Alaska|                AK|                 2|           3000101|         30001|             Afognak Lake, AK|                    101|              1|         58|             N|          6|         34|58.10944444|        152|             W|         54|         24|-152.90666667|                    null|        2007-07-01|             null|                0|                1|null|\n",
      "|       1000301|     10003|    03A|Bear Creek Mining...|          Granite Mountain, AK|                101|          1|       United States|                      US|            Alaska|                AK|                 2|           3000301|         30003|         Granite Mountain, AK|                    101|              1|         65|             N|         32|         53|65.54805556|        161|             W|          4|         18|-161.07166667|                    null|        2007-07-01|             null|                0|                1|null|\n",
      "|       1000401|     10004|    04A|     Lik Mining Camp|                       Lik, AK|                101|          1|       United States|                      US|            Alaska|                AK|                 2|           3000401|         30004|                      Lik, AK|                    101|              1|         68|             N|          5|          0|68.08333333|        163|             W|         10|          0|-163.16666667|                    null|        2007-07-01|             null|                0|                1|null|\n",
      "|       1000501|     10005|    05A|Little Squaw Airport|              Little Squaw, AK|                101|          1|       United States|                      US|            Alaska|                AK|                 2|           3000501|         30005|             Little Squaw, AK|                    101|              1|         67|             N|         34|         12|      67.57|        148|             W|         11|          2|-148.18388889|                    null|        2007-08-01|             null|                0|                1|null|\n",
      "|       1000601|     10006|    06A|        Kizhuyak Bay|                  Kizhuyak, AK|                101|          1|       United States|                      US|            Alaska|                AK|                 2|           3000601|         30006|                 Kizhuyak, AK|                    101|              1|         57|             N|         44|         43|57.74527778|        152|             W|         52|         58|-152.88277778|                    null|        2007-10-01|             null|                0|                1|null|\n",
      "+--------------+----------+-------+--------------------+------------------------------+-------------------+-----------+--------------------+------------------------+------------------+------------------+------------------+------------------+--------------+-----------------------------+-----------------------+---------------+-----------+--------------+-----------+-----------+-----------+-----------+--------------+-----------+-----------+-------------+------------------------+------------------+-----------------+-----------------+-----------------+----+\n",
      "only showing top 5 rows\n",
      "\n"
     ]
    }
   ],
   "source": [
    "airport.show(5)"
   ]
  },
  {
   "cell_type": "code",
   "execution_count": 46,
   "id": "d4705061-299a-416c-9fda-e02a85c2db88",
   "metadata": {},
   "outputs": [
    {
     "name": "stdout",
     "output_type": "stream",
     "text": [
      "root\n",
      " |-- AIRPORT_SEQ_ID: integer (nullable = true)\n",
      " |-- AIRPORT_ID: integer (nullable = true)\n",
      " |-- AIRPORT: string (nullable = true)\n",
      " |-- DISPLAY_AIRPORT_NAME: string (nullable = true)\n",
      " |-- DISPLAY_AIRPORT_CITY_NAME_FULL: string (nullable = true)\n",
      " |-- AIRPORT_WAC_SEQ_ID2: integer (nullable = true)\n",
      " |-- AIRPORT_WAC: integer (nullable = true)\n",
      " |-- AIRPORT_COUNTRY_NAME: string (nullable = true)\n",
      " |-- AIRPORT_COUNTRY_CODE_ISO: string (nullable = true)\n",
      " |-- AIRPORT_STATE_NAME: string (nullable = true)\n",
      " |-- AIRPORT_STATE_CODE: string (nullable = true)\n",
      " |-- AIRPORT_STATE_FIPS: integer (nullable = true)\n",
      " |-- CITY_MARKET_SEQ_ID: integer (nullable = true)\n",
      " |-- CITY_MARKET_ID: integer (nullable = true)\n",
      " |-- DISPLAY_CITY_MARKET_NAME_FULL: string (nullable = true)\n",
      " |-- CITY_MARKET_WAC_SEQ_ID2: integer (nullable = true)\n",
      " |-- CITY_MARKET_WAC: integer (nullable = true)\n",
      " |-- LAT_DEGREES: integer (nullable = true)\n",
      " |-- LAT_HEMISPHERE: string (nullable = true)\n",
      " |-- LAT_MINUTES: integer (nullable = true)\n",
      " |-- LAT_SECONDS: integer (nullable = true)\n",
      " |-- LATITUDE: double (nullable = true)\n",
      " |-- LON_DEGREES: integer (nullable = true)\n",
      " |-- LON_HEMISPHERE: string (nullable = true)\n",
      " |-- LON_MINUTES: integer (nullable = true)\n",
      " |-- LON_SECONDS: integer (nullable = true)\n",
      " |-- LONGITUDE: double (nullable = true)\n",
      " |-- UTC_LOCAL_TIME_VARIATION: integer (nullable = true)\n",
      " |-- AIRPORT_START_DATE: string (nullable = true)\n",
      " |-- AIRPORT_THRU_DATE: string (nullable = true)\n",
      " |-- AIRPORT_IS_CLOSED: integer (nullable = true)\n",
      " |-- AIRPORT_IS_LATEST: integer (nullable = true)\n",
      " |-- _c32: string (nullable = true)\n",
      "\n"
     ]
    }
   ],
   "source": [
    "airport.printSchema()"
   ]
  },
  {
   "cell_type": "code",
   "execution_count": 47,
   "id": "5b29218e-33d2-42c0-9bed-7800bbf8275f",
   "metadata": {},
   "outputs": [
    {
     "name": "stdout",
     "output_type": "stream",
     "text": [
      "Number of airport records loaded: 13,386\n"
     ]
    }
   ],
   "source": [
    "# Check the number of records loaded\n",
    "print('Number of airport records loaded: ' + f'{airport.count():,}')"
   ]
  },
  {
   "cell_type": "markdown",
   "id": "fa2c7025-bb0e-4072-98dd-dfbf48b121b2",
   "metadata": {},
   "source": [
    "##### 4. Airlines Data"
   ]
  },
  {
   "cell_type": "code",
   "execution_count": 52,
   "id": "36bcf30a-8d2e-4fba-bbb3-c9e064f99546",
   "metadata": {},
   "outputs": [
    {
     "name": "stdout",
     "output_type": "stream",
     "text": [
      "+----+--------------------+\n",
      "|Code|         Description|\n",
      "+----+--------------------+\n",
      "| 02Q|       Titan Airways|\n",
      "| 04Q|  Tradewind Aviation|\n",
      "| 05Q| Comlux Aviation, AG|\n",
      "| 06Q|Master Top Linhas...|\n",
      "| 07Q| Flair Airlines Ltd.|\n",
      "| 09Q|      Swift Air, LLC|\n",
      "| 0BQ|                 DCA|\n",
      "| 0CQ|ACM AIR CHARTER GmbH|\n",
      "| 0GQ|Inter Island Airw...|\n",
      "| 0HQ|Polar Airlines de...|\n",
      "|  0J|          JetClub AG|\n",
      "| 0JQ|     Vision Airlines|\n",
      "| 0LQ|   Metropix UK, LLP.|\n",
      "| 0MQ|Multi-Aero, Inc. ...|\n",
      "| 0OQ|          Open Skies|\n",
      "|  0Q| Flying Service N.V.|\n",
      "| 0QQ|TAG Aviation (UK)...|\n",
      "| 0RQ|TAG Aviation Espa...|\n",
      "| 0TQ|  Corporatejets, XXI|\n",
      "| 0UQ|  Comlux Malta, Ltd.|\n",
      "+----+--------------------+\n",
      "only showing top 20 rows\n",
      "\n"
     ]
    }
   ],
   "source": [
    "airline.show()"
   ]
  },
  {
   "cell_type": "code",
   "execution_count": 53,
   "id": "c05fba43-e63e-42d3-9e22-dc47733538d1",
   "metadata": {},
   "outputs": [
    {
     "name": "stdout",
     "output_type": "stream",
     "text": [
      "Number of airline records loaded: 1,571\n"
     ]
    }
   ],
   "source": [
    "# Check the number of records loaded\n",
    "print('Number of airline records loaded: ' + f'{airline.count():,}')"
   ]
  },
  {
   "cell_type": "markdown",
   "id": "78d913e3-a8ab-48b5-9466-249820d88894",
   "metadata": {},
   "source": [
    "#### Data Transformation"
   ]
  },
  {
   "cell_type": "markdown",
   "id": "4e751609-7333-4164-9aab-2b5821b55250",
   "metadata": {},
   "source": [
    "##### 1. Airport Data"
   ]
  },
  {
   "cell_type": "code",
   "execution_count": 71,
   "id": "fdd5348a-37bc-4a78-ae4f-abf8a0b8fdeb",
   "metadata": {},
   "outputs": [],
   "source": [
    "# Filter US airport only \n",
    "def airport_transform(dataframe):\n",
    "  return (\n",
    "    dataframe\n",
    "    .filter(\"AIRPORT_COUNTRY_CODE_ISO = 'US'\")\n",
    "    .dropDuplicates(['AIRPORT'])\n",
    "    )"
   ]
  },
  {
   "cell_type": "code",
   "execution_count": 72,
   "id": "d0dee265-ebd4-479a-b293-51819d727ce0",
   "metadata": {},
   "outputs": [
    {
     "name": "stdout",
     "output_type": "stream",
     "text": [
      "+--------------+----------+-------+--------------------+------------------------------+-------------------+-----------+--------------------+------------------------+------------------+------------------+------------------+------------------+--------------+-----------------------------+-----------------------+---------------+-----------+--------------+-----------+-----------+-----------+-----------+--------------+-----------+-----------+-------------+------------------------+------------------+-----------------+-----------------+-----------------+----+\n",
      "|AIRPORT_SEQ_ID|AIRPORT_ID|AIRPORT|DISPLAY_AIRPORT_NAME|DISPLAY_AIRPORT_CITY_NAME_FULL|AIRPORT_WAC_SEQ_ID2|AIRPORT_WAC|AIRPORT_COUNTRY_NAME|AIRPORT_COUNTRY_CODE_ISO|AIRPORT_STATE_NAME|AIRPORT_STATE_CODE|AIRPORT_STATE_FIPS|CITY_MARKET_SEQ_ID|CITY_MARKET_ID|DISPLAY_CITY_MARKET_NAME_FULL|CITY_MARKET_WAC_SEQ_ID2|CITY_MARKET_WAC|LAT_DEGREES|LAT_HEMISPHERE|LAT_MINUTES|LAT_SECONDS|   LATITUDE|LON_DEGREES|LON_HEMISPHERE|LON_MINUTES|LON_SECONDS|    LONGITUDE|UTC_LOCAL_TIME_VARIATION|AIRPORT_START_DATE|AIRPORT_THRU_DATE|AIRPORT_IS_CLOSED|AIRPORT_IS_LATEST|_c32|\n",
      "+--------------+----------+-------+--------------------+------------------------------+-------------------+-----------+--------------------+------------------------+------------------+------------------+------------------+------------------+--------------+-----------------------------+-----------------------+---------------+-----------+--------------+-----------+-----------+-----------+-----------+--------------+-----------+-----------+-------------+------------------------+------------------+-----------------+-----------------+-----------------+----+\n",
      "|       1000301|     10003|    03A|Bear Creek Mining...|          Granite Mountain, AK|                101|          1|       United States|                      US|            Alaska|                AK|                 2|           3000301|         30003|         Granite Mountain, AK|                    101|              1|         65|             N|         32|         53|65.54805556|        161|             W|          4|         18|-161.07166667|                    null|        2007-07-01|             null|                0|                1|null|\n",
      "|       1001301|     10013|    8F3| Crosbyton Municipal|                 Crosbyton, TX|               7401|         74|       United States|                      US|             Texas|                TX|                48|           3001301|         30013|                Crosbyton, TX|                   7401|             74|         33|             N|         37|         26|33.62388889|        101|             W|         14|         27|-101.24083333|                    null|        2009-01-01|             null|                0|                1|null|\n",
      "|       1001401|     10014|    A01|          Blair Lake|          Fairbanks/Ft. Wai...|                101|          1|       United States|                      US|            Alaska|                AK|                 2|           3151701|         31517|                Fairbanks, AK|                    101|              1|         64|             N|         21|         51|64.36416667|        147|             W|         21|         41|-147.36138889|                    null|        2002-10-01|       2011-06-30|                0|                0|null|\n",
      "|       1002901|     10029|    A16|  Arley Lake Airport|                Arley Lake, AK|                101|          1|       United States|                      US|            Alaska|                AK|                 2|           3002901|         30029|               Arley Lake, AK|                    101|              1|         70|             N|         44|         49|70.74694444|        155|             W|         21|         39|-155.36083333|                    null|        2003-03-01|             null|                0|                1|null|\n",
      "|       1003001|     10030|    A17|   Port Vita Airport|                 Port Vita, AK|                101|          1|       United States|                      US|            Alaska|                AK|                 2|           3003001|         30030|                Port Vita, AK|                    101|              1|         58|             N|          3|         56|58.06555556|        153|             W|          4|         21|    -153.0725|                    null|        2002-09-01|             null|                0|                1|null|\n",
      "+--------------+----------+-------+--------------------+------------------------------+-------------------+-----------+--------------------+------------------------+------------------+------------------+------------------+------------------+--------------+-----------------------------+-----------------------+---------------+-----------+--------------+-----------+-----------+-----------+-----------+--------------+-----------+-----------+-------------+------------------------+------------------+-----------------+-----------------+-----------------+----+\n",
      "only showing top 5 rows\n",
      "\n"
     ]
    }
   ],
   "source": [
    "airport = airport_transform(airport)\n",
    "airport.show(5)"
   ]
  },
  {
   "cell_type": "code",
   "execution_count": 73,
   "id": "09f5503f-b418-4b7d-a41b-8e170524fd45",
   "metadata": {},
   "outputs": [],
   "source": [
    "# Keep airports that co-exist in the airline dataset\n",
    "flight.createOrReplaceTempView('flight')\n",
    "airport.createOrReplaceTempView('airport')\n",
    "\n",
    "filtered_airport = spark.sql(\n",
    "  \"\"\"\n",
    "  SELECT * \n",
    "  FROM airport \n",
    "  WHERE \n",
    "    AIRPORT IN (\n",
    "      SELECT DISTINCT ORIGIN FROM flight AS airline_subquery\n",
    "      UNION\n",
    "      SELECT DISTINCT DEST FROM flight AS airline_subquery\n",
    "    )\n",
    "  \"\"\"\n",
    ")"
   ]
  },
  {
   "cell_type": "raw",
   "id": "dce5771d-7df1-447d-9e7f-2a7aad5add38",
   "metadata": {},
   "source": [
    "output_path = \"gs://msca-bdp-student-gcs/Group4_Final_Project/archive/Flight Delay Status Classification/filtered_airport\"\n",
    "\n",
    "filtered_airport.write.parquet(output_path)"
   ]
  },
  {
   "cell_type": "code",
   "execution_count": 83,
   "id": "f6411524-a7cb-4703-9bc6-73d2e6ba4ea1",
   "metadata": {},
   "outputs": [
    {
     "name": "stdout",
     "output_type": "stream",
     "text": [
      "Number of airports that co-exist in the airline dataset: 387\n"
     ]
    }
   ],
   "source": [
    "airport = spark.read.option(\"header\", \"true\").parquet(\"gs://msca-bdp-student-gcs/Group4_Final_Project/archive/Flight Delay Status Classification/filtered_airport\")\n",
    "\n",
    "airport.createOrReplaceTempView('airport')\n",
    "\n",
    "print('Number of airports that co-exist in the airline dataset: ' + f'{airport.count():,}')"
   ]
  },
  {
   "cell_type": "markdown",
   "id": "bf093882-e511-4ae0-a1db-74f0fb2f7685",
   "metadata": {},
   "source": [
    "##### 2. Flight Data"
   ]
  },
  {
   "cell_type": "code",
   "execution_count": 94,
   "id": "cfc11d4b-caa7-425a-9251-3907b7bd198a",
   "metadata": {},
   "outputs": [],
   "source": [
    "def flight_transform(dataframe):\n",
    "    selected_col = [\"Year\", \"Quarter\", \"Month\", \"DayofMonth\", \"DayOfWeek\", \"FlightDate\",\n",
    "                    \"Operating_Airline\", \"Tail_Number\", \"Flight_Number_Operating_Airline\", \n",
    "                    \"Origin\", \"OriginCityName\", \"OriginState\", \"Dest\", \"DestCityName\", \n",
    "                    \"DestState\", \"CRSDepTime\", \"DepTime\", \"DepDelayMinutes\", \"DepTimeBlk\", \n",
    "                    \"CRSArrTime\", \"ArrTime\", \"ArrDelayMinutes\", \"ArrTimeBlk\", \"Distance\", \n",
    "                    \"DistanceGroup\", \"DepDel15\", \"ArrDel15\", \"OriginAirportID\", \n",
    "                    \"DestAirportID\", \"PR_ARR_DEL15\"]\n",
    "\n",
    "    # Creating a window partition to extract prior arrival delay\n",
    "    windowSpec = Window.partitionBy(\"Tail_Number\").orderBy(\"CRSDepTime\")\n",
    "\n",
    "    return (\n",
    "        dataframe\n",
    "        .filter(\"Cancelled != 1 AND Diverted != 1\")\n",
    "        .withColumn(\"FlightDate\", F.col(\"FlightDate\").cast(\"date\"))\n",
    "        .withColumn(\"Flight_Number_Operating_Airline\", F.col(\"Flight_Number_Operating_Airline\").cast(\"string\"))\n",
    "        .withColumn(\"DepTime\", F.col(\"DepTimeBlk\").substr(1, 2).cast(\"int\")) \n",
    "        .withColumn(\"ArrTime\", F.col(\"ArrTimeBlk\").substr(1, 2).cast(\"int\"))\n",
    "        .withColumn(\"DistanceGroup\", F.col(\"DistanceGroup\").cast(\"string\"))\n",
    "        .withColumn(\"DepDel15\", F.col(\"DepDel15\").cast(\"string\"))\n",
    "        .withColumn(\"ArrDel15\", F.col(\"ArrDel15\").cast(\"string\"))\n",
    "        .withColumn(\"Year\", F.col(\"Year\").cast(\"string\"))\n",
    "        .withColumn(\"Quarter\", F.col(\"Quarter\").cast(\"string\"))\n",
    "        .withColumn(\"Month\", F.col(\"Month\").cast(\"string\"))\n",
    "        .withColumn(\"DayofMonth\", F.col(\"DayofMonth\").cast(\"string\"))\n",
    "        .withColumn(\"DayofWeek\", F.col(\"DayofWeek\").cast(\"string\"))\n",
    "        .withColumn(\"PR_ARR_DEL15\", F.lag(F.col(\"ArrDel15\"), 1).over(windowSpec).cast(\"string\"))\n",
    "        .select(selected_col)\n",
    "    )"
   ]
  },
  {
   "cell_type": "code",
   "execution_count": 95,
   "id": "2e41abfe-cadc-4377-8a44-cdfb1df46a3e",
   "metadata": {},
   "outputs": [],
   "source": [
    "cleaned_flight = flight_transform(flight)"
   ]
  },
  {
   "cell_type": "code",
   "execution_count": 97,
   "id": "bd532315-9e4b-42bd-8050-c068365b66c4",
   "metadata": {},
   "outputs": [
    {
     "name": "stderr",
     "output_type": "stream",
     "text": [
      "[Stage 128:>                                                        (0 + 1) / 1]\r"
     ]
    },
    {
     "name": "stdout",
     "output_type": "stream",
     "text": [
      "+----+-------+-----+----------+---------+----------+-----------------+-----------+-------------------------------+------+----------------+-----------+----+--------------------+---------+----------+-------+---------------+----------+----------+-------+---------------+----------+--------+-------------+--------+--------+---------------+-------------+------------+\n",
      "|Year|Quarter|Month|DayofMonth|DayOfWeek|FlightDate|Operating_Airline|Tail_Number|Flight_Number_Operating_Airline|Origin|  OriginCityName|OriginState|Dest|        DestCityName|DestState|CRSDepTime|DepTime|DepDelayMinutes|DepTimeBlk|CRSArrTime|ArrTime|ArrDelayMinutes|ArrTimeBlk|Distance|DistanceGroup|DepDel15|ArrDel15|OriginAirportID|DestAirportID|PR_ARR_DEL15|\n",
      "+----+-------+-----+----------+---------+----------+-----------------+-----------+-------------------------------+------+----------------+-----------+----+--------------------+---------+----------+-------+---------------+----------+----------+-------+---------------+----------+--------+-------------+--------+--------+---------------+-------------+------------+\n",
      "|2019|      3|    8|         5|        1|2019-08-05|               G4|      282NV|                            541|   AZA|     Phoenix, AZ|         AZ| ICT|         Wichita, KS|       KS|       600|      6|           12.0| 0600-0659|      1006|     10|           13.0| 1000-1059|   855.0|            4|     0.0|     0.0|          10466|        12278|        null|\n",
      "|2019|      4|   12|        26|        4|2019-12-26|               G4|      282NV|                           1809|   IND|Indianapolis, IN|         IN| PGD|     Punta Gorda, FL|       FL|       600|      6|            0.0| 0600-0659|       820|      8|            0.0| 0800-0859|   916.0|            4|     0.0|     0.0|          12339|        14082|         0.0|\n",
      "|2020|      3|    9|        17|        4|2020-09-17|               G4|      282NV|                           1003|   BNA|   Nashville, TN|         TN| FAR|           Fargo, ND|       ND|       600|      6|            0.0| 0600-0659|       827|      8|            0.0| 0800-0859|   910.0|            4|     0.0|     0.0|          10693|        11637|         0.0|\n",
      "|2020|      3|    9|         3|        4|2020-09-03|               G4|      282NV|                           1626|   PGD| Punta Gorda, FL|         FL| FWA|      Fort Wayne, IN|       IN|       600|      6|            0.0| 0600-0659|       825|      8|            0.0| 0800-0859|   986.0|            4|     0.0|     0.0|          14082|        11823|         0.0|\n",
      "|2020|      3|    9|        20|        7|2020-09-20|               G4|      282NV|                           1003|   BNA|   Nashville, TN|         TN| FAR|           Fargo, ND|       ND|       600|      6|           13.0| 0600-0659|       827|      8|            3.0| 0800-0859|   910.0|            4|     0.0|     0.0|          10693|        11637|         0.0|\n",
      "|2020|      2|    6|         6|        6|2020-06-06|               G4|      282NV|                           1856|   IND|Indianapolis, IN|         IN| PIE|  St. Petersburg, FL|       FL|       600|      6|            0.0| 0600-0659|       809|      8|            0.0| 0800-0859|   840.0|            4|     0.0|     0.0|          12339|        14112|         0.0|\n",
      "|2020|      1|    3|         7|        6|2020-03-07|               G4|      282NV|                           1872|   IND|Indianapolis, IN|         IN| PIE|  St. Petersburg, FL|       FL|       600|      6|            0.0| 0600-0659|       808|      8|            7.0| 0800-0859|   840.0|            4|     0.0|     0.0|          12339|        14112|         0.0|\n",
      "|2020|      1|    3|        21|        6|2020-03-21|               G4|      282NV|                           1870|   IND|Indianapolis, IN|         IN| SFB|         Sanford, FL|       FL|       600|      6|            0.0| 0600-0659|       804|      8|            0.0| 0800-0859|   807.0|            4|     0.0|     0.0|          12339|        14761|         0.0|\n",
      "|2020|      4|   12|        19|        6|2020-12-19|               G4|      282NV|                           2102|   SFB|     Sanford, FL|         FL| LIT|     Little Rock, AR|       AR|       600|      6|            0.0| 0600-0659|       723|      7|            0.0| 0700-0759|   765.0|            4|     0.0|     0.0|          14761|        12992|         0.0|\n",
      "|2020|      4|   12|        10|        4|2020-12-10|               G4|      282NV|                           1857|   IND|Indianapolis, IN|         IN| SRQ|Sarasota/Bradento...|       FL|       600|      6|            0.0| 0600-0659|       819|      8|            0.0| 0800-0859|   876.0|            4|     0.0|     0.0|          12339|        14986|         0.0|\n",
      "+----+-------+-----+----------+---------+----------+-----------------+-----------+-------------------------------+------+----------------+-----------+----+--------------------+---------+----------+-------+---------------+----------+----------+-------+---------------+----------+--------+-------------+--------+--------+---------------+-------------+------------+\n",
      "only showing top 10 rows\n",
      "\n"
     ]
    },
    {
     "name": "stderr",
     "output_type": "stream",
     "text": [
      "                                                                                \r"
     ]
    }
   ],
   "source": [
    "cleaned_flight.show(10)"
   ]
  },
  {
   "cell_type": "raw",
   "id": "057a0947-2578-4c2e-b96d-3f0d0fbfd4c0",
   "metadata": {},
   "source": [
    "flight_output_path = \"gs://msca-bdp-student-gcs/Group4_Final_Project/archive/Flight Delay Status Classification/cleaned_flight\"\n",
    "cleaned_flight.write.parquet(flight_output_path)\n",
    "\n",
    "cleaned_flight = spark.read.option(\"header\", \"true\").parquet(\"gs://msca-bdp-student-gcs/Group4_Final_Project/archive/Flight Delay Status Classification/cleaned_flight\")\n",
    "cleaned_flight.createOrReplaceTempView('flight')"
   ]
  },
  {
   "cell_type": "code",
   "execution_count": 99,
   "id": "30eb49f3-484e-45ae-add8-bb213c55f750",
   "metadata": {},
   "outputs": [
    {
     "name": "stderr",
     "output_type": "stream",
     "text": [
      "[Stage 133:=============================>                        (13 + 11) / 24]\r"
     ]
    },
    {
     "name": "stdout",
     "output_type": "stream",
     "text": [
      "Total flight data number: 28,348,168\n"
     ]
    },
    {
     "name": "stderr",
     "output_type": "stream",
     "text": [
      "                                                                                \r"
     ]
    }
   ],
   "source": [
    "print('Total flight data number: ' + f'{cleaned_flight.count():,}')"
   ]
  },
  {
   "cell_type": "code",
   "execution_count": null,
   "id": "0a6c1ea3-d1a2-43e9-8435-c46d53c43bc0",
   "metadata": {},
   "outputs": [],
   "source": []
  },
  {
   "cell_type": "code",
   "execution_count": null,
   "id": "38d992d6-de19-4733-870f-dca5fe67e031",
   "metadata": {},
   "outputs": [],
   "source": []
  },
  {
   "cell_type": "code",
   "execution_count": null,
   "id": "e04a20cb-9da0-4f71-a0b5-1b75a563c9df",
   "metadata": {},
   "outputs": [],
   "source": []
  },
  {
   "cell_type": "code",
   "execution_count": null,
   "id": "30b16df7-f78e-4b4b-9653-b123a03919ed",
   "metadata": {},
   "outputs": [],
   "source": []
  },
  {
   "cell_type": "code",
   "execution_count": null,
   "id": "7ba13625-b440-4372-9edb-f67d17ea262e",
   "metadata": {},
   "outputs": [],
   "source": []
  },
  {
   "cell_type": "code",
   "execution_count": null,
   "id": "328e83c8-a013-476a-a9f2-19a921aa9d97",
   "metadata": {},
   "outputs": [],
   "source": []
  },
  {
   "cell_type": "code",
   "execution_count": null,
   "id": "db308bdc-c246-4a41-a366-6ea98ece86a6",
   "metadata": {},
   "outputs": [],
   "source": []
  },
  {
   "cell_type": "code",
   "execution_count": null,
   "id": "56e4dea2-e30f-483b-b3a9-62d5c5c8702a",
   "metadata": {},
   "outputs": [],
   "source": []
  },
  {
   "cell_type": "code",
   "execution_count": null,
   "id": "9699c4db-1aad-4f2f-a82c-c0557ce2515b",
   "metadata": {},
   "outputs": [],
   "source": []
  },
  {
   "cell_type": "code",
   "execution_count": null,
   "id": "0ab95936-93b6-4d01-a0fc-0e89391c8af8",
   "metadata": {},
   "outputs": [],
   "source": []
  },
  {
   "cell_type": "code",
   "execution_count": null,
   "id": "ce2d844a-2519-4ff0-8ea4-d127a897eaa5",
   "metadata": {},
   "outputs": [],
   "source": []
  },
  {
   "cell_type": "code",
   "execution_count": null,
   "id": "f41f94eb-9dd1-4a5a-9ce3-c838034eb41d",
   "metadata": {},
   "outputs": [],
   "source": []
  },
  {
   "cell_type": "code",
   "execution_count": null,
   "id": "0c0c45e0-b5da-42fc-a553-e8a84c209941",
   "metadata": {},
   "outputs": [],
   "source": []
  },
  {
   "cell_type": "code",
   "execution_count": null,
   "id": "46c2c217-1eb1-4b79-9abb-39fef0d6c13e",
   "metadata": {},
   "outputs": [],
   "source": []
  },
  {
   "cell_type": "code",
   "execution_count": null,
   "id": "5f447697-99f2-45c6-8d4e-6c02591e9385",
   "metadata": {},
   "outputs": [],
   "source": []
  },
  {
   "cell_type": "code",
   "execution_count": 9,
   "id": "f4e30fcb-1f65-41df-9fd8-3f241696aaba",
   "metadata": {},
   "outputs": [
    {
     "name": "stderr",
     "output_type": "stream",
     "text": [
      "23/11/14 23:38:16 ERROR org.apache.spark.scheduler.cluster.YarnSchedulerBackend$YarnSchedulerEndpoint: Sending KillExecutors(ArrayBuffer(5)) to AM was unsuccessful\n",
      "org.apache.spark.rpc.RpcTimeoutException: Cannot receive any reply from hub-msca-bdp-dphub-students-jiaweixu-m.c.msca-bdp-student-ap.internal:39427 in 120 seconds. This timeout is controlled by spark.rpc.askTimeout\n",
      "\tat org.apache.spark.rpc.RpcTimeout.org$apache$spark$rpc$RpcTimeout$$createRpcTimeoutException(RpcTimeout.scala:47)\n",
      "\tat org.apache.spark.rpc.RpcTimeout$$anonfun$addMessageIfTimeout$1.applyOrElse(RpcTimeout.scala:62)\n",
      "\tat org.apache.spark.rpc.RpcTimeout$$anonfun$addMessageIfTimeout$1.applyOrElse(RpcTimeout.scala:58)\n",
      "\tat scala.runtime.AbstractPartialFunction.apply(AbstractPartialFunction.scala:38)\n",
      "\tat scala.util.Failure.recover(Try.scala:234)\n",
      "\tat scala.concurrent.Future.$anonfun$recover$1(Future.scala:395)\n",
      "\tat scala.concurrent.impl.Promise.liftedTree1$1(Promise.scala:33)\n",
      "\tat scala.concurrent.impl.Promise.$anonfun$transform$1(Promise.scala:33)\n",
      "\tat scala.concurrent.impl.CallbackRunnable.run(Promise.scala:64)\n",
      "\tat org.apache.spark.util.ThreadUtils$$anon$1.execute(ThreadUtils.scala:99)\n",
      "\tat scala.concurrent.impl.ExecutionContextImpl$$anon$4.execute(ExecutionContextImpl.scala:138)\n",
      "\tat scala.concurrent.impl.CallbackRunnable.executeWithValue(Promise.scala:72)\n",
      "\tat scala.concurrent.impl.Promise$DefaultPromise.$anonfun$tryComplete$1(Promise.scala:288)\n",
      "\tat scala.concurrent.impl.Promise$DefaultPromise.$anonfun$tryComplete$1$adapted(Promise.scala:288)\n",
      "\tat scala.concurrent.impl.Promise$DefaultPromise.tryComplete(Promise.scala:288)\n",
      "\tat scala.concurrent.Promise.complete(Promise.scala:53)\n",
      "\tat scala.concurrent.Promise.complete$(Promise.scala:52)\n",
      "\tat scala.concurrent.impl.Promise$DefaultPromise.complete(Promise.scala:187)\n",
      "\tat scala.concurrent.impl.Promise.$anonfun$transform$1(Promise.scala:33)\n",
      "\tat scala.concurrent.impl.CallbackRunnable.run(Promise.scala:64)\n",
      "\tat scala.concurrent.BatchingExecutor$Batch.processBatch$1(BatchingExecutor.scala:67)\n",
      "\tat scala.concurrent.BatchingExecutor$Batch.$anonfun$run$1(BatchingExecutor.scala:82)\n",
      "\tat scala.runtime.java8.JFunction0$mcV$sp.apply(JFunction0$mcV$sp.java:23)\n",
      "\tat scala.concurrent.BlockContext$.withBlockContext(BlockContext.scala:85)\n",
      "\tat scala.concurrent.BatchingExecutor$Batch.run(BatchingExecutor.scala:59)\n",
      "\tat scala.concurrent.Future$InternalCallbackExecutor$.unbatchedExecute(Future.scala:875)\n",
      "\tat scala.concurrent.BatchingExecutor.execute(BatchingExecutor.scala:110)\n",
      "\tat scala.concurrent.BatchingExecutor.execute$(BatchingExecutor.scala:107)\n",
      "\tat scala.concurrent.Future$InternalCallbackExecutor$.execute(Future.scala:873)\n",
      "\tat scala.concurrent.impl.CallbackRunnable.executeWithValue(Promise.scala:72)\n",
      "\tat scala.concurrent.impl.Promise$DefaultPromise.$anonfun$tryComplete$1(Promise.scala:288)\n",
      "\tat scala.concurrent.impl.Promise$DefaultPromise.$anonfun$tryComplete$1$adapted(Promise.scala:288)\n",
      "\tat scala.concurrent.impl.Promise$DefaultPromise.tryComplete(Promise.scala:288)\n",
      "\tat scala.concurrent.Promise.tryFailure(Promise.scala:112)\n",
      "\tat scala.concurrent.Promise.tryFailure$(Promise.scala:112)\n",
      "\tat scala.concurrent.impl.Promise$DefaultPromise.tryFailure(Promise.scala:187)\n",
      "\tat org.apache.spark.rpc.netty.NettyRpcEnv.org$apache$spark$rpc$netty$NettyRpcEnv$$onFailure$1(NettyRpcEnv.scala:214)\n",
      "\tat org.apache.spark.rpc.netty.NettyRpcEnv$$anon$1.run(NettyRpcEnv.scala:264)\n",
      "\tat java.util.concurrent.Executors$RunnableAdapter.call(Executors.java:511)\n",
      "\tat java.util.concurrent.FutureTask.run(FutureTask.java:266)\n",
      "\tat java.util.concurrent.ScheduledThreadPoolExecutor$ScheduledFutureTask.access$201(ScheduledThreadPoolExecutor.java:180)\n",
      "\tat java.util.concurrent.ScheduledThreadPoolExecutor$ScheduledFutureTask.run(ScheduledThreadPoolExecutor.java:293)\n",
      "\tat java.util.concurrent.ThreadPoolExecutor.runWorker(ThreadPoolExecutor.java:1149)\n",
      "\tat java.util.concurrent.ThreadPoolExecutor$Worker.run(ThreadPoolExecutor.java:624)\n",
      "\tat java.lang.Thread.run(Thread.java:750)\n",
      "Caused by: java.util.concurrent.TimeoutException: Cannot receive any reply from hub-msca-bdp-dphub-students-jiaweixu-m.c.msca-bdp-student-ap.internal:39427 in 120 seconds\n",
      "\tat org.apache.spark.rpc.netty.NettyRpcEnv$$anon$1.run(NettyRpcEnv.scala:265)\n",
      "\t... 7 more\n",
      "23/11/14 23:38:48 ERROR com.codahale.metrics.ScheduledReporter: Exception thrown from StatsdReporter#report. Exception was suppressed.\n",
      "java.lang.OutOfMemoryError: GC overhead limit exceeded\n",
      "\tat com.codahale.metrics.WeightedSnapshot.<init>(WeightedSnapshot.java:44)\n",
      "\tat com.codahale.metrics.ExponentiallyDecayingReservoir.getSnapshot(ExponentiallyDecayingReservoir.java:131)\n",
      "\tat com.codahale.metrics.Histogram.getSnapshot(Histogram.java:56)\n",
      "\tat com.codahale.metrics.Timer.getSnapshot(Timer.java:190)\n",
      "\tat org.apache.spark.metrics.sink.StatsdReporter.reportTimer(StatsdReporter.scala:126)\n",
      "\tat org.apache.spark.metrics.sink.StatsdReporter.$anonfun$report$12(StatsdReporter.scala:80)\n",
      "\tat org.apache.spark.metrics.sink.StatsdReporter.$anonfun$report$12$adapted(StatsdReporter.scala:80)\n",
      "\tat org.apache.spark.metrics.sink.StatsdReporter$$Lambda$1680/2062119886.apply(Unknown Source)\n",
      "\tat scala.collection.Iterator.foreach(Iterator.scala:943)\n",
      "\tat scala.collection.Iterator.foreach$(Iterator.scala:943)\n",
      "\tat scala.collection.AbstractIterator.foreach(Iterator.scala:1431)\n",
      "\tat scala.collection.IterableLike.foreach(IterableLike.scala:74)\n",
      "\tat scala.collection.IterableLike.foreach$(IterableLike.scala:73)\n",
      "\tat scala.collection.AbstractIterable.foreach(Iterable.scala:56)\n",
      "\tat org.apache.spark.metrics.sink.StatsdReporter.$anonfun$report$7(StatsdReporter.scala:80)\n",
      "\tat org.apache.spark.metrics.sink.StatsdReporter$$Lambda$1673/324514406.apply$mcV$sp(Unknown Source)\n",
      "\tat scala.runtime.java8.JFunction0$mcV$sp.apply(JFunction0$mcV$sp.java:23)\n",
      "\tat scala.util.Try$.apply(Try.scala:213)\n",
      "\tat org.apache.spark.metrics.sink.StatsdReporter.report(StatsdReporter.scala:75)\n",
      "\tat com.codahale.metrics.ScheduledReporter.report(ScheduledReporter.java:237)\n",
      "\tat com.codahale.metrics.ScheduledReporter.lambda$start$0(ScheduledReporter.java:177)\n",
      "\tat com.codahale.metrics.ScheduledReporter$$Lambda$900/1002202974.run(Unknown Source)\n",
      "\tat java.util.concurrent.Executors$RunnableAdapter.call(Executors.java:511)\n",
      "\tat java.util.concurrent.FutureTask.runAndReset(FutureTask.java:308)\n",
      "\tat java.util.concurrent.ScheduledThreadPoolExecutor$ScheduledFutureTask.access$301(ScheduledThreadPoolExecutor.java:180)\n",
      "\tat java.util.concurrent.ScheduledThreadPoolExecutor$ScheduledFutureTask.run(ScheduledThreadPoolExecutor.java:294)\n",
      "\tat java.util.concurrent.ThreadPoolExecutor.runWorker(ThreadPoolExecutor.java:1149)\n",
      "\tat java.util.concurrent.ThreadPoolExecutor$Worker.run(ThreadPoolExecutor.java:624)\n",
      "\tat java.lang.Thread.run(Thread.java:750)\n",
      "23/11/14 23:38:59 WARN org.apache.spark.rpc.netty.NettyRpcEnv: Ignored message: true\n",
      "23/11/14 23:39:05 WARN org.apache.spark.HeartbeatReceiver: Removing executor 2 with no recent heartbeats: 228848 ms exceeds timeout 120000 ms\n",
      "23/11/14 23:39:05 WARN org.apache.spark.HeartbeatReceiver: Removing executor 1 with no recent heartbeats: 240657 ms exceeds timeout 120000 ms\n",
      "23/11/14 23:39:05 ERROR org.apache.spark.scheduler.cluster.YarnScheduler: Lost executor 2 on hub-msca-bdp-dphub-students-jiaweixu-w-0.c.msca-bdp-student-ap.internal: Executor heartbeat timed out after 228848 ms\n",
      "23/11/14 23:39:05 ERROR org.apache.spark.scheduler.cluster.YarnScheduler: Lost executor 1 on hub-msca-bdp-dphub-students-jiaweixu-w-1.c.msca-bdp-student-ap.internal: Executor heartbeat timed out after 240657 ms\n"
     ]
    },
    {
     "ename": "Py4JJavaError",
     "evalue": "An error occurred while calling o133.collectToPython.\n: java.lang.OutOfMemoryError: GC overhead limit exceeded\n",
     "output_type": "error",
     "traceback": [
      "\u001b[0;31m---------------------------------------------------------------------------\u001b[0m",
      "\u001b[0;31mPy4JJavaError\u001b[0m                             Traceback (most recent call last)",
      "Cell \u001b[0;32mIn[9], line 7\u001b[0m\n\u001b[1;32m      4\u001b[0m selected_df \u001b[38;5;241m=\u001b[39m airlines\u001b[38;5;241m.\u001b[39mselect(target_features)\n\u001b[1;32m      6\u001b[0m \u001b[38;5;66;03m# Convert the selected DataFrame to Pandas\u001b[39;00m\n\u001b[0;32m----> 7\u001b[0m selected_pandas_df \u001b[38;5;241m=\u001b[39m \u001b[43mselected_df\u001b[49m\u001b[38;5;241;43m.\u001b[39;49m\u001b[43mtoPandas\u001b[49m\u001b[43m(\u001b[49m\u001b[43m)\u001b[49m\n\u001b[1;32m      9\u001b[0m \u001b[38;5;66;03m# Calculate the correlation matrix\u001b[39;00m\n\u001b[1;32m     10\u001b[0m corr_matrix \u001b[38;5;241m=\u001b[39m selected_pandas_df\u001b[38;5;241m.\u001b[39mcorr()\n",
      "File \u001b[0;32m/usr/lib/spark/python/pyspark/sql/pandas/conversion.py:141\u001b[0m, in \u001b[0;36mPandasConversionMixin.toPandas\u001b[0;34m(self)\u001b[0m\n\u001b[1;32m    138\u001b[0m             \u001b[38;5;28;01mraise\u001b[39;00m\n\u001b[1;32m    140\u001b[0m \u001b[38;5;66;03m# Below is toPandas without Arrow optimization.\u001b[39;00m\n\u001b[0;32m--> 141\u001b[0m pdf \u001b[38;5;241m=\u001b[39m pd\u001b[38;5;241m.\u001b[39mDataFrame\u001b[38;5;241m.\u001b[39mfrom_records(\u001b[38;5;28;43mself\u001b[39;49m\u001b[38;5;241;43m.\u001b[39;49m\u001b[43mcollect\u001b[49m\u001b[43m(\u001b[49m\u001b[43m)\u001b[49m, columns\u001b[38;5;241m=\u001b[39m\u001b[38;5;28mself\u001b[39m\u001b[38;5;241m.\u001b[39mcolumns)\n\u001b[1;32m    142\u001b[0m column_counter \u001b[38;5;241m=\u001b[39m Counter(\u001b[38;5;28mself\u001b[39m\u001b[38;5;241m.\u001b[39mcolumns)\n\u001b[1;32m    144\u001b[0m dtype \u001b[38;5;241m=\u001b[39m [\u001b[38;5;28;01mNone\u001b[39;00m] \u001b[38;5;241m*\u001b[39m \u001b[38;5;28mlen\u001b[39m(\u001b[38;5;28mself\u001b[39m\u001b[38;5;241m.\u001b[39mschema)\n",
      "File \u001b[0;32m/usr/lib/spark/python/pyspark/sql/dataframe.py:677\u001b[0m, in \u001b[0;36mDataFrame.collect\u001b[0;34m(self)\u001b[0m\n\u001b[1;32m    667\u001b[0m \u001b[38;5;250m\u001b[39m\u001b[38;5;124;03m\"\"\"Returns all the records as a list of :class:`Row`.\u001b[39;00m\n\u001b[1;32m    668\u001b[0m \n\u001b[1;32m    669\u001b[0m \u001b[38;5;124;03m.. versionadded:: 1.3.0\u001b[39;00m\n\u001b[0;32m   (...)\u001b[0m\n\u001b[1;32m    674\u001b[0m \u001b[38;5;124;03m[Row(age=2, name='Alice'), Row(age=5, name='Bob')]\u001b[39;00m\n\u001b[1;32m    675\u001b[0m \u001b[38;5;124;03m\"\"\"\u001b[39;00m\n\u001b[1;32m    676\u001b[0m \u001b[38;5;28;01mwith\u001b[39;00m SCCallSiteSync(\u001b[38;5;28mself\u001b[39m\u001b[38;5;241m.\u001b[39m_sc) \u001b[38;5;28;01mas\u001b[39;00m css:\n\u001b[0;32m--> 677\u001b[0m     sock_info \u001b[38;5;241m=\u001b[39m \u001b[38;5;28;43mself\u001b[39;49m\u001b[38;5;241;43m.\u001b[39;49m\u001b[43m_jdf\u001b[49m\u001b[38;5;241;43m.\u001b[39;49m\u001b[43mcollectToPython\u001b[49m\u001b[43m(\u001b[49m\u001b[43m)\u001b[49m\n\u001b[1;32m    678\u001b[0m \u001b[38;5;28;01mreturn\u001b[39;00m \u001b[38;5;28mlist\u001b[39m(_load_from_socket(sock_info, BatchedSerializer(PickleSerializer())))\n",
      "File \u001b[0;32m/usr/lib/spark/python/lib/py4j-0.10.9-src.zip/py4j/java_gateway.py:1304\u001b[0m, in \u001b[0;36mJavaMember.__call__\u001b[0;34m(self, *args)\u001b[0m\n\u001b[1;32m   1298\u001b[0m command \u001b[38;5;241m=\u001b[39m proto\u001b[38;5;241m.\u001b[39mCALL_COMMAND_NAME \u001b[38;5;241m+\u001b[39m\\\n\u001b[1;32m   1299\u001b[0m     \u001b[38;5;28mself\u001b[39m\u001b[38;5;241m.\u001b[39mcommand_header \u001b[38;5;241m+\u001b[39m\\\n\u001b[1;32m   1300\u001b[0m     args_command \u001b[38;5;241m+\u001b[39m\\\n\u001b[1;32m   1301\u001b[0m     proto\u001b[38;5;241m.\u001b[39mEND_COMMAND_PART\n\u001b[1;32m   1303\u001b[0m answer \u001b[38;5;241m=\u001b[39m \u001b[38;5;28mself\u001b[39m\u001b[38;5;241m.\u001b[39mgateway_client\u001b[38;5;241m.\u001b[39msend_command(command)\n\u001b[0;32m-> 1304\u001b[0m return_value \u001b[38;5;241m=\u001b[39m \u001b[43mget_return_value\u001b[49m\u001b[43m(\u001b[49m\n\u001b[1;32m   1305\u001b[0m \u001b[43m    \u001b[49m\u001b[43manswer\u001b[49m\u001b[43m,\u001b[49m\u001b[43m \u001b[49m\u001b[38;5;28;43mself\u001b[39;49m\u001b[38;5;241;43m.\u001b[39;49m\u001b[43mgateway_client\u001b[49m\u001b[43m,\u001b[49m\u001b[43m \u001b[49m\u001b[38;5;28;43mself\u001b[39;49m\u001b[38;5;241;43m.\u001b[39;49m\u001b[43mtarget_id\u001b[49m\u001b[43m,\u001b[49m\u001b[43m \u001b[49m\u001b[38;5;28;43mself\u001b[39;49m\u001b[38;5;241;43m.\u001b[39;49m\u001b[43mname\u001b[49m\u001b[43m)\u001b[49m\n\u001b[1;32m   1307\u001b[0m \u001b[38;5;28;01mfor\u001b[39;00m temp_arg \u001b[38;5;129;01min\u001b[39;00m temp_args:\n\u001b[1;32m   1308\u001b[0m     temp_arg\u001b[38;5;241m.\u001b[39m_detach()\n",
      "File \u001b[0;32m/usr/lib/spark/python/pyspark/sql/utils.py:111\u001b[0m, in \u001b[0;36mcapture_sql_exception.<locals>.deco\u001b[0;34m(*a, **kw)\u001b[0m\n\u001b[1;32m    109\u001b[0m \u001b[38;5;28;01mdef\u001b[39;00m \u001b[38;5;21mdeco\u001b[39m(\u001b[38;5;241m*\u001b[39ma, \u001b[38;5;241m*\u001b[39m\u001b[38;5;241m*\u001b[39mkw):\n\u001b[1;32m    110\u001b[0m     \u001b[38;5;28;01mtry\u001b[39;00m:\n\u001b[0;32m--> 111\u001b[0m         \u001b[38;5;28;01mreturn\u001b[39;00m \u001b[43mf\u001b[49m\u001b[43m(\u001b[49m\u001b[38;5;241;43m*\u001b[39;49m\u001b[43ma\u001b[49m\u001b[43m,\u001b[49m\u001b[43m \u001b[49m\u001b[38;5;241;43m*\u001b[39;49m\u001b[38;5;241;43m*\u001b[39;49m\u001b[43mkw\u001b[49m\u001b[43m)\u001b[49m\n\u001b[1;32m    112\u001b[0m     \u001b[38;5;28;01mexcept\u001b[39;00m py4j\u001b[38;5;241m.\u001b[39mprotocol\u001b[38;5;241m.\u001b[39mPy4JJavaError \u001b[38;5;28;01mas\u001b[39;00m e:\n\u001b[1;32m    113\u001b[0m         converted \u001b[38;5;241m=\u001b[39m convert_exception(e\u001b[38;5;241m.\u001b[39mjava_exception)\n",
      "File \u001b[0;32m/usr/lib/spark/python/lib/py4j-0.10.9-src.zip/py4j/protocol.py:326\u001b[0m, in \u001b[0;36mget_return_value\u001b[0;34m(answer, gateway_client, target_id, name)\u001b[0m\n\u001b[1;32m    324\u001b[0m value \u001b[38;5;241m=\u001b[39m OUTPUT_CONVERTER[\u001b[38;5;28mtype\u001b[39m](answer[\u001b[38;5;241m2\u001b[39m:], gateway_client)\n\u001b[1;32m    325\u001b[0m \u001b[38;5;28;01mif\u001b[39;00m answer[\u001b[38;5;241m1\u001b[39m] \u001b[38;5;241m==\u001b[39m REFERENCE_TYPE:\n\u001b[0;32m--> 326\u001b[0m     \u001b[38;5;28;01mraise\u001b[39;00m Py4JJavaError(\n\u001b[1;32m    327\u001b[0m         \u001b[38;5;124m\"\u001b[39m\u001b[38;5;124mAn error occurred while calling \u001b[39m\u001b[38;5;132;01m{0}\u001b[39;00m\u001b[38;5;132;01m{1}\u001b[39;00m\u001b[38;5;132;01m{2}\u001b[39;00m\u001b[38;5;124m.\u001b[39m\u001b[38;5;130;01m\\n\u001b[39;00m\u001b[38;5;124m\"\u001b[39m\u001b[38;5;241m.\u001b[39m\n\u001b[1;32m    328\u001b[0m         \u001b[38;5;28mformat\u001b[39m(target_id, \u001b[38;5;124m\"\u001b[39m\u001b[38;5;124m.\u001b[39m\u001b[38;5;124m\"\u001b[39m, name), value)\n\u001b[1;32m    329\u001b[0m \u001b[38;5;28;01melse\u001b[39;00m:\n\u001b[1;32m    330\u001b[0m     \u001b[38;5;28;01mraise\u001b[39;00m Py4JError(\n\u001b[1;32m    331\u001b[0m         \u001b[38;5;124m\"\u001b[39m\u001b[38;5;124mAn error occurred while calling \u001b[39m\u001b[38;5;132;01m{0}\u001b[39;00m\u001b[38;5;132;01m{1}\u001b[39;00m\u001b[38;5;132;01m{2}\u001b[39;00m\u001b[38;5;124m. Trace:\u001b[39m\u001b[38;5;130;01m\\n\u001b[39;00m\u001b[38;5;132;01m{3}\u001b[39;00m\u001b[38;5;130;01m\\n\u001b[39;00m\u001b[38;5;124m\"\u001b[39m\u001b[38;5;241m.\u001b[39m\n\u001b[1;32m    332\u001b[0m         \u001b[38;5;28mformat\u001b[39m(target_id, \u001b[38;5;124m\"\u001b[39m\u001b[38;5;124m.\u001b[39m\u001b[38;5;124m\"\u001b[39m, name, value))\n",
      "\u001b[0;31mPy4JJavaError\u001b[0m: An error occurred while calling o133.collectToPython.\n: java.lang.OutOfMemoryError: GC overhead limit exceeded\n"
     ]
    }
   ],
   "source": [
    "target_features = [\"CRSDepTime\", \"DepDelayMinutes\", \"CRSArrTime\", \"ArrDelay\", \"Distance\"]\n",
    "\n",
    "# Select the target features from the DataFrame\n",
    "selected_df = flight.select(target_features)\n",
    "\n",
    "# Convert the selected DataFrame to Pandas\n",
    "selected_pandas_df = selected_df.toPandas()\n",
    "\n",
    "# Calculate the correlation matrix\n",
    "corr_matrix = selected_pandas_df.corr()\n",
    "\n",
    "# Display the correlation matrix\n",
    "print(corr_matrix)"
   ]
  },
  {
   "cell_type": "code",
   "execution_count": null,
   "id": "dbfbfdc1-89c1-4e75-822c-e4eeb79b2127",
   "metadata": {},
   "outputs": [],
   "source": []
  },
  {
   "cell_type": "code",
   "execution_count": null,
   "id": "ceaf7865-57bc-4f12-9349-78ae2481623a",
   "metadata": {},
   "outputs": [],
   "source": []
  },
  {
   "cell_type": "code",
   "execution_count": null,
   "id": "7ee5e7bd-6306-43e3-87a4-9f968ee77eea",
   "metadata": {},
   "outputs": [],
   "source": []
  },
  {
   "cell_type": "code",
   "execution_count": null,
   "id": "49fde267-81a8-4d86-b1ac-933b18a628ec",
   "metadata": {},
   "outputs": [],
   "source": [
    "mask = np.zeros_like(corr, dtype=np.bool)\n",
    "mask[np.triu_indices_from(mask)] = True\n",
    "cmap = sns.diverging_palette(240, 10, as_cmap=True)\n",
    "fig, ax = plt.subplots(figsize=(20,10))\n",
    "sns.heatmap(corr, mask=mask, cmap=cmap, center=0, linewidths=.5)"
   ]
  },
  {
   "cell_type": "code",
   "execution_count": null,
   "id": "7711f1c5-930a-4487-8533-c637e84c2de0",
   "metadata": {},
   "outputs": [],
   "source": []
  }
 ],
 "metadata": {
  "kernelspec": {
   "display_name": "PySpark",
   "language": "python",
   "name": "pyspark"
  },
  "language_info": {
   "codemirror_mode": {
    "name": "ipython",
    "version": 3
   },
   "file_extension": ".py",
   "mimetype": "text/x-python",
   "name": "python",
   "nbconvert_exporter": "python",
   "pygments_lexer": "ipython3",
   "version": "3.8.15"
  }
 },
 "nbformat": 4,
 "nbformat_minor": 5
}
