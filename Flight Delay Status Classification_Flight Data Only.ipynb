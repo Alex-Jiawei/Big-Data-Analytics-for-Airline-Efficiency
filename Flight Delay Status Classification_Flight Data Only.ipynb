{
 "cells": [
  {
   "cell_type": "markdown",
   "id": "e97e9cc8-a289-45e4-8324-f5b5e8f62655",
   "metadata": {},
   "source": [
    "# Flight Delay Status Classification"
   ]
  },
  {
   "cell_type": "code",
   "execution_count": 1,
   "id": "1881758e-0be4-447a-9cb4-788f93e1f22f",
   "metadata": {},
   "outputs": [],
   "source": [
    "from pyspark.sql import SparkSession\n",
    "from pyspark.sql.types import StructType, StructField, StringType, DoubleType, IntegerType, NullType\n",
    "from pyspark.ml.feature import OneHotEncoder, StringIndexer, VectorAssembler\n",
    "from pyspark.ml.evaluation import BinaryClassificationEvaluator\n",
    "from pyspark.ml.feature import StandardScaler, Imputer\n",
    "from pyspark.sql import functions as F\n",
    "from pyspark.sql.window import Window\n",
    "from pyspark.sql import SQLContext\n",
    "import pyspark.ml.feature as ftr\n",
    "import pyspark.ml as ml\n",
    " \n",
    "from pyspark.ml.classification import DecisionTreeClassifier\n",
    "from pyspark.ml.classification import RandomForestClassifier\n",
    "from pyspark.ml.classification import GBTClassifier\n",
    "from pyspark.mllib.linalg.distributed import RowMatrix\n",
    "from pyspark.ml.tuning import ParamGridBuilder\n",
    "from pyspark.ml.tuning import CrossValidator\n",
    "from pyspark.ml.tuning import TrainValidationSplit\n",
    "from pyspark.ml import PipelineModel\n",
    "from pyspark.mllib.linalg import Vectors\n",
    "from pyspark.ml.feature import PCA\n",
    " \n",
    "import pandas as pd\n",
    "import numpy as np\n",
    "import seaborn as sns\n",
    "import matplotlib.pyplot as plt\n",
    "from pyspark.ml import Pipeline"
   ]
  },
  {
   "cell_type": "markdown",
   "id": "5713e5fc-a85a-407a-915e-c3cbce23dced",
   "metadata": {},
   "source": [
    "### Data Loading and Initial Exploration"
   ]
  },
  {
   "cell_type": "code",
   "execution_count": 2,
   "id": "2a1b4b4f-66a9-4bb6-91c2-d18d9d51465b",
   "metadata": {},
   "outputs": [],
   "source": [
    "spark = SparkSession.builder.appName(\"FlightDelayPrediction\").getOrCreate()"
   ]
  },
  {
   "cell_type": "code",
   "execution_count": 3,
   "id": "b62fcbff-4b9f-4976-8a40-844499552bd9",
   "metadata": {},
   "outputs": [
    {
     "name": "stderr",
     "output_type": "stream",
     "text": [
      "                                                                                \r"
     ]
    }
   ],
   "source": [
    "flight_path = 'gs://msca-bdp-student-gcs/Group4_Final_Project/archive/Combined_Flights_2018-2022.parquet'\n",
    "airport_path = 'gs://msca-bdp-student-gcs/Group4_Final_Project/archive/Airports'\n",
    "\n",
    "flight = spark.read.parquet(flight_path)\n",
    "airport = spark.read.parquet(airport_path)"
   ]
  },
  {
   "cell_type": "code",
   "execution_count": 4,
   "id": "4a36cbf4-fb7e-4f09-8e89-f736dd05624b",
   "metadata": {},
   "outputs": [
    {
     "name": "stdout",
     "output_type": "stream",
     "text": [
      "root\n",
      " |-- FlightDate: timestamp (nullable = true)\n",
      " |-- Airline: string (nullable = true)\n",
      " |-- Origin: string (nullable = true)\n",
      " |-- Dest: string (nullable = true)\n",
      " |-- Cancelled: boolean (nullable = true)\n",
      " |-- Diverted: boolean (nullable = true)\n",
      " |-- CRSDepTime: long (nullable = true)\n",
      " |-- DepTime: double (nullable = true)\n",
      " |-- DepDelayMinutes: double (nullable = true)\n",
      " |-- DepDelay: double (nullable = true)\n",
      " |-- ArrTime: double (nullable = true)\n",
      " |-- ArrDelayMinutes: double (nullable = true)\n",
      " |-- AirTime: double (nullable = true)\n",
      " |-- CRSElapsedTime: double (nullable = true)\n",
      " |-- ActualElapsedTime: double (nullable = true)\n",
      " |-- Distance: double (nullable = true)\n",
      " |-- Year: long (nullable = true)\n",
      " |-- Quarter: long (nullable = true)\n",
      " |-- Month: long (nullable = true)\n",
      " |-- DayofMonth: long (nullable = true)\n",
      " |-- DayOfWeek: long (nullable = true)\n",
      " |-- Marketing_Airline_Network: string (nullable = true)\n",
      " |-- Operated_or_Branded_Code_Share_Partners: string (nullable = true)\n",
      " |-- DOT_ID_Marketing_Airline: long (nullable = true)\n",
      " |-- IATA_Code_Marketing_Airline: string (nullable = true)\n",
      " |-- Flight_Number_Marketing_Airline: long (nullable = true)\n",
      " |-- Operating_Airline: string (nullable = true)\n",
      " |-- DOT_ID_Operating_Airline: long (nullable = true)\n",
      " |-- IATA_Code_Operating_Airline: string (nullable = true)\n",
      " |-- Tail_Number: string (nullable = true)\n",
      " |-- Flight_Number_Operating_Airline: long (nullable = true)\n",
      " |-- OriginAirportID: long (nullable = true)\n",
      " |-- OriginAirportSeqID: long (nullable = true)\n",
      " |-- OriginCityMarketID: long (nullable = true)\n",
      " |-- OriginCityName: string (nullable = true)\n",
      " |-- OriginState: string (nullable = true)\n",
      " |-- OriginStateFips: long (nullable = true)\n",
      " |-- OriginStateName: string (nullable = true)\n",
      " |-- OriginWac: long (nullable = true)\n",
      " |-- DestAirportID: long (nullable = true)\n",
      " |-- DestAirportSeqID: long (nullable = true)\n",
      " |-- DestCityMarketID: long (nullable = true)\n",
      " |-- DestCityName: string (nullable = true)\n",
      " |-- DestState: string (nullable = true)\n",
      " |-- DestStateFips: long (nullable = true)\n",
      " |-- DestStateName: string (nullable = true)\n",
      " |-- DestWac: long (nullable = true)\n",
      " |-- DepDel15: double (nullable = true)\n",
      " |-- DepartureDelayGroups: double (nullable = true)\n",
      " |-- DepTimeBlk: string (nullable = true)\n",
      " |-- TaxiOut: double (nullable = true)\n",
      " |-- WheelsOff: double (nullable = true)\n",
      " |-- WheelsOn: double (nullable = true)\n",
      " |-- TaxiIn: double (nullable = true)\n",
      " |-- CRSArrTime: long (nullable = true)\n",
      " |-- ArrDelay: double (nullable = true)\n",
      " |-- ArrDel15: double (nullable = true)\n",
      " |-- ArrivalDelayGroups: double (nullable = true)\n",
      " |-- ArrTimeBlk: string (nullable = true)\n",
      " |-- DistanceGroup: long (nullable = true)\n",
      " |-- DivAirportLandings: double (nullable = true)\n",
      " |-- __index_level_0__: long (nullable = true)\n",
      "\n",
      "root\n",
      " |-- AIRPORT_SEQ_ID: integer (nullable = true)\n",
      " |-- AIRPORT_ID: integer (nullable = true)\n",
      " |-- AIRPORT: string (nullable = true)\n",
      " |-- DISPLAY_AIRPORT_NAME: string (nullable = true)\n",
      " |-- DISPLAY_AIRPORT_CITY_NAME_FULL: string (nullable = true)\n",
      " |-- AIRPORT_WAC_SEQ_ID2: integer (nullable = true)\n",
      " |-- AIRPORT_WAC: integer (nullable = true)\n",
      " |-- AIRPORT_COUNTRY_NAME: string (nullable = true)\n",
      " |-- AIRPORT_COUNTRY_CODE_ISO: string (nullable = true)\n",
      " |-- AIRPORT_STATE_NAME: string (nullable = true)\n",
      " |-- AIRPORT_STATE_CODE: string (nullable = true)\n",
      " |-- AIRPORT_STATE_FIPS: integer (nullable = true)\n",
      " |-- CITY_MARKET_SEQ_ID: integer (nullable = true)\n",
      " |-- CITY_MARKET_ID: integer (nullable = true)\n",
      " |-- DISPLAY_CITY_MARKET_NAME_FULL: string (nullable = true)\n",
      " |-- CITY_MARKET_WAC_SEQ_ID2: integer (nullable = true)\n",
      " |-- CITY_MARKET_WAC: integer (nullable = true)\n",
      " |-- LAT_DEGREES: integer (nullable = true)\n",
      " |-- LAT_HEMISPHERE: string (nullable = true)\n",
      " |-- LAT_MINUTES: integer (nullable = true)\n",
      " |-- LAT_SECONDS: integer (nullable = true)\n",
      " |-- LATITUDE: double (nullable = true)\n",
      " |-- LON_DEGREES: integer (nullable = true)\n",
      " |-- LON_HEMISPHERE: string (nullable = true)\n",
      " |-- LON_MINUTES: integer (nullable = true)\n",
      " |-- LON_SECONDS: integer (nullable = true)\n",
      " |-- LONGITUDE: double (nullable = true)\n",
      " |-- UTC_LOCAL_TIME_VARIATION: integer (nullable = true)\n",
      " |-- AIRPORT_START_DATE: string (nullable = true)\n",
      " |-- AIRPORT_THRU_DATE: string (nullable = true)\n",
      " |-- AIRPORT_IS_CLOSED: integer (nullable = true)\n",
      " |-- AIRPORT_IS_LATEST: integer (nullable = true)\n",
      " |-- _c32: string (nullable = true)\n",
      "\n"
     ]
    }
   ],
   "source": [
    "flight.printSchema()\n",
    "airport.printSchema()"
   ]
  },
  {
   "cell_type": "code",
   "execution_count": 6,
   "id": "5fb58862-a2f9-4861-8371-ed28b5900b12",
   "metadata": {},
   "outputs": [
    {
     "name": "stderr",
     "output_type": "stream",
     "text": [
      "                                                                                \r"
     ]
    },
    {
     "name": "stdout",
     "output_type": "stream",
     "text": [
      "Number of flight records loaded: 29,193,782\n",
      "Number of airport records loaded: 13,386\n"
     ]
    }
   ],
   "source": [
    "print('Number of flight records loaded: ' + f'{flight.count():,}')\n",
    "print('Number of airport records loaded: ' + f'{airport.count():,}')"
   ]
  },
  {
   "cell_type": "code",
   "execution_count": 7,
   "id": "b450853f-c63e-465a-88cd-6a9253cd2028",
   "metadata": {},
   "outputs": [
    {
     "name": "stderr",
     "output_type": "stream",
     "text": [
      "[Stage 14:=======================================>                (12 + 5) / 17]\r"
     ]
    },
    {
     "name": "stdout",
     "output_type": "stream",
     "text": [
      "+----+----------------+\n",
      "|Year|Count of Records|\n",
      "+----+----------------+\n",
      "|2018|         5689512|\n",
      "|2019|         8091684|\n",
      "|2020|         5022397|\n",
      "|2021|         6311871|\n",
      "|2022|         4078318|\n",
      "+----+----------------+\n",
      "\n"
     ]
    },
    {
     "name": "stderr",
     "output_type": "stream",
     "text": [
      "                                                                                \r"
     ]
    }
   ],
   "source": [
    "yearly_counts = flight.groupBy(\"Year\").agg(F.count(\"*\").alias(\"Count of Records\")).orderBy(\"Year\")\n",
    "\n",
    "yearly_counts.show()"
   ]
  },
  {
   "cell_type": "code",
   "execution_count": 8,
   "id": "c2fad28b-2531-4f18-841b-6337c41329ca",
   "metadata": {},
   "outputs": [],
   "source": [
    "# Filter US airport only \n",
    "def airport_transform(dataframe):\n",
    "  return (\n",
    "    dataframe\n",
    "    .filter(\"AIRPORT_COUNTRY_CODE_ISO = 'US'\")\n",
    "    .dropDuplicates(['AIRPORT'])\n",
    "    )"
   ]
  },
  {
   "cell_type": "code",
   "execution_count": 9,
   "id": "eefe1b29-499d-4e11-8b9c-c057be8e5462",
   "metadata": {},
   "outputs": [
    {
     "name": "stderr",
     "output_type": "stream",
     "text": [
      "23/11/25 21:45:24 WARN org.apache.spark.sql.catalyst.util.package: Truncated the string representation of a plan since it was too large. This behavior can be adjusted by setting 'spark.sql.debug.maxToStringFields'.\n",
      "[Stage 19:>                                                         (0 + 1) / 1]\r"
     ]
    },
    {
     "name": "stdout",
     "output_type": "stream",
     "text": [
      "+--------------+----------+-------+--------------------+------------------------------+-------------------+-----------+--------------------+------------------------+------------------+------------------+------------------+------------------+--------------+-----------------------------+-----------------------+---------------+-----------+--------------+-----------+-----------+-----------+-----------+--------------+-----------+-----------+-------------+------------------------+------------------+-----------------+-----------------+-----------------+----+\n",
      "|AIRPORT_SEQ_ID|AIRPORT_ID|AIRPORT|DISPLAY_AIRPORT_NAME|DISPLAY_AIRPORT_CITY_NAME_FULL|AIRPORT_WAC_SEQ_ID2|AIRPORT_WAC|AIRPORT_COUNTRY_NAME|AIRPORT_COUNTRY_CODE_ISO|AIRPORT_STATE_NAME|AIRPORT_STATE_CODE|AIRPORT_STATE_FIPS|CITY_MARKET_SEQ_ID|CITY_MARKET_ID|DISPLAY_CITY_MARKET_NAME_FULL|CITY_MARKET_WAC_SEQ_ID2|CITY_MARKET_WAC|LAT_DEGREES|LAT_HEMISPHERE|LAT_MINUTES|LAT_SECONDS|   LATITUDE|LON_DEGREES|LON_HEMISPHERE|LON_MINUTES|LON_SECONDS|    LONGITUDE|UTC_LOCAL_TIME_VARIATION|AIRPORT_START_DATE|AIRPORT_THRU_DATE|AIRPORT_IS_CLOSED|AIRPORT_IS_LATEST|_c32|\n",
      "+--------------+----------+-------+--------------------+------------------------------+-------------------+-----------+--------------------+------------------------+------------------+------------------+------------------+------------------+--------------+-----------------------------+-----------------------+---------------+-----------+--------------+-----------+-----------+-----------+-----------+--------------+-----------+-----------+-------------+------------------------+------------------+-----------------+-----------------+-----------------+----+\n",
      "|       1003601|     10036|    A23|Bradley Lake Airport|              Bradley Lake, AK|                101|          1|       United States|                      US|            Alaska|                AK|                 2|           3003601|         30036|             Bradley Lake, AK|                    101|              1|         59|             N|         46|         34|59.77611111|        151|             W|         57|         49|-151.96361111|                    null|        2003-01-01|             null|                0|                1|null|\n",
      "|       1077003|     10770|    A2K|   Bartletts Airport|                 Bartletts, AK|                101|          1|       United States|                      US|            Alaska|                AK|                 2|           3077001|         30770|                Bartletts, AK|                    101|              1|         58|             N|         13|         59|58.23305556|        157|             W|         21|         59|-157.36638889|                    -900|        2015-04-01|             null|                0|                1|null|\n",
      "|       1005901|     10059|    A46|Lake Hasselborg A...|           Lake Hasselborg, AK|                101|          1|       United States|                      US|            Alaska|                AK|                 2|           3005901|         30059|          Lake Hasselborg, AK|                    101|              1|         57|             N|         42|          0|       57.7|        134|             W|         16|          0|-134.26666667|                    null|        2004-07-01|             null|                0|                1|null|\n",
      "|       1006001|     10060|    A47| Distin Lake Airport|               Distin Lake, AK|                101|          1|       United States|                      US|            Alaska|                AK|                 2|           3006001|         30060|              Distin Lake, AK|                    101|              1|         57|             N|         37|          0|57.61666667|        134|             W|         22|          0|-134.36666667|                    null|        2004-07-01|             null|                0|                1|null|\n",
      "|       1007501|     10075|    A62|     Taylor Mountain|          Taylor Mountain M...|                101|          1|       United States|                      US|            Alaska|                AK|                 2|           3007501|         30075|         Taylor Mountain M...|                    101|              1|         60|             N|         52|          4|60.86777778|        157|             W|         23|         31|-157.39194444|                    null|        2005-04-01|             null|                0|                1|null|\n",
      "+--------------+----------+-------+--------------------+------------------------------+-------------------+-----------+--------------------+------------------------+------------------+------------------+------------------+------------------+--------------+-----------------------------+-----------------------+---------------+-----------+--------------+-----------+-----------+-----------+-----------+--------------+-----------+-----------+-------------+------------------------+------------------+-----------------+-----------------+-----------------+----+\n",
      "only showing top 5 rows\n",
      "\n"
     ]
    },
    {
     "name": "stderr",
     "output_type": "stream",
     "text": [
      "                                                                                \r"
     ]
    }
   ],
   "source": [
    "airport = airport_transform(airport)\n",
    "airport.show(5)"
   ]
  },
  {
   "cell_type": "code",
   "execution_count": 10,
   "id": "de61807f-ddde-44bb-9f95-d27c45d3f006",
   "metadata": {},
   "outputs": [
    {
     "name": "stdout",
     "output_type": "stream",
     "text": [
      "Number of airports that co-exist in the airline dataset: 387\n"
     ]
    }
   ],
   "source": [
    "# Keep airports that co-exist in the airline dataset\n",
    "flight.createOrReplaceTempView('flight')\n",
    "airport.createOrReplaceTempView('airport')\n",
    "\n",
    "filtered_airport = spark.sql(\n",
    "  \"\"\"\n",
    "  SELECT * \n",
    "  FROM airport \n",
    "  WHERE \n",
    "    AIRPORT IN (\n",
    "      SELECT DISTINCT ORIGIN FROM flight AS airline_subquery\n",
    "      UNION\n",
    "      SELECT DISTINCT DEST FROM flight AS airline_subquery\n",
    "    )\n",
    "  \"\"\"\n",
    ")\n",
    "airport = spark.read.option(\"header\", \"true\").parquet(\"gs://msca-bdp-student-gcs/Group4_Final_Project/archive/Flight Delay Status Classification/filtered_airport\")\n",
    "\n",
    "airport.createOrReplaceTempView('airport')\n",
    "\n",
    "print('Number of airports that co-exist in the airline dataset: ' + f'{airport.count():,}')"
   ]
  },
  {
   "cell_type": "code",
   "execution_count": 11,
   "id": "949b237f-6051-4f28-b072-4d2f4df83143",
   "metadata": {},
   "outputs": [
    {
     "name": "stderr",
     "output_type": "stream",
     "text": [
      "[Stage 26:>                                                         (0 + 1) / 1]\r"
     ]
    },
    {
     "name": "stdout",
     "output_type": "stream",
     "text": [
      "+----+-------+-----+----------+---------+----------+-----------------+-----------+-------------------------------+------+--------------------+-----------+----+-------------------+---------+----------+-------+---------------+----------+----------+-------+---------------+----------+--------+-------------+--------+--------+---------------+-------------+------------+\n",
      "|Year|Quarter|Month|DayofMonth|DayOfWeek|FlightDate|Operating_Airline|Tail_Number|Flight_Number_Operating_Airline|Origin|      OriginCityName|OriginState|Dest|       DestCityName|DestState|CRSDepTime|DepTime|DepDelayMinutes|DepTimeBlk|CRSArrTime|ArrTime|ArrDelayMinutes|ArrTimeBlk|Distance|DistanceGroup|DepDel15|ArrDel15|OriginAirportID|DestAirportID|PR_ARR_DEL15|\n",
      "+----+-------+-----+----------+---------+----------+-----------------+-----------+-------------------------------+------+--------------------+-----------+----+-------------------+---------+----------+-------+---------------+----------+----------+-------+---------------+----------+--------+-------------+--------+--------+---------------+-------------+------------+\n",
      "|2022|      2|    4|        24|        7|2022-04-24|               G4|      282NV|                            311|   ABE|Allentown/Bethleh...|         PA| FLL|Fort Lauderdale, FL|       FL|       600|      6|            4.0| 0600-0659|       844|      8|            0.0| 0800-0859|  1041.0|            5|     0.0|     0.0|          10135|        11697|        null|\n",
      "|2022|      2|    4|        17|        7|2022-04-17|               G4|      282NV|                            311|   ABE|Allentown/Bethleh...|         PA| FLL|Fort Lauderdale, FL|       FL|       600|      6|            0.0| 0600-0659|       844|      8|            0.0| 0800-0859|  1041.0|            5|     0.0|     0.0|          10135|        11697|         0.0|\n",
      "|2022|      2|    4|        10|        7|2022-04-10|               G4|      282NV|                            311|   ABE|Allentown/Bethleh...|         PA| FLL|Fort Lauderdale, FL|       FL|       600|      6|            1.0| 0600-0659|       844|      8|            0.0| 0800-0859|  1041.0|            5|     0.0|     0.0|          10135|        11697|         0.0|\n",
      "|2022|      2|    4|        28|        4|2022-04-28|               G4|      282NV|                            311|   ABE|Allentown/Bethleh...|         PA| FLL|Fort Lauderdale, FL|       FL|       600|      6|            0.0| 0600-0659|       845|      8|            0.0| 0800-0859|  1041.0|            5|     0.0|     0.0|          10135|        11697|         0.0|\n",
      "|2022|      1|    2|        24|        4|2022-02-24|               G4|      282NV|                            311|   ABE|Allentown/Bethleh...|         PA| FLL|Fort Lauderdale, FL|       FL|       600|      6|           20.0| 0600-0659|       850|      8|            7.0| 0800-0859|  1041.0|            5|     1.0|     0.0|          10135|        11697|         0.0|\n",
      "|2022|      1|    2|        21|        1|2022-02-21|               G4|      282NV|                            312|   ABE|Allentown/Bethleh...|         PA| PGD|    Punta Gorda, FL|       FL|       600|      6|            0.0| 0600-0659|       852|      8|            3.0| 0800-0859|  1018.0|            5|     0.0|     0.0|          10135|        14082|         0.0|\n",
      "|2022|      1|    2|        27|        7|2022-02-27|               G4|      282NV|                            311|   ABE|Allentown/Bethleh...|         PA| FLL|Fort Lauderdale, FL|       FL|       600|      6|            0.0| 0600-0659|       850|      8|            7.0| 0800-0859|  1041.0|            5|     0.0|     0.0|          10135|        11697|         0.0|\n",
      "|2022|      1|    2|        20|        7|2022-02-20|               G4|      282NV|                            311|   ABE|Allentown/Bethleh...|         PA| FLL|Fort Lauderdale, FL|       FL|       600|      6|            0.0| 0600-0659|       850|      8|            0.0| 0800-0859|  1041.0|            5|     0.0|     0.0|          10135|        11697|         0.0|\n",
      "|2022|      1|    2|        17|        4|2022-02-17|               G4|      282NV|                            311|   ABE|Allentown/Bethleh...|         PA| FLL|Fort Lauderdale, FL|       FL|       600|      6|            5.0| 0600-0659|       850|      8|            0.0| 0800-0859|  1041.0|            5|     0.0|     0.0|          10135|        11697|         0.0|\n",
      "|2022|      3|    7|        23|        6|2022-07-23|               G4|      282NV|                            981|   FLL| Fort Lauderdale, FL|         FL| LEX|      Lexington, KY|       KY|       600|      6|            0.0| 0600-0659|       818|      8|            0.0| 0800-0859|   865.0|            4|     0.0|     0.0|          11697|        12945|         0.0|\n",
      "+----+-------+-----+----------+---------+----------+-----------------+-----------+-------------------------------+------+--------------------+-----------+----+-------------------+---------+----------+-------+---------------+----------+----------+-------+---------------+----------+--------+-------------+--------+--------+---------------+-------------+------------+\n",
      "only showing top 10 rows\n",
      "\n"
     ]
    },
    {
     "name": "stderr",
     "output_type": "stream",
     "text": [
      "                                                                                \r"
     ]
    }
   ],
   "source": [
    "def flight_transform(dataframe):\n",
    "    selected_col = [\"Year\", \"Quarter\", \"Month\", \"DayofMonth\", \"DayOfWeek\", \"FlightDate\",\n",
    "                    \"Operating_Airline\", \"Tail_Number\", \"Flight_Number_Operating_Airline\", \n",
    "                    \"Origin\", \"OriginCityName\", \"OriginState\", \"Dest\", \"DestCityName\", \n",
    "                    \"DestState\", \"CRSDepTime\", \"DepTime\", \"DepDelayMinutes\", \"DepTimeBlk\", \n",
    "                    \"CRSArrTime\", \"ArrTime\", \"ArrDelayMinutes\", \"ArrTimeBlk\", \"Distance\", \n",
    "                    \"DistanceGroup\", \"DepDel15\", \"ArrDel15\", \"OriginAirportID\", \n",
    "                    \"DestAirportID\", \"PR_ARR_DEL15\"]\n",
    "\n",
    "    # Creating a window partition to extract prior arrival delay\n",
    "    windowSpec = Window.partitionBy(\"Tail_Number\").orderBy(\"CRSDepTime\")\n",
    "\n",
    "    return (\n",
    "        dataframe\n",
    "        .filter(\"Cancelled != 1 AND Diverted != 1\")\n",
    "        .withColumn(\"FlightDate\", F.col(\"FlightDate\").cast(\"date\"))\n",
    "        .withColumn(\"Flight_Number_Operating_Airline\", F.col(\"Flight_Number_Operating_Airline\").cast(\"string\"))\n",
    "        .withColumn(\"DepTime\", F.col(\"DepTimeBlk\").substr(1, 2).cast(\"int\")) \n",
    "        .withColumn(\"ArrTime\", F.col(\"ArrTimeBlk\").substr(1, 2).cast(\"int\"))\n",
    "        .withColumn(\"DistanceGroup\", F.col(\"DistanceGroup\").cast(\"string\"))\n",
    "        .withColumn(\"DepDel15\", F.col(\"DepDel15\").cast(\"string\"))\n",
    "        .withColumn(\"ArrDel15\", F.col(\"ArrDel15\").cast(\"string\"))\n",
    "        .withColumn(\"Year\", F.col(\"Year\").cast(\"string\"))\n",
    "        .withColumn(\"Quarter\", F.col(\"Quarter\").cast(\"string\"))\n",
    "        .withColumn(\"Month\", F.col(\"Month\").cast(\"string\"))\n",
    "        .withColumn(\"DayofMonth\", F.col(\"DayofMonth\").cast(\"string\"))\n",
    "        .withColumn(\"DayofWeek\", F.col(\"DayofWeek\").cast(\"string\"))\n",
    "        .withColumn(\"PR_ARR_DEL15\", F.lag(F.col(\"ArrDel15\"), 1).over(windowSpec).cast(\"string\"))\n",
    "        .select(selected_col)\n",
    "    )\n",
    "cleaned_flight = flight_transform(flight)\n",
    "cleaned_flight.show(10)"
   ]
  },
  {
   "cell_type": "code",
   "execution_count": 12,
   "id": "9eb7d1d9-710d-498e-8673-c165d474a2a3",
   "metadata": {},
   "outputs": [
    {
     "name": "stdout",
     "output_type": "stream",
     "text": [
      "Total flight data number: 28,348,168\n"
     ]
    },
    {
     "name": "stderr",
     "output_type": "stream",
     "text": [
      "                                                                                \r"
     ]
    }
   ],
   "source": [
    "print('Total flight data number: ' + f'{cleaned_flight.count():,}')"
   ]
  },
  {
   "cell_type": "code",
   "execution_count": 17,
   "id": "1a51059a-c010-4a1f-a1f2-0b1ac273eae4",
   "metadata": {},
   "outputs": [
    {
     "name": "stderr",
     "output_type": "stream",
     "text": [
      "[Stage 46:====================================================>   (16 + 1) / 17]\r"
     ]
    },
    {
     "name": "stdout",
     "output_type": "stream",
     "text": [
      "28348168\n"
     ]
    },
    {
     "name": "stderr",
     "output_type": "stream",
     "text": [
      "                                                                                \r"
     ]
    }
   ],
   "source": [
    "print(cleaned_flight.count())\n"
   ]
  },
  {
   "cell_type": "raw",
   "id": "357a63f1-11e0-4313-a0cc-dc81a312bcb0",
   "metadata": {},
   "source": [
    "# Specify the path where you want to save the CSV file\n",
    "output_path = \"gs://msca-bdp-student-gcs/Group4_Final_Project/archive/Weather_Data\"  # Replace with your desired file path\n",
    "\n",
    "# Use the limit method to select the first 1,000 rows\n",
    "first_1000_rows = cleaned_flight.limit(1000)\n",
    "\n",
    "# Use the write method to save the selected DataFrame to a CSV file\n",
    "first_1000_rows.write.csv(output_path, header=True, mode=\"overwrite\")\n",
    "\n",
    "print(\"printed\")"
   ]
  },
  {
   "cell_type": "markdown",
   "id": "08a40d73-c5d8-46f7-9d20-c14a6d61aaf3",
   "metadata": {},
   "source": [
    "### Exploratory Data Analysis (EDA)"
   ]
  },
  {
   "cell_type": "markdown",
   "id": "1b79b7ac-d95d-441a-88c7-c8577c9e5ca4",
   "metadata": {},
   "source": [
    "##### 1. Basic Data Exploration"
   ]
  },
  {
   "cell_type": "code",
   "execution_count": 23,
   "id": "2405f8f3-bf75-4637-9e87-d040f74445c9",
   "metadata": {},
   "outputs": [
    {
     "name": "stdout",
     "output_type": "stream",
     "text": [
      "root\n",
      " |-- Year: string (nullable = true)\n",
      " |-- Quarter: string (nullable = true)\n",
      " |-- Month: string (nullable = true)\n",
      " |-- DayofMonth: string (nullable = true)\n",
      " |-- DayOfWeek: string (nullable = true)\n",
      " |-- FlightDate: date (nullable = true)\n",
      " |-- Operating_Airline: string (nullable = true)\n",
      " |-- Tail_Number: string (nullable = true)\n",
      " |-- Flight_Number_Operating_Airline: string (nullable = true)\n",
      " |-- Origin: string (nullable = true)\n",
      " |-- OriginCityName: string (nullable = true)\n",
      " |-- OriginState: string (nullable = true)\n",
      " |-- Dest: string (nullable = true)\n",
      " |-- DestCityName: string (nullable = true)\n",
      " |-- DestState: string (nullable = true)\n",
      " |-- CRSDepTime: long (nullable = true)\n",
      " |-- DepTime: integer (nullable = true)\n",
      " |-- DepDelayMinutes: double (nullable = true)\n",
      " |-- DepTimeBlk: string (nullable = true)\n",
      " |-- CRSArrTime: long (nullable = true)\n",
      " |-- ArrTime: integer (nullable = true)\n",
      " |-- ArrDelayMinutes: double (nullable = true)\n",
      " |-- ArrTimeBlk: string (nullable = true)\n",
      " |-- Distance: double (nullable = true)\n",
      " |-- DistanceGroup: string (nullable = true)\n",
      " |-- DepDel15: string (nullable = true)\n",
      " |-- ArrDel15: string (nullable = true)\n",
      " |-- OriginAirportID: long (nullable = true)\n",
      " |-- DestAirportID: long (nullable = true)\n",
      " |-- PR_ARR_DEL15: string (nullable = true)\n",
      "\n"
     ]
    },
    {
     "name": "stderr",
     "output_type": "stream",
     "text": [
      "[Stage 82:======================================================> (46 + 1) / 47]\r"
     ]
    },
    {
     "name": "stdout",
     "output_type": "stream",
     "text": [
      "+-------+------------------+------------------+------------------+------------------+------------------+-----------------+-----------+-------------------------------+--------+--------------+-----------+--------+------------+---------+-----------------+------------------+------------------+----------+------------------+------------------+------------------+----------+-----------------+------------------+------------------+-------------------+------------------+------------------+-------------------+\n",
      "|summary|              Year|           Quarter|             Month|        DayofMonth|         DayOfWeek|Operating_Airline|Tail_Number|Flight_Number_Operating_Airline|  Origin|OriginCityName|OriginState|    Dest|DestCityName|DestState|       CRSDepTime|           DepTime|   DepDelayMinutes|DepTimeBlk|        CRSArrTime|           ArrTime|   ArrDelayMinutes|ArrTimeBlk|         Distance|     DistanceGroup|          DepDel15|           ArrDel15|   OriginAirportID|     DestAirportID|       PR_ARR_DEL15|\n",
      "+-------+------------------+------------------+------------------+------------------+------------------+-----------------+-----------+-------------------------------+--------+--------------+-----------+--------+------------+---------+-----------------+------------------+------------------+----------+------------------+------------------+------------------+----------+-----------------+------------------+------------------+-------------------+------------------+------------------+-------------------+\n",
      "|  count|          28348168|          28348168|          28348168|          28348168|          28348168|         28348168|   28348149|                       28348168|28348168|      28348168|   28348168|28348168|    28348168| 28348168|         28348168|          28348168|          28347063|  28348168|          28348168|          28348168|          28347599|  28348168|         28348168|          28348168|          28347063|           28347599|          28348168|          28348168|           28340548|\n",
      "|   mean|2019.8230597123595|2.4619180329395536|  6.36945258684794|15.739512408703096|3.9748880068722605|             null|       null|              2686.802405502888|    null|          null|       null|    null|        null|     null|1325.313560509448|12.880048156903825|12.717679570543163|      null|1488.2135618428676|14.551381768303335|12.809917023307689|      null|781.4400993390473| 3.599978383082815|0.1722435583538231|0.17662070780668232|12677.523598420892|12677.983009484069|0.17661052284521808|\n",
      "| stddev|1.3458059784311203|1.1220665029170238|3.4559392488932184| 8.764459304780743|2.0022487251946957|             null|       null|             1838.6668435798706|    null|          null|       null|    null|        null|     null|482.1187394815875| 5.021931045187211| 45.99345782368198|      null|506.92780695461323| 5.156088530047352| 45.79959215070386|      null|582.7599408693414|2.2927434822513932| 0.377592002019485| 0.3813473987201728|1526.1931718406122|1526.4285717321927| 0.3813387617285908|\n",
      "|    min|              2018|                 1|                 1|                 1|                 1|               9E|      202NV|                              1|     ABE|  Aberdeen, SD|         AK|     ABE|Aberdeen, SD|       AK|                1|                 0|               0.0| 0001-0559|                 1|                 0|               0.0| 0001-0559|             16.0|                 1|               0.0|                0.0|             10135|             10135|                0.0|\n",
      "|    max|              2022|                 4|                 9|                 9|                 7|               ZW|       SS25|                            999|     YUM|      Yuma, AZ|         WY|     YUM|    Yuma, AZ|       WY|             2359|                23|            7223.0| 2300-2359|              2400|                23|            7232.0| 2300-2359|           5812.0|                 9|               1.0|                1.0|             16869|             16869|                1.0|\n",
      "+-------+------------------+------------------+------------------+------------------+------------------+-----------------+-----------+-------------------------------+--------+--------------+-----------+--------+------------+---------+-----------------+------------------+------------------+----------+------------------+------------------+------------------+----------+-----------------+------------------+------------------+-------------------+------------------+------------------+-------------------+\n",
      "\n"
     ]
    },
    {
     "name": "stderr",
     "output_type": "stream",
     "text": [
      "                                                                                \r"
     ]
    }
   ],
   "source": [
    "cleaned_flight.printSchema()\n",
    "\n",
    "cleaned_flight.describe().show()"
   ]
  },
  {
   "cell_type": "markdown",
   "id": "e84cf371-6fd4-4111-88f1-aa69b6d46ea7",
   "metadata": {},
   "source": [
    "##### 2. Exploring Specific Columns"
   ]
  },
  {
   "cell_type": "code",
   "execution_count": 22,
   "id": "5b0b488c-3430-4694-a2cf-5621d3d4f935",
   "metadata": {},
   "outputs": [
    {
     "name": "stderr",
     "output_type": "stream",
     "text": [
      "                                                                                \r"
     ]
    },
    {
     "name": "stdout",
     "output_type": "stream",
     "text": [
      "+-------+------------------+------------------+------------------+-------------------+\n",
      "|summary|   DepDelayMinutes|   ArrDelayMinutes|          DepDel15|           ArrDel15|\n",
      "+-------+------------------+------------------+------------------+-------------------+\n",
      "|  count|          28347063|          28347599|          28347063|           28347599|\n",
      "|   mean|12.717679570543163|12.809917023307689|0.1722435583538231|0.17662070780668232|\n",
      "| stddev|45.993457823681645| 45.79959215070455|0.3775920020194857| 0.3813473987201745|\n",
      "|    min|               0.0|               0.0|               0.0|                0.0|\n",
      "|    25%|               0.0|               0.0|               0.0|                0.0|\n",
      "|    50%|               0.0|               0.0|               0.0|                0.0|\n",
      "|    75%|               5.0|               6.0|               0.0|                0.0|\n",
      "|    max|            7223.0|            7232.0|               1.0|                1.0|\n",
      "+-------+------------------+------------------+------------------+-------------------+\n",
      "\n"
     ]
    },
    {
     "name": "stderr",
     "output_type": "stream",
     "text": [
      "                                                                                \r"
     ]
    },
    {
     "name": "stdout",
     "output_type": "stream",
     "text": [
      "Missing values in DepDelayMinutes: 1105\n"
     ]
    },
    {
     "name": "stderr",
     "output_type": "stream",
     "text": [
      "                                                                                \r"
     ]
    },
    {
     "name": "stdout",
     "output_type": "stream",
     "text": [
      "Missing values in ArrDelayMinutes: 569\n"
     ]
    },
    {
     "name": "stderr",
     "output_type": "stream",
     "text": [
      "                                                                                \r"
     ]
    },
    {
     "name": "stdout",
     "output_type": "stream",
     "text": [
      "Missing values in DepDel15: 1105\n"
     ]
    },
    {
     "name": "stderr",
     "output_type": "stream",
     "text": [
      "[Stage 77:==========================================>             (13 + 4) / 17]\r"
     ]
    },
    {
     "name": "stdout",
     "output_type": "stream",
     "text": [
      "Missing values in ArrDel15: 569\n"
     ]
    },
    {
     "name": "stderr",
     "output_type": "stream",
     "text": [
      "                                                                                \r"
     ]
    }
   ],
   "source": [
    "from pyspark.sql.functions import col\n",
    "\n",
    "# Selecting specific columns for analysis\n",
    "delay_columns = ['DepDelayMinutes', 'ArrDelayMinutes', 'DepDel15', 'ArrDel15']\n",
    "cleaned_flight.select(delay_columns).summary().show()\n",
    "\n",
    "# Count of null or missing values\n",
    "for column in delay_columns:\n",
    "    missing_count = cleaned_flight.filter(col(column).isNull()).count()\n",
    "    print(f\"Missing values in {column}: {missing_count}\")"
   ]
  },
  {
   "cell_type": "markdown",
   "id": "61164ad4-3ec0-4ee9-9203-71c8cc0c2105",
   "metadata": {},
   "source": [
    "##### 3. Visualizations"
   ]
  },
  {
   "cell_type": "code",
   "execution_count": null,
   "id": "86bc2e3d-8497-404b-a14f-bfe8132fd0e2",
   "metadata": {},
   "outputs": [
    {
     "name": "stderr",
     "output_type": "stream",
     "text": [
      "                                                                                \r"
     ]
    },
    {
     "data": {
      "image/png": "[encoded data removed]",
      "text/plain": [
       "<Figure size 500x500 with 6 Axes>"
      ]
     },
     "metadata": {},
     "output_type": "display_data"
    }
   ],
   "source": [
    "import pandas as pd\n",
    "import matplotlib.pyplot as plt\n",
    "import seaborn as sns\n",
    "\n",
    "# Convert to Pandas DataFrame for visualization\n",
    "pdf = cleaned_flight.select(delay_columns).toPandas()\n",
    "\n",
    "# Plotting\n",
    "sns.pairplot(pdf)\n",
    "plt.show()"
   ]
  },
  {
   "cell_type": "code",
   "execution_count": null,
   "id": "6fb30e35-f428-4b53-9e25-1975f4753a88",
   "metadata": {},
   "outputs": [
    {
     "name": "stderr",
     "output_type": "stream",
     "text": [
      "                                                                                \r"
     ]
    }
   ],
   "source": [
    "# Histograms for Delay Minutes\n",
    "\n",
    "import pandas as pd\n",
    "import matplotlib.pyplot as plt\n",
    "import seaborn as sns\n",
    "\n",
    "# Convert Spark DataFrame to Pandas DataFrame for visualization\n",
    "pdf = cleaned_flight.select('DepDelayMinutes', 'ArrDelayMinutes').toPandas()\n",
    "\n",
    "# Setting the aesthetics for the plots\n",
    "sns.set(style=\"whitegrid\")\n",
    "\n",
    "# Plotting histograms\n",
    "plt.figure(figsize=(12, 6))\n",
    "plt.subplot(1, 2, 1)\n",
    "sns.histplot(pdf['DepDelayMinutes'], kde=True, color=\"skyblue\")\n",
    "plt.title('Histogram of Departure Delay Minutes')\n",
    "plt.xlabel('Departure Delay Minutes')\n",
    "\n",
    "plt.subplot(1, 2, 2)\n",
    "sns.histplot(pdf['ArrDelayMinutes'], kde=True, color=\"olive\")\n",
    "plt.title('Histogram of Arrival Delay Minutes')\n",
    "plt.xlabel('Arrival Delay Minutes')\n",
    "\n",
    "plt.tight_layout()\n",
    "plt.show()"
   ]
  },
  {
   "cell_type": "code",
   "execution_count": null,
   "id": "5e3ad247-81b2-4f05-a01f-7e80a2971055",
   "metadata": {},
   "outputs": [],
   "source": [
    "# Boxplot for Delays by Day of Week\n",
    "\n",
    "# Convert to Pandas DataFrame\n",
    "pdf = cleaned_flight.select('DayOfWeek', 'DepDelayMinutes').toPandas()\n",
    "\n",
    "# Plotting\n",
    "plt.figure(figsize=(10, 6))\n",
    "sns.boxplot(x='DayOfWeek', y='DepDelayMinutes', data=pdf)\n",
    "plt.title('Boxplot of Departure Delays by Day of the Week')\n",
    "plt.xlabel('Day of the Week')\n",
    "plt.ylabel('Departure Delay Minutes')\n",
    "plt.show()\n"
   ]
  },
  {
   "cell_type": "code",
   "execution_count": null,
   "id": "e7c19937-ec60-4266-bbf7-70cebfc5e76f",
   "metadata": {},
   "outputs": [],
   "source": [
    "# Correlation Heatmap\n",
    "\n",
    "# Selecting numerical columns for correlation\n",
    "numerical_columns = ['DepDelayMinutes', 'ArrDelayMinutes', 'Distance']\n",
    "pdf = cleaned_flight.select(numerical_columns).toPandas()\n",
    "\n",
    "# Calculating correlation matrix\n",
    "corr = pdf.corr()\n",
    "\n",
    "# Plotting heatmap\n",
    "plt.figure(figsize=(8, 6))\n",
    "sns.heatmap(corr, annot=True, cmap='coolwarm')\n",
    "plt.title('Correlation Heatmap')\n",
    "plt.show()\n"
   ]
  },
  {
   "cell_type": "markdown",
   "id": "0318cbcd-8dfd-425a-9483-80a6f37b108f",
   "metadata": {},
   "source": [
    "##### 4. Handling Missing Values"
   ]
  },
  {
   "cell_type": "code",
   "execution_count": 29,
   "id": "b8a6d921-2fd8-4825-9b5a-c66fac937a0d",
   "metadata": {},
   "outputs": [
    {
     "name": "stderr",
     "output_type": "stream",
     "text": [
      "                                                                                \r"
     ]
    }
   ],
   "source": [
    "# Dropping rows with missing values\n",
    "df_cleaned = cleaned_flight.na.drop()\n",
    "\n",
    "# Or impute missing values, for example, with mean or median\n",
    "from pyspark.sql.functions import mean\n",
    "\n",
    "mean_val = cleaned_flight.agg(mean(cleaned_flight['PR_ARR_DEL15'])).first()[0]\n",
    "df_filled = cleaned_flight.na.fill({'PR_ARR_DEL15': mean_val})"
   ]
  },
  {
   "cell_type": "markdown",
   "id": "9abc3bdc-cdfd-47ed-86f2-1a8e102a93d8",
   "metadata": {},
   "source": [
    "##### 5. Correlation Analysis"
   ]
  },
  {
   "cell_type": "code",
   "execution_count": null,
   "id": "3e895390-1939-426a-b24f-0a78d799ba1c",
   "metadata": {},
   "outputs": [],
   "source": [
    "# Assuming 'delay_columns' should only contain numeric columns\n",
    "numeric_delay_columns = ['DepDelayMinutes', 'ArrDelayMinutes']  # Update this list based on your dataset\n",
    "\n",
    "for col1 in numeric_delay_columns:\n",
    "    for col2 in numeric_delay_columns:\n",
    "        if col1 != col2:\n",
    "            corr = df_cleaned.stat.corr(col1, col2)\n",
    "            print(f\"Correlation between {col1} and {col2}: {corr}\")"
   ]
  },
  {
   "cell_type": "code",
   "execution_count": null,
   "id": "db3fd77d-c336-48b8-afd9-b516136802be",
   "metadata": {},
   "outputs": [],
   "source": []
  },
  {
   "cell_type": "markdown",
   "id": "925128f5-de91-4a82-9d3e-675b8076e657",
   "metadata": {},
   "source": [
    "### Feature Engineering and Data Preprocessing"
   ]
  },
  {
   "cell_type": "code",
   "execution_count": null,
   "id": "ddfcb059-22fd-47a0-9f1b-c6d762973a12",
   "metadata": {},
   "outputs": [],
   "source": [
    "# Encoding Categorical Variables\n",
    "\n",
    "from pyspark.ml.feature import StringIndexer, OneHotEncoder\n",
    "\n",
    "# Example: Encoding a categorical column\n",
    "indexer = StringIndexer(inputCol='Operating_Airline', outputCol='Operating_Airline_Index')\n",
    "df_cleaned = indexer.fit(df_cleaned).transform(df_cleaned)\n",
    "\n",
    "encoder = OneHotEncoder(inputCols=['Operating_Airline_Index'], outputCols=['Operating_Airline_Encoded'])\n",
    "df_cleaned = encoder.transform(df_cleaned)\n"
   ]
  },
  {
   "cell_type": "code",
   "execution_count": null,
   "id": "e459d8f3-4447-4601-a067-94acebe02101",
   "metadata": {},
   "outputs": [],
   "source": [
    "# Feature Scaling\n",
    "\n",
    "from pyspark.ml.feature import StandardScaler\n",
    "\n",
    "# Assemble numeric columns into a single vector column\n",
    "assembler = VectorAssembler(inputCols=['DepDelayMinutes', 'Distance'], outputCol='features')\n",
    "df_cleaned = assembler.transform(df_cleaned)\n",
    "\n",
    "# Scale the features\n",
    "scaler = StandardScaler(inputCol='features', outputCol='scaledFeatures')\n",
    "df_cleaned = scaler.fit(df_cleaned).transform(df_cleaned)\n"
   ]
  },
  {
   "cell_type": "code",
   "execution_count": null,
   "id": "564a9624-6650-408a-bb71-f7828e039d63",
   "metadata": {},
   "outputs": [],
   "source": [
    "#Feature Creation\n",
    "\n",
    "from pyspark.sql.functions import col\n",
    "\n",
    "# Example: Creating a new feature 'IsWeekend'\n",
    "df_cleaned = df_cleaned.withColumn('IsWeekend', (col('DayOfWeek') > 5).cast('integer'))"
   ]
  },
  {
   "cell_type": "code",
   "execution_count": null,
   "id": "0d455ba3-30f9-4b2a-a549-aa64fde0cfa1",
   "metadata": {},
   "outputs": [],
   "source": [
    "# Feature Selection\n",
    "\n",
    "# Selecting features to include in the model\n",
    "selected_columns = ['DepDelayMinutes', 'Distance', 'Operating_Airline_Encoded', 'IsWeekend', 'ArrDel15']\n",
    "df_model = df_cleaned.select(selected_columns)\n"
   ]
  },
  {
   "cell_type": "code",
   "execution_count": null,
   "id": "b319332d-20af-499a-8ddd-bd6fc6880a76",
   "metadata": {},
   "outputs": [],
   "source": [
    "# Putting it Together\n",
    "\n",
    "from pyspark.ml import Pipeline\n",
    "\n",
    "# Set up the stages of the pipeline\n",
    "stages = [indexer, encoder, assembler, scaler]\n",
    "pipeline = Pipeline(stages=stages)\n",
    "\n",
    "# Apply the pipeline\n",
    "df_transformed = pipeline.fit(df_cleaned).transform(df_cleaned)\n"
   ]
  },
  {
   "cell_type": "markdown",
   "id": "2676d636-e04a-465f-8a96-e47f023937c2",
   "metadata": {},
   "source": [
    "### Model Building"
   ]
  },
  {
   "cell_type": "code",
   "execution_count": null,
   "id": "801dac2b-e5fa-4f37-b3a0-8136ad6ed188",
   "metadata": {},
   "outputs": [],
   "source": [
    "#1. Preparing the Data\n",
    "\n",
    "# Splitting the data into training and test sets\n",
    "train, test = df_transformed.randomSplit([0.7, 0.3])"
   ]
  },
  {
   "cell_type": "markdown",
   "id": "4dc3f746-56ff-4e25-af38-c5aedd40e0ff",
   "metadata": {},
   "source": [
    "##### Decision Tree"
   ]
  },
  {
   "cell_type": "code",
   "execution_count": null,
   "id": "3ae0d18c-7453-409f-b60d-86ac45b320a2",
   "metadata": {},
   "outputs": [],
   "source": [
    "from pyspark.ml.classification import DecisionTreeClassifier\n",
    "from pyspark.ml.evaluation import BinaryClassificationEvaluator\n",
    "\n",
    "# Initialize the Decision Tree Classifier\n",
    "dt = DecisionTreeClassifier(labelCol=\"ArrDel15\", featuresCol=\"scaledFeatures\")\n",
    "\n",
    "# Fit the model on the training data\n",
    "dt_model = dt.fit(train)\n",
    "\n",
    "# Make predictions on the test data\n",
    "dt_predictions = dt_model.transform(test)\n",
    "\n",
    "# Evaluate the model\n",
    "evaluator = BinaryClassificationEvaluator(labelCol=\"ArrDel15\")\n",
    "dt_accuracy = evaluator.evaluate(dt_predictions, {evaluator.metricName: \"accuracy\"})\n",
    "\n",
    "print(f\"Decision Tree Accuracy: {dt_accuracy}\")\n"
   ]
  },
  {
   "cell_type": "markdown",
   "id": "71b55969-cea3-4083-9b86-fc120563265a",
   "metadata": {},
   "source": [
    "##### Random Forest"
   ]
  },
  {
   "cell_type": "code",
   "execution_count": null,
   "id": "acdee7b8-7766-4efb-ada9-4fbc3000ccd4",
   "metadata": {},
   "outputs": [],
   "source": [
    "from pyspark.ml.classification import RandomForestClassifier\n",
    "\n",
    "# Initialize the Random Forest Classifier\n",
    "rf = RandomForestClassifier(labelCol=\"ArrDel15\", featuresCol=\"scaledFeatures\")\n",
    "\n",
    "# Fit the model on the training data\n",
    "rf_model = rf.fit(train)\n",
    "\n",
    "# Make predictions on the test data\n",
    "rf_predictions = rf_model.transform(test)\n",
    "\n",
    "# Evaluate the model\n",
    "rf_accuracy = evaluator.evaluate(rf_predictions, {evaluator.metricName: \"accuracy\"})\n",
    "\n",
    "print(f\"Random Forest Accuracy: {rf_accuracy}\")\n"
   ]
  },
  {
   "cell_type": "markdown",
   "id": "294194df-47aa-4b12-b0ce-6ac0f21bc231",
   "metadata": {},
   "source": [
    "##### Hyperparameter Tuning"
   ]
  },
  {
   "cell_type": "code",
   "execution_count": null,
   "id": "094842de-71a9-4713-90e2-073be7f32b80",
   "metadata": {},
   "outputs": [],
   "source": [
    "from pyspark.ml.tuning import ParamGridBuilder, CrossValidator\n",
    "\n",
    "# Example for Decision Tree\n",
    "paramGrid = ParamGridBuilder() \\\n",
    "    .addGrid(dt.maxDepth, [2, 5, 10]) \\\n",
    "    .addGrid(dt.maxBins, [20, 30, 40]) \\\n",
    "    .build()\n",
    "\n",
    "crossval = CrossValidator(estimator=dt,\n",
    "                          estimatorParamMaps=paramGrid,\n",
    "                          evaluator=BinaryClassificationEvaluator(labelCol=\"ArrDel15\"),\n",
    "                          numFolds=3)\n",
    "\n",
    "# Fit the model\n",
    "cv_model = crossval.fit(train)\n",
    "\n",
    "# Evaluate on the test set\n",
    "cv_predictions = cv_model.transform(test)\n",
    "cv_accuracy = evaluator.evaluate(cv_predictions, {evaluator.metricName: \"accuracy\"})\n",
    "print(f\"Cross-Validated Accuracy: {cv_accuracy}\")"
   ]
  },
  {
   "cell_type": "markdown",
   "id": "f3dde5fd-5772-4b4f-b912-bab994bd347a",
   "metadata": {},
   "source": [
    "### Model Evaluation"
   ]
  },
  {
   "cell_type": "markdown",
   "id": "49dc4300-8650-488e-bb50-6e2a609326bb",
   "metadata": {},
   "source": [
    "##### Evaluate with Basic Metrics"
   ]
  },
  {
   "cell_type": "code",
   "execution_count": null,
   "id": "8b92c45f-2589-4768-9c97-a39e9a25bf1c",
   "metadata": {},
   "outputs": [],
   "source": [
    "from pyspark.ml.evaluation import MulticlassClassificationEvaluator\n",
    "\n",
    "# Initialize evaluators\n",
    "evaluator_accuracy = MulticlassClassificationEvaluator(labelCol=\"ArrDel15\", predictionCol=\"prediction\", metricName=\"accuracy\")\n",
    "evaluator_precision = MulticlassClassificationEvaluator(labelCol=\"ArrDel15\", predictionCol=\"prediction\", metricName=\"weightedPrecision\")\n",
    "evaluator_recall = MulticlassClassificationEvaluator(labelCol=\"ArrDel15\", predictionCol=\"prediction\", metricName=\"weightedRecall\")\n",
    "evaluator_f1 = MulticlassClassificationEvaluator(labelCol=\"ArrDel15\", predictionCol=\"prediction\", metricName=\"f1\")\n",
    "\n",
    "# Evaluate Decision Tree model\n",
    "dt_accuracy = evaluator_accuracy.evaluate(dt_predictions)\n",
    "dt_precision = evaluator_precision.evaluate(dt_predictions)\n",
    "dt_recall = evaluator_recall.evaluate(dt_predictions)\n",
    "dt_f1 = evaluator_f1.evaluate(dt_predictions)\n",
    "\n",
    "# Evaluate Random Forest model\n",
    "rf_accuracy = evaluator_accuracy.evaluate(rf_predictions)\n",
    "rf_precision = evaluator_precision.evaluate(rf_predictions)\n",
    "rf_recall = evaluator_recall.evaluate(rf_predictions)\n",
    "rf_f1 = evaluator_f1.evaluate(rf_predictions)\n",
    "\n",
    "print(f\"Decision Tree - Accuracy: {dt_accuracy}, Precision: {dt_precision}, Recall: {dt_recall}, F1 Score: {dt_f1}\")\n",
    "print(f\"Random Forest - Accuracy: {rf_accuracy}, Precision: {rf_precision}, Recall: {rf_recall}, F1 Score: {rf_f1}\")\n"
   ]
  },
  {
   "cell_type": "markdown",
   "id": "cf38eeef-1ae0-460e-8b47-0b54764dc48e",
   "metadata": {},
   "source": [
    "##### ROC Curve and AUC"
   ]
  },
  {
   "cell_type": "code",
   "execution_count": null,
   "id": "61d8038b-6dcf-4330-929f-e2e38471dfb6",
   "metadata": {},
   "outputs": [],
   "source": [
    "from pyspark.ml.evaluation import BinaryClassificationEvaluator\n",
    "\n",
    "# ROC and AUC for Decision Tree\n",
    "dt_evaluator = BinaryClassificationEvaluator(labelCol=\"ArrDel15\")\n",
    "dt_auc = dt_evaluator.evaluate(dt_predictions, {dt_evaluator.metricName: \"areaUnderROC\"})\n",
    "\n",
    "# ROC and AUC for Random Forest\n",
    "rf_auc = dt_evaluator.evaluate(rf_predictions, {rf_evaluator.metricName: \"areaUnderROC\"})\n",
    "\n",
    "print(f\"Decision Tree - AUC: {dt_auc}\")\n",
    "print(f\"Random Forest - AUC: {rf_auc}\")\n"
   ]
  },
  {
   "cell_type": "markdown",
   "id": "ef1ffa4f-a830-4dd3-b372-a5bb52212333",
   "metadata": {},
   "source": [
    "##### Confusion Matrix"
   ]
  },
  {
   "cell_type": "code",
   "execution_count": null,
   "id": "c3628ff6-bc78-456c-8221-b04602caa51a",
   "metadata": {},
   "outputs": [],
   "source": [
    "from pyspark.mllib.evaluation import MulticlassMetrics\n",
    "\n",
    "# Convert prediction results to RDD\n",
    "rdd_dt = dt_predictions.select(['prediction', 'ArrDel15']).rdd\n",
    "rdd_rf = rf_predictions.select(['prediction', 'ArrDel15']).rdd\n",
    "\n",
    "# Instantiate metrics object\n",
    "metrics_dt = MulticlassMetrics(rdd_dt)\n",
    "metrics_rf = MulticlassMetrics(rdd_rf)\n",
    "\n",
    "# Confusion matrix\n",
    "print(\"Decision Tree - Confusion Matrix\")\n",
    "print(metrics_dt.confusionMatrix().toArray())\n",
    "\n",
    "print(\"\\nRandom Forest - Confusion Matrix\")\n",
    "print(metrics_rf.confusionMatrix().toArray())\n"
   ]
  }
 ],
 "metadata": {
  "kernelspec": {
   "display_name": "PySpark",
   "language": "python",
   "name": "pyspark"
  },
  "language_info": {
   "codemirror_mode": {
    "name": "ipython",
    "version": 3
   },
   "file_extension": ".py",
   "mimetype": "text/x-python",
   "name": "python",
   "nbconvert_exporter": "python",
   "pygments_lexer": "ipython3",
   "version": "3.8.15"
  }
 },
 "nbformat": 4,
 "nbformat_minor": 5
}
